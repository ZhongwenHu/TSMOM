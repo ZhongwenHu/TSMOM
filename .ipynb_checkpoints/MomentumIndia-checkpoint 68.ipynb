{
 "cells": [
  {
   "cell_type": "code",
   "execution_count": 13,
   "metadata": {},
   "outputs": [],
   "source": [
    "import pandas as pd\n",
    "import numpy as np\n",
    "import datetime as dt\n",
    "# from pandas.parser import CParserError\n",
    "from pandas.errors import ParserError\n",
    "import os\n",
    "import matplotlib.pyplot as plt\n",
    "import empyrical\n",
    "import chart_studio.plotly as py\n",
    "import plotly.tools as tls\n",
    "from plotly.graph_objs import *\n",
    "from plotly.offline import download_plotlyjs, init_notebook_mode, plot, iplot\n",
    "from IPython.display import HTML\n",
    "os.chdir('/Users/ravpritpalkohli/Desktop/BVentures/BSE/NSE1169/Data122019/')"
   ]
  },
  {
   "cell_type": "markdown",
   "metadata": {},
   "source": [
    "<br>\n",
    "Import necessary modules. We will mostly be dealing with pandas and making use of numpy for faster calculations. <br>"
   ]
  },
  {
   "cell_type": "code",
   "execution_count": 7,
   "metadata": {},
   "outputs": [
    {
     "name": "stderr",
     "output_type": "stream",
     "text": [
      "//anaconda3/lib/python3.7/site-packages/pyfolio/pos.py:27: UserWarning:\n",
      "\n",
      "Module \"zipline.assets\" not found; mutltipliers will not be applied to position notionals.\n",
      "\n"
     ]
    }
   ],
   "source": [
    "import tsmom"
   ]
  },
  {
   "cell_type": "markdown",
   "metadata": {},
   "source": [
    "<br> Import the custom module I made called tsmom. This contains the necessary functions to run the below script. It is available on https://github.com/rkohli3/TSMOM/blob/master <br><br>\n"
   ]
  },
  {
   "cell_type": "code",
   "execution_count": 8,
   "metadata": {},
   "outputs": [],
   "source": [
    "def get_adj_price(fact_df, series):\n",
    "    \"\"\"The function gets the adjusted prices for splits and dividends for data of EOD prices stock. CMIE provides\n",
    "    EOD unadjusted provides, however, provides adj factors mapped to a certain time date. We take the adjusted \n",
    "    factors, group them by the certain stock mapped to timeseries. Then we move backwards in series to account for\n",
    "    any changes for splits and dividends. Note this is specific to CMIE data only\n",
    "    \n",
    "    params:\n",
    "        fact_df: adjusted factor timeseries or dataframe of all stocks\n",
    "        series: EOD unadjusted prices of stock\n",
    "        \n",
    "    returns: \n",
    "        pd.Series of daily prices adjusted for splits and dividends\"\"\"\n",
    "    name = series.name\n",
    "    if name in fact_df.columns:\n",
    "        factors = fact_df.loc[~fact_df.loc[:, name].isnull(), name]\n",
    "        rev = factors.iloc[::-1].cumprod()\n",
    "        multiplier = rev.sort_index(ascending = True)\n",
    "        prices = series.copy(deep = True)\n",
    "        empty = []\n",
    "        prices.loc[:multiplier.index[0] - dt.timedelta(1)]\n",
    "        for i in range(len(factors)):\n",
    "            if len(factors) == 1:\n",
    "                values = prices.loc[:multiplier.index[i] - dt.timedelta(1)].values * multiplier.iat[i]\n",
    "                empty.extend(values)\n",
    "\n",
    "            elif len(factors) > 1:\n",
    "                if i == 0:\n",
    "                    values = prices.loc[:multiplier.index[i] - dt.timedelta(1)].values * multiplier.iat[i]\n",
    "                    empty.extend(values.tolist())\n",
    "                elif (i > 0):\n",
    "                    values = prices.loc[multiplier.index[i-1] : multiplier.index[i] - dt.timedelta(1)].values * multiplier.iat[i]\n",
    "                    empty.extend(values.tolist())\n",
    "\n",
    "\n",
    "        empty.extend(prices.loc[multiplier.index[len(factors)-1]:] * 1)     \n",
    "        adj_price = pd.Series(empty, index = prices.index, name=factors.name)\n",
    "\n",
    "        return adj_price\n",
    "    else:\n",
    "        return series"
   ]
  },
  {
   "cell_type": "markdown",
   "metadata": {},
   "source": [
    "<br><p>The function gets the prices adjusted for splits and dividends for EOD stock prices. CMIE provides EOD unadjusted prices, however, does provide adjustment factors mapped to a timestamp date for each stock adjustment.</p> <p> We take the adjusted factors, group them by the stock and map them to our price timeseries. Then we move backwards in series to account for any changes for splits and dividends. Note this is specific to CMIE data only</p><br>\n",
    "\n",
    "### <u>Let's go over the code</u>\n",
    "\n",
    "```python\n",
    "def get_adj_price(fact_df, series):\n",
    "    name = series.name\n",
    "    if name in fact_df.columns:\n",
    "        ## Here fact_df is the df of adjustment factors with index as timestamp and columns as tickers, \n",
    "        ## an aggregated version of the above output\n",
    "        \n",
    "        factors = fact_df.loc[~fact_df.loc[:, name].isnull(), name]\n",
    "        rev = factors.iloc[::-1].cumprod()\n",
    "        ## Take the reverse of the factors and calculate their cumpulative product as we go backwards in time. \n",
    "        \n",
    "        multiplier = rev.sort_index(ascending = True)\n",
    "        prices = series.copy(deep = True)\n",
    "        empty = []\n",
    "        prices.loc[:multiplier.index[0] - dt.timedelta(1)]\n",
    "        ## apply the adjustments for different periods\n",
    "        for i in range(len(factors)):\n",
    "            if len(factors) == 1:\n",
    "                values = prices.loc[:multiplier.index[i] - dt.timedelta(1)].values * multiplier.iat[i]\n",
    "                empty.extend(values)\n",
    "\n",
    "            elif len(factors) > 1:\n",
    "                if i == 0:\n",
    "                    values = prices.loc[:multiplier.index[i] - dt.timedelta(1)].values * multiplier.iat[i]\n",
    "                    empty.extend(values.tolist())\n",
    "                elif (i > 0):\n",
    "                    values = prices.loc[multiplier.index[i-1] : multiplier.index[i] - dt.timedelta(1)].values * multiplier.iat[i]\n",
    "                    empty.extend(values.tolist())\n",
    "\n",
    "\n",
    "        empty.extend(prices.loc[multiplier.index[len(factors)-1]:] * 1)     \n",
    "        adj_price = pd.Series(empty, index = prices.index, name=factors.name)\n",
    "\n",
    "        return adj_price\n",
    "    else:\n",
    "        return series\n",
    "    ```\n",
    "        "
   ]
  },
  {
   "cell_type": "code",
   "execution_count": null,
   "metadata": {},
   "outputs": [],
   "source": [
    "mainframe500 = pd.read_csv('./TradeData/TradeData.txt', \n",
    "                           sep = '|', \n",
    "                           header = 0, \n",
    "                           parse_dates= [2])\n",
    "\n",
    "ticks500 = pd.read_table('ProwessNSE500_ID_2"
   ]
  },
  {
   "cell_type": "code",
   "execution_count": 18,
   "metadata": {},
   "outputs": [],
   "source": [
    "mainframe500 = pd.read_csv('./TradeData/TradeData.txt', \n",
    "                           sep = '|', \n",
    "                           header = 0, \n",
    "                           parse_dates= [2])\n",
    "\n",
    "ticks500 = pd.read_table('./ID/ID.txt', \n",
    "                         sep='|', \n",
    "                         header = 0)\n",
    "adj_fac500 = pd.read_table('./AdjustmentFactors/AdjustmentFactors.txt', \n",
    "                           sep = '|', \n",
    "                           header = 0, \n",
    "                           parse_dates = ['radjfact_date']\n",
    "                          )\n",
    "\n",
    "mainframe500 = mainframe500.merge(ticks500.loc[:, ['company_name', 'nse_symbol']], \n",
    "                                  how = 'inner', \n",
    "                                  on = 'company_name')\n"
   ]
  },
  {
   "cell_type": "code",
   "execution_count": 19,
   "metadata": {},
   "outputs": [],
   "source": [
    "adj_fac500 = adj_fac500.merge(ticks500.loc[:, ['company_name', 'nse_symbol']], \n",
    "                              how = 'inner', \n",
    "                              on = 'company_name')\n",
    "adj_fac500 = adj_fac500.loc[adj_fac500['radj_exch'] == 'NSE', \n",
    "                            ['nse_symbol', \n",
    "                             'radj_factor', \n",
    "                             'radjfact_date']\n",
    "                           ]"
   ]
  },
  {
   "cell_type": "code",
   "execution_count": 20,
   "metadata": {},
   "outputs": [
    {
     "data": {
      "text/html": [
       "<div>\n",
       "<style scoped>\n",
       "    .dataframe tbody tr th:only-of-type {\n",
       "        vertical-align: middle;\n",
       "    }\n",
       "\n",
       "    .dataframe tbody tr th {\n",
       "        vertical-align: top;\n",
       "    }\n",
       "\n",
       "    .dataframe thead th {\n",
       "        text-align: right;\n",
       "    }\n",
       "</style>\n",
       "<table border=\"1\" class=\"dataframe\">\n",
       "  <thead>\n",
       "    <tr style=\"text-align: right;\">\n",
       "      <th></th>\n",
       "      <th>co_code</th>\n",
       "      <th>company_name</th>\n",
       "      <th>co_stkdate</th>\n",
       "      <th>nse_opening_price</th>\n",
       "      <th>nse_high_price</th>\n",
       "      <th>nse_low_price</th>\n",
       "      <th>nse_closing_price</th>\n",
       "      <th>nse_returns</th>\n",
       "      <th>nse_traded_qty</th>\n",
       "      <th>nse_market_cap</th>\n",
       "      <th>nse_pe</th>\n",
       "      <th>nse_pb</th>\n",
       "      <th>nse_bv_per_share</th>\n",
       "      <th>nse_symbol</th>\n",
       "    </tr>\n",
       "  </thead>\n",
       "  <tbody>\n",
       "    <tr>\n",
       "      <th>0</th>\n",
       "      <td>11</td>\n",
       "      <td>20 MICRONS LTD.</td>\n",
       "      <td>2008-10-06</td>\n",
       "      <td>80.0</td>\n",
       "      <td>80.0</td>\n",
       "      <td>31.60</td>\n",
       "      <td>33.65</td>\n",
       "      <td>1.00</td>\n",
       "      <td>11750865.0</td>\n",
       "      <td>475.1521</td>\n",
       "      <td>10.6061</td>\n",
       "      <td>1.1741</td>\n",
       "      <td>28.6606</td>\n",
       "      <td>20MICRONS</td>\n",
       "    </tr>\n",
       "    <tr>\n",
       "      <th>1</th>\n",
       "      <td>11</td>\n",
       "      <td>20 MICRONS LTD.</td>\n",
       "      <td>2008-10-07</td>\n",
       "      <td>32.0</td>\n",
       "      <td>38.0</td>\n",
       "      <td>27.85</td>\n",
       "      <td>30.10</td>\n",
       "      <td>0.89</td>\n",
       "      <td>4556711.0</td>\n",
       "      <td>425.0246</td>\n",
       "      <td>9.4872</td>\n",
       "      <td>1.0502</td>\n",
       "      <td>28.6606</td>\n",
       "      <td>20MICRONS</td>\n",
       "    </tr>\n",
       "    <tr>\n",
       "      <th>2</th>\n",
       "      <td>11</td>\n",
       "      <td>20 MICRONS LTD.</td>\n",
       "      <td>2008-10-08</td>\n",
       "      <td>28.0</td>\n",
       "      <td>29.2</td>\n",
       "      <td>25.10</td>\n",
       "      <td>26.50</td>\n",
       "      <td>0.88</td>\n",
       "      <td>1232192.0</td>\n",
       "      <td>374.1911</td>\n",
       "      <td>8.3525</td>\n",
       "      <td>0.9246</td>\n",
       "      <td>28.6606</td>\n",
       "      <td>20MICRONS</td>\n",
       "    </tr>\n",
       "    <tr>\n",
       "      <th>3</th>\n",
       "      <td>11</td>\n",
       "      <td>20 MICRONS LTD.</td>\n",
       "      <td>2008-10-10</td>\n",
       "      <td>24.9</td>\n",
       "      <td>24.9</td>\n",
       "      <td>21.65</td>\n",
       "      <td>23.20</td>\n",
       "      <td>0.88</td>\n",
       "      <td>603964.0</td>\n",
       "      <td>327.5937</td>\n",
       "      <td>7.3124</td>\n",
       "      <td>0.8095</td>\n",
       "      <td>28.6606</td>\n",
       "      <td>20MICRONS</td>\n",
       "    </tr>\n",
       "    <tr>\n",
       "      <th>4</th>\n",
       "      <td>11</td>\n",
       "      <td>20 MICRONS LTD.</td>\n",
       "      <td>2008-10-13</td>\n",
       "      <td>24.3</td>\n",
       "      <td>26.6</td>\n",
       "      <td>23.30</td>\n",
       "      <td>24.65</td>\n",
       "      <td>1.06</td>\n",
       "      <td>449346.0</td>\n",
       "      <td>348.0683</td>\n",
       "      <td>7.7694</td>\n",
       "      <td>0.8601</td>\n",
       "      <td>28.6606</td>\n",
       "      <td>20MICRONS</td>\n",
       "    </tr>\n",
       "  </tbody>\n",
       "</table>\n",
       "</div>"
      ],
      "text/plain": [
       "   co_code     company_name co_stkdate  nse_opening_price  nse_high_price  \\\n",
       "0       11  20 MICRONS LTD. 2008-10-06               80.0            80.0   \n",
       "1       11  20 MICRONS LTD. 2008-10-07               32.0            38.0   \n",
       "2       11  20 MICRONS LTD. 2008-10-08               28.0            29.2   \n",
       "3       11  20 MICRONS LTD. 2008-10-10               24.9            24.9   \n",
       "4       11  20 MICRONS LTD. 2008-10-13               24.3            26.6   \n",
       "\n",
       "   nse_low_price  nse_closing_price  nse_returns  nse_traded_qty  \\\n",
       "0          31.60              33.65         1.00      11750865.0   \n",
       "1          27.85              30.10         0.89       4556711.0   \n",
       "2          25.10              26.50         0.88       1232192.0   \n",
       "3          21.65              23.20         0.88        603964.0   \n",
       "4          23.30              24.65         1.06        449346.0   \n",
       "\n",
       "   nse_market_cap   nse_pe  nse_pb  nse_bv_per_share nse_symbol  \n",
       "0        475.1521  10.6061  1.1741           28.6606  20MICRONS  \n",
       "1        425.0246   9.4872  1.0502           28.6606  20MICRONS  \n",
       "2        374.1911   8.3525  0.9246           28.6606  20MICRONS  \n",
       "3        327.5937   7.3124  0.8095           28.6606  20MICRONS  \n",
       "4        348.0683   7.7694  0.8601           28.6606  20MICRONS  "
      ]
     },
     "execution_count": 20,
     "metadata": {},
     "output_type": "execute_result"
    },
    {
     "data": {
      "text/html": [
       "<div>\n",
       "<style scoped>\n",
       "    .dataframe tbody tr th:only-of-type {\n",
       "        vertical-align: middle;\n",
       "    }\n",
       "\n",
       "    .dataframe tbody tr th {\n",
       "        vertical-align: top;\n",
       "    }\n",
       "\n",
       "    .dataframe thead th {\n",
       "        text-align: right;\n",
       "    }\n",
       "</style>\n",
       "<table border=\"1\" class=\"dataframe\">\n",
       "  <thead>\n",
       "    <tr style=\"text-align: right;\">\n",
       "      <th></th>\n",
       "      <th>nse_symbol</th>\n",
       "      <th>radj_factor</th>\n",
       "      <th>radjfact_date</th>\n",
       "    </tr>\n",
       "  </thead>\n",
       "  <tbody>\n",
       "    <tr>\n",
       "      <th>1</th>\n",
       "      <td>20MICRONS</td>\n",
       "      <td>0.50</td>\n",
       "      <td>2013-01-28</td>\n",
       "    </tr>\n",
       "    <tr>\n",
       "      <th>3</th>\n",
       "      <td>3IINFOTECH</td>\n",
       "      <td>0.50</td>\n",
       "      <td>2007-08-27</td>\n",
       "    </tr>\n",
       "    <tr>\n",
       "      <th>7</th>\n",
       "      <td>8KMILES</td>\n",
       "      <td>0.50</td>\n",
       "      <td>2016-10-10</td>\n",
       "    </tr>\n",
       "    <tr>\n",
       "      <th>8</th>\n",
       "      <td>8KMILES</td>\n",
       "      <td>0.75</td>\n",
       "      <td>2016-10-10</td>\n",
       "    </tr>\n",
       "    <tr>\n",
       "      <th>10</th>\n",
       "      <td>AARTIDRUGS</td>\n",
       "      <td>0.50</td>\n",
       "      <td>2015-03-24</td>\n",
       "    </tr>\n",
       "  </tbody>\n",
       "</table>\n",
       "</div>"
      ],
      "text/plain": [
       "    nse_symbol  radj_factor radjfact_date\n",
       "1    20MICRONS         0.50    2013-01-28\n",
       "3   3IINFOTECH         0.50    2007-08-27\n",
       "7      8KMILES         0.50    2016-10-10\n",
       "8      8KMILES         0.75    2016-10-10\n",
       "10  AARTIDRUGS         0.50    2015-03-24"
      ]
     },
     "execution_count": 20,
     "metadata": {},
     "output_type": "execute_result"
    }
   ],
   "source": [
    "mainframe500.head()\n",
    "adj_fac500.head()"
   ]
  },
  {
   "cell_type": "markdown",
   "metadata": {},
   "source": [
    "<br><p> In the first part of the code, we start by reading the date files. **Note**, these are not time series but do have data for each day and stock.  <p>In the second part, we merge the ticker names with company name for the purpose of keeping the names short and to use the NSEI ticker names. This column is called **nse_symbol**"
   ]
  },
  {
   "cell_type": "code",
   "execution_count": 21,
   "metadata": {},
   "outputs": [
    {
     "data": {
      "text/html": [
       "<div>\n",
       "<style scoped>\n",
       "    .dataframe tbody tr th:only-of-type {\n",
       "        vertical-align: middle;\n",
       "    }\n",
       "\n",
       "    .dataframe tbody tr th {\n",
       "        vertical-align: top;\n",
       "    }\n",
       "\n",
       "    .dataframe thead th {\n",
       "        text-align: right;\n",
       "    }\n",
       "</style>\n",
       "<table border=\"1\" class=\"dataframe\">\n",
       "  <thead>\n",
       "    <tr style=\"text-align: right;\">\n",
       "      <th>nse_symbol</th>\n",
       "      <th>20MICRONS</th>\n",
       "      <th>3IINFOTECH</th>\n",
       "      <th>3MINDIA</th>\n",
       "      <th>8KMILES</th>\n",
       "      <th>AARTIDRUGS</th>\n",
       "      <th>AARTIIND</th>\n",
       "      <th>AAVAS</th>\n",
       "      <th>ABAN</th>\n",
       "      <th>ABB</th>\n",
       "      <th>ABBOTINDIA</th>\n",
       "      <th>...</th>\n",
       "      <th>YOKOGAWA</th>\n",
       "      <th>ZANDUREALT</th>\n",
       "      <th>ZEEL</th>\n",
       "      <th>ZEELEARN</th>\n",
       "      <th>ZEEMEDIA</th>\n",
       "      <th>ZENITHCOMP</th>\n",
       "      <th>ZENSARTECH</th>\n",
       "      <th>ZODIACLOTH</th>\n",
       "      <th>ZUARIGLOB</th>\n",
       "      <th>ZYDUSWELL</th>\n",
       "    </tr>\n",
       "    <tr>\n",
       "      <th>co_stkdate</th>\n",
       "      <th></th>\n",
       "      <th></th>\n",
       "      <th></th>\n",
       "      <th></th>\n",
       "      <th></th>\n",
       "      <th></th>\n",
       "      <th></th>\n",
       "      <th></th>\n",
       "      <th></th>\n",
       "      <th></th>\n",
       "      <th></th>\n",
       "      <th></th>\n",
       "      <th></th>\n",
       "      <th></th>\n",
       "      <th></th>\n",
       "      <th></th>\n",
       "      <th></th>\n",
       "      <th></th>\n",
       "      <th></th>\n",
       "      <th></th>\n",
       "      <th></th>\n",
       "    </tr>\n",
       "  </thead>\n",
       "  <tbody>\n",
       "    <tr>\n",
       "      <th>2019-12-24</th>\n",
       "      <td>32.25</td>\n",
       "      <td>2.00</td>\n",
       "      <td>21641.10</td>\n",
       "      <td>NaN</td>\n",
       "      <td>521.30</td>\n",
       "      <td>804.00</td>\n",
       "      <td>1852.15</td>\n",
       "      <td>25.70</td>\n",
       "      <td>1260.15</td>\n",
       "      <td>13016.05</td>\n",
       "      <td>...</td>\n",
       "      <td>NaN</td>\n",
       "      <td>NaN</td>\n",
       "      <td>297.25</td>\n",
       "      <td>18.90</td>\n",
       "      <td>6.25</td>\n",
       "      <td>NaN</td>\n",
       "      <td>172.15</td>\n",
       "      <td>175.40</td>\n",
       "      <td>41.50</td>\n",
       "      <td>1452.55</td>\n",
       "    </tr>\n",
       "    <tr>\n",
       "      <th>2019-12-26</th>\n",
       "      <td>32.30</td>\n",
       "      <td>2.00</td>\n",
       "      <td>21496.65</td>\n",
       "      <td>NaN</td>\n",
       "      <td>530.40</td>\n",
       "      <td>830.90</td>\n",
       "      <td>1868.40</td>\n",
       "      <td>25.15</td>\n",
       "      <td>1272.15</td>\n",
       "      <td>13080.05</td>\n",
       "      <td>...</td>\n",
       "      <td>NaN</td>\n",
       "      <td>NaN</td>\n",
       "      <td>297.30</td>\n",
       "      <td>18.95</td>\n",
       "      <td>6.20</td>\n",
       "      <td>NaN</td>\n",
       "      <td>171.95</td>\n",
       "      <td>171.95</td>\n",
       "      <td>46.85</td>\n",
       "      <td>1444.75</td>\n",
       "    </tr>\n",
       "    <tr>\n",
       "      <th>2019-12-27</th>\n",
       "      <td>32.45</td>\n",
       "      <td>2.00</td>\n",
       "      <td>21476.25</td>\n",
       "      <td>NaN</td>\n",
       "      <td>600.30</td>\n",
       "      <td>835.10</td>\n",
       "      <td>1854.50</td>\n",
       "      <td>26.40</td>\n",
       "      <td>1278.10</td>\n",
       "      <td>13194.25</td>\n",
       "      <td>...</td>\n",
       "      <td>NaN</td>\n",
       "      <td>NaN</td>\n",
       "      <td>299.00</td>\n",
       "      <td>18.80</td>\n",
       "      <td>6.05</td>\n",
       "      <td>NaN</td>\n",
       "      <td>174.10</td>\n",
       "      <td>167.80</td>\n",
       "      <td>52.65</td>\n",
       "      <td>1472.95</td>\n",
       "    </tr>\n",
       "    <tr>\n",
       "      <th>2019-12-30</th>\n",
       "      <td>33.10</td>\n",
       "      <td>2.00</td>\n",
       "      <td>21479.05</td>\n",
       "      <td>34.15</td>\n",
       "      <td>575.15</td>\n",
       "      <td>837.75</td>\n",
       "      <td>1918.60</td>\n",
       "      <td>25.85</td>\n",
       "      <td>1295.45</td>\n",
       "      <td>13196.75</td>\n",
       "      <td>...</td>\n",
       "      <td>NaN</td>\n",
       "      <td>NaN</td>\n",
       "      <td>302.80</td>\n",
       "      <td>18.45</td>\n",
       "      <td>6.00</td>\n",
       "      <td>NaN</td>\n",
       "      <td>172.95</td>\n",
       "      <td>171.15</td>\n",
       "      <td>51.35</td>\n",
       "      <td>1479.25</td>\n",
       "    </tr>\n",
       "    <tr>\n",
       "      <th>2019-12-31</th>\n",
       "      <td>35.20</td>\n",
       "      <td>1.95</td>\n",
       "      <td>21304.70</td>\n",
       "      <td>NaN</td>\n",
       "      <td>579.30</td>\n",
       "      <td>830.75</td>\n",
       "      <td>1981.10</td>\n",
       "      <td>25.70</td>\n",
       "      <td>1285.25</td>\n",
       "      <td>13075.50</td>\n",
       "      <td>...</td>\n",
       "      <td>NaN</td>\n",
       "      <td>NaN</td>\n",
       "      <td>292.20</td>\n",
       "      <td>18.65</td>\n",
       "      <td>6.00</td>\n",
       "      <td>NaN</td>\n",
       "      <td>174.60</td>\n",
       "      <td>175.35</td>\n",
       "      <td>50.05</td>\n",
       "      <td>1470.30</td>\n",
       "    </tr>\n",
       "  </tbody>\n",
       "</table>\n",
       "<p>5 rows × 1180 columns</p>\n",
       "</div>"
      ],
      "text/plain": [
       "nse_symbol  20MICRONS  3IINFOTECH   3MINDIA  8KMILES  AARTIDRUGS  AARTIIND  \\\n",
       "co_stkdate                                                                   \n",
       "2019-12-24      32.25        2.00  21641.10      NaN      521.30    804.00   \n",
       "2019-12-26      32.30        2.00  21496.65      NaN      530.40    830.90   \n",
       "2019-12-27      32.45        2.00  21476.25      NaN      600.30    835.10   \n",
       "2019-12-30      33.10        2.00  21479.05    34.15      575.15    837.75   \n",
       "2019-12-31      35.20        1.95  21304.70      NaN      579.30    830.75   \n",
       "\n",
       "nse_symbol    AAVAS   ABAN      ABB  ABBOTINDIA  ...  YOKOGAWA  ZANDUREALT  \\\n",
       "co_stkdate                                       ...                         \n",
       "2019-12-24  1852.15  25.70  1260.15    13016.05  ...       NaN         NaN   \n",
       "2019-12-26  1868.40  25.15  1272.15    13080.05  ...       NaN         NaN   \n",
       "2019-12-27  1854.50  26.40  1278.10    13194.25  ...       NaN         NaN   \n",
       "2019-12-30  1918.60  25.85  1295.45    13196.75  ...       NaN         NaN   \n",
       "2019-12-31  1981.10  25.70  1285.25    13075.50  ...       NaN         NaN   \n",
       "\n",
       "nse_symbol    ZEEL  ZEELEARN  ZEEMEDIA  ZENITHCOMP  ZENSARTECH  ZODIACLOTH  \\\n",
       "co_stkdate                                                                   \n",
       "2019-12-24  297.25     18.90      6.25         NaN      172.15      175.40   \n",
       "2019-12-26  297.30     18.95      6.20         NaN      171.95      171.95   \n",
       "2019-12-27  299.00     18.80      6.05         NaN      174.10      167.80   \n",
       "2019-12-30  302.80     18.45      6.00         NaN      172.95      171.15   \n",
       "2019-12-31  292.20     18.65      6.00         NaN      174.60      175.35   \n",
       "\n",
       "nse_symbol  ZUARIGLOB  ZYDUSWELL  \n",
       "co_stkdate                        \n",
       "2019-12-24      41.50    1452.55  \n",
       "2019-12-26      46.85    1444.75  \n",
       "2019-12-27      52.65    1472.95  \n",
       "2019-12-30      51.35    1479.25  \n",
       "2019-12-31      50.05    1470.30  \n",
       "\n",
       "[5 rows x 1180 columns]"
      ]
     },
     "execution_count": 21,
     "metadata": {},
     "output_type": "execute_result"
    }
   ],
   "source": [
    "main_start = dt.date(1995, 3, 31)\n",
    "mark_cap500 = mainframe500.pivot(index= 'co_stkdate', \n",
    "                                 columns= 'nse_symbol', \n",
    "                                 values= 'nse_market_cap').loc[main_start:, :]\n",
    "\n",
    "unadj_prices = mainframe500.pivot(index= 'co_stkdate', \n",
    "                                  columns= 'nse_symbol', \n",
    "                                  values= 'nse_closing_price').loc[main_start:, :]\n",
    "\n",
    "adjfactors = adj_fac500.pivot_table(values= 'radj_factor', \n",
    "                                    index = 'radjfact_date', \n",
    "                                    columns = 'nse_symbol', \n",
    "                                    aggfunc= 'prod')\n",
    "unadj_prices.tail()"
   ]
  },
  {
   "cell_type": "markdown",
   "metadata": {},
   "source": [
    "<p>We then pivot our `mainframe500` to get unadjusted prices of each stock as time series. We do this for adjustment factors as well"
   ]
  },
  {
   "cell_type": "code",
   "execution_count": 69,
   "metadata": {},
   "outputs": [],
   "source": [
    "adj_prices = unadj_prices.apply(lambda x: get_adj_price(adjfactors, x))\n",
    "adj_prices = adj_prices.dropna(how = 'all', axis = 1)"
   ]
  },
  {
   "cell_type": "markdown",
   "metadata": {},
   "source": [
    "Call the function on each column (series) of the unadjusted prices in `unadj_prices` dataframe to calculate the adjuted prices\n",
    "\n",
    "Let's compare the unadjusted prices and adjusted prices by plotting them and figure out whether the code makes sense."
   ]
  },
  {
   "cell_type": "code",
   "execution_count": 70,
   "metadata": {},
   "outputs": [
    {
     "data": {
      "text/plain": [
       "<matplotlib.axes._subplots.AxesSubplot at 0x1a264f4f60>"
      ]
     },
     "execution_count": 70,
     "metadata": {},
     "output_type": "execute_result"
    },
    {
     "data": {
      "text/plain": [
       "<matplotlib.axes._subplots.AxesSubplot at 0x1a264f4f60>"
      ]
     },
     "execution_count": 70,
     "metadata": {},
     "output_type": "execute_result"
    },
    {
     "data": {
      "image/png": "[encoded data removed]",
      "text/plain": [
       "<Figure size 576x288 with 1 Axes>"
      ]
     },
     "metadata": {
      "needs_background": "light"
     },
     "output_type": "display_data"
    }
   ],
   "source": [
    "adj_prices.AARTIIND.plot(figsize = (8, 4), legend = True)\n",
    "unadj_prices.AARTIIND.plot(alpha = 0.5)"
   ]
  },
  {
   "cell_type": "markdown",
   "metadata": {},
   "source": [
    "In `Fig` above the line in blue is the adjusted pries and the line in orange is unadjusted price with spikes (twice). <br><p>We can see the somewhere around **2005** and **2006** there was an adjustment to AARTIIND's prices. Let's check what date exactly it was!!"
   ]
  },
  {
   "cell_type": "markdown",
   "metadata": {},
   "source": [
    "So we were right in fact!"
   ]
  },
  {
   "cell_type": "code",
   "execution_count": 91,
   "metadata": {},
   "outputs": [],
   "source": [
    "import matplotlib.pyplot as plt\n",
    "import investpy.indices as idc\n",
    "import investpy.bonds as bonds\n",
    "india_idx = idc.get_indices(country = 'India')\n",
    "tick = (india_idx.loc[india_idx['name'] == 'Nifty 500',:])\n",
    "\n",
    "nifty500 = idc.get_index_historical_data('nifty 500', \n",
    "                                         'India', \n",
    "                                         from_date = '01/01/2000', \n",
    "                                         to_date= '1/1/2020', interval='Monthly')\n",
    "nifty500 = nifty500.loc[~nifty500.index.duplicated()]\n",
    "nifty500idx = nifty500['Close']\n",
    "tbill = bonds.get_bond_historical_data('India 3M', \n",
    "                                       from_date = '01/01/2000', \n",
    "                                       to_date= '1/1/2020', \n",
    "                                       interval='Monthly')\n",
    "\n",
    "tbill = tbill.loc[~tbill.index.duplicated()]\n",
    "tbill.index = pd.DatetimeIndex(tbill.index)\n",
    "tbill = (tbill.reindex(nifty500.index)).dropna()\n",
    "tbill_adj = tbill.Close/1200"
   ]
  },
  {
   "cell_type": "markdown",
   "metadata": {},
   "source": [
    "Let's call the data for NSE500 index and get the daily and monthly returns for our analysis!! <p>For simplicity I have also provided the source code of ```get_rets``` from my custom module\n",
    "    \n",
    "```python\n",
    "def get_rets(data, kind = 'arth', freq = 'm', shift = 1):\n",
    "    \"\"\"Function to get returns from a Timeseries (NDFrame or Series)\n",
    "\n",
    "    params:\n",
    "        data: `Dataframe` or `Series` daily EOD prices\n",
    "        kind: (str) 'log'(default) or arth\n",
    "        freq: (str) 'd' (default), 'w', 'm'\n",
    "\n",
    "    returns:\n",
    "        dataframe or Series\"\"\"\n",
    "    if (isinstance(data, pd.core.series.Series)) or (isinstance(data, pd.core.frame.DataFrame)):\n",
    "\n",
    "        if freq == 'm':\n",
    "            data_prd = data.resample('BM').last().ffill()\n",
    "        elif freq == 'd':\n",
    "            data_prd = data\n",
    "        elif freq == 'w':\n",
    "            data_prd = data.resample('W-Fri').last().ffill()\n",
    "\n",
    "        if kind == 'log':\n",
    "            returns = (np.log(data_prd/data_prd.shift(shift)))\n",
    "        elif kind == 'arth':\n",
    "            returns = data_prd.pct_change(periods = shift)\n",
    "    elif (isinstance(data, np.ndarray)):\n",
    "        raise KeyError('Data is not a time series. Pass data with index as datetime object')\n",
    "\n",
    "    return returns\n",
    "```"
   ]
  },
  {
   "cell_type": "code",
   "execution_count": 71,
   "metadata": {},
   "outputs": [],
   "source": [
    "adj_m_prices = adj_prices.resample('BM').last()\n",
    "adj_m_prices_index = adj_m_prices.loc['1996-03-29':, :]\n",
    "# adj_m_prices.dropna(axis = 1, how = 'all', inplace = True)\n",
    "ew = adj_m_prices_index.pct_change().mean(axis = 1)\n",
    "ew.name = 'Equally Weighted'\n",
    "EW = (1 + ew.fillna(0)).cumprod()\n",
    "# EW.plot(logy = True, legend = True)"
   ]
  },
  {
   "cell_type": "markdown",
   "metadata": {},
   "source": [
    "Next, get monthly adjusted prices from the daily adjusted prices to find our monthly returns. We do this in order to calculate PnL for the equally weighted Long Only portfolio of our stocks for comparison.<br><br>"
   ]
  },
  {
   "cell_type": "code",
   "execution_count": 73,
   "metadata": {},
   "outputs": [],
   "source": [
    "daily_cum = adj_prices.apply(lambda x: tsmom.get_eq_line(x, data = 'prices', dtime= 'daily'))\n",
    "mnth_cum = adj_prices.apply(lambda x: tsmom.get_eq_line(x, data = 'prices'))\n"
   ]
  },
  {
   "cell_type": "markdown",
   "metadata": {},
   "source": [
    "<br><p>Next, get the cumulative daily returns of each stock in our adj_prices dataframe, which is timeseries of EOD prices. <br><p>We do this because our main function `tsmom` calls the monthly cumulative returns and monthly ex ante volatility as its required inputs"
   ]
  },
  {
   "cell_type": "code",
   "execution_count": 74,
   "metadata": {},
   "outputs": [],
   "source": [
    "daily_vol = adj_prices.apply(lambda x: tsmom.get_exante_vol(x, \n",
    "                                                            com = None, \n",
    "                                                            dtype = 'prices',\n",
    "                                                            dtime = 'daily'))\n",
    "mnth_vol = daily_vol.resample('BM').last()"
   ]
  },
  {
   "cell_type": "markdown",
   "metadata": {},
   "source": [
    "<br> <p> We then find the monthly ex ante volatility of each stock in our dataframe. Again for simiplicity I am posting the source code for calculatin of ex ante volatility. \n",
    "\n",
    "```python\n",
    "def get_exante_vol(series, alpha = 0.05, com = 60, dtime = 'monthly', dtype = 'returns'):\n",
    "\n",
    "    \"\"\"F: that provides annualized ex ante volatility based on the method of Exponentially Weighted Average\\n\n",
    "    This method is also know as the Risk Metrics, where the instantaneous volatility is based on past volatility\\n\n",
    "    with some decay\n",
    "\n",
    "    params:\n",
    "    -------\n",
    "\n",
    "        series: pandas series\n",
    "        com: center of mass (optional) (int)\n",
    "        dtime: str, (optional), 'monthly', 'daily', 'weekly'\n",
    "\n",
    "    returns:\n",
    "        ex-ante volatility with time index\"\"\"\n",
    "    if (isinstance(series, pd.core.series.Series)) and (isinstance(series.index, pd.DatetimeIndex)):\n",
    "        pass\n",
    "    else:\n",
    "        raise NotImplementedError('Data Type not supported, should only be timeseries')\n",
    "    if dtype == 'prices':\n",
    "        series = get_rets(series, kind = 'arth', freq = 'd')\n",
    "\n",
    "    vol = series.ewm(alpha = alpha, com = com).std()\n",
    "    ann_vol = vol * np.sqrt(261)\n",
    "\n",
    "    if dtime == 'daily':\n",
    "        ann_vol_prd = ann_vol\n",
    "\n",
    "    elif dtime == 'monthly':\n",
    "        ann_vol_prd = ann_vol.resample('BM').last().ffill()\n",
    "\n",
    "    elif dtime == 'weekly':\n",
    "        ann_vol_prd = ann_vol.resample('W-Fri').last().ffill()\n",
    "\n",
    "\n",
    "    return ann_vol_prd\n",
    "```  "
   ]
  },
  {
   "cell_type": "code",
   "execution_count": 75,
   "metadata": {},
   "outputs": [
    {
     "name": "stderr",
     "output_type": "stream",
     "text": [
      "/Users/ravpritpalkohli/Desktop/BVentures/TSMOM/tsmom.py:621: RuntimeWarning:\n",
      "\n",
      "divide by zero encountered in double_scalars\n",
      "\n"
     ]
    }
   ],
   "source": [
    "unlevered = tsmom.get_tsmom_port(mnth_vol, mnth_cum)\n",
    "levered = tsmom.get_tsmom_port(mnth_vol, mnth_cum, flag = True, scale = 0.4)"
   ]
  },
  {
   "cell_type": "markdown",
   "metadata": {},
   "source": [
    "Find the levered and unlevered portfolios by calling in the function get_tsmom_port. For more on the source code, please click on the link https://github.com/rkohli3/TSMOM. I am posting the main code that calculates the monthly PnL for our strategy.\n",
    "```Python\n",
    "\n",
    "def tsmom(series, \n",
    "          mnth_vol, \n",
    "          mnth_cum, \n",
    "          tolerance = 0, \n",
    "          vol_flag = False, \n",
    "          scale = 0.4, \n",
    "          lookback = 12):\n",
    "\n",
    "    \"\"\"Function to calculate Time Series Momentum returns on a time series.\n",
    "    params:\n",
    "        series: used for name purpose only, provide a series with the name of the ticker\n",
    "        mnth_vol: Monthly Ex Ante volatility\n",
    "        tolerance: (optional) -1 < x < 1, for signal processing, x < 0 is loss thus short the asst and vice-versa\n",
    "        vol_flag: (optional) Boolean default is False,\n",
    "        scale: (optional) volatility scaling parameter\n",
    "        lookback: (optional) int, lookback months\n",
    "\n",
    "    returns:\n",
    "        time series momentum returns\"\"\"\n",
    "    \n",
    "    ast = series.name\n",
    "    df = pd.concat([mnth_vol[ast], \n",
    "                    mnth_cum[ast], \n",
    "                    mnth_cum[ast].pct_change(lookback)],\n",
    "                      axis = 1,\n",
    "                      keys = ([ast + '_vol', \n",
    "                               ast + '_cum', \n",
    "                               ast + '_lookback']))\n",
    "    ## Get the relevant monthly cumulative returns, exante volatility and the past 12 month returns,\n",
    "    ## excluding the most recent one (addressed in loop)\n",
    "    cum_col = df[ast + '_cum']\n",
    "    vol_col = df[ast + '_vol']\n",
    "    lback = df[ast + '_lookback']\n",
    "#    n_longs = []\n",
    "#    n_shorts = []\n",
    "    pnl_long = {pd.Timestamp(lback.index[lookback]): 0}\n",
    "    pnl_short = {pd.Timestamp(lback.index[lookback]): 0}\n",
    "    lev_dict = {pd.Timestamp(lback.index[lookback]): 1}\n",
    "    ## Create dictionaries with relevant starting values.\n",
    "\n",
    "    for k, v in enumerate(lback):\n",
    "        if k <= lookback:\n",
    "            continue\n",
    "        if vol_flag == True:\n",
    "            ## Levered by ex-ante volatility\n",
    "            leverage = (scale/vol_col[k-1])\n",
    "            if lback.iloc[k-1] > tolerance:\n",
    "                ## Long\n",
    "                pnl_long[lback.index[k]] = ((cum_col.iloc[k]/float(cum_col.iloc[k-1])) - 1) * leverage\n",
    "                lev_dict[lback.index[k]] = leverage\n",
    "            elif lback.iloc[k-1] < tolerance:\n",
    "                ## Short\n",
    "                pnl_short[lback.index[k]] = ((cum_col.iloc[k-1]/float(cum_col.iloc[k])) - 1) * leverage\n",
    "                lev_dict[lback.index[k]] = leverage\n",
    "        elif vol_flag == False:\n",
    "            leverage = 1\n",
    "            if lback.iloc[k-1] > tolerance:\n",
    "                ## Long\n",
    "                pnl_long[lback.index[k]] = ((cum_col.iloc[k]/float(cum_col.iloc[k-1])) - 1)\n",
    "                lev_dict[lback.index[k]] = leverage\n",
    "            elif lback.iloc[k-1] < tolerance:\n",
    "                ## Short\n",
    "                pnl_short[lback.index[k]] = ((cum_col.iloc[k-1]/float(cum_col.iloc[k])) - 1)\n",
    "                lev_dict[lback.index[k]] = leverage\n",
    "    new_lev = pd.Series(lev_dict)\n",
    "    new_longs = pd.Series(pnl_long)\n",
    "    new_shorts = pd.Series(pnl_short)\n",
    "    new_longs.name = ast\n",
    "    new_shorts.name = ast\n",
    "    new_lev.name = ast + 'Leverage'\n",
    "    return new_longs, new_shorts, new_lev\n",
    " ```\n"
   ]
  },
  {
   "cell_type": "code",
   "execution_count": 149,
   "metadata": {},
   "outputs": [],
   "source": [
    "strat_unlevered = unlevered.TSMOM\n",
    "strat_levered = levered['TSMOM VolScale']\n",
    "unlevered.loc[:, 'Cumulative'] = tsmom.get_eq_line(strat_unlevered)\n",
    "levered.loc[:, 'Cumulative'] = tsmom.get_eq_line(strat_levered)\n",
    "nifty_m_rets = (nifty500idx.pct_change()).dropna()\n",
    "nifty_m_rets = nifty_m_rets[strat_levered.index[0]:]\n",
    "nifty_m_rets.index = (strat_levered.index)\n",
    "nifty_m_rets.name = 'Nifty500'\n",
    "nifty_m_cum = tsmom.get_eq_line(nifty_m_rets)"
   ]
  },
  {
   "cell_type": "code",
   "execution_count": 119,
   "metadata": {},
   "outputs": [
    {
     "data": {
      "text/html": [
       "<div>\n",
       "<style scoped>\n",
       "    .dataframe tbody tr th:only-of-type {\n",
       "        vertical-align: middle;\n",
       "    }\n",
       "\n",
       "    .dataframe tbody tr th {\n",
       "        vertical-align: top;\n",
       "    }\n",
       "\n",
       "    .dataframe thead th {\n",
       "        text-align: right;\n",
       "    }\n",
       "</style>\n",
       "<table border=\"1\" class=\"dataframe\">\n",
       "  <thead>\n",
       "    <tr style=\"text-align: right;\">\n",
       "      <th></th>\n",
       "      <th>TSMOM</th>\n",
       "      <th>TSMOM VolScale</th>\n",
       "      <th>Close</th>\n",
       "    </tr>\n",
       "  </thead>\n",
       "  <tbody>\n",
       "    <tr>\n",
       "      <th>Annualized_Mean</th>\n",
       "      <td>0.44078</td>\n",
       "      <td>0.52653</td>\n",
       "      <td>0.15126</td>\n",
       "    </tr>\n",
       "    <tr>\n",
       "      <th>Annualized_Volatility</th>\n",
       "      <td>0.14637</td>\n",
       "      <td>0.50764</td>\n",
       "      <td>0.24107</td>\n",
       "    </tr>\n",
       "    <tr>\n",
       "      <th>Sharpe Ratio</th>\n",
       "      <td>3.011</td>\n",
       "      <td>1.037</td>\n",
       "      <td>0.627</td>\n",
       "    </tr>\n",
       "    <tr>\n",
       "      <th>Calmar Ratio</th>\n",
       "      <td>2.134</td>\n",
       "      <td>1.562</td>\n",
       "      <td>0.212</td>\n",
       "    </tr>\n",
       "    <tr>\n",
       "      <th>Alpha</th>\n",
       "      <td>0.037</td>\n",
       "      <td>0.043</td>\n",
       "      <td>-0</td>\n",
       "    </tr>\n",
       "    <tr>\n",
       "      <th>Beta</th>\n",
       "      <td>-0.032</td>\n",
       "      <td>0.086</td>\n",
       "      <td>1</td>\n",
       "    </tr>\n",
       "    <tr>\n",
       "      <th>T Value (Alpha)</th>\n",
       "      <td>13.048</td>\n",
       "      <td>4.332</td>\n",
       "      <td>-6.094</td>\n",
       "    </tr>\n",
       "    <tr>\n",
       "      <th>T Value (Beta)</th>\n",
       "      <td>-0.797</td>\n",
       "      <td>0.616</td>\n",
       "      <td>9.91636e+16</td>\n",
       "    </tr>\n",
       "    <tr>\n",
       "      <th>Max Drawdown</th>\n",
       "      <td>24.67%</td>\n",
       "      <td>35.97%</td>\n",
       "      <td>60.91%</td>\n",
       "    </tr>\n",
       "    <tr>\n",
       "      <th>Sortino Ratio</th>\n",
       "      <td>7.214</td>\n",
       "      <td>5.227</td>\n",
       "      <td>0.765</td>\n",
       "    </tr>\n",
       "  </tbody>\n",
       "</table>\n",
       "</div>"
      ],
      "text/plain": [
       "                         TSMOM TSMOM VolScale        Close\n",
       "Annualized_Mean        0.44078        0.52653      0.15126\n",
       "Annualized_Volatility  0.14637        0.50764      0.24107\n",
       "Sharpe Ratio             3.011          1.037        0.627\n",
       "Calmar Ratio             2.134          1.562        0.212\n",
       "Alpha                    0.037          0.043           -0\n",
       "Beta                    -0.032          0.086            1\n",
       "T Value (Alpha)         13.048          4.332       -6.094\n",
       "T Value (Beta)          -0.797          0.616  9.91636e+16\n",
       "Max Drawdown            24.67%         35.97%       60.91%\n",
       "Sortino Ratio            7.214          5.227        0.765"
      ]
     },
     "execution_count": 119,
     "metadata": {},
     "output_type": "execute_result"
    }
   ],
   "source": [
    "# importlib.reload(tsmom)\n",
    "pd.concat([tsmom.get_perf_att(strat_unlevered, nifty_m_rets), \n",
    "           tsmom.get_perf_att(strat_levered, nifty_m_rets), \n",
    "           tsmom.get_perf_att(nifty_m_rets, nifty_m_rets), \n",
    "#            tsmom.get_perf_att(ew, nifty_m_rets)\n",
    "          ], \n",
    "           axis = 1\n",
    "         )"
   ]
  },
  {
   "cell_type": "code",
   "execution_count": 121,
   "metadata": {},
   "outputs": [],
   "source": [
    "# \n",
    "# rf_ind = pd.read_excel('T-Bill1995.xlsx', skiprows= 5, parse_dates= [0], index_col= [0]).sort_index(ascending = True)\n",
    "# rf_ind = rf_ind.resample('BM').last()/1200\n",
    "# rf_ind = (rf_ind.reindex(strat_levered.index)).fillna(0)\n",
    "# rf_ind = rf_ind.PX_LAST\n",
    "rf_ind = tbill_adj\n",
    "# (pd.concat([(strat_unlevered - rf_ind), \n",
    "#             (strat_levered - rf_ind), \n",
    "#             (nifty_m_rets - rf_ind)], \n",
    "#            axis = 1, \n",
    "#            keys = ['TSMOM Excess', \n",
    "#                    'TSMOM VolScale Excess', \n",
    "#                    'Market Excess']\n",
    "#           )).to_csv('alpha.csv')"
   ]
  },
  {
   "cell_type": "code",
   "execution_count": 126,
   "metadata": {},
   "outputs": [
    {
     "data": {
      "text/plain": [
       "<matplotlib.collections.PathCollection at 0x1a2dd4ecf8>"
      ]
     },
     "execution_count": 126,
     "metadata": {},
     "output_type": "execute_result"
    },
    {
     "data": {
      "text/plain": [
       "[<matplotlib.lines.Line2D at 0x1a2dd4efd0>]"
      ]
     },
     "execution_count": 126,
     "metadata": {},
     "output_type": "execute_result"
    },
    {
     "data": {
      "text/plain": [
       "<matplotlib.lines.Line2D at 0x1a2d38c438>"
      ]
     },
     "execution_count": 126,
     "metadata": {},
     "output_type": "execute_result"
    },
    {
     "data": {
      "text/plain": [
       "<matplotlib.lines.Line2D at 0x1a2dd284a8>"
      ]
     },
     "execution_count": 126,
     "metadata": {},
     "output_type": "execute_result"
    },
    {
     "data": {
      "text/plain": [
       "Text(0.5, 1.0, 'Monthly Returns Scatter Plot')"
      ]
     },
     "execution_count": 126,
     "metadata": {},
     "output_type": "execute_result"
    },
    {
     "data": {
      "text/plain": [
       "Text(0.5, 0, 'Nifty500 Returns %')"
      ]
     },
     "execution_count": 126,
     "metadata": {},
     "output_type": "execute_result"
    },
    {
     "data": {
      "text/plain": [
       "Text(0, 0.5, 'TSMOM  Returns %')"
      ]
     },
     "execution_count": 126,
     "metadata": {},
     "output_type": "execute_result"
    },
    {
     "data": {
      "text/plain": [
       "(-10, 30)"
      ]
     },
     "execution_count": 126,
     "metadata": {},
     "output_type": "execute_result"
    },
    {
     "data": {
      "image/png": "[encoded data removed]",
      "text/plain": [
       "<Figure size 504x360 with 1 Axes>"
      ]
     },
     "metadata": {
      "needs_background": "light"
     },
     "output_type": "display_data"
    }
   ],
   "source": [
    "from scipy.interpolate import UnivariateSpline\n",
    "ax, fig = plt.subplots(figsize = (7, 5))\n",
    "plt.scatter(nifty_m_rets.fillna(0) * 100, \n",
    "            strat_unlevered * 100, \n",
    "            c = '#284c87', \n",
    "            marker= 'o', \n",
    "            s = 5,\n",
    "            alpha = 0.8)\n",
    "model = np.polyfit(x = nifty_m_rets.fillna(0) * 100, \n",
    "                   y = strat_unlevered * 100, \n",
    "                   deg = 2)\n",
    "f = np.poly1d(model)\n",
    "\n",
    "xs = np.linspace(np.min(nifty_m_rets.fillna(0)) * 100, \n",
    "                 np.max(nifty_m_rets.fillna(0)) * 100, \n",
    "                 250)\n",
    "ys = f(xs)\n",
    "plt.plot(xs, ys, ls = '--', c = 'black')\n",
    "\n",
    "plt.axhline(y = 0, c = 'k', ls = '-.')\n",
    "plt.axvline(x = 0, c = 'k', ls = '-.')\n",
    "plt.title('Monthly Returns Scatter Plot', \n",
    "          dict(fontsize = 16))\n",
    "plt.xlabel('Nifty500 Returns %', \n",
    "          dict(fontsize = 11, \n",
    "                color = 'k'))\n",
    "plt.ylabel('TSMOM  Returns %', \n",
    "           dict(fontsize = 11, \n",
    "                color = 'k'))\n",
    "plt.ylim(-10, 30)"
   ]
  },
  {
   "cell_type": "markdown",
   "metadata": {},
   "source": [
    "Get the results!! "
   ]
  },
  {
   "cell_type": "markdown",
   "metadata": {},
   "source": [
    "## Plot the essentials!\n",
    "\n",
    "- Drawdowns\n",
    "- Monthly Returns Heatmap\n",
    "- Cumulative Returns\n",
    "- Annual Returns"
   ]
  },
  {
   "cell_type": "code",
   "execution_count": 127,
   "metadata": {},
   "outputs": [
    {
     "data": {
      "application/vnd.plotly.v1+json": {
       "config": {
        "linkText": "Export to plot.ly",
        "plotlyServerURL": "https://plot.ly",
        "showLink": false
       },
       "data": [
        {
         "fill": "tonexty",
         "fillcolor": "rgba(200 2, 2, 0.3)",
         "line": {
          "color": "rgba(217, 2, 2, 1)",
          "dash": "solid",
          "width": 1.3
         },
         "mode": "lines",
         "name": "TSMOM",
         "type": "scatter",
         "x": [
          "2001-01-31T00:00:00",
          "2001-02-28T00:00:00",
          "2001-03-30T00:00:00",
          "2001-04-30T00:00:00",
          "2001-05-31T00:00:00",
          "2001-06-29T00:00:00",
          "2001-07-31T00:00:00",
          "2001-08-31T00:00:00",
          "2001-09-28T00:00:00",
          "2001-10-31T00:00:00",
          "2001-11-30T00:00:00",
          "2001-12-31T00:00:00",
          "2002-01-31T00:00:00",
          "2002-02-28T00:00:00",
          "2002-03-29T00:00:00",
          "2002-04-30T00:00:00",
          "2002-05-31T00:00:00",
          "2002-06-28T00:00:00",
          "2002-07-31T00:00:00",
          "2002-08-30T00:00:00",
          "2002-09-30T00:00:00",
          "2002-10-31T00:00:00",
          "2002-11-29T00:00:00",
          "2002-12-31T00:00:00",
          "2003-01-31T00:00:00",
          "2003-02-28T00:00:00",
          "2003-03-31T00:00:00",
          "2003-04-30T00:00:00",
          "2003-05-30T00:00:00",
          "2003-06-30T00:00:00",
          "2003-07-31T00:00:00",
          "2003-08-29T00:00:00",
          "2003-09-30T00:00:00",
          "2003-10-31T00:00:00",
          "2003-11-28T00:00:00",
          "2003-12-31T00:00:00",
          "2004-01-30T00:00:00",
          "2004-02-27T00:00:00",
          "2004-03-31T00:00:00",
          "2004-04-30T00:00:00",
          "2004-05-31T00:00:00",
          "2004-06-30T00:00:00",
          "2004-07-30T00:00:00",
          "2004-08-31T00:00:00",
          "2004-09-30T00:00:00",
          "2004-10-29T00:00:00",
          "2004-11-30T00:00:00",
          "2004-12-31T00:00:00",
          "2005-01-31T00:00:00",
          "2005-02-28T00:00:00",
          "2005-03-31T00:00:00",
          "2005-04-29T00:00:00",
          "2005-05-31T00:00:00",
          "2005-06-30T00:00:00",
          "2005-07-29T00:00:00",
          "2005-08-31T00:00:00",
          "2005-09-30T00:00:00",
          "2005-10-31T00:00:00",
          "2005-11-30T00:00:00",
          "2005-12-30T00:00:00",
          "2006-01-31T00:00:00",
          "2006-02-28T00:00:00",
          "2006-03-31T00:00:00",
          "2006-04-28T00:00:00",
          "2006-05-31T00:00:00",
          "2006-06-30T00:00:00",
          "2006-07-31T00:00:00",
          "2006-08-31T00:00:00",
          "2006-09-29T00:00:00",
          "2006-10-31T00:00:00",
          "2006-11-30T00:00:00",
          "2006-12-29T00:00:00",
          "2007-01-31T00:00:00",
          "2007-02-28T00:00:00",
          "2007-03-30T00:00:00",
          "2007-04-30T00:00:00",
          "2007-05-31T00:00:00",
          "2007-06-29T00:00:00",
          "2007-07-31T00:00:00",
          "2007-08-31T00:00:00",
          "2007-09-28T00:00:00",
          "2007-10-31T00:00:00",
          "2007-11-30T00:00:00",
          "2007-12-31T00:00:00",
          "2008-01-31T00:00:00",
          "2008-02-29T00:00:00",
          "2008-03-31T00:00:00",
          "2008-04-30T00:00:00",
          "2008-05-30T00:00:00",
          "2008-06-30T00:00:00",
          "2008-07-31T00:00:00",
          "2008-08-29T00:00:00",
          "2008-09-30T00:00:00",
          "2008-10-31T00:00:00",
          "2008-11-28T00:00:00",
          "2008-12-31T00:00:00",
          "2009-01-30T00:00:00",
          "2009-02-27T00:00:00",
          "2009-03-31T00:00:00",
          "2009-04-30T00:00:00",
          "2009-05-29T00:00:00",
          "2009-06-30T00:00:00",
          "2009-07-31T00:00:00",
          "2009-08-31T00:00:00",
          "2009-09-30T00:00:00",
          "2009-10-30T00:00:00",
          "2009-11-30T00:00:00",
          "2009-12-31T00:00:00",
          "2010-01-29T00:00:00",
          "2010-02-26T00:00:00",
          "2010-03-31T00:00:00",
          "2010-04-30T00:00:00",
          "2010-05-31T00:00:00",
          "2010-06-30T00:00:00",
          "2010-07-30T00:00:00",
          "2010-08-31T00:00:00",
          "2010-09-30T00:00:00",
          "2010-10-29T00:00:00",
          "2010-11-30T00:00:00",
          "2010-12-31T00:00:00",
          "2011-01-31T00:00:00",
          "2011-02-28T00:00:00",
          "2011-03-31T00:00:00",
          "2011-04-29T00:00:00",
          "2011-05-31T00:00:00",
          "2011-06-30T00:00:00",
          "2011-07-29T00:00:00",
          "2011-08-31T00:00:00",
          "2011-09-30T00:00:00",
          "2011-10-31T00:00:00",
          "2011-11-30T00:00:00",
          "2011-12-30T00:00:00",
          "2012-01-31T00:00:00",
          "2012-02-29T00:00:00",
          "2012-03-30T00:00:00",
          "2012-04-30T00:00:00",
          "2012-05-31T00:00:00",
          "2012-06-29T00:00:00",
          "2012-07-31T00:00:00",
          "2012-08-31T00:00:00",
          "2012-09-28T00:00:00",
          "2012-10-31T00:00:00",
          "2012-11-30T00:00:00",
          "2012-12-31T00:00:00",
          "2013-01-31T00:00:00",
          "2013-02-28T00:00:00",
          "2013-03-29T00:00:00",
          "2013-04-30T00:00:00",
          "2013-05-31T00:00:00",
          "2013-06-28T00:00:00",
          "2013-07-31T00:00:00",
          "2013-08-30T00:00:00",
          "2013-09-30T00:00:00",
          "2013-10-31T00:00:00",
          "2013-11-29T00:00:00",
          "2013-12-31T00:00:00",
          "2014-01-31T00:00:00",
          "2014-02-28T00:00:00",
          "2014-03-31T00:00:00",
          "2014-04-30T00:00:00",
          "2014-05-30T00:00:00",
          "2014-06-30T00:00:00",
          "2014-07-31T00:00:00",
          "2014-08-29T00:00:00",
          "2014-09-30T00:00:00",
          "2014-10-31T00:00:00",
          "2014-11-28T00:00:00",
          "2014-12-31T00:00:00",
          "2015-01-30T00:00:00",
          "2015-02-27T00:00:00",
          "2015-03-31T00:00:00",
          "2015-04-30T00:00:00",
          "2015-05-29T00:00:00",
          "2015-06-30T00:00:00",
          "2015-07-31T00:00:00",
          "2015-08-31T00:00:00",
          "2015-09-30T00:00:00",
          "2015-10-30T00:00:00",
          "2015-11-30T00:00:00",
          "2015-12-31T00:00:00",
          "2016-01-29T00:00:00",
          "2016-02-29T00:00:00",
          "2016-03-31T00:00:00",
          "2016-04-29T00:00:00",
          "2016-05-31T00:00:00",
          "2016-06-30T00:00:00",
          "2016-07-29T00:00:00",
          "2016-08-31T00:00:00",
          "2016-09-30T00:00:00",
          "2016-10-31T00:00:00",
          "2016-11-30T00:00:00",
          "2016-12-30T00:00:00",
          "2017-01-31T00:00:00",
          "2017-02-28T00:00:00",
          "2017-03-31T00:00:00",
          "2017-04-28T00:00:00",
          "2017-05-31T00:00:00",
          "2017-06-30T00:00:00",
          "2017-07-31T00:00:00",
          "2017-08-31T00:00:00",
          "2017-09-29T00:00:00",
          "2017-10-31T00:00:00",
          "2017-11-30T00:00:00",
          "2017-12-29T00:00:00",
          "2018-01-31T00:00:00",
          "2018-02-28T00:00:00",
          "2018-03-30T00:00:00",
          "2018-04-30T00:00:00",
          "2018-05-31T00:00:00",
          "2018-06-29T00:00:00",
          "2018-07-31T00:00:00",
          "2018-08-31T00:00:00",
          "2018-09-28T00:00:00",
          "2018-10-31T00:00:00",
          "2018-11-30T00:00:00",
          "2018-12-31T00:00:00",
          "2019-01-31T00:00:00",
          "2019-02-28T00:00:00",
          "2019-03-29T00:00:00",
          "2019-04-30T00:00:00",
          "2019-05-31T00:00:00",
          "2019-06-28T00:00:00",
          "2019-07-31T00:00:00",
          "2019-08-30T00:00:00",
          "2019-09-30T00:00:00",
          "2019-10-31T00:00:00",
          "2019-11-29T00:00:00",
          "2019-12-31T00:00:00"
         ],
         "y": [
          0,
          0,
          0,
          0,
          -4.51,
          0,
          0,
          -2.08,
          0,
          -0.86,
          -6.63,
          -5.63,
          0,
          0,
          0,
          0,
          0,
          0,
          0,
          0,
          0,
          0,
          -2.17,
          0,
          0,
          0,
          0,
          0,
          0,
          0,
          0,
          0,
          0,
          0,
          -0.83,
          0,
          0,
          0,
          0,
          0,
          -5.58,
          -1.97,
          0,
          0,
          -3.07,
          0,
          0,
          0,
          0,
          0,
          0,
          0,
          0,
          0,
          0,
          0,
          -2.72,
          -2.09,
          0,
          0,
          0,
          0,
          0,
          0,
          -0.32,
          0,
          0,
          -1.79,
          0,
          0,
          0,
          0,
          0,
          0,
          0,
          0,
          0,
          0,
          0,
          0,
          0,
          0,
          0,
          0,
          0,
          -1.19,
          0,
          -0.22,
          0,
          0,
          0,
          -0.9,
          0,
          0,
          0,
          -5.6,
          -1.76,
          0,
          0,
          -12.34,
          -24.67,
          -22.05,
          -19.39,
          -20.98,
          -20.2,
          -13.66,
          -11.9,
          -8.35,
          -7.11,
          -1.7,
          0,
          0,
          0,
          0,
          0,
          0,
          0,
          0,
          0,
          -1.39,
          0,
          0,
          0,
          0,
          0,
          0,
          0,
          0,
          0,
          0,
          0,
          0,
          -6.23,
          -4.25,
          0,
          0,
          0,
          -1.86,
          0,
          0,
          -1.67,
          0,
          0,
          0,
          0,
          0,
          0,
          0,
          0,
          0,
          0,
          0,
          0,
          0,
          0,
          0,
          0,
          0,
          0,
          -2.03,
          -0.89,
          0,
          0,
          0,
          0,
          0,
          0,
          0,
          0,
          -0.82,
          0,
          -2.91,
          0,
          0,
          0,
          0,
          0,
          -1.19,
          -0.46,
          0,
          0,
          0,
          0,
          0,
          0,
          0,
          0,
          0,
          0,
          0,
          0,
          0,
          0,
          0,
          0,
          0,
          0,
          0,
          0,
          0,
          0,
          0,
          0,
          -2,
          0,
          0,
          0,
          0,
          0,
          0,
          0,
          0,
          0,
          0,
          0,
          -1.18,
          0,
          0,
          0,
          0,
          0,
          0,
          0,
          0,
          0,
          0,
          0,
          0
         ]
        },
        {
         "fill": "tonexty",
         "fillcolor": "rgba(73, 192, 235, 0.3)",
         "line": {
          "color": "rgba(73, 192, 235, 1)",
          "dash": "solid",
          "width": 1.3
         },
         "mode": "lines",
         "name": "Nifty500",
         "type": "scatter",
         "x": [
          "2001-01-31T00:00:00",
          "2001-02-28T00:00:00",
          "2001-03-30T00:00:00",
          "2001-04-30T00:00:00",
          "2001-05-31T00:00:00",
          "2001-06-29T00:00:00",
          "2001-07-31T00:00:00",
          "2001-08-31T00:00:00",
          "2001-09-28T00:00:00",
          "2001-10-31T00:00:00",
          "2001-11-30T00:00:00",
          "2001-12-31T00:00:00",
          "2002-01-31T00:00:00",
          "2002-02-28T00:00:00",
          "2002-03-29T00:00:00",
          "2002-04-30T00:00:00",
          "2002-05-31T00:00:00",
          "2002-06-28T00:00:00",
          "2002-07-31T00:00:00",
          "2002-08-30T00:00:00",
          "2002-09-30T00:00:00",
          "2002-10-31T00:00:00",
          "2002-11-29T00:00:00",
          "2002-12-31T00:00:00",
          "2003-01-31T00:00:00",
          "2003-02-28T00:00:00",
          "2003-03-31T00:00:00",
          "2003-04-30T00:00:00",
          "2003-05-30T00:00:00",
          "2003-06-30T00:00:00",
          "2003-07-31T00:00:00",
          "2003-08-29T00:00:00",
          "2003-09-30T00:00:00",
          "2003-10-31T00:00:00",
          "2003-11-28T00:00:00",
          "2003-12-31T00:00:00",
          "2004-01-30T00:00:00",
          "2004-02-27T00:00:00",
          "2004-03-31T00:00:00",
          "2004-04-30T00:00:00",
          "2004-05-31T00:00:00",
          "2004-06-30T00:00:00",
          "2004-07-30T00:00:00",
          "2004-08-31T00:00:00",
          "2004-09-30T00:00:00",
          "2004-10-29T00:00:00",
          "2004-11-30T00:00:00",
          "2004-12-31T00:00:00",
          "2005-01-31T00:00:00",
          "2005-02-28T00:00:00",
          "2005-03-31T00:00:00",
          "2005-04-29T00:00:00",
          "2005-05-31T00:00:00",
          "2005-06-30T00:00:00",
          "2005-07-29T00:00:00",
          "2005-08-31T00:00:00",
          "2005-09-30T00:00:00",
          "2005-10-31T00:00:00",
          "2005-11-30T00:00:00",
          "2005-12-30T00:00:00",
          "2006-01-31T00:00:00",
          "2006-02-28T00:00:00",
          "2006-03-31T00:00:00",
          "2006-04-28T00:00:00",
          "2006-05-31T00:00:00",
          "2006-06-30T00:00:00",
          "2006-07-31T00:00:00",
          "2006-08-31T00:00:00",
          "2006-09-29T00:00:00",
          "2006-10-31T00:00:00",
          "2006-11-30T00:00:00",
          "2006-12-29T00:00:00",
          "2007-01-31T00:00:00",
          "2007-02-28T00:00:00",
          "2007-03-30T00:00:00",
          "2007-04-30T00:00:00",
          "2007-05-31T00:00:00",
          "2007-06-29T00:00:00",
          "2007-07-31T00:00:00",
          "2007-08-31T00:00:00",
          "2007-09-28T00:00:00",
          "2007-10-31T00:00:00",
          "2007-11-30T00:00:00",
          "2007-12-31T00:00:00",
          "2008-01-31T00:00:00",
          "2008-02-29T00:00:00",
          "2008-03-31T00:00:00",
          "2008-04-30T00:00:00",
          "2008-05-30T00:00:00",
          "2008-06-30T00:00:00",
          "2008-07-31T00:00:00",
          "2008-08-29T00:00:00",
          "2008-09-30T00:00:00",
          "2008-10-31T00:00:00",
          "2008-11-28T00:00:00",
          "2008-12-31T00:00:00",
          "2009-01-30T00:00:00",
          "2009-02-27T00:00:00",
          "2009-03-31T00:00:00",
          "2009-04-30T00:00:00",
          "2009-05-29T00:00:00",
          "2009-06-30T00:00:00",
          "2009-07-31T00:00:00",
          "2009-08-31T00:00:00",
          "2009-09-30T00:00:00",
          "2009-10-30T00:00:00",
          "2009-11-30T00:00:00",
          "2009-12-31T00:00:00",
          "2010-01-29T00:00:00",
          "2010-02-26T00:00:00",
          "2010-03-31T00:00:00",
          "2010-04-30T00:00:00",
          "2010-05-31T00:00:00",
          "2010-06-30T00:00:00",
          "2010-07-30T00:00:00",
          "2010-08-31T00:00:00",
          "2010-09-30T00:00:00",
          "2010-10-29T00:00:00",
          "2010-11-30T00:00:00",
          "2010-12-31T00:00:00",
          "2011-01-31T00:00:00",
          "2011-02-28T00:00:00",
          "2011-03-31T00:00:00",
          "2011-04-29T00:00:00",
          "2011-05-31T00:00:00",
          "2011-06-30T00:00:00",
          "2011-07-29T00:00:00",
          "2011-08-31T00:00:00",
          "2011-09-30T00:00:00",
          "2011-10-31T00:00:00",
          "2011-11-30T00:00:00",
          "2011-12-30T00:00:00",
          "2012-01-31T00:00:00",
          "2012-02-29T00:00:00",
          "2012-03-30T00:00:00",
          "2012-04-30T00:00:00",
          "2012-05-31T00:00:00",
          "2012-06-29T00:00:00",
          "2012-07-31T00:00:00",
          "2012-08-31T00:00:00",
          "2012-09-28T00:00:00",
          "2012-10-31T00:00:00",
          "2012-11-30T00:00:00",
          "2012-12-31T00:00:00",
          "2013-01-31T00:00:00",
          "2013-02-28T00:00:00",
          "2013-03-29T00:00:00",
          "2013-04-30T00:00:00",
          "2013-05-31T00:00:00",
          "2013-06-28T00:00:00",
          "2013-07-31T00:00:00",
          "2013-08-30T00:00:00",
          "2013-09-30T00:00:00",
          "2013-10-31T00:00:00",
          "2013-11-29T00:00:00",
          "2013-12-31T00:00:00",
          "2014-01-31T00:00:00",
          "2014-02-28T00:00:00",
          "2014-03-31T00:00:00",
          "2014-04-30T00:00:00",
          "2014-05-30T00:00:00",
          "2014-06-30T00:00:00",
          "2014-07-31T00:00:00",
          "2014-08-29T00:00:00",
          "2014-09-30T00:00:00",
          "2014-10-31T00:00:00",
          "2014-11-28T00:00:00",
          "2014-12-31T00:00:00",
          "2015-01-30T00:00:00",
          "2015-02-27T00:00:00",
          "2015-03-31T00:00:00",
          "2015-04-30T00:00:00",
          "2015-05-29T00:00:00",
          "2015-06-30T00:00:00",
          "2015-07-31T00:00:00",
          "2015-08-31T00:00:00",
          "2015-09-30T00:00:00",
          "2015-10-30T00:00:00",
          "2015-11-30T00:00:00",
          "2015-12-31T00:00:00",
          "2016-01-29T00:00:00",
          "2016-02-29T00:00:00",
          "2016-03-31T00:00:00",
          "2016-04-29T00:00:00",
          "2016-05-31T00:00:00",
          "2016-06-30T00:00:00",
          "2016-07-29T00:00:00",
          "2016-08-31T00:00:00",
          "2016-09-30T00:00:00",
          "2016-10-31T00:00:00",
          "2016-11-30T00:00:00",
          "2016-12-30T00:00:00",
          "2017-01-31T00:00:00",
          "2017-02-28T00:00:00",
          "2017-03-31T00:00:00",
          "2017-04-28T00:00:00",
          "2017-05-31T00:00:00",
          "2017-06-30T00:00:00",
          "2017-07-31T00:00:00",
          "2017-08-31T00:00:00",
          "2017-09-29T00:00:00",
          "2017-10-31T00:00:00",
          "2017-11-30T00:00:00",
          "2017-12-29T00:00:00",
          "2018-01-31T00:00:00",
          "2018-02-28T00:00:00",
          "2018-03-30T00:00:00",
          "2018-04-30T00:00:00",
          "2018-05-31T00:00:00",
          "2018-06-29T00:00:00",
          "2018-07-31T00:00:00",
          "2018-08-31T00:00:00",
          "2018-09-28T00:00:00",
          "2018-10-31T00:00:00",
          "2018-11-30T00:00:00",
          "2018-12-31T00:00:00",
          "2019-01-31T00:00:00",
          "2019-02-28T00:00:00",
          "2019-03-29T00:00:00",
          "2019-04-30T00:00:00",
          "2019-05-31T00:00:00",
          "2019-06-28T00:00:00",
          "2019-07-31T00:00:00",
          "2019-08-30T00:00:00",
          "2019-09-30T00:00:00",
          "2019-10-31T00:00:00",
          "2019-11-29T00:00:00",
          "2019-12-31T00:00:00"
         ],
         "y": [
          0,
          -20.8,
          -21.64,
          -16.94,
          -23.78,
          -26.8,
          -28.15,
          -38.72,
          -34.66,
          -26.16,
          -26.43,
          -24.97,
          -19.4,
          -18.57,
          -19.01,
          -22.34,
          -18.84,
          -25.8,
          -22.59,
          -27.44,
          -27.34,
          -22.13,
          -18.84,
          -21.34,
          -19.98,
          -26.35,
          -26.79,
          -15.24,
          -6.07,
          -1.44,
          0,
          0,
          0,
          0,
          0,
          -4.67,
          -5.78,
          -4.82,
          -1.55,
          -19.9,
          -18.5,
          -11.75,
          -10.07,
          -3.43,
          -1.91,
          0,
          0,
          -2.03,
          0,
          -2.99,
          -7.59,
          0,
          0,
          0,
          0,
          0,
          -9.07,
          0,
          0,
          0,
          0,
          0,
          0,
          -14.01,
          -16.39,
          -16.38,
          -8.38,
          -2.49,
          0,
          0,
          0,
          0,
          -8.41,
          -7.3,
          -0.41,
          0,
          0,
          0,
          -1.91,
          0,
          0,
          0,
          0,
          -18.78,
          -18.56,
          -28.55,
          -21.15,
          -26.05,
          -40.18,
          -35.45,
          -34.84,
          -42.88,
          -58.43,
          -60.91,
          -57.13,
          -58.75,
          -60.54,
          -57.14,
          -50.27,
          -33.14,
          -35.2,
          -29.7,
          -28.28,
          -23.08,
          -28.04,
          -22.58,
          -19.15,
          -22.39,
          -22.92,
          -19.45,
          -18.42,
          -21.07,
          -17.44,
          -16.43,
          -15.27,
          -8.02,
          -7.13,
          -10.71,
          -7.73,
          -17.37,
          -20.68,
          -13.6,
          -13.81,
          -16.09,
          -15.53,
          -17.38,
          -24.58,
          -25.7,
          -21.27,
          -28.82,
          -32.81,
          -23.75,
          -20.15,
          -21.16,
          -21.97,
          -26.92,
          -22.11,
          -22.94,
          -22.87,
          -15.88,
          -16.92,
          -12.69,
          -11.42,
          -10.45,
          -16.38,
          -17.11,
          -13.31,
          -12.57,
          -15.76,
          -18.21,
          -22.02,
          -17.98,
          -10.27,
          -10.92,
          -8.21,
          -12.06,
          -9.43,
          -2.42,
          -1.85,
          0,
          0,
          0,
          0,
          0,
          0,
          0,
          -2.09,
          0,
          0,
          -3.61,
          -6.77,
          -3.86,
          -4.73,
          -1.84,
          -7.87,
          -8.2,
          -6.75,
          -7.64,
          -7.11,
          -12.43,
          -19.47,
          -10.88,
          -8.99,
          -6.01,
          -3.57,
          0,
          0,
          -1.28,
          0,
          -5.63,
          -6.91,
          -1.63,
          0,
          0,
          0,
          0,
          -0.23,
          0,
          -1.12,
          -2.2,
          0,
          0,
          0,
          0,
          -4.5,
          -8.1,
          -2.08,
          -3.94,
          -5.52,
          -0.49,
          0,
          -8.77,
          -12.4,
          -8.84,
          -8.23,
          -9.89,
          -10.37,
          -3.29,
          -3.28,
          -1.87,
          -3.34,
          -9.48,
          -10.15,
          -6.52,
          -3.03,
          -1.78,
          -1.2,
          -1.31
         ]
        }
       ],
       "layout": {
        "height": 300,
        "hovermode": "x unified",
        "legend": {
         "bgcolor": "white",
         "font": {
          "size": 9
         },
         "x": 0.85,
         "y": 0.2
        },
        "margin": {
         "b": 80,
         "l": 50,
         "pad": 0,
         "r": 50,
         "t": 70
        },
        "paper_bgcolor": "white",
        "plot_bgcolor": "white",
        "template": {
         "data": {
          "bar": [
           {
            "error_x": {
             "color": "#2a3f5f"
            },
            "error_y": {
             "color": "#2a3f5f"
            },
            "marker": {
             "line": {
              "color": "#E5ECF6",
              "width": 0.5
             }
            },
            "type": "bar"
           }
          ],
          "barpolar": [
           {
            "marker": {
             "line": {
              "color": "#E5ECF6",
              "width": 0.5
             }
            },
            "type": "barpolar"
           }
          ],
          "carpet": [
           {
            "aaxis": {
             "endlinecolor": "#2a3f5f",
             "gridcolor": "white",
             "linecolor": "white",
             "minorgridcolor": "white",
             "startlinecolor": "#2a3f5f"
            },
            "baxis": {
             "endlinecolor": "#2a3f5f",
             "gridcolor": "white",
             "linecolor": "white",
             "minorgridcolor": "white",
             "startlinecolor": "#2a3f5f"
            },
            "type": "carpet"
           }
          ],
          "choropleth": [
           {
            "colorbar": {
             "outlinewidth": 0,
             "ticks": ""
            },
            "type": "choropleth"
           }
          ],
          "contour": [
           {
            "colorbar": {
             "outlinewidth": 0,
             "ticks": ""
            },
            "colorscale": [
             [
              0,
              "#0d0887"
             ],
             [
              0.1111111111111111,
              "#46039f"
             ],
             [
              0.2222222222222222,
              "#7201a8"
             ],
             [
              0.3333333333333333,
              "#9c179e"
             ],
             [
              0.4444444444444444,
              "#bd3786"
             ],
             [
              0.5555555555555556,
              "#d8576b"
             ],
             [
              0.6666666666666666,
              "#ed7953"
             ],
             [
              0.7777777777777778,
              "#fb9f3a"
             ],
             [
              0.8888888888888888,
              "#fdca26"
             ],
             [
              1,
              "#f0f921"
             ]
            ],
            "type": "contour"
           }
          ],
          "contourcarpet": [
           {
            "colorbar": {
             "outlinewidth": 0,
             "ticks": ""
            },
            "type": "contourcarpet"
           }
          ],
          "heatmap": [
           {
            "colorbar": {
             "outlinewidth": 0,
             "ticks": ""
            },
            "colorscale": [
             [
              0,
              "#0d0887"
             ],
             [
              0.1111111111111111,
              "#46039f"
             ],
             [
              0.2222222222222222,
              "#7201a8"
             ],
             [
              0.3333333333333333,
              "#9c179e"
             ],
             [
              0.4444444444444444,
              "#bd3786"
             ],
             [
              0.5555555555555556,
              "#d8576b"
             ],
             [
              0.6666666666666666,
              "#ed7953"
             ],
             [
              0.7777777777777778,
              "#fb9f3a"
             ],
             [
              0.8888888888888888,
              "#fdca26"
             ],
             [
              1,
              "#f0f921"
             ]
            ],
            "type": "heatmap"
           }
          ],
          "heatmapgl": [
           {
            "colorbar": {
             "outlinewidth": 0,
             "ticks": ""
            },
            "colorscale": [
             [
              0,
              "#0d0887"
             ],
             [
              0.1111111111111111,
              "#46039f"
             ],
             [
              0.2222222222222222,
              "#7201a8"
             ],
             [
              0.3333333333333333,
              "#9c179e"
             ],
             [
              0.4444444444444444,
              "#bd3786"
             ],
             [
              0.5555555555555556,
              "#d8576b"
             ],
             [
              0.6666666666666666,
              "#ed7953"
             ],
             [
              0.7777777777777778,
              "#fb9f3a"
             ],
             [
              0.8888888888888888,
              "#fdca26"
             ],
             [
              1,
              "#f0f921"
             ]
            ],
            "type": "heatmapgl"
           }
          ],
          "histogram": [
           {
            "marker": {
             "colorbar": {
              "outlinewidth": 0,
              "ticks": ""
             }
            },
            "type": "histogram"
           }
          ],
          "histogram2d": [
           {
            "colorbar": {
             "outlinewidth": 0,
             "ticks": ""
            },
            "colorscale": [
             [
              0,
              "#0d0887"
             ],
             [
              0.1111111111111111,
              "#46039f"
             ],
             [
              0.2222222222222222,
              "#7201a8"
             ],
             [
              0.3333333333333333,
              "#9c179e"
             ],
             [
              0.4444444444444444,
              "#bd3786"
             ],
             [
              0.5555555555555556,
              "#d8576b"
             ],
             [
              0.6666666666666666,
              "#ed7953"
             ],
             [
              0.7777777777777778,
              "#fb9f3a"
             ],
             [
              0.8888888888888888,
              "#fdca26"
             ],
             [
              1,
              "#f0f921"
             ]
            ],
            "type": "histogram2d"
           }
          ],
          "histogram2dcontour": [
           {
            "colorbar": {
             "outlinewidth": 0,
             "ticks": ""
            },
            "colorscale": [
             [
              0,
              "#0d0887"
             ],
             [
              0.1111111111111111,
              "#46039f"
             ],
             [
              0.2222222222222222,
              "#7201a8"
             ],
             [
              0.3333333333333333,
              "#9c179e"
             ],
             [
              0.4444444444444444,
              "#bd3786"
             ],
             [
              0.5555555555555556,
              "#d8576b"
             ],
             [
              0.6666666666666666,
              "#ed7953"
             ],
             [
              0.7777777777777778,
              "#fb9f3a"
             ],
             [
              0.8888888888888888,
              "#fdca26"
             ],
             [
              1,
              "#f0f921"
             ]
            ],
            "type": "histogram2dcontour"
           }
          ],
          "mesh3d": [
           {
            "colorbar": {
             "outlinewidth": 0,
             "ticks": ""
            },
            "type": "mesh3d"
           }
          ],
          "parcoords": [
           {
            "line": {
             "colorbar": {
              "outlinewidth": 0,
              "ticks": ""
             }
            },
            "type": "parcoords"
           }
          ],
          "pie": [
           {
            "automargin": true,
            "type": "pie"
           }
          ],
          "scatter": [
           {
            "marker": {
             "colorbar": {
              "outlinewidth": 0,
              "ticks": ""
             }
            },
            "type": "scatter"
           }
          ],
          "scatter3d": [
           {
            "line": {
             "colorbar": {
              "outlinewidth": 0,
              "ticks": ""
             }
            },
            "marker": {
             "colorbar": {
              "outlinewidth": 0,
              "ticks": ""
             }
            },
            "type": "scatter3d"
           }
          ],
          "scattercarpet": [
           {
            "marker": {
             "colorbar": {
              "outlinewidth": 0,
              "ticks": ""
             }
            },
            "type": "scattercarpet"
           }
          ],
          "scattergeo": [
           {
            "marker": {
             "colorbar": {
              "outlinewidth": 0,
              "ticks": ""
             }
            },
            "type": "scattergeo"
           }
          ],
          "scattergl": [
           {
            "marker": {
             "colorbar": {
              "outlinewidth": 0,
              "ticks": ""
             }
            },
            "type": "scattergl"
           }
          ],
          "scattermapbox": [
           {
            "marker": {
             "colorbar": {
              "outlinewidth": 0,
              "ticks": ""
             }
            },
            "type": "scattermapbox"
           }
          ],
          "scatterpolar": [
           {
            "marker": {
             "colorbar": {
              "outlinewidth": 0,
              "ticks": ""
             }
            },
            "type": "scatterpolar"
           }
          ],
          "scatterpolargl": [
           {
            "marker": {
             "colorbar": {
              "outlinewidth": 0,
              "ticks": ""
             }
            },
            "type": "scatterpolargl"
           }
          ],
          "scatterternary": [
           {
            "marker": {
             "colorbar": {
              "outlinewidth": 0,
              "ticks": ""
             }
            },
            "type": "scatterternary"
           }
          ],
          "surface": [
           {
            "colorbar": {
             "outlinewidth": 0,
             "ticks": ""
            },
            "colorscale": [
             [
              0,
              "#0d0887"
             ],
             [
              0.1111111111111111,
              "#46039f"
             ],
             [
              0.2222222222222222,
              "#7201a8"
             ],
             [
              0.3333333333333333,
              "#9c179e"
             ],
             [
              0.4444444444444444,
              "#bd3786"
             ],
             [
              0.5555555555555556,
              "#d8576b"
             ],
             [
              0.6666666666666666,
              "#ed7953"
             ],
             [
              0.7777777777777778,
              "#fb9f3a"
             ],
             [
              0.8888888888888888,
              "#fdca26"
             ],
             [
              1,
              "#f0f921"
             ]
            ],
            "type": "surface"
           }
          ],
          "table": [
           {
            "cells": {
             "fill": {
              "color": "#EBF0F8"
             },
             "line": {
              "color": "white"
             }
            },
            "header": {
             "fill": {
              "color": "#C8D4E3"
             },
             "line": {
              "color": "white"
             }
            },
            "type": "table"
           }
          ]
         },
         "layout": {
          "annotationdefaults": {
           "arrowcolor": "#2a3f5f",
           "arrowhead": 0,
           "arrowwidth": 1
          },
          "coloraxis": {
           "colorbar": {
            "outlinewidth": 0,
            "ticks": ""
           }
          },
          "colorscale": {
           "diverging": [
            [
             0,
             "#8e0152"
            ],
            [
             0.1,
             "#c51b7d"
            ],
            [
             0.2,
             "#de77ae"
            ],
            [
             0.3,
             "#f1b6da"
            ],
            [
             0.4,
             "#fde0ef"
            ],
            [
             0.5,
             "#f7f7f7"
            ],
            [
             0.6,
             "#e6f5d0"
            ],
            [
             0.7,
             "#b8e186"
            ],
            [
             0.8,
             "#7fbc41"
            ],
            [
             0.9,
             "#4d9221"
            ],
            [
             1,
             "#276419"
            ]
           ],
           "sequential": [
            [
             0,
             "#0d0887"
            ],
            [
             0.1111111111111111,
             "#46039f"
            ],
            [
             0.2222222222222222,
             "#7201a8"
            ],
            [
             0.3333333333333333,
             "#9c179e"
            ],
            [
             0.4444444444444444,
             "#bd3786"
            ],
            [
             0.5555555555555556,
             "#d8576b"
            ],
            [
             0.6666666666666666,
             "#ed7953"
            ],
            [
             0.7777777777777778,
             "#fb9f3a"
            ],
            [
             0.8888888888888888,
             "#fdca26"
            ],
            [
             1,
             "#f0f921"
            ]
           ],
           "sequentialminus": [
            [
             0,
             "#0d0887"
            ],
            [
             0.1111111111111111,
             "#46039f"
            ],
            [
             0.2222222222222222,
             "#7201a8"
            ],
            [
             0.3333333333333333,
             "#9c179e"
            ],
            [
             0.4444444444444444,
             "#bd3786"
            ],
            [
             0.5555555555555556,
             "#d8576b"
            ],
            [
             0.6666666666666666,
             "#ed7953"
            ],
            [
             0.7777777777777778,
             "#fb9f3a"
            ],
            [
             0.8888888888888888,
             "#fdca26"
            ],
            [
             1,
             "#f0f921"
            ]
           ]
          },
          "colorway": [
           "#636efa",
           "#EF553B",
           "#00cc96",
           "#ab63fa",
           "#FFA15A",
           "#19d3f3",
           "#FF6692",
           "#B6E880",
           "#FF97FF",
           "#FECB52"
          ],
          "font": {
           "color": "#2a3f5f"
          },
          "geo": {
           "bgcolor": "white",
           "lakecolor": "white",
           "landcolor": "#E5ECF6",
           "showlakes": true,
           "showland": true,
           "subunitcolor": "white"
          },
          "hoverlabel": {
           "align": "left"
          },
          "hovermode": "closest",
          "mapbox": {
           "style": "light"
          },
          "paper_bgcolor": "white",
          "plot_bgcolor": "#E5ECF6",
          "polar": {
           "angularaxis": {
            "gridcolor": "white",
            "linecolor": "white",
            "ticks": ""
           },
           "bgcolor": "#E5ECF6",
           "radialaxis": {
            "gridcolor": "white",
            "linecolor": "white",
            "ticks": ""
           }
          },
          "scene": {
           "xaxis": {
            "backgroundcolor": "#E5ECF6",
            "gridcolor": "white",
            "gridwidth": 2,
            "linecolor": "white",
            "showbackground": true,
            "ticks": "",
            "zerolinecolor": "white"
           },
           "yaxis": {
            "backgroundcolor": "#E5ECF6",
            "gridcolor": "white",
            "gridwidth": 2,
            "linecolor": "white",
            "showbackground": true,
            "ticks": "",
            "zerolinecolor": "white"
           },
           "zaxis": {
            "backgroundcolor": "#E5ECF6",
            "gridcolor": "white",
            "gridwidth": 2,
            "linecolor": "white",
            "showbackground": true,
            "ticks": "",
            "zerolinecolor": "white"
           }
          },
          "shapedefaults": {
           "line": {
            "color": "#2a3f5f"
           }
          },
          "ternary": {
           "aaxis": {
            "gridcolor": "white",
            "linecolor": "white",
            "ticks": ""
           },
           "baxis": {
            "gridcolor": "white",
            "linecolor": "white",
            "ticks": ""
           },
           "bgcolor": "#E5ECF6",
           "caxis": {
            "gridcolor": "white",
            "linecolor": "white",
            "ticks": ""
           }
          },
          "title": {
           "x": 0.05
          },
          "xaxis": {
           "automargin": true,
           "gridcolor": "white",
           "linecolor": "white",
           "ticks": "",
           "title": {
            "standoff": 15
           },
           "zerolinecolor": "white",
           "zerolinewidth": 2
          },
          "yaxis": {
           "automargin": true,
           "gridcolor": "white",
           "linecolor": "white",
           "ticks": "",
           "title": {
            "standoff": 15
           },
           "zerolinecolor": "white",
           "zerolinewidth": 2
          }
         }
        },
        "width": 550,
        "xaxis": {
         "color": "black",
         "hoverformat": "%A, %b %d %Y ",
         "showgrid": false,
         "showticklabels": true,
         "title": {
          "text": "Dates"
         },
         "zeroline": true
        },
        "yaxis": {
         "color": "black",
         "range": [
          -65,
          0
         ],
         "showgrid": false,
         "showticklabels": true,
         "title": {
          "text": "Drawdown in %"
         },
         "zeroline": true
        }
       }
      },
      "text/html": [
       "<div>\n",
       "        \n",
       "        \n",
       "            <div id=\"af7b8458-06ca-4296-b7b8-60f6e0077338\" class=\"plotly-graph-div\" style=\"height:300px; width:550px;\"></div>\n",
       "            <script type=\"text/javascript\">\n",
       "                require([\"plotly\"], function(Plotly) {\n",
       "                    window.PLOTLYENV=window.PLOTLYENV || {};\n",
       "                    \n",
       "                if (document.getElementById(\"af7b8458-06ca-4296-b7b8-60f6e0077338\")) {\n",
       "                    Plotly.newPlot(\n",
       "                        'af7b8458-06ca-4296-b7b8-60f6e0077338',\n",
       "                        [{\"fill\": \"tonexty\", \"fillcolor\": \"rgba(200 2, 2, 0.3)\", \"line\": {\"color\": \"rgba(217, 2, 2, 1)\", \"dash\": \"solid\", \"width\": 1.3}, \"mode\": \"lines\", \"name\": \"TSMOM\", \"type\": \"scatter\", \"x\": [\"2001-01-31T00:00:00\", \"2001-02-28T00:00:00\", \"2001-03-30T00:00:00\", \"2001-04-30T00:00:00\", \"2001-05-31T00:00:00\", \"2001-06-29T00:00:00\", \"2001-07-31T00:00:00\", \"2001-08-31T00:00:00\", \"2001-09-28T00:00:00\", \"2001-10-31T00:00:00\", \"2001-11-30T00:00:00\", \"2001-12-31T00:00:00\", \"2002-01-31T00:00:00\", \"2002-02-28T00:00:00\", \"2002-03-29T00:00:00\", \"2002-04-30T00:00:00\", \"2002-05-31T00:00:00\", \"2002-06-28T00:00:00\", \"2002-07-31T00:00:00\", \"2002-08-30T00:00:00\", \"2002-09-30T00:00:00\", \"2002-10-31T00:00:00\", \"2002-11-29T00:00:00\", \"2002-12-31T00:00:00\", \"2003-01-31T00:00:00\", \"2003-02-28T00:00:00\", \"2003-03-31T00:00:00\", \"2003-04-30T00:00:00\", \"2003-05-30T00:00:00\", \"2003-06-30T00:00:00\", \"2003-07-31T00:00:00\", \"2003-08-29T00:00:00\", \"2003-09-30T00:00:00\", \"2003-10-31T00:00:00\", \"2003-11-28T00:00:00\", \"2003-12-31T00:00:00\", \"2004-01-30T00:00:00\", \"2004-02-27T00:00:00\", \"2004-03-31T00:00:00\", \"2004-04-30T00:00:00\", \"2004-05-31T00:00:00\", \"2004-06-30T00:00:00\", \"2004-07-30T00:00:00\", \"2004-08-31T00:00:00\", \"2004-09-30T00:00:00\", \"2004-10-29T00:00:00\", \"2004-11-30T00:00:00\", \"2004-12-31T00:00:00\", \"2005-01-31T00:00:00\", \"2005-02-28T00:00:00\", \"2005-03-31T00:00:00\", \"2005-04-29T00:00:00\", \"2005-05-31T00:00:00\", \"2005-06-30T00:00:00\", \"2005-07-29T00:00:00\", \"2005-08-31T00:00:00\", \"2005-09-30T00:00:00\", \"2005-10-31T00:00:00\", \"2005-11-30T00:00:00\", \"2005-12-30T00:00:00\", \"2006-01-31T00:00:00\", \"2006-02-28T00:00:00\", \"2006-03-31T00:00:00\", \"2006-04-28T00:00:00\", \"2006-05-31T00:00:00\", \"2006-06-30T00:00:00\", \"2006-07-31T00:00:00\", \"2006-08-31T00:00:00\", \"2006-09-29T00:00:00\", \"2006-10-31T00:00:00\", \"2006-11-30T00:00:00\", \"2006-12-29T00:00:00\", \"2007-01-31T00:00:00\", \"2007-02-28T00:00:00\", \"2007-03-30T00:00:00\", \"2007-04-30T00:00:00\", \"2007-05-31T00:00:00\", \"2007-06-29T00:00:00\", \"2007-07-31T00:00:00\", \"2007-08-31T00:00:00\", \"2007-09-28T00:00:00\", \"2007-10-31T00:00:00\", \"2007-11-30T00:00:00\", \"2007-12-31T00:00:00\", \"2008-01-31T00:00:00\", \"2008-02-29T00:00:00\", \"2008-03-31T00:00:00\", \"2008-04-30T00:00:00\", \"2008-05-30T00:00:00\", \"2008-06-30T00:00:00\", \"2008-07-31T00:00:00\", \"2008-08-29T00:00:00\", \"2008-09-30T00:00:00\", \"2008-10-31T00:00:00\", \"2008-11-28T00:00:00\", \"2008-12-31T00:00:00\", \"2009-01-30T00:00:00\", \"2009-02-27T00:00:00\", \"2009-03-31T00:00:00\", \"2009-04-30T00:00:00\", \"2009-05-29T00:00:00\", \"2009-06-30T00:00:00\", \"2009-07-31T00:00:00\", \"2009-08-31T00:00:00\", \"2009-09-30T00:00:00\", \"2009-10-30T00:00:00\", \"2009-11-30T00:00:00\", \"2009-12-31T00:00:00\", \"2010-01-29T00:00:00\", \"2010-02-26T00:00:00\", \"2010-03-31T00:00:00\", \"2010-04-30T00:00:00\", \"2010-05-31T00:00:00\", \"2010-06-30T00:00:00\", \"2010-07-30T00:00:00\", \"2010-08-31T00:00:00\", \"2010-09-30T00:00:00\", \"2010-10-29T00:00:00\", \"2010-11-30T00:00:00\", \"2010-12-31T00:00:00\", \"2011-01-31T00:00:00\", \"2011-02-28T00:00:00\", \"2011-03-31T00:00:00\", \"2011-04-29T00:00:00\", \"2011-05-31T00:00:00\", \"2011-06-30T00:00:00\", \"2011-07-29T00:00:00\", \"2011-08-31T00:00:00\", \"2011-09-30T00:00:00\", \"2011-10-31T00:00:00\", \"2011-11-30T00:00:00\", \"2011-12-30T00:00:00\", \"2012-01-31T00:00:00\", \"2012-02-29T00:00:00\", \"2012-03-30T00:00:00\", \"2012-04-30T00:00:00\", \"2012-05-31T00:00:00\", \"2012-06-29T00:00:00\", \"2012-07-31T00:00:00\", \"2012-08-31T00:00:00\", \"2012-09-28T00:00:00\", \"2012-10-31T00:00:00\", \"2012-11-30T00:00:00\", \"2012-12-31T00:00:00\", \"2013-01-31T00:00:00\", \"2013-02-28T00:00:00\", \"2013-03-29T00:00:00\", \"2013-04-30T00:00:00\", \"2013-05-31T00:00:00\", \"2013-06-28T00:00:00\", \"2013-07-31T00:00:00\", \"2013-08-30T00:00:00\", \"2013-09-30T00:00:00\", \"2013-10-31T00:00:00\", \"2013-11-29T00:00:00\", \"2013-12-31T00:00:00\", \"2014-01-31T00:00:00\", \"2014-02-28T00:00:00\", \"2014-03-31T00:00:00\", \"2014-04-30T00:00:00\", \"2014-05-30T00:00:00\", \"2014-06-30T00:00:00\", \"2014-07-31T00:00:00\", \"2014-08-29T00:00:00\", \"2014-09-30T00:00:00\", \"2014-10-31T00:00:00\", \"2014-11-28T00:00:00\", \"2014-12-31T00:00:00\", \"2015-01-30T00:00:00\", \"2015-02-27T00:00:00\", \"2015-03-31T00:00:00\", \"2015-04-30T00:00:00\", \"2015-05-29T00:00:00\", \"2015-06-30T00:00:00\", \"2015-07-31T00:00:00\", \"2015-08-31T00:00:00\", \"2015-09-30T00:00:00\", \"2015-10-30T00:00:00\", \"2015-11-30T00:00:00\", \"2015-12-31T00:00:00\", \"2016-01-29T00:00:00\", \"2016-02-29T00:00:00\", \"2016-03-31T00:00:00\", \"2016-04-29T00:00:00\", \"2016-05-31T00:00:00\", \"2016-06-30T00:00:00\", \"2016-07-29T00:00:00\", \"2016-08-31T00:00:00\", \"2016-09-30T00:00:00\", \"2016-10-31T00:00:00\", \"2016-11-30T00:00:00\", \"2016-12-30T00:00:00\", \"2017-01-31T00:00:00\", \"2017-02-28T00:00:00\", \"2017-03-31T00:00:00\", \"2017-04-28T00:00:00\", \"2017-05-31T00:00:00\", \"2017-06-30T00:00:00\", \"2017-07-31T00:00:00\", \"2017-08-31T00:00:00\", \"2017-09-29T00:00:00\", \"2017-10-31T00:00:00\", \"2017-11-30T00:00:00\", \"2017-12-29T00:00:00\", \"2018-01-31T00:00:00\", \"2018-02-28T00:00:00\", \"2018-03-30T00:00:00\", \"2018-04-30T00:00:00\", \"2018-05-31T00:00:00\", \"2018-06-29T00:00:00\", \"2018-07-31T00:00:00\", \"2018-08-31T00:00:00\", \"2018-09-28T00:00:00\", \"2018-10-31T00:00:00\", \"2018-11-30T00:00:00\", \"2018-12-31T00:00:00\", \"2019-01-31T00:00:00\", \"2019-02-28T00:00:00\", \"2019-03-29T00:00:00\", \"2019-04-30T00:00:00\", \"2019-05-31T00:00:00\", \"2019-06-28T00:00:00\", \"2019-07-31T00:00:00\", \"2019-08-30T00:00:00\", \"2019-09-30T00:00:00\", \"2019-10-31T00:00:00\", \"2019-11-29T00:00:00\", \"2019-12-31T00:00:00\"], \"y\": [0.0, 0.0, 0.0, 0.0, -4.51, 0.0, 0.0, -2.08, 0.0, -0.86, -6.63, -5.63, 0.0, 0.0, 0.0, 0.0, 0.0, 0.0, 0.0, 0.0, 0.0, 0.0, -2.17, 0.0, 0.0, 0.0, 0.0, 0.0, 0.0, 0.0, 0.0, 0.0, 0.0, 0.0, -0.83, 0.0, 0.0, 0.0, 0.0, 0.0, -5.58, -1.97, 0.0, 0.0, -3.07, 0.0, 0.0, 0.0, 0.0, 0.0, 0.0, 0.0, 0.0, 0.0, 0.0, 0.0, -2.72, -2.09, 0.0, 0.0, 0.0, 0.0, 0.0, 0.0, -0.32, 0.0, 0.0, -1.79, 0.0, 0.0, 0.0, 0.0, 0.0, 0.0, 0.0, 0.0, 0.0, 0.0, 0.0, 0.0, 0.0, 0.0, 0.0, 0.0, 0.0, -1.19, 0.0, -0.22, 0.0, 0.0, 0.0, -0.9, 0.0, 0.0, 0.0, -5.6, -1.76, 0.0, 0.0, -12.34, -24.67, -22.05, -19.39, -20.98, -20.2, -13.66, -11.9, -8.35, -7.11, -1.7, 0.0, 0.0, 0.0, 0.0, 0.0, 0.0, 0.0, 0.0, 0.0, -1.39, 0.0, 0.0, 0.0, 0.0, 0.0, 0.0, 0.0, 0.0, 0.0, 0.0, 0.0, 0.0, -6.23, -4.25, 0.0, 0.0, 0.0, -1.86, 0.0, 0.0, -1.67, 0.0, 0.0, 0.0, 0.0, 0.0, 0.0, 0.0, 0.0, 0.0, 0.0, 0.0, 0.0, 0.0, 0.0, 0.0, 0.0, 0.0, 0.0, -2.03, -0.89, 0.0, 0.0, 0.0, 0.0, 0.0, 0.0, 0.0, 0.0, -0.82, 0.0, -2.91, 0.0, 0.0, 0.0, 0.0, 0.0, -1.19, -0.46, 0.0, 0.0, 0.0, 0.0, 0.0, 0.0, 0.0, 0.0, 0.0, 0.0, 0.0, 0.0, 0.0, 0.0, 0.0, 0.0, 0.0, 0.0, 0.0, 0.0, 0.0, 0.0, 0.0, 0.0, -2.0, 0.0, 0.0, 0.0, 0.0, 0.0, 0.0, 0.0, 0.0, 0.0, 0.0, 0.0, -1.18, 0.0, 0.0, 0.0, 0.0, 0.0, 0.0, 0.0, 0.0, 0.0, 0.0, 0.0, 0.0]}, {\"fill\": \"tonexty\", \"fillcolor\": \"rgba(73, 192, 235, 0.3)\", \"line\": {\"color\": \"rgba(73, 192, 235, 1)\", \"dash\": \"solid\", \"width\": 1.3}, \"mode\": \"lines\", \"name\": \"Nifty500\", \"type\": \"scatter\", \"x\": [\"2001-01-31T00:00:00\", \"2001-02-28T00:00:00\", \"2001-03-30T00:00:00\", \"2001-04-30T00:00:00\", \"2001-05-31T00:00:00\", \"2001-06-29T00:00:00\", \"2001-07-31T00:00:00\", \"2001-08-31T00:00:00\", \"2001-09-28T00:00:00\", \"2001-10-31T00:00:00\", \"2001-11-30T00:00:00\", \"2001-12-31T00:00:00\", \"2002-01-31T00:00:00\", \"2002-02-28T00:00:00\", \"2002-03-29T00:00:00\", \"2002-04-30T00:00:00\", \"2002-05-31T00:00:00\", \"2002-06-28T00:00:00\", \"2002-07-31T00:00:00\", \"2002-08-30T00:00:00\", \"2002-09-30T00:00:00\", \"2002-10-31T00:00:00\", \"2002-11-29T00:00:00\", \"2002-12-31T00:00:00\", \"2003-01-31T00:00:00\", \"2003-02-28T00:00:00\", \"2003-03-31T00:00:00\", \"2003-04-30T00:00:00\", \"2003-05-30T00:00:00\", \"2003-06-30T00:00:00\", \"2003-07-31T00:00:00\", \"2003-08-29T00:00:00\", \"2003-09-30T00:00:00\", \"2003-10-31T00:00:00\", \"2003-11-28T00:00:00\", \"2003-12-31T00:00:00\", \"2004-01-30T00:00:00\", \"2004-02-27T00:00:00\", \"2004-03-31T00:00:00\", \"2004-04-30T00:00:00\", \"2004-05-31T00:00:00\", \"2004-06-30T00:00:00\", \"2004-07-30T00:00:00\", \"2004-08-31T00:00:00\", \"2004-09-30T00:00:00\", \"2004-10-29T00:00:00\", \"2004-11-30T00:00:00\", \"2004-12-31T00:00:00\", \"2005-01-31T00:00:00\", \"2005-02-28T00:00:00\", \"2005-03-31T00:00:00\", \"2005-04-29T00:00:00\", \"2005-05-31T00:00:00\", \"2005-06-30T00:00:00\", \"2005-07-29T00:00:00\", \"2005-08-31T00:00:00\", \"2005-09-30T00:00:00\", \"2005-10-31T00:00:00\", \"2005-11-30T00:00:00\", \"2005-12-30T00:00:00\", \"2006-01-31T00:00:00\", \"2006-02-28T00:00:00\", \"2006-03-31T00:00:00\", \"2006-04-28T00:00:00\", \"2006-05-31T00:00:00\", \"2006-06-30T00:00:00\", \"2006-07-31T00:00:00\", \"2006-08-31T00:00:00\", \"2006-09-29T00:00:00\", \"2006-10-31T00:00:00\", \"2006-11-30T00:00:00\", \"2006-12-29T00:00:00\", \"2007-01-31T00:00:00\", \"2007-02-28T00:00:00\", \"2007-03-30T00:00:00\", \"2007-04-30T00:00:00\", \"2007-05-31T00:00:00\", \"2007-06-29T00:00:00\", \"2007-07-31T00:00:00\", \"2007-08-31T00:00:00\", \"2007-09-28T00:00:00\", \"2007-10-31T00:00:00\", \"2007-11-30T00:00:00\", \"2007-12-31T00:00:00\", \"2008-01-31T00:00:00\", \"2008-02-29T00:00:00\", \"2008-03-31T00:00:00\", \"2008-04-30T00:00:00\", \"2008-05-30T00:00:00\", \"2008-06-30T00:00:00\", \"2008-07-31T00:00:00\", \"2008-08-29T00:00:00\", \"2008-09-30T00:00:00\", \"2008-10-31T00:00:00\", \"2008-11-28T00:00:00\", \"2008-12-31T00:00:00\", \"2009-01-30T00:00:00\", \"2009-02-27T00:00:00\", \"2009-03-31T00:00:00\", \"2009-04-30T00:00:00\", \"2009-05-29T00:00:00\", \"2009-06-30T00:00:00\", \"2009-07-31T00:00:00\", \"2009-08-31T00:00:00\", \"2009-09-30T00:00:00\", \"2009-10-30T00:00:00\", \"2009-11-30T00:00:00\", \"2009-12-31T00:00:00\", \"2010-01-29T00:00:00\", \"2010-02-26T00:00:00\", \"2010-03-31T00:00:00\", \"2010-04-30T00:00:00\", \"2010-05-31T00:00:00\", \"2010-06-30T00:00:00\", \"2010-07-30T00:00:00\", \"2010-08-31T00:00:00\", \"2010-09-30T00:00:00\", \"2010-10-29T00:00:00\", \"2010-11-30T00:00:00\", \"2010-12-31T00:00:00\", \"2011-01-31T00:00:00\", \"2011-02-28T00:00:00\", \"2011-03-31T00:00:00\", \"2011-04-29T00:00:00\", \"2011-05-31T00:00:00\", \"2011-06-30T00:00:00\", \"2011-07-29T00:00:00\", \"2011-08-31T00:00:00\", \"2011-09-30T00:00:00\", \"2011-10-31T00:00:00\", \"2011-11-30T00:00:00\", \"2011-12-30T00:00:00\", \"2012-01-31T00:00:00\", \"2012-02-29T00:00:00\", \"2012-03-30T00:00:00\", \"2012-04-30T00:00:00\", \"2012-05-31T00:00:00\", \"2012-06-29T00:00:00\", \"2012-07-31T00:00:00\", \"2012-08-31T00:00:00\", \"2012-09-28T00:00:00\", \"2012-10-31T00:00:00\", \"2012-11-30T00:00:00\", \"2012-12-31T00:00:00\", \"2013-01-31T00:00:00\", \"2013-02-28T00:00:00\", \"2013-03-29T00:00:00\", \"2013-04-30T00:00:00\", \"2013-05-31T00:00:00\", \"2013-06-28T00:00:00\", \"2013-07-31T00:00:00\", \"2013-08-30T00:00:00\", \"2013-09-30T00:00:00\", \"2013-10-31T00:00:00\", \"2013-11-29T00:00:00\", \"2013-12-31T00:00:00\", \"2014-01-31T00:00:00\", \"2014-02-28T00:00:00\", \"2014-03-31T00:00:00\", \"2014-04-30T00:00:00\", \"2014-05-30T00:00:00\", \"2014-06-30T00:00:00\", \"2014-07-31T00:00:00\", \"2014-08-29T00:00:00\", \"2014-09-30T00:00:00\", \"2014-10-31T00:00:00\", \"2014-11-28T00:00:00\", \"2014-12-31T00:00:00\", \"2015-01-30T00:00:00\", \"2015-02-27T00:00:00\", \"2015-03-31T00:00:00\", \"2015-04-30T00:00:00\", \"2015-05-29T00:00:00\", \"2015-06-30T00:00:00\", \"2015-07-31T00:00:00\", \"2015-08-31T00:00:00\", \"2015-09-30T00:00:00\", \"2015-10-30T00:00:00\", \"2015-11-30T00:00:00\", \"2015-12-31T00:00:00\", \"2016-01-29T00:00:00\", \"2016-02-29T00:00:00\", \"2016-03-31T00:00:00\", \"2016-04-29T00:00:00\", \"2016-05-31T00:00:00\", \"2016-06-30T00:00:00\", \"2016-07-29T00:00:00\", \"2016-08-31T00:00:00\", \"2016-09-30T00:00:00\", \"2016-10-31T00:00:00\", \"2016-11-30T00:00:00\", \"2016-12-30T00:00:00\", \"2017-01-31T00:00:00\", \"2017-02-28T00:00:00\", \"2017-03-31T00:00:00\", \"2017-04-28T00:00:00\", \"2017-05-31T00:00:00\", \"2017-06-30T00:00:00\", \"2017-07-31T00:00:00\", \"2017-08-31T00:00:00\", \"2017-09-29T00:00:00\", \"2017-10-31T00:00:00\", \"2017-11-30T00:00:00\", \"2017-12-29T00:00:00\", \"2018-01-31T00:00:00\", \"2018-02-28T00:00:00\", \"2018-03-30T00:00:00\", \"2018-04-30T00:00:00\", \"2018-05-31T00:00:00\", \"2018-06-29T00:00:00\", \"2018-07-31T00:00:00\", \"2018-08-31T00:00:00\", \"2018-09-28T00:00:00\", \"2018-10-31T00:00:00\", \"2018-11-30T00:00:00\", \"2018-12-31T00:00:00\", \"2019-01-31T00:00:00\", \"2019-02-28T00:00:00\", \"2019-03-29T00:00:00\", \"2019-04-30T00:00:00\", \"2019-05-31T00:00:00\", \"2019-06-28T00:00:00\", \"2019-07-31T00:00:00\", \"2019-08-30T00:00:00\", \"2019-09-30T00:00:00\", \"2019-10-31T00:00:00\", \"2019-11-29T00:00:00\", \"2019-12-31T00:00:00\"], \"y\": [0.0, -20.8, -21.64, -16.94, -23.78, -26.8, -28.15, -38.72, -34.66, -26.16, -26.43, -24.97, -19.4, -18.57, -19.01, -22.34, -18.84, -25.8, -22.59, -27.44, -27.34, -22.13, -18.84, -21.34, -19.98, -26.35, -26.79, -15.24, -6.07, -1.44, 0.0, 0.0, 0.0, 0.0, 0.0, -4.67, -5.78, -4.82, -1.55, -19.9, -18.5, -11.75, -10.07, -3.43, -1.91, 0.0, 0.0, -2.03, 0.0, -2.99, -7.59, 0.0, 0.0, 0.0, 0.0, 0.0, -9.07, 0.0, 0.0, 0.0, 0.0, 0.0, 0.0, -14.01, -16.39, -16.38, -8.38, -2.49, 0.0, 0.0, 0.0, 0.0, -8.41, -7.3, -0.41, 0.0, 0.0, 0.0, -1.91, 0.0, 0.0, 0.0, 0.0, -18.78, -18.56, -28.55, -21.15, -26.05, -40.18, -35.45, -34.84, -42.88, -58.43, -60.91, -57.13, -58.75, -60.54, -57.14, -50.27, -33.14, -35.2, -29.7, -28.28, -23.08, -28.04, -22.58, -19.15, -22.39, -22.92, -19.45, -18.42, -21.07, -17.44, -16.43, -15.27, -8.02, -7.13, -10.71, -7.73, -17.37, -20.68, -13.6, -13.81, -16.09, -15.53, -17.38, -24.58, -25.7, -21.27, -28.82, -32.81, -23.75, -20.15, -21.16, -21.97, -26.92, -22.11, -22.94, -22.87, -15.88, -16.92, -12.69, -11.42, -10.45, -16.38, -17.11, -13.31, -12.57, -15.76, -18.21, -22.02, -17.98, -10.27, -10.92, -8.21, -12.06, -9.43, -2.42, -1.85, 0.0, 0.0, 0.0, 0.0, 0.0, 0.0, 0.0, -2.09, 0.0, 0.0, -3.61, -6.77, -3.86, -4.73, -1.84, -7.87, -8.2, -6.75, -7.64, -7.11, -12.43, -19.47, -10.88, -8.99, -6.01, -3.57, 0.0, 0.0, -1.28, 0.0, -5.63, -6.91, -1.63, 0.0, 0.0, 0.0, 0.0, -0.23, 0.0, -1.12, -2.2, 0.0, 0.0, 0.0, 0.0, -4.5, -8.1, -2.08, -3.94, -5.52, -0.49, 0.0, -8.77, -12.4, -8.84, -8.23, -9.89, -10.37, -3.29, -3.28, -1.87, -3.34, -9.48, -10.15, -6.52, -3.03, -1.78, -1.2, -1.31]}],\n",
       "                        {\"height\": 300, \"hovermode\": \"x unified\", \"legend\": {\"bgcolor\": \"white\", \"font\": {\"size\": 9}, \"x\": 0.85, \"y\": 0.2}, \"margin\": {\"b\": 80, \"l\": 50, \"pad\": 0, \"r\": 50, \"t\": 70}, \"paper_bgcolor\": \"white\", \"plot_bgcolor\": \"white\", \"template\": {\"data\": {\"bar\": [{\"error_x\": {\"color\": \"#2a3f5f\"}, \"error_y\": {\"color\": \"#2a3f5f\"}, \"marker\": {\"line\": {\"color\": \"#E5ECF6\", \"width\": 0.5}}, \"type\": \"bar\"}], \"barpolar\": [{\"marker\": {\"line\": {\"color\": \"#E5ECF6\", \"width\": 0.5}}, \"type\": \"barpolar\"}], \"carpet\": [{\"aaxis\": {\"endlinecolor\": \"#2a3f5f\", \"gridcolor\": \"white\", \"linecolor\": \"white\", \"minorgridcolor\": \"white\", \"startlinecolor\": \"#2a3f5f\"}, \"baxis\": {\"endlinecolor\": \"#2a3f5f\", \"gridcolor\": \"white\", \"linecolor\": \"white\", \"minorgridcolor\": \"white\", \"startlinecolor\": \"#2a3f5f\"}, \"type\": \"carpet\"}], \"choropleth\": [{\"colorbar\": {\"outlinewidth\": 0, \"ticks\": \"\"}, \"type\": \"choropleth\"}], \"contour\": [{\"colorbar\": {\"outlinewidth\": 0, \"ticks\": \"\"}, \"colorscale\": [[0.0, \"#0d0887\"], [0.1111111111111111, \"#46039f\"], [0.2222222222222222, \"#7201a8\"], [0.3333333333333333, \"#9c179e\"], [0.4444444444444444, \"#bd3786\"], [0.5555555555555556, \"#d8576b\"], [0.6666666666666666, \"#ed7953\"], [0.7777777777777778, \"#fb9f3a\"], [0.8888888888888888, \"#fdca26\"], [1.0, \"#f0f921\"]], \"type\": \"contour\"}], \"contourcarpet\": [{\"colorbar\": {\"outlinewidth\": 0, \"ticks\": \"\"}, \"type\": \"contourcarpet\"}], \"heatmap\": [{\"colorbar\": {\"outlinewidth\": 0, \"ticks\": \"\"}, \"colorscale\": [[0.0, \"#0d0887\"], [0.1111111111111111, \"#46039f\"], [0.2222222222222222, \"#7201a8\"], [0.3333333333333333, \"#9c179e\"], [0.4444444444444444, \"#bd3786\"], [0.5555555555555556, \"#d8576b\"], [0.6666666666666666, \"#ed7953\"], [0.7777777777777778, \"#fb9f3a\"], [0.8888888888888888, \"#fdca26\"], [1.0, \"#f0f921\"]], \"type\": \"heatmap\"}], \"heatmapgl\": [{\"colorbar\": {\"outlinewidth\": 0, \"ticks\": \"\"}, \"colorscale\": [[0.0, \"#0d0887\"], [0.1111111111111111, \"#46039f\"], [0.2222222222222222, \"#7201a8\"], [0.3333333333333333, \"#9c179e\"], [0.4444444444444444, \"#bd3786\"], [0.5555555555555556, \"#d8576b\"], [0.6666666666666666, \"#ed7953\"], [0.7777777777777778, \"#fb9f3a\"], [0.8888888888888888, \"#fdca26\"], [1.0, \"#f0f921\"]], \"type\": \"heatmapgl\"}], \"histogram\": [{\"marker\": {\"colorbar\": {\"outlinewidth\": 0, \"ticks\": \"\"}}, \"type\": \"histogram\"}], \"histogram2d\": [{\"colorbar\": {\"outlinewidth\": 0, \"ticks\": \"\"}, \"colorscale\": [[0.0, \"#0d0887\"], [0.1111111111111111, \"#46039f\"], [0.2222222222222222, \"#7201a8\"], [0.3333333333333333, \"#9c179e\"], [0.4444444444444444, \"#bd3786\"], [0.5555555555555556, \"#d8576b\"], [0.6666666666666666, \"#ed7953\"], [0.7777777777777778, \"#fb9f3a\"], [0.8888888888888888, \"#fdca26\"], [1.0, \"#f0f921\"]], \"type\": \"histogram2d\"}], \"histogram2dcontour\": [{\"colorbar\": {\"outlinewidth\": 0, \"ticks\": \"\"}, \"colorscale\": [[0.0, \"#0d0887\"], [0.1111111111111111, \"#46039f\"], [0.2222222222222222, \"#7201a8\"], [0.3333333333333333, \"#9c179e\"], [0.4444444444444444, \"#bd3786\"], [0.5555555555555556, \"#d8576b\"], [0.6666666666666666, \"#ed7953\"], [0.7777777777777778, \"#fb9f3a\"], [0.8888888888888888, \"#fdca26\"], [1.0, \"#f0f921\"]], \"type\": \"histogram2dcontour\"}], \"mesh3d\": [{\"colorbar\": {\"outlinewidth\": 0, \"ticks\": \"\"}, \"type\": \"mesh3d\"}], \"parcoords\": [{\"line\": {\"colorbar\": {\"outlinewidth\": 0, \"ticks\": \"\"}}, \"type\": \"parcoords\"}], \"pie\": [{\"automargin\": true, \"type\": \"pie\"}], \"scatter\": [{\"marker\": {\"colorbar\": {\"outlinewidth\": 0, \"ticks\": \"\"}}, \"type\": \"scatter\"}], \"scatter3d\": [{\"line\": {\"colorbar\": {\"outlinewidth\": 0, \"ticks\": \"\"}}, \"marker\": {\"colorbar\": {\"outlinewidth\": 0, \"ticks\": \"\"}}, \"type\": \"scatter3d\"}], \"scattercarpet\": [{\"marker\": {\"colorbar\": {\"outlinewidth\": 0, \"ticks\": \"\"}}, \"type\": \"scattercarpet\"}], \"scattergeo\": [{\"marker\": {\"colorbar\": {\"outlinewidth\": 0, \"ticks\": \"\"}}, \"type\": \"scattergeo\"}], \"scattergl\": [{\"marker\": {\"colorbar\": {\"outlinewidth\": 0, \"ticks\": \"\"}}, \"type\": \"scattergl\"}], \"scattermapbox\": [{\"marker\": {\"colorbar\": {\"outlinewidth\": 0, \"ticks\": \"\"}}, \"type\": \"scattermapbox\"}], \"scatterpolar\": [{\"marker\": {\"colorbar\": {\"outlinewidth\": 0, \"ticks\": \"\"}}, \"type\": \"scatterpolar\"}], \"scatterpolargl\": [{\"marker\": {\"colorbar\": {\"outlinewidth\": 0, \"ticks\": \"\"}}, \"type\": \"scatterpolargl\"}], \"scatterternary\": [{\"marker\": {\"colorbar\": {\"outlinewidth\": 0, \"ticks\": \"\"}}, \"type\": \"scatterternary\"}], \"surface\": [{\"colorbar\": {\"outlinewidth\": 0, \"ticks\": \"\"}, \"colorscale\": [[0.0, \"#0d0887\"], [0.1111111111111111, \"#46039f\"], [0.2222222222222222, \"#7201a8\"], [0.3333333333333333, \"#9c179e\"], [0.4444444444444444, \"#bd3786\"], [0.5555555555555556, \"#d8576b\"], [0.6666666666666666, \"#ed7953\"], [0.7777777777777778, \"#fb9f3a\"], [0.8888888888888888, \"#fdca26\"], [1.0, \"#f0f921\"]], \"type\": \"surface\"}], \"table\": [{\"cells\": {\"fill\": {\"color\": \"#EBF0F8\"}, \"line\": {\"color\": \"white\"}}, \"header\": {\"fill\": {\"color\": \"#C8D4E3\"}, \"line\": {\"color\": \"white\"}}, \"type\": \"table\"}]}, \"layout\": {\"annotationdefaults\": {\"arrowcolor\": \"#2a3f5f\", \"arrowhead\": 0, \"arrowwidth\": 1}, \"coloraxis\": {\"colorbar\": {\"outlinewidth\": 0, \"ticks\": \"\"}}, \"colorscale\": {\"diverging\": [[0, \"#8e0152\"], [0.1, \"#c51b7d\"], [0.2, \"#de77ae\"], [0.3, \"#f1b6da\"], [0.4, \"#fde0ef\"], [0.5, \"#f7f7f7\"], [0.6, \"#e6f5d0\"], [0.7, \"#b8e186\"], [0.8, \"#7fbc41\"], [0.9, \"#4d9221\"], [1, \"#276419\"]], \"sequential\": [[0.0, \"#0d0887\"], [0.1111111111111111, \"#46039f\"], [0.2222222222222222, \"#7201a8\"], [0.3333333333333333, \"#9c179e\"], [0.4444444444444444, \"#bd3786\"], [0.5555555555555556, \"#d8576b\"], [0.6666666666666666, \"#ed7953\"], [0.7777777777777778, \"#fb9f3a\"], [0.8888888888888888, \"#fdca26\"], [1.0, \"#f0f921\"]], \"sequentialminus\": [[0.0, \"#0d0887\"], [0.1111111111111111, \"#46039f\"], [0.2222222222222222, \"#7201a8\"], [0.3333333333333333, \"#9c179e\"], [0.4444444444444444, \"#bd3786\"], [0.5555555555555556, \"#d8576b\"], [0.6666666666666666, \"#ed7953\"], [0.7777777777777778, \"#fb9f3a\"], [0.8888888888888888, \"#fdca26\"], [1.0, \"#f0f921\"]]}, \"colorway\": [\"#636efa\", \"#EF553B\", \"#00cc96\", \"#ab63fa\", \"#FFA15A\", \"#19d3f3\", \"#FF6692\", \"#B6E880\", \"#FF97FF\", \"#FECB52\"], \"font\": {\"color\": \"#2a3f5f\"}, \"geo\": {\"bgcolor\": \"white\", \"lakecolor\": \"white\", \"landcolor\": \"#E5ECF6\", \"showlakes\": true, \"showland\": true, \"subunitcolor\": \"white\"}, \"hoverlabel\": {\"align\": \"left\"}, \"hovermode\": \"closest\", \"mapbox\": {\"style\": \"light\"}, \"paper_bgcolor\": \"white\", \"plot_bgcolor\": \"#E5ECF6\", \"polar\": {\"angularaxis\": {\"gridcolor\": \"white\", \"linecolor\": \"white\", \"ticks\": \"\"}, \"bgcolor\": \"#E5ECF6\", \"radialaxis\": {\"gridcolor\": \"white\", \"linecolor\": \"white\", \"ticks\": \"\"}}, \"scene\": {\"xaxis\": {\"backgroundcolor\": \"#E5ECF6\", \"gridcolor\": \"white\", \"gridwidth\": 2, \"linecolor\": \"white\", \"showbackground\": true, \"ticks\": \"\", \"zerolinecolor\": \"white\"}, \"yaxis\": {\"backgroundcolor\": \"#E5ECF6\", \"gridcolor\": \"white\", \"gridwidth\": 2, \"linecolor\": \"white\", \"showbackground\": true, \"ticks\": \"\", \"zerolinecolor\": \"white\"}, \"zaxis\": {\"backgroundcolor\": \"#E5ECF6\", \"gridcolor\": \"white\", \"gridwidth\": 2, \"linecolor\": \"white\", \"showbackground\": true, \"ticks\": \"\", \"zerolinecolor\": \"white\"}}, \"shapedefaults\": {\"line\": {\"color\": \"#2a3f5f\"}}, \"ternary\": {\"aaxis\": {\"gridcolor\": \"white\", \"linecolor\": \"white\", \"ticks\": \"\"}, \"baxis\": {\"gridcolor\": \"white\", \"linecolor\": \"white\", \"ticks\": \"\"}, \"bgcolor\": \"#E5ECF6\", \"caxis\": {\"gridcolor\": \"white\", \"linecolor\": \"white\", \"ticks\": \"\"}}, \"title\": {\"x\": 0.05}, \"xaxis\": {\"automargin\": true, \"gridcolor\": \"white\", \"linecolor\": \"white\", \"ticks\": \"\", \"title\": {\"standoff\": 15}, \"zerolinecolor\": \"white\", \"zerolinewidth\": 2}, \"yaxis\": {\"automargin\": true, \"gridcolor\": \"white\", \"linecolor\": \"white\", \"ticks\": \"\", \"title\": {\"standoff\": 15}, \"zerolinecolor\": \"white\", \"zerolinewidth\": 2}}}, \"width\": 550, \"xaxis\": {\"color\": \"black\", \"hoverformat\": \"%A, %b %d %Y \", \"showgrid\": false, \"showticklabels\": true, \"title\": {\"text\": \"Dates\"}, \"zeroline\": true}, \"yaxis\": {\"color\": \"black\", \"range\": [-65, 0], \"showgrid\": false, \"showticklabels\": true, \"title\": {\"text\": \"Drawdown in %\"}, \"zeroline\": true}},\n",
       "                        {\"responsive\": true}\n",
       "                    ).then(function(){\n",
       "                            \n",
       "var gd = document.getElementById('af7b8458-06ca-4296-b7b8-60f6e0077338');\n",
       "var x = new MutationObserver(function (mutations, observer) {{\n",
       "        var display = window.getComputedStyle(gd).display;\n",
       "        if (!display || display === 'none') {{\n",
       "            console.log([gd, 'removed!']);\n",
       "            Plotly.purge(gd);\n",
       "            observer.disconnect();\n",
       "        }}\n",
       "}});\n",
       "\n",
       "// Listen for the removal of the full notebook cells\n",
       "var notebookContainer = gd.closest('#notebook-container');\n",
       "if (notebookContainer) {{\n",
       "    x.observe(notebookContainer, {childList: true});\n",
       "}}\n",
       "\n",
       "// Listen for the clearing of the current output cell\n",
       "var outputEl = gd.closest('.output');\n",
       "if (outputEl) {{\n",
       "    x.observe(outputEl, {childList: true});\n",
       "}}\n",
       "\n",
       "                        })\n",
       "                };\n",
       "                });\n",
       "            </script>\n",
       "        </div>"
      ]
     },
     "metadata": {},
     "output_type": "display_data"
    },
    {
     "data": {
      "application/vnd.plotly.v1+json": {
       "config": {
        "linkText": "Export to plot.ly",
        "plotlyServerURL": "https://plot.ly",
        "showLink": false
       },
       "data": [
        {
         "fill": "tonexty",
         "fillcolor": "rgba(200 2, 2, 0.3)",
         "line": {
          "color": "rgba(217, 2, 2, 1)",
          "dash": "solid",
          "width": 1.3
         },
         "mode": "lines",
         "name": "TSMOM VolScale",
         "type": "scatter",
         "x": [
          "2001-01-31T00:00:00",
          "2001-02-28T00:00:00",
          "2001-03-30T00:00:00",
          "2001-04-30T00:00:00",
          "2001-05-31T00:00:00",
          "2001-06-29T00:00:00",
          "2001-07-31T00:00:00",
          "2001-08-31T00:00:00",
          "2001-09-28T00:00:00",
          "2001-10-31T00:00:00",
          "2001-11-30T00:00:00",
          "2001-12-31T00:00:00",
          "2002-01-31T00:00:00",
          "2002-02-28T00:00:00",
          "2002-03-29T00:00:00",
          "2002-04-30T00:00:00",
          "2002-05-31T00:00:00",
          "2002-06-28T00:00:00",
          "2002-07-31T00:00:00",
          "2002-08-30T00:00:00",
          "2002-09-30T00:00:00",
          "2002-10-31T00:00:00",
          "2002-11-29T00:00:00",
          "2002-12-31T00:00:00",
          "2003-01-31T00:00:00",
          "2003-02-28T00:00:00",
          "2003-03-31T00:00:00",
          "2003-04-30T00:00:00",
          "2003-05-30T00:00:00",
          "2003-06-30T00:00:00",
          "2003-07-31T00:00:00",
          "2003-08-29T00:00:00",
          "2003-09-30T00:00:00",
          "2003-10-31T00:00:00",
          "2003-11-28T00:00:00",
          "2003-12-31T00:00:00",
          "2004-01-30T00:00:00",
          "2004-02-27T00:00:00",
          "2004-03-31T00:00:00",
          "2004-04-30T00:00:00",
          "2004-05-31T00:00:00",
          "2004-06-30T00:00:00",
          "2004-07-30T00:00:00",
          "2004-08-31T00:00:00",
          "2004-09-30T00:00:00",
          "2004-10-29T00:00:00",
          "2004-11-30T00:00:00",
          "2004-12-31T00:00:00",
          "2005-01-31T00:00:00",
          "2005-02-28T00:00:00",
          "2005-03-31T00:00:00",
          "2005-04-29T00:00:00",
          "2005-05-31T00:00:00",
          "2005-06-30T00:00:00",
          "2005-07-29T00:00:00",
          "2005-08-31T00:00:00",
          "2005-09-30T00:00:00",
          "2005-10-31T00:00:00",
          "2005-11-30T00:00:00",
          "2005-12-30T00:00:00",
          "2006-01-31T00:00:00",
          "2006-02-28T00:00:00",
          "2006-03-31T00:00:00",
          "2006-04-28T00:00:00",
          "2006-05-31T00:00:00",
          "2006-06-30T00:00:00",
          "2006-07-31T00:00:00",
          "2006-08-31T00:00:00",
          "2006-09-29T00:00:00",
          "2006-10-31T00:00:00",
          "2006-11-30T00:00:00",
          "2006-12-29T00:00:00",
          "2007-01-31T00:00:00",
          "2007-02-28T00:00:00",
          "2007-03-30T00:00:00",
          "2007-04-30T00:00:00",
          "2007-05-31T00:00:00",
          "2007-06-29T00:00:00",
          "2007-07-31T00:00:00",
          "2007-08-31T00:00:00",
          "2007-09-28T00:00:00",
          "2007-10-31T00:00:00",
          "2007-11-30T00:00:00",
          "2007-12-31T00:00:00",
          "2008-01-31T00:00:00",
          "2008-02-29T00:00:00",
          "2008-03-31T00:00:00",
          "2008-04-30T00:00:00",
          "2008-05-30T00:00:00",
          "2008-06-30T00:00:00",
          "2008-07-31T00:00:00",
          "2008-08-29T00:00:00",
          "2008-09-30T00:00:00",
          "2008-10-31T00:00:00",
          "2008-11-28T00:00:00",
          "2008-12-31T00:00:00",
          "2009-01-30T00:00:00",
          "2009-02-27T00:00:00",
          "2009-03-31T00:00:00",
          "2009-04-30T00:00:00",
          "2009-05-29T00:00:00",
          "2009-06-30T00:00:00",
          "2009-07-31T00:00:00",
          "2009-08-31T00:00:00",
          "2009-09-30T00:00:00",
          "2009-10-30T00:00:00",
          "2009-11-30T00:00:00",
          "2009-12-31T00:00:00",
          "2010-01-29T00:00:00",
          "2010-02-26T00:00:00",
          "2010-03-31T00:00:00",
          "2010-04-30T00:00:00",
          "2010-05-31T00:00:00",
          "2010-06-30T00:00:00",
          "2010-07-30T00:00:00",
          "2010-08-31T00:00:00",
          "2010-09-30T00:00:00",
          "2010-10-29T00:00:00",
          "2010-11-30T00:00:00",
          "2010-12-31T00:00:00",
          "2011-01-31T00:00:00",
          "2011-02-28T00:00:00",
          "2011-03-31T00:00:00",
          "2011-04-29T00:00:00",
          "2011-05-31T00:00:00",
          "2011-06-30T00:00:00",
          "2011-07-29T00:00:00",
          "2011-08-31T00:00:00",
          "2011-09-30T00:00:00",
          "2011-10-31T00:00:00",
          "2011-11-30T00:00:00",
          "2011-12-30T00:00:00",
          "2012-01-31T00:00:00",
          "2012-02-29T00:00:00",
          "2012-03-30T00:00:00",
          "2012-04-30T00:00:00",
          "2012-05-31T00:00:00",
          "2012-06-29T00:00:00",
          "2012-07-31T00:00:00",
          "2012-08-31T00:00:00",
          "2012-09-28T00:00:00",
          "2012-10-31T00:00:00",
          "2012-11-30T00:00:00",
          "2012-12-31T00:00:00",
          "2013-01-31T00:00:00",
          "2013-02-28T00:00:00",
          "2013-03-29T00:00:00",
          "2013-04-30T00:00:00",
          "2013-05-31T00:00:00",
          "2013-06-28T00:00:00",
          "2013-07-31T00:00:00",
          "2013-08-30T00:00:00",
          "2013-09-30T00:00:00",
          "2013-10-31T00:00:00",
          "2013-11-29T00:00:00",
          "2013-12-31T00:00:00",
          "2014-01-31T00:00:00",
          "2014-02-28T00:00:00",
          "2014-03-31T00:00:00",
          "2014-04-30T00:00:00",
          "2014-05-30T00:00:00",
          "2014-06-30T00:00:00",
          "2014-07-31T00:00:00",
          "2014-08-29T00:00:00",
          "2014-09-30T00:00:00",
          "2014-10-31T00:00:00",
          "2014-11-28T00:00:00",
          "2014-12-31T00:00:00",
          "2015-01-30T00:00:00",
          "2015-02-27T00:00:00",
          "2015-03-31T00:00:00",
          "2015-04-30T00:00:00",
          "2015-05-29T00:00:00",
          "2015-06-30T00:00:00",
          "2015-07-31T00:00:00",
          "2015-08-31T00:00:00",
          "2015-09-30T00:00:00",
          "2015-10-30T00:00:00",
          "2015-11-30T00:00:00",
          "2015-12-31T00:00:00",
          "2016-01-29T00:00:00",
          "2016-02-29T00:00:00",
          "2016-03-31T00:00:00",
          "2016-04-29T00:00:00",
          "2016-05-31T00:00:00",
          "2016-06-30T00:00:00",
          "2016-07-29T00:00:00",
          "2016-08-31T00:00:00",
          "2016-09-30T00:00:00",
          "2016-10-31T00:00:00",
          "2016-11-30T00:00:00",
          "2016-12-30T00:00:00",
          "2017-01-31T00:00:00",
          "2017-02-28T00:00:00",
          "2017-03-31T00:00:00",
          "2017-04-28T00:00:00",
          "2017-05-31T00:00:00",
          "2017-06-30T00:00:00",
          "2017-07-31T00:00:00",
          "2017-08-31T00:00:00",
          "2017-09-29T00:00:00",
          "2017-10-31T00:00:00",
          "2017-11-30T00:00:00",
          "2017-12-29T00:00:00",
          "2018-01-31T00:00:00",
          "2018-02-28T00:00:00",
          "2018-03-30T00:00:00",
          "2018-04-30T00:00:00",
          "2018-05-31T00:00:00",
          "2018-06-29T00:00:00",
          "2018-07-31T00:00:00",
          "2018-08-31T00:00:00",
          "2018-09-28T00:00:00",
          "2018-10-31T00:00:00",
          "2018-11-30T00:00:00",
          "2018-12-31T00:00:00",
          "2019-01-31T00:00:00",
          "2019-02-28T00:00:00",
          "2019-03-29T00:00:00",
          "2019-04-30T00:00:00",
          "2019-05-31T00:00:00",
          "2019-06-28T00:00:00",
          "2019-07-31T00:00:00",
          "2019-08-30T00:00:00",
          "2019-09-30T00:00:00",
          "2019-10-31T00:00:00",
          "2019-11-29T00:00:00",
          "2019-12-31T00:00:00"
         ],
         "y": [
          0,
          0,
          0,
          0,
          0,
          0,
          0,
          -0.47,
          0,
          0,
          0,
          0,
          -6.9,
          -7.86,
          -5.76,
          -1.55,
          -0.58,
          0,
          0,
          0,
          0,
          0,
          0,
          0,
          0,
          0,
          0,
          0,
          -5.35,
          0,
          0,
          0,
          0,
          0,
          0,
          0,
          0,
          0,
          0,
          0,
          -6.47,
          -11.79,
          -9.53,
          -5.57,
          -6.17,
          -3.49,
          -1.48,
          -1.72,
          0,
          0,
          -35.97,
          -34.09,
          -34.54,
          -33.61,
          -33.05,
          -30.74,
          -32.15,
          -30.65,
          -29.69,
          -25.61,
          -20.59,
          -18.06,
          -10.69,
          -9.65,
          -8.87,
          -4.44,
          -3.26,
          -4.71,
          -2.48,
          -1.02,
          0,
          0,
          -0.05,
          0,
          0,
          0,
          0,
          0,
          0,
          0,
          0,
          0,
          0,
          -1.48,
          0,
          -0.5,
          0,
          -0.37,
          0,
          0,
          0,
          -0.51,
          0,
          0,
          0,
          -4.54,
          0,
          0,
          0,
          -7.37,
          -13.86,
          -12.2,
          -9.54,
          -10.49,
          -9.27,
          -3.37,
          -1.53,
          0,
          0,
          0,
          0,
          0,
          0,
          0,
          0,
          0,
          0,
          0,
          0,
          -1.55,
          0,
          0,
          0,
          0,
          0,
          0,
          0,
          0,
          0,
          0,
          0,
          0,
          -4.5,
          -0.72,
          0,
          0,
          0,
          -1.76,
          0,
          0,
          -1.49,
          0,
          0,
          0,
          0,
          0,
          0,
          0,
          0,
          0,
          0,
          0,
          0,
          0,
          0,
          0,
          0,
          0,
          -1.26,
          -2.97,
          -3.09,
          0,
          -4.5,
          0,
          0,
          0,
          0,
          0,
          0,
          -0.87,
          0,
          -3.54,
          -0.4,
          0,
          0,
          0,
          0,
          -1.78,
          -1.9,
          -0.76,
          0,
          0,
          0,
          0,
          0,
          -1.01,
          0,
          0,
          0,
          0,
          0,
          0,
          0,
          0,
          0,
          0,
          0,
          0,
          0,
          0,
          0,
          0,
          0,
          -1.38,
          0,
          0,
          0,
          0,
          0,
          0,
          0,
          0,
          0,
          0,
          0,
          -1,
          0,
          0,
          0,
          0,
          0,
          0,
          0,
          0,
          0,
          0,
          0,
          0
         ]
        },
        {
         "fill": "tonexty",
         "fillcolor": "rgba(73, 192, 235, 0.3)",
         "line": {
          "color": "rgba(73, 192, 235, 1)",
          "dash": "solid",
          "width": 1.3
         },
         "mode": "lines",
         "name": "Nifty500",
         "type": "scatter",
         "x": [
          "2001-01-31T00:00:00",
          "2001-02-28T00:00:00",
          "2001-03-30T00:00:00",
          "2001-04-30T00:00:00",
          "2001-05-31T00:00:00",
          "2001-06-29T00:00:00",
          "2001-07-31T00:00:00",
          "2001-08-31T00:00:00",
          "2001-09-28T00:00:00",
          "2001-10-31T00:00:00",
          "2001-11-30T00:00:00",
          "2001-12-31T00:00:00",
          "2002-01-31T00:00:00",
          "2002-02-28T00:00:00",
          "2002-03-29T00:00:00",
          "2002-04-30T00:00:00",
          "2002-05-31T00:00:00",
          "2002-06-28T00:00:00",
          "2002-07-31T00:00:00",
          "2002-08-30T00:00:00",
          "2002-09-30T00:00:00",
          "2002-10-31T00:00:00",
          "2002-11-29T00:00:00",
          "2002-12-31T00:00:00",
          "2003-01-31T00:00:00",
          "2003-02-28T00:00:00",
          "2003-03-31T00:00:00",
          "2003-04-30T00:00:00",
          "2003-05-30T00:00:00",
          "2003-06-30T00:00:00",
          "2003-07-31T00:00:00",
          "2003-08-29T00:00:00",
          "2003-09-30T00:00:00",
          "2003-10-31T00:00:00",
          "2003-11-28T00:00:00",
          "2003-12-31T00:00:00",
          "2004-01-30T00:00:00",
          "2004-02-27T00:00:00",
          "2004-03-31T00:00:00",
          "2004-04-30T00:00:00",
          "2004-05-31T00:00:00",
          "2004-06-30T00:00:00",
          "2004-07-30T00:00:00",
          "2004-08-31T00:00:00",
          "2004-09-30T00:00:00",
          "2004-10-29T00:00:00",
          "2004-11-30T00:00:00",
          "2004-12-31T00:00:00",
          "2005-01-31T00:00:00",
          "2005-02-28T00:00:00",
          "2005-03-31T00:00:00",
          "2005-04-29T00:00:00",
          "2005-05-31T00:00:00",
          "2005-06-30T00:00:00",
          "2005-07-29T00:00:00",
          "2005-08-31T00:00:00",
          "2005-09-30T00:00:00",
          "2005-10-31T00:00:00",
          "2005-11-30T00:00:00",
          "2005-12-30T00:00:00",
          "2006-01-31T00:00:00",
          "2006-02-28T00:00:00",
          "2006-03-31T00:00:00",
          "2006-04-28T00:00:00",
          "2006-05-31T00:00:00",
          "2006-06-30T00:00:00",
          "2006-07-31T00:00:00",
          "2006-08-31T00:00:00",
          "2006-09-29T00:00:00",
          "2006-10-31T00:00:00",
          "2006-11-30T00:00:00",
          "2006-12-29T00:00:00",
          "2007-01-31T00:00:00",
          "2007-02-28T00:00:00",
          "2007-03-30T00:00:00",
          "2007-04-30T00:00:00",
          "2007-05-31T00:00:00",
          "2007-06-29T00:00:00",
          "2007-07-31T00:00:00",
          "2007-08-31T00:00:00",
          "2007-09-28T00:00:00",
          "2007-10-31T00:00:00",
          "2007-11-30T00:00:00",
          "2007-12-31T00:00:00",
          "2008-01-31T00:00:00",
          "2008-02-29T00:00:00",
          "2008-03-31T00:00:00",
          "2008-04-30T00:00:00",
          "2008-05-30T00:00:00",
          "2008-06-30T00:00:00",
          "2008-07-31T00:00:00",
          "2008-08-29T00:00:00",
          "2008-09-30T00:00:00",
          "2008-10-31T00:00:00",
          "2008-11-28T00:00:00",
          "2008-12-31T00:00:00",
          "2009-01-30T00:00:00",
          "2009-02-27T00:00:00",
          "2009-03-31T00:00:00",
          "2009-04-30T00:00:00",
          "2009-05-29T00:00:00",
          "2009-06-30T00:00:00",
          "2009-07-31T00:00:00",
          "2009-08-31T00:00:00",
          "2009-09-30T00:00:00",
          "2009-10-30T00:00:00",
          "2009-11-30T00:00:00",
          "2009-12-31T00:00:00",
          "2010-01-29T00:00:00",
          "2010-02-26T00:00:00",
          "2010-03-31T00:00:00",
          "2010-04-30T00:00:00",
          "2010-05-31T00:00:00",
          "2010-06-30T00:00:00",
          "2010-07-30T00:00:00",
          "2010-08-31T00:00:00",
          "2010-09-30T00:00:00",
          "2010-10-29T00:00:00",
          "2010-11-30T00:00:00",
          "2010-12-31T00:00:00",
          "2011-01-31T00:00:00",
          "2011-02-28T00:00:00",
          "2011-03-31T00:00:00",
          "2011-04-29T00:00:00",
          "2011-05-31T00:00:00",
          "2011-06-30T00:00:00",
          "2011-07-29T00:00:00",
          "2011-08-31T00:00:00",
          "2011-09-30T00:00:00",
          "2011-10-31T00:00:00",
          "2011-11-30T00:00:00",
          "2011-12-30T00:00:00",
          "2012-01-31T00:00:00",
          "2012-02-29T00:00:00",
          "2012-03-30T00:00:00",
          "2012-04-30T00:00:00",
          "2012-05-31T00:00:00",
          "2012-06-29T00:00:00",
          "2012-07-31T00:00:00",
          "2012-08-31T00:00:00",
          "2012-09-28T00:00:00",
          "2012-10-31T00:00:00",
          "2012-11-30T00:00:00",
          "2012-12-31T00:00:00",
          "2013-01-31T00:00:00",
          "2013-02-28T00:00:00",
          "2013-03-29T00:00:00",
          "2013-04-30T00:00:00",
          "2013-05-31T00:00:00",
          "2013-06-28T00:00:00",
          "2013-07-31T00:00:00",
          "2013-08-30T00:00:00",
          "2013-09-30T00:00:00",
          "2013-10-31T00:00:00",
          "2013-11-29T00:00:00",
          "2013-12-31T00:00:00",
          "2014-01-31T00:00:00",
          "2014-02-28T00:00:00",
          "2014-03-31T00:00:00",
          "2014-04-30T00:00:00",
          "2014-05-30T00:00:00",
          "2014-06-30T00:00:00",
          "2014-07-31T00:00:00",
          "2014-08-29T00:00:00",
          "2014-09-30T00:00:00",
          "2014-10-31T00:00:00",
          "2014-11-28T00:00:00",
          "2014-12-31T00:00:00",
          "2015-01-30T00:00:00",
          "2015-02-27T00:00:00",
          "2015-03-31T00:00:00",
          "2015-04-30T00:00:00",
          "2015-05-29T00:00:00",
          "2015-06-30T00:00:00",
          "2015-07-31T00:00:00",
          "2015-08-31T00:00:00",
          "2015-09-30T00:00:00",
          "2015-10-30T00:00:00",
          "2015-11-30T00:00:00",
          "2015-12-31T00:00:00",
          "2016-01-29T00:00:00",
          "2016-02-29T00:00:00",
          "2016-03-31T00:00:00",
          "2016-04-29T00:00:00",
          "2016-05-31T00:00:00",
          "2016-06-30T00:00:00",
          "2016-07-29T00:00:00",
          "2016-08-31T00:00:00",
          "2016-09-30T00:00:00",
          "2016-10-31T00:00:00",
          "2016-11-30T00:00:00",
          "2016-12-30T00:00:00",
          "2017-01-31T00:00:00",
          "2017-02-28T00:00:00",
          "2017-03-31T00:00:00",
          "2017-04-28T00:00:00",
          "2017-05-31T00:00:00",
          "2017-06-30T00:00:00",
          "2017-07-31T00:00:00",
          "2017-08-31T00:00:00",
          "2017-09-29T00:00:00",
          "2017-10-31T00:00:00",
          "2017-11-30T00:00:00",
          "2017-12-29T00:00:00",
          "2018-01-31T00:00:00",
          "2018-02-28T00:00:00",
          "2018-03-30T00:00:00",
          "2018-04-30T00:00:00",
          "2018-05-31T00:00:00",
          "2018-06-29T00:00:00",
          "2018-07-31T00:00:00",
          "2018-08-31T00:00:00",
          "2018-09-28T00:00:00",
          "2018-10-31T00:00:00",
          "2018-11-30T00:00:00",
          "2018-12-31T00:00:00",
          "2019-01-31T00:00:00",
          "2019-02-28T00:00:00",
          "2019-03-29T00:00:00",
          "2019-04-30T00:00:00",
          "2019-05-31T00:00:00",
          "2019-06-28T00:00:00",
          "2019-07-31T00:00:00",
          "2019-08-30T00:00:00",
          "2019-09-30T00:00:00",
          "2019-10-31T00:00:00",
          "2019-11-29T00:00:00",
          "2019-12-31T00:00:00"
         ],
         "y": [
          0,
          -20.8,
          -21.64,
          -16.94,
          -23.78,
          -26.8,
          -28.15,
          -38.72,
          -34.66,
          -26.16,
          -26.43,
          -24.97,
          -19.4,
          -18.57,
          -19.01,
          -22.34,
          -18.84,
          -25.8,
          -22.59,
          -27.44,
          -27.34,
          -22.13,
          -18.84,
          -21.34,
          -19.98,
          -26.35,
          -26.79,
          -15.24,
          -6.07,
          -1.44,
          0,
          0,
          0,
          0,
          0,
          -4.67,
          -5.78,
          -4.82,
          -1.55,
          -19.9,
          -18.5,
          -11.75,
          -10.07,
          -3.43,
          -1.91,
          0,
          0,
          -2.03,
          0,
          -2.99,
          -7.59,
          0,
          0,
          0,
          0,
          0,
          -9.07,
          0,
          0,
          0,
          0,
          0,
          0,
          -14.01,
          -16.39,
          -16.38,
          -8.38,
          -2.49,
          0,
          0,
          0,
          0,
          -8.41,
          -7.3,
          -0.41,
          0,
          0,
          0,
          -1.91,
          0,
          0,
          0,
          0,
          -18.78,
          -18.56,
          -28.55,
          -21.15,
          -26.05,
          -40.18,
          -35.45,
          -34.84,
          -42.88,
          -58.43,
          -60.91,
          -57.13,
          -58.75,
          -60.54,
          -57.14,
          -50.27,
          -33.14,
          -35.2,
          -29.7,
          -28.28,
          -23.08,
          -28.04,
          -22.58,
          -19.15,
          -22.39,
          -22.92,
          -19.45,
          -18.42,
          -21.07,
          -17.44,
          -16.43,
          -15.27,
          -8.02,
          -7.13,
          -10.71,
          -7.73,
          -17.37,
          -20.68,
          -13.6,
          -13.81,
          -16.09,
          -15.53,
          -17.38,
          -24.58,
          -25.7,
          -21.27,
          -28.82,
          -32.81,
          -23.75,
          -20.15,
          -21.16,
          -21.97,
          -26.92,
          -22.11,
          -22.94,
          -22.87,
          -15.88,
          -16.92,
          -12.69,
          -11.42,
          -10.45,
          -16.38,
          -17.11,
          -13.31,
          -12.57,
          -15.76,
          -18.21,
          -22.02,
          -17.98,
          -10.27,
          -10.92,
          -8.21,
          -12.06,
          -9.43,
          -2.42,
          -1.85,
          0,
          0,
          0,
          0,
          0,
          0,
          0,
          -2.09,
          0,
          0,
          -3.61,
          -6.77,
          -3.86,
          -4.73,
          -1.84,
          -7.87,
          -8.2,
          -6.75,
          -7.64,
          -7.11,
          -12.43,
          -19.47,
          -10.88,
          -8.99,
          -6.01,
          -3.57,
          0,
          0,
          -1.28,
          0,
          -5.63,
          -6.91,
          -1.63,
          0,
          0,
          0,
          0,
          -0.23,
          0,
          -1.12,
          -2.2,
          0,
          0,
          0,
          0,
          -4.5,
          -8.1,
          -2.08,
          -3.94,
          -5.52,
          -0.49,
          0,
          -8.77,
          -12.4,
          -8.84,
          -8.23,
          -9.89,
          -10.37,
          -3.29,
          -3.28,
          -1.87,
          -3.34,
          -9.48,
          -10.15,
          -6.52,
          -3.03,
          -1.78,
          -1.2,
          -1.31
         ]
        }
       ],
       "layout": {
        "height": 300,
        "hovermode": "x unified",
        "legend": {
         "bgcolor": "white",
         "font": {
          "size": 9
         },
         "x": 0.85,
         "y": 0.2
        },
        "margin": {
         "b": 80,
         "l": 50,
         "pad": 0,
         "r": 50,
         "t": 70
        },
        "paper_bgcolor": "white",
        "plot_bgcolor": "white",
        "template": {
         "data": {
          "bar": [
           {
            "error_x": {
             "color": "#2a3f5f"
            },
            "error_y": {
             "color": "#2a3f5f"
            },
            "marker": {
             "line": {
              "color": "#E5ECF6",
              "width": 0.5
             }
            },
            "type": "bar"
           }
          ],
          "barpolar": [
           {
            "marker": {
             "line": {
              "color": "#E5ECF6",
              "width": 0.5
             }
            },
            "type": "barpolar"
           }
          ],
          "carpet": [
           {
            "aaxis": {
             "endlinecolor": "#2a3f5f",
             "gridcolor": "white",
             "linecolor": "white",
             "minorgridcolor": "white",
             "startlinecolor": "#2a3f5f"
            },
            "baxis": {
             "endlinecolor": "#2a3f5f",
             "gridcolor": "white",
             "linecolor": "white",
             "minorgridcolor": "white",
             "startlinecolor": "#2a3f5f"
            },
            "type": "carpet"
           }
          ],
          "choropleth": [
           {
            "colorbar": {
             "outlinewidth": 0,
             "ticks": ""
            },
            "type": "choropleth"
           }
          ],
          "contour": [
           {
            "colorbar": {
             "outlinewidth": 0,
             "ticks": ""
            },
            "colorscale": [
             [
              0,
              "#0d0887"
             ],
             [
              0.1111111111111111,
              "#46039f"
             ],
             [
              0.2222222222222222,
              "#7201a8"
             ],
             [
              0.3333333333333333,
              "#9c179e"
             ],
             [
              0.4444444444444444,
              "#bd3786"
             ],
             [
              0.5555555555555556,
              "#d8576b"
             ],
             [
              0.6666666666666666,
              "#ed7953"
             ],
             [
              0.7777777777777778,
              "#fb9f3a"
             ],
             [
              0.8888888888888888,
              "#fdca26"
             ],
             [
              1,
              "#f0f921"
             ]
            ],
            "type": "contour"
           }
          ],
          "contourcarpet": [
           {
            "colorbar": {
             "outlinewidth": 0,
             "ticks": ""
            },
            "type": "contourcarpet"
           }
          ],
          "heatmap": [
           {
            "colorbar": {
             "outlinewidth": 0,
             "ticks": ""
            },
            "colorscale": [
             [
              0,
              "#0d0887"
             ],
             [
              0.1111111111111111,
              "#46039f"
             ],
             [
              0.2222222222222222,
              "#7201a8"
             ],
             [
              0.3333333333333333,
              "#9c179e"
             ],
             [
              0.4444444444444444,
              "#bd3786"
             ],
             [
              0.5555555555555556,
              "#d8576b"
             ],
             [
              0.6666666666666666,
              "#ed7953"
             ],
             [
              0.7777777777777778,
              "#fb9f3a"
             ],
             [
              0.8888888888888888,
              "#fdca26"
             ],
             [
              1,
              "#f0f921"
             ]
            ],
            "type": "heatmap"
           }
          ],
          "heatmapgl": [
           {
            "colorbar": {
             "outlinewidth": 0,
             "ticks": ""
            },
            "colorscale": [
             [
              0,
              "#0d0887"
             ],
             [
              0.1111111111111111,
              "#46039f"
             ],
             [
              0.2222222222222222,
              "#7201a8"
             ],
             [
              0.3333333333333333,
              "#9c179e"
             ],
             [
              0.4444444444444444,
              "#bd3786"
             ],
             [
              0.5555555555555556,
              "#d8576b"
             ],
             [
              0.6666666666666666,
              "#ed7953"
             ],
             [
              0.7777777777777778,
              "#fb9f3a"
             ],
             [
              0.8888888888888888,
              "#fdca26"
             ],
             [
              1,
              "#f0f921"
             ]
            ],
            "type": "heatmapgl"
           }
          ],
          "histogram": [
           {
            "marker": {
             "colorbar": {
              "outlinewidth": 0,
              "ticks": ""
             }
            },
            "type": "histogram"
           }
          ],
          "histogram2d": [
           {
            "colorbar": {
             "outlinewidth": 0,
             "ticks": ""
            },
            "colorscale": [
             [
              0,
              "#0d0887"
             ],
             [
              0.1111111111111111,
              "#46039f"
             ],
             [
              0.2222222222222222,
              "#7201a8"
             ],
             [
              0.3333333333333333,
              "#9c179e"
             ],
             [
              0.4444444444444444,
              "#bd3786"
             ],
             [
              0.5555555555555556,
              "#d8576b"
             ],
             [
              0.6666666666666666,
              "#ed7953"
             ],
             [
              0.7777777777777778,
              "#fb9f3a"
             ],
             [
              0.8888888888888888,
              "#fdca26"
             ],
             [
              1,
              "#f0f921"
             ]
            ],
            "type": "histogram2d"
           }
          ],
          "histogram2dcontour": [
           {
            "colorbar": {
             "outlinewidth": 0,
             "ticks": ""
            },
            "colorscale": [
             [
              0,
              "#0d0887"
             ],
             [
              0.1111111111111111,
              "#46039f"
             ],
             [
              0.2222222222222222,
              "#7201a8"
             ],
             [
              0.3333333333333333,
              "#9c179e"
             ],
             [
              0.4444444444444444,
              "#bd3786"
             ],
             [
              0.5555555555555556,
              "#d8576b"
             ],
             [
              0.6666666666666666,
              "#ed7953"
             ],
             [
              0.7777777777777778,
              "#fb9f3a"
             ],
             [
              0.8888888888888888,
              "#fdca26"
             ],
             [
              1,
              "#f0f921"
             ]
            ],
            "type": "histogram2dcontour"
           }
          ],
          "mesh3d": [
           {
            "colorbar": {
             "outlinewidth": 0,
             "ticks": ""
            },
            "type": "mesh3d"
           }
          ],
          "parcoords": [
           {
            "line": {
             "colorbar": {
              "outlinewidth": 0,
              "ticks": ""
             }
            },
            "type": "parcoords"
           }
          ],
          "pie": [
           {
            "automargin": true,
            "type": "pie"
           }
          ],
          "scatter": [
           {
            "marker": {
             "colorbar": {
              "outlinewidth": 0,
              "ticks": ""
             }
            },
            "type": "scatter"
           }
          ],
          "scatter3d": [
           {
            "line": {
             "colorbar": {
              "outlinewidth": 0,
              "ticks": ""
             }
            },
            "marker": {
             "colorbar": {
              "outlinewidth": 0,
              "ticks": ""
             }
            },
            "type": "scatter3d"
           }
          ],
          "scattercarpet": [
           {
            "marker": {
             "colorbar": {
              "outlinewidth": 0,
              "ticks": ""
             }
            },
            "type": "scattercarpet"
           }
          ],
          "scattergeo": [
           {
            "marker": {
             "colorbar": {
              "outlinewidth": 0,
              "ticks": ""
             }
            },
            "type": "scattergeo"
           }
          ],
          "scattergl": [
           {
            "marker": {
             "colorbar": {
              "outlinewidth": 0,
              "ticks": ""
             }
            },
            "type": "scattergl"
           }
          ],
          "scattermapbox": [
           {
            "marker": {
             "colorbar": {
              "outlinewidth": 0,
              "ticks": ""
             }
            },
            "type": "scattermapbox"
           }
          ],
          "scatterpolar": [
           {
            "marker": {
             "colorbar": {
              "outlinewidth": 0,
              "ticks": ""
             }
            },
            "type": "scatterpolar"
           }
          ],
          "scatterpolargl": [
           {
            "marker": {
             "colorbar": {
              "outlinewidth": 0,
              "ticks": ""
             }
            },
            "type": "scatterpolargl"
           }
          ],
          "scatterternary": [
           {
            "marker": {
             "colorbar": {
              "outlinewidth": 0,
              "ticks": ""
             }
            },
            "type": "scatterternary"
           }
          ],
          "surface": [
           {
            "colorbar": {
             "outlinewidth": 0,
             "ticks": ""
            },
            "colorscale": [
             [
              0,
              "#0d0887"
             ],
             [
              0.1111111111111111,
              "#46039f"
             ],
             [
              0.2222222222222222,
              "#7201a8"
             ],
             [
              0.3333333333333333,
              "#9c179e"
             ],
             [
              0.4444444444444444,
              "#bd3786"
             ],
             [
              0.5555555555555556,
              "#d8576b"
             ],
             [
              0.6666666666666666,
              "#ed7953"
             ],
             [
              0.7777777777777778,
              "#fb9f3a"
             ],
             [
              0.8888888888888888,
              "#fdca26"
             ],
             [
              1,
              "#f0f921"
             ]
            ],
            "type": "surface"
           }
          ],
          "table": [
           {
            "cells": {
             "fill": {
              "color": "#EBF0F8"
             },
             "line": {
              "color": "white"
             }
            },
            "header": {
             "fill": {
              "color": "#C8D4E3"
             },
             "line": {
              "color": "white"
             }
            },
            "type": "table"
           }
          ]
         },
         "layout": {
          "annotationdefaults": {
           "arrowcolor": "#2a3f5f",
           "arrowhead": 0,
           "arrowwidth": 1
          },
          "coloraxis": {
           "colorbar": {
            "outlinewidth": 0,
            "ticks": ""
           }
          },
          "colorscale": {
           "diverging": [
            [
             0,
             "#8e0152"
            ],
            [
             0.1,
             "#c51b7d"
            ],
            [
             0.2,
             "#de77ae"
            ],
            [
             0.3,
             "#f1b6da"
            ],
            [
             0.4,
             "#fde0ef"
            ],
            [
             0.5,
             "#f7f7f7"
            ],
            [
             0.6,
             "#e6f5d0"
            ],
            [
             0.7,
             "#b8e186"
            ],
            [
             0.8,
             "#7fbc41"
            ],
            [
             0.9,
             "#4d9221"
            ],
            [
             1,
             "#276419"
            ]
           ],
           "sequential": [
            [
             0,
             "#0d0887"
            ],
            [
             0.1111111111111111,
             "#46039f"
            ],
            [
             0.2222222222222222,
             "#7201a8"
            ],
            [
             0.3333333333333333,
             "#9c179e"
            ],
            [
             0.4444444444444444,
             "#bd3786"
            ],
            [
             0.5555555555555556,
             "#d8576b"
            ],
            [
             0.6666666666666666,
             "#ed7953"
            ],
            [
             0.7777777777777778,
             "#fb9f3a"
            ],
            [
             0.8888888888888888,
             "#fdca26"
            ],
            [
             1,
             "#f0f921"
            ]
           ],
           "sequentialminus": [
            [
             0,
             "#0d0887"
            ],
            [
             0.1111111111111111,
             "#46039f"
            ],
            [
             0.2222222222222222,
             "#7201a8"
            ],
            [
             0.3333333333333333,
             "#9c179e"
            ],
            [
             0.4444444444444444,
             "#bd3786"
            ],
            [
             0.5555555555555556,
             "#d8576b"
            ],
            [
             0.6666666666666666,
             "#ed7953"
            ],
            [
             0.7777777777777778,
             "#fb9f3a"
            ],
            [
             0.8888888888888888,
             "#fdca26"
            ],
            [
             1,
             "#f0f921"
            ]
           ]
          },
          "colorway": [
           "#636efa",
           "#EF553B",
           "#00cc96",
           "#ab63fa",
           "#FFA15A",
           "#19d3f3",
           "#FF6692",
           "#B6E880",
           "#FF97FF",
           "#FECB52"
          ],
          "font": {
           "color": "#2a3f5f"
          },
          "geo": {
           "bgcolor": "white",
           "lakecolor": "white",
           "landcolor": "#E5ECF6",
           "showlakes": true,
           "showland": true,
           "subunitcolor": "white"
          },
          "hoverlabel": {
           "align": "left"
          },
          "hovermode": "closest",
          "mapbox": {
           "style": "light"
          },
          "paper_bgcolor": "white",
          "plot_bgcolor": "#E5ECF6",
          "polar": {
           "angularaxis": {
            "gridcolor": "white",
            "linecolor": "white",
            "ticks": ""
           },
           "bgcolor": "#E5ECF6",
           "radialaxis": {
            "gridcolor": "white",
            "linecolor": "white",
            "ticks": ""
           }
          },
          "scene": {
           "xaxis": {
            "backgroundcolor": "#E5ECF6",
            "gridcolor": "white",
            "gridwidth": 2,
            "linecolor": "white",
            "showbackground": true,
            "ticks": "",
            "zerolinecolor": "white"
           },
           "yaxis": {
            "backgroundcolor": "#E5ECF6",
            "gridcolor": "white",
            "gridwidth": 2,
            "linecolor": "white",
            "showbackground": true,
            "ticks": "",
            "zerolinecolor": "white"
           },
           "zaxis": {
            "backgroundcolor": "#E5ECF6",
            "gridcolor": "white",
            "gridwidth": 2,
            "linecolor": "white",
            "showbackground": true,
            "ticks": "",
            "zerolinecolor": "white"
           }
          },
          "shapedefaults": {
           "line": {
            "color": "#2a3f5f"
           }
          },
          "ternary": {
           "aaxis": {
            "gridcolor": "white",
            "linecolor": "white",
            "ticks": ""
           },
           "baxis": {
            "gridcolor": "white",
            "linecolor": "white",
            "ticks": ""
           },
           "bgcolor": "#E5ECF6",
           "caxis": {
            "gridcolor": "white",
            "linecolor": "white",
            "ticks": ""
           }
          },
          "title": {
           "x": 0.05
          },
          "xaxis": {
           "automargin": true,
           "gridcolor": "white",
           "linecolor": "white",
           "ticks": "",
           "title": {
            "standoff": 15
           },
           "zerolinecolor": "white",
           "zerolinewidth": 2
          },
          "yaxis": {
           "automargin": true,
           "gridcolor": "white",
           "linecolor": "white",
           "ticks": "",
           "title": {
            "standoff": 15
           },
           "zerolinecolor": "white",
           "zerolinewidth": 2
          }
         }
        },
        "width": 550,
        "xaxis": {
         "color": "black",
         "hoverformat": "%A, %b %d %Y ",
         "showgrid": false,
         "showticklabels": true,
         "title": {
          "text": "Dates"
         },
         "zeroline": true
        },
        "yaxis": {
         "color": "black",
         "range": [
          -65,
          0
         ],
         "showgrid": false,
         "showticklabels": true,
         "title": {
          "text": "Drawdown in %"
         },
         "zeroline": true
        }
       }
      },
      "text/html": [
       "<div>\n",
       "        \n",
       "        \n",
       "            <div id=\"3d65aeb4-066a-4b7d-b13d-b108ec9d5474\" class=\"plotly-graph-div\" style=\"height:300px; width:550px;\"></div>\n",
       "            <script type=\"text/javascript\">\n",
       "                require([\"plotly\"], function(Plotly) {\n",
       "                    window.PLOTLYENV=window.PLOTLYENV || {};\n",
       "                    \n",
       "                if (document.getElementById(\"3d65aeb4-066a-4b7d-b13d-b108ec9d5474\")) {\n",
       "                    Plotly.newPlot(\n",
       "                        '3d65aeb4-066a-4b7d-b13d-b108ec9d5474',\n",
       "                        [{\"fill\": \"tonexty\", \"fillcolor\": \"rgba(200 2, 2, 0.3)\", \"line\": {\"color\": \"rgba(217, 2, 2, 1)\", \"dash\": \"solid\", \"width\": 1.3}, \"mode\": \"lines\", \"name\": \"TSMOM VolScale\", \"type\": \"scatter\", \"x\": [\"2001-01-31T00:00:00\", \"2001-02-28T00:00:00\", \"2001-03-30T00:00:00\", \"2001-04-30T00:00:00\", \"2001-05-31T00:00:00\", \"2001-06-29T00:00:00\", \"2001-07-31T00:00:00\", \"2001-08-31T00:00:00\", \"2001-09-28T00:00:00\", \"2001-10-31T00:00:00\", \"2001-11-30T00:00:00\", \"2001-12-31T00:00:00\", \"2002-01-31T00:00:00\", \"2002-02-28T00:00:00\", \"2002-03-29T00:00:00\", \"2002-04-30T00:00:00\", \"2002-05-31T00:00:00\", \"2002-06-28T00:00:00\", \"2002-07-31T00:00:00\", \"2002-08-30T00:00:00\", \"2002-09-30T00:00:00\", \"2002-10-31T00:00:00\", \"2002-11-29T00:00:00\", \"2002-12-31T00:00:00\", \"2003-01-31T00:00:00\", \"2003-02-28T00:00:00\", \"2003-03-31T00:00:00\", \"2003-04-30T00:00:00\", \"2003-05-30T00:00:00\", \"2003-06-30T00:00:00\", \"2003-07-31T00:00:00\", \"2003-08-29T00:00:00\", \"2003-09-30T00:00:00\", \"2003-10-31T00:00:00\", \"2003-11-28T00:00:00\", \"2003-12-31T00:00:00\", \"2004-01-30T00:00:00\", \"2004-02-27T00:00:00\", \"2004-03-31T00:00:00\", \"2004-04-30T00:00:00\", \"2004-05-31T00:00:00\", \"2004-06-30T00:00:00\", \"2004-07-30T00:00:00\", \"2004-08-31T00:00:00\", \"2004-09-30T00:00:00\", \"2004-10-29T00:00:00\", \"2004-11-30T00:00:00\", \"2004-12-31T00:00:00\", \"2005-01-31T00:00:00\", \"2005-02-28T00:00:00\", \"2005-03-31T00:00:00\", \"2005-04-29T00:00:00\", \"2005-05-31T00:00:00\", \"2005-06-30T00:00:00\", \"2005-07-29T00:00:00\", \"2005-08-31T00:00:00\", \"2005-09-30T00:00:00\", \"2005-10-31T00:00:00\", \"2005-11-30T00:00:00\", \"2005-12-30T00:00:00\", \"2006-01-31T00:00:00\", \"2006-02-28T00:00:00\", \"2006-03-31T00:00:00\", \"2006-04-28T00:00:00\", \"2006-05-31T00:00:00\", \"2006-06-30T00:00:00\", \"2006-07-31T00:00:00\", \"2006-08-31T00:00:00\", \"2006-09-29T00:00:00\", \"2006-10-31T00:00:00\", \"2006-11-30T00:00:00\", \"2006-12-29T00:00:00\", \"2007-01-31T00:00:00\", \"2007-02-28T00:00:00\", \"2007-03-30T00:00:00\", \"2007-04-30T00:00:00\", \"2007-05-31T00:00:00\", \"2007-06-29T00:00:00\", \"2007-07-31T00:00:00\", \"2007-08-31T00:00:00\", \"2007-09-28T00:00:00\", \"2007-10-31T00:00:00\", \"2007-11-30T00:00:00\", \"2007-12-31T00:00:00\", \"2008-01-31T00:00:00\", \"2008-02-29T00:00:00\", \"2008-03-31T00:00:00\", \"2008-04-30T00:00:00\", \"2008-05-30T00:00:00\", \"2008-06-30T00:00:00\", \"2008-07-31T00:00:00\", \"2008-08-29T00:00:00\", \"2008-09-30T00:00:00\", \"2008-10-31T00:00:00\", \"2008-11-28T00:00:00\", \"2008-12-31T00:00:00\", \"2009-01-30T00:00:00\", \"2009-02-27T00:00:00\", \"2009-03-31T00:00:00\", \"2009-04-30T00:00:00\", \"2009-05-29T00:00:00\", \"2009-06-30T00:00:00\", \"2009-07-31T00:00:00\", \"2009-08-31T00:00:00\", \"2009-09-30T00:00:00\", \"2009-10-30T00:00:00\", \"2009-11-30T00:00:00\", \"2009-12-31T00:00:00\", \"2010-01-29T00:00:00\", \"2010-02-26T00:00:00\", \"2010-03-31T00:00:00\", \"2010-04-30T00:00:00\", \"2010-05-31T00:00:00\", \"2010-06-30T00:00:00\", \"2010-07-30T00:00:00\", \"2010-08-31T00:00:00\", \"2010-09-30T00:00:00\", \"2010-10-29T00:00:00\", \"2010-11-30T00:00:00\", \"2010-12-31T00:00:00\", \"2011-01-31T00:00:00\", \"2011-02-28T00:00:00\", \"2011-03-31T00:00:00\", \"2011-04-29T00:00:00\", \"2011-05-31T00:00:00\", \"2011-06-30T00:00:00\", \"2011-07-29T00:00:00\", \"2011-08-31T00:00:00\", \"2011-09-30T00:00:00\", \"2011-10-31T00:00:00\", \"2011-11-30T00:00:00\", \"2011-12-30T00:00:00\", \"2012-01-31T00:00:00\", \"2012-02-29T00:00:00\", \"2012-03-30T00:00:00\", \"2012-04-30T00:00:00\", \"2012-05-31T00:00:00\", \"2012-06-29T00:00:00\", \"2012-07-31T00:00:00\", \"2012-08-31T00:00:00\", \"2012-09-28T00:00:00\", \"2012-10-31T00:00:00\", \"2012-11-30T00:00:00\", \"2012-12-31T00:00:00\", \"2013-01-31T00:00:00\", \"2013-02-28T00:00:00\", \"2013-03-29T00:00:00\", \"2013-04-30T00:00:00\", \"2013-05-31T00:00:00\", \"2013-06-28T00:00:00\", \"2013-07-31T00:00:00\", \"2013-08-30T00:00:00\", \"2013-09-30T00:00:00\", \"2013-10-31T00:00:00\", \"2013-11-29T00:00:00\", \"2013-12-31T00:00:00\", \"2014-01-31T00:00:00\", \"2014-02-28T00:00:00\", \"2014-03-31T00:00:00\", \"2014-04-30T00:00:00\", \"2014-05-30T00:00:00\", \"2014-06-30T00:00:00\", \"2014-07-31T00:00:00\", \"2014-08-29T00:00:00\", \"2014-09-30T00:00:00\", \"2014-10-31T00:00:00\", \"2014-11-28T00:00:00\", \"2014-12-31T00:00:00\", \"2015-01-30T00:00:00\", \"2015-02-27T00:00:00\", \"2015-03-31T00:00:00\", \"2015-04-30T00:00:00\", \"2015-05-29T00:00:00\", \"2015-06-30T00:00:00\", \"2015-07-31T00:00:00\", \"2015-08-31T00:00:00\", \"2015-09-30T00:00:00\", \"2015-10-30T00:00:00\", \"2015-11-30T00:00:00\", \"2015-12-31T00:00:00\", \"2016-01-29T00:00:00\", \"2016-02-29T00:00:00\", \"2016-03-31T00:00:00\", \"2016-04-29T00:00:00\", \"2016-05-31T00:00:00\", \"2016-06-30T00:00:00\", \"2016-07-29T00:00:00\", \"2016-08-31T00:00:00\", \"2016-09-30T00:00:00\", \"2016-10-31T00:00:00\", \"2016-11-30T00:00:00\", \"2016-12-30T00:00:00\", \"2017-01-31T00:00:00\", \"2017-02-28T00:00:00\", \"2017-03-31T00:00:00\", \"2017-04-28T00:00:00\", \"2017-05-31T00:00:00\", \"2017-06-30T00:00:00\", \"2017-07-31T00:00:00\", \"2017-08-31T00:00:00\", \"2017-09-29T00:00:00\", \"2017-10-31T00:00:00\", \"2017-11-30T00:00:00\", \"2017-12-29T00:00:00\", \"2018-01-31T00:00:00\", \"2018-02-28T00:00:00\", \"2018-03-30T00:00:00\", \"2018-04-30T00:00:00\", \"2018-05-31T00:00:00\", \"2018-06-29T00:00:00\", \"2018-07-31T00:00:00\", \"2018-08-31T00:00:00\", \"2018-09-28T00:00:00\", \"2018-10-31T00:00:00\", \"2018-11-30T00:00:00\", \"2018-12-31T00:00:00\", \"2019-01-31T00:00:00\", \"2019-02-28T00:00:00\", \"2019-03-29T00:00:00\", \"2019-04-30T00:00:00\", \"2019-05-31T00:00:00\", \"2019-06-28T00:00:00\", \"2019-07-31T00:00:00\", \"2019-08-30T00:00:00\", \"2019-09-30T00:00:00\", \"2019-10-31T00:00:00\", \"2019-11-29T00:00:00\", \"2019-12-31T00:00:00\"], \"y\": [0.0, 0.0, 0.0, 0.0, 0.0, 0.0, 0.0, -0.47, 0.0, 0.0, 0.0, 0.0, -6.9, -7.86, -5.76, -1.55, -0.58, 0.0, 0.0, 0.0, 0.0, 0.0, 0.0, 0.0, 0.0, 0.0, 0.0, 0.0, -5.35, 0.0, 0.0, 0.0, 0.0, 0.0, 0.0, 0.0, 0.0, 0.0, 0.0, 0.0, -6.47, -11.79, -9.53, -5.57, -6.17, -3.49, -1.48, -1.72, 0.0, 0.0, -35.97, -34.09, -34.54, -33.61, -33.05, -30.74, -32.15, -30.65, -29.69, -25.61, -20.59, -18.06, -10.69, -9.65, -8.87, -4.44, -3.26, -4.71, -2.48, -1.02, 0.0, 0.0, -0.05, 0.0, 0.0, 0.0, 0.0, 0.0, 0.0, 0.0, 0.0, 0.0, 0.0, -1.48, 0.0, -0.5, 0.0, -0.37, 0.0, 0.0, 0.0, -0.51, 0.0, 0.0, 0.0, -4.54, 0.0, 0.0, 0.0, -7.37, -13.86, -12.2, -9.54, -10.49, -9.27, -3.37, -1.53, 0.0, 0.0, 0.0, 0.0, 0.0, 0.0, 0.0, 0.0, 0.0, 0.0, 0.0, 0.0, -1.55, 0.0, 0.0, 0.0, 0.0, 0.0, 0.0, 0.0, 0.0, 0.0, 0.0, 0.0, 0.0, -4.5, -0.72, 0.0, 0.0, 0.0, -1.76, 0.0, 0.0, -1.49, 0.0, 0.0, 0.0, 0.0, 0.0, 0.0, 0.0, 0.0, 0.0, 0.0, 0.0, 0.0, 0.0, 0.0, 0.0, 0.0, 0.0, -1.26, -2.97, -3.09, 0.0, -4.5, 0.0, 0.0, 0.0, 0.0, 0.0, 0.0, -0.87, 0.0, -3.54, -0.4, 0.0, 0.0, 0.0, 0.0, -1.78, -1.9, -0.76, 0.0, 0.0, 0.0, 0.0, 0.0, -1.01, 0.0, 0.0, 0.0, 0.0, 0.0, 0.0, 0.0, 0.0, 0.0, 0.0, 0.0, 0.0, 0.0, 0.0, 0.0, 0.0, 0.0, -1.38, 0.0, 0.0, 0.0, 0.0, 0.0, 0.0, 0.0, 0.0, 0.0, 0.0, 0.0, -1.0, 0.0, 0.0, 0.0, 0.0, 0.0, 0.0, 0.0, 0.0, 0.0, 0.0, 0.0, 0.0]}, {\"fill\": \"tonexty\", \"fillcolor\": \"rgba(73, 192, 235, 0.3)\", \"line\": {\"color\": \"rgba(73, 192, 235, 1)\", \"dash\": \"solid\", \"width\": 1.3}, \"mode\": \"lines\", \"name\": \"Nifty500\", \"type\": \"scatter\", \"x\": [\"2001-01-31T00:00:00\", \"2001-02-28T00:00:00\", \"2001-03-30T00:00:00\", \"2001-04-30T00:00:00\", \"2001-05-31T00:00:00\", \"2001-06-29T00:00:00\", \"2001-07-31T00:00:00\", \"2001-08-31T00:00:00\", \"2001-09-28T00:00:00\", \"2001-10-31T00:00:00\", \"2001-11-30T00:00:00\", \"2001-12-31T00:00:00\", \"2002-01-31T00:00:00\", \"2002-02-28T00:00:00\", \"2002-03-29T00:00:00\", \"2002-04-30T00:00:00\", \"2002-05-31T00:00:00\", \"2002-06-28T00:00:00\", \"2002-07-31T00:00:00\", \"2002-08-30T00:00:00\", \"2002-09-30T00:00:00\", \"2002-10-31T00:00:00\", \"2002-11-29T00:00:00\", \"2002-12-31T00:00:00\", \"2003-01-31T00:00:00\", \"2003-02-28T00:00:00\", \"2003-03-31T00:00:00\", \"2003-04-30T00:00:00\", \"2003-05-30T00:00:00\", \"2003-06-30T00:00:00\", \"2003-07-31T00:00:00\", \"2003-08-29T00:00:00\", \"2003-09-30T00:00:00\", \"2003-10-31T00:00:00\", \"2003-11-28T00:00:00\", \"2003-12-31T00:00:00\", \"2004-01-30T00:00:00\", \"2004-02-27T00:00:00\", \"2004-03-31T00:00:00\", \"2004-04-30T00:00:00\", \"2004-05-31T00:00:00\", \"2004-06-30T00:00:00\", \"2004-07-30T00:00:00\", \"2004-08-31T00:00:00\", \"2004-09-30T00:00:00\", \"2004-10-29T00:00:00\", \"2004-11-30T00:00:00\", \"2004-12-31T00:00:00\", \"2005-01-31T00:00:00\", \"2005-02-28T00:00:00\", \"2005-03-31T00:00:00\", \"2005-04-29T00:00:00\", \"2005-05-31T00:00:00\", \"2005-06-30T00:00:00\", \"2005-07-29T00:00:00\", \"2005-08-31T00:00:00\", \"2005-09-30T00:00:00\", \"2005-10-31T00:00:00\", \"2005-11-30T00:00:00\", \"2005-12-30T00:00:00\", \"2006-01-31T00:00:00\", \"2006-02-28T00:00:00\", \"2006-03-31T00:00:00\", \"2006-04-28T00:00:00\", \"2006-05-31T00:00:00\", \"2006-06-30T00:00:00\", \"2006-07-31T00:00:00\", \"2006-08-31T00:00:00\", \"2006-09-29T00:00:00\", \"2006-10-31T00:00:00\", \"2006-11-30T00:00:00\", \"2006-12-29T00:00:00\", \"2007-01-31T00:00:00\", \"2007-02-28T00:00:00\", \"2007-03-30T00:00:00\", \"2007-04-30T00:00:00\", \"2007-05-31T00:00:00\", \"2007-06-29T00:00:00\", \"2007-07-31T00:00:00\", \"2007-08-31T00:00:00\", \"2007-09-28T00:00:00\", \"2007-10-31T00:00:00\", \"2007-11-30T00:00:00\", \"2007-12-31T00:00:00\", \"2008-01-31T00:00:00\", \"2008-02-29T00:00:00\", \"2008-03-31T00:00:00\", \"2008-04-30T00:00:00\", \"2008-05-30T00:00:00\", \"2008-06-30T00:00:00\", \"2008-07-31T00:00:00\", \"2008-08-29T00:00:00\", \"2008-09-30T00:00:00\", \"2008-10-31T00:00:00\", \"2008-11-28T00:00:00\", \"2008-12-31T00:00:00\", \"2009-01-30T00:00:00\", \"2009-02-27T00:00:00\", \"2009-03-31T00:00:00\", \"2009-04-30T00:00:00\", \"2009-05-29T00:00:00\", \"2009-06-30T00:00:00\", \"2009-07-31T00:00:00\", \"2009-08-31T00:00:00\", \"2009-09-30T00:00:00\", \"2009-10-30T00:00:00\", \"2009-11-30T00:00:00\", \"2009-12-31T00:00:00\", \"2010-01-29T00:00:00\", \"2010-02-26T00:00:00\", \"2010-03-31T00:00:00\", \"2010-04-30T00:00:00\", \"2010-05-31T00:00:00\", \"2010-06-30T00:00:00\", \"2010-07-30T00:00:00\", \"2010-08-31T00:00:00\", \"2010-09-30T00:00:00\", \"2010-10-29T00:00:00\", \"2010-11-30T00:00:00\", \"2010-12-31T00:00:00\", \"2011-01-31T00:00:00\", \"2011-02-28T00:00:00\", \"2011-03-31T00:00:00\", \"2011-04-29T00:00:00\", \"2011-05-31T00:00:00\", \"2011-06-30T00:00:00\", \"2011-07-29T00:00:00\", \"2011-08-31T00:00:00\", \"2011-09-30T00:00:00\", \"2011-10-31T00:00:00\", \"2011-11-30T00:00:00\", \"2011-12-30T00:00:00\", \"2012-01-31T00:00:00\", \"2012-02-29T00:00:00\", \"2012-03-30T00:00:00\", \"2012-04-30T00:00:00\", \"2012-05-31T00:00:00\", \"2012-06-29T00:00:00\", \"2012-07-31T00:00:00\", \"2012-08-31T00:00:00\", \"2012-09-28T00:00:00\", \"2012-10-31T00:00:00\", \"2012-11-30T00:00:00\", \"2012-12-31T00:00:00\", \"2013-01-31T00:00:00\", \"2013-02-28T00:00:00\", \"2013-03-29T00:00:00\", \"2013-04-30T00:00:00\", \"2013-05-31T00:00:00\", \"2013-06-28T00:00:00\", \"2013-07-31T00:00:00\", \"2013-08-30T00:00:00\", \"2013-09-30T00:00:00\", \"2013-10-31T00:00:00\", \"2013-11-29T00:00:00\", \"2013-12-31T00:00:00\", \"2014-01-31T00:00:00\", \"2014-02-28T00:00:00\", \"2014-03-31T00:00:00\", \"2014-04-30T00:00:00\", \"2014-05-30T00:00:00\", \"2014-06-30T00:00:00\", \"2014-07-31T00:00:00\", \"2014-08-29T00:00:00\", \"2014-09-30T00:00:00\", \"2014-10-31T00:00:00\", \"2014-11-28T00:00:00\", \"2014-12-31T00:00:00\", \"2015-01-30T00:00:00\", \"2015-02-27T00:00:00\", \"2015-03-31T00:00:00\", \"2015-04-30T00:00:00\", \"2015-05-29T00:00:00\", \"2015-06-30T00:00:00\", \"2015-07-31T00:00:00\", \"2015-08-31T00:00:00\", \"2015-09-30T00:00:00\", \"2015-10-30T00:00:00\", \"2015-11-30T00:00:00\", \"2015-12-31T00:00:00\", \"2016-01-29T00:00:00\", \"2016-02-29T00:00:00\", \"2016-03-31T00:00:00\", \"2016-04-29T00:00:00\", \"2016-05-31T00:00:00\", \"2016-06-30T00:00:00\", \"2016-07-29T00:00:00\", \"2016-08-31T00:00:00\", \"2016-09-30T00:00:00\", \"2016-10-31T00:00:00\", \"2016-11-30T00:00:00\", \"2016-12-30T00:00:00\", \"2017-01-31T00:00:00\", \"2017-02-28T00:00:00\", \"2017-03-31T00:00:00\", \"2017-04-28T00:00:00\", \"2017-05-31T00:00:00\", \"2017-06-30T00:00:00\", \"2017-07-31T00:00:00\", \"2017-08-31T00:00:00\", \"2017-09-29T00:00:00\", \"2017-10-31T00:00:00\", \"2017-11-30T00:00:00\", \"2017-12-29T00:00:00\", \"2018-01-31T00:00:00\", \"2018-02-28T00:00:00\", \"2018-03-30T00:00:00\", \"2018-04-30T00:00:00\", \"2018-05-31T00:00:00\", \"2018-06-29T00:00:00\", \"2018-07-31T00:00:00\", \"2018-08-31T00:00:00\", \"2018-09-28T00:00:00\", \"2018-10-31T00:00:00\", \"2018-11-30T00:00:00\", \"2018-12-31T00:00:00\", \"2019-01-31T00:00:00\", \"2019-02-28T00:00:00\", \"2019-03-29T00:00:00\", \"2019-04-30T00:00:00\", \"2019-05-31T00:00:00\", \"2019-06-28T00:00:00\", \"2019-07-31T00:00:00\", \"2019-08-30T00:00:00\", \"2019-09-30T00:00:00\", \"2019-10-31T00:00:00\", \"2019-11-29T00:00:00\", \"2019-12-31T00:00:00\"], \"y\": [0.0, -20.8, -21.64, -16.94, -23.78, -26.8, -28.15, -38.72, -34.66, -26.16, -26.43, -24.97, -19.4, -18.57, -19.01, -22.34, -18.84, -25.8, -22.59, -27.44, -27.34, -22.13, -18.84, -21.34, -19.98, -26.35, -26.79, -15.24, -6.07, -1.44, 0.0, 0.0, 0.0, 0.0, 0.0, -4.67, -5.78, -4.82, -1.55, -19.9, -18.5, -11.75, -10.07, -3.43, -1.91, 0.0, 0.0, -2.03, 0.0, -2.99, -7.59, 0.0, 0.0, 0.0, 0.0, 0.0, -9.07, 0.0, 0.0, 0.0, 0.0, 0.0, 0.0, -14.01, -16.39, -16.38, -8.38, -2.49, 0.0, 0.0, 0.0, 0.0, -8.41, -7.3, -0.41, 0.0, 0.0, 0.0, -1.91, 0.0, 0.0, 0.0, 0.0, -18.78, -18.56, -28.55, -21.15, -26.05, -40.18, -35.45, -34.84, -42.88, -58.43, -60.91, -57.13, -58.75, -60.54, -57.14, -50.27, -33.14, -35.2, -29.7, -28.28, -23.08, -28.04, -22.58, -19.15, -22.39, -22.92, -19.45, -18.42, -21.07, -17.44, -16.43, -15.27, -8.02, -7.13, -10.71, -7.73, -17.37, -20.68, -13.6, -13.81, -16.09, -15.53, -17.38, -24.58, -25.7, -21.27, -28.82, -32.81, -23.75, -20.15, -21.16, -21.97, -26.92, -22.11, -22.94, -22.87, -15.88, -16.92, -12.69, -11.42, -10.45, -16.38, -17.11, -13.31, -12.57, -15.76, -18.21, -22.02, -17.98, -10.27, -10.92, -8.21, -12.06, -9.43, -2.42, -1.85, 0.0, 0.0, 0.0, 0.0, 0.0, 0.0, 0.0, -2.09, 0.0, 0.0, -3.61, -6.77, -3.86, -4.73, -1.84, -7.87, -8.2, -6.75, -7.64, -7.11, -12.43, -19.47, -10.88, -8.99, -6.01, -3.57, 0.0, 0.0, -1.28, 0.0, -5.63, -6.91, -1.63, 0.0, 0.0, 0.0, 0.0, -0.23, 0.0, -1.12, -2.2, 0.0, 0.0, 0.0, 0.0, -4.5, -8.1, -2.08, -3.94, -5.52, -0.49, 0.0, -8.77, -12.4, -8.84, -8.23, -9.89, -10.37, -3.29, -3.28, -1.87, -3.34, -9.48, -10.15, -6.52, -3.03, -1.78, -1.2, -1.31]}],\n",
       "                        {\"height\": 300, \"hovermode\": \"x unified\", \"legend\": {\"bgcolor\": \"white\", \"font\": {\"size\": 9}, \"x\": 0.85, \"y\": 0.2}, \"margin\": {\"b\": 80, \"l\": 50, \"pad\": 0, \"r\": 50, \"t\": 70}, \"paper_bgcolor\": \"white\", \"plot_bgcolor\": \"white\", \"template\": {\"data\": {\"bar\": [{\"error_x\": {\"color\": \"#2a3f5f\"}, \"error_y\": {\"color\": \"#2a3f5f\"}, \"marker\": {\"line\": {\"color\": \"#E5ECF6\", \"width\": 0.5}}, \"type\": \"bar\"}], \"barpolar\": [{\"marker\": {\"line\": {\"color\": \"#E5ECF6\", \"width\": 0.5}}, \"type\": \"barpolar\"}], \"carpet\": [{\"aaxis\": {\"endlinecolor\": \"#2a3f5f\", \"gridcolor\": \"white\", \"linecolor\": \"white\", \"minorgridcolor\": \"white\", \"startlinecolor\": \"#2a3f5f\"}, \"baxis\": {\"endlinecolor\": \"#2a3f5f\", \"gridcolor\": \"white\", \"linecolor\": \"white\", \"minorgridcolor\": \"white\", \"startlinecolor\": \"#2a3f5f\"}, \"type\": \"carpet\"}], \"choropleth\": [{\"colorbar\": {\"outlinewidth\": 0, \"ticks\": \"\"}, \"type\": \"choropleth\"}], \"contour\": [{\"colorbar\": {\"outlinewidth\": 0, \"ticks\": \"\"}, \"colorscale\": [[0.0, \"#0d0887\"], [0.1111111111111111, \"#46039f\"], [0.2222222222222222, \"#7201a8\"], [0.3333333333333333, \"#9c179e\"], [0.4444444444444444, \"#bd3786\"], [0.5555555555555556, \"#d8576b\"], [0.6666666666666666, \"#ed7953\"], [0.7777777777777778, \"#fb9f3a\"], [0.8888888888888888, \"#fdca26\"], [1.0, \"#f0f921\"]], \"type\": \"contour\"}], \"contourcarpet\": [{\"colorbar\": {\"outlinewidth\": 0, \"ticks\": \"\"}, \"type\": \"contourcarpet\"}], \"heatmap\": [{\"colorbar\": {\"outlinewidth\": 0, \"ticks\": \"\"}, \"colorscale\": [[0.0, \"#0d0887\"], [0.1111111111111111, \"#46039f\"], [0.2222222222222222, \"#7201a8\"], [0.3333333333333333, \"#9c179e\"], [0.4444444444444444, \"#bd3786\"], [0.5555555555555556, \"#d8576b\"], [0.6666666666666666, \"#ed7953\"], [0.7777777777777778, \"#fb9f3a\"], [0.8888888888888888, \"#fdca26\"], [1.0, \"#f0f921\"]], \"type\": \"heatmap\"}], \"heatmapgl\": [{\"colorbar\": {\"outlinewidth\": 0, \"ticks\": \"\"}, \"colorscale\": [[0.0, \"#0d0887\"], [0.1111111111111111, \"#46039f\"], [0.2222222222222222, \"#7201a8\"], [0.3333333333333333, \"#9c179e\"], [0.4444444444444444, \"#bd3786\"], [0.5555555555555556, \"#d8576b\"], [0.6666666666666666, \"#ed7953\"], [0.7777777777777778, \"#fb9f3a\"], [0.8888888888888888, \"#fdca26\"], [1.0, \"#f0f921\"]], \"type\": \"heatmapgl\"}], \"histogram\": [{\"marker\": {\"colorbar\": {\"outlinewidth\": 0, \"ticks\": \"\"}}, \"type\": \"histogram\"}], \"histogram2d\": [{\"colorbar\": {\"outlinewidth\": 0, \"ticks\": \"\"}, \"colorscale\": [[0.0, \"#0d0887\"], [0.1111111111111111, \"#46039f\"], [0.2222222222222222, \"#7201a8\"], [0.3333333333333333, \"#9c179e\"], [0.4444444444444444, \"#bd3786\"], [0.5555555555555556, \"#d8576b\"], [0.6666666666666666, \"#ed7953\"], [0.7777777777777778, \"#fb9f3a\"], [0.8888888888888888, \"#fdca26\"], [1.0, \"#f0f921\"]], \"type\": \"histogram2d\"}], \"histogram2dcontour\": [{\"colorbar\": {\"outlinewidth\": 0, \"ticks\": \"\"}, \"colorscale\": [[0.0, \"#0d0887\"], [0.1111111111111111, \"#46039f\"], [0.2222222222222222, \"#7201a8\"], [0.3333333333333333, \"#9c179e\"], [0.4444444444444444, \"#bd3786\"], [0.5555555555555556, \"#d8576b\"], [0.6666666666666666, \"#ed7953\"], [0.7777777777777778, \"#fb9f3a\"], [0.8888888888888888, \"#fdca26\"], [1.0, \"#f0f921\"]], \"type\": \"histogram2dcontour\"}], \"mesh3d\": [{\"colorbar\": {\"outlinewidth\": 0, \"ticks\": \"\"}, \"type\": \"mesh3d\"}], \"parcoords\": [{\"line\": {\"colorbar\": {\"outlinewidth\": 0, \"ticks\": \"\"}}, \"type\": \"parcoords\"}], \"pie\": [{\"automargin\": true, \"type\": \"pie\"}], \"scatter\": [{\"marker\": {\"colorbar\": {\"outlinewidth\": 0, \"ticks\": \"\"}}, \"type\": \"scatter\"}], \"scatter3d\": [{\"line\": {\"colorbar\": {\"outlinewidth\": 0, \"ticks\": \"\"}}, \"marker\": {\"colorbar\": {\"outlinewidth\": 0, \"ticks\": \"\"}}, \"type\": \"scatter3d\"}], \"scattercarpet\": [{\"marker\": {\"colorbar\": {\"outlinewidth\": 0, \"ticks\": \"\"}}, \"type\": \"scattercarpet\"}], \"scattergeo\": [{\"marker\": {\"colorbar\": {\"outlinewidth\": 0, \"ticks\": \"\"}}, \"type\": \"scattergeo\"}], \"scattergl\": [{\"marker\": {\"colorbar\": {\"outlinewidth\": 0, \"ticks\": \"\"}}, \"type\": \"scattergl\"}], \"scattermapbox\": [{\"marker\": {\"colorbar\": {\"outlinewidth\": 0, \"ticks\": \"\"}}, \"type\": \"scattermapbox\"}], \"scatterpolar\": [{\"marker\": {\"colorbar\": {\"outlinewidth\": 0, \"ticks\": \"\"}}, \"type\": \"scatterpolar\"}], \"scatterpolargl\": [{\"marker\": {\"colorbar\": {\"outlinewidth\": 0, \"ticks\": \"\"}}, \"type\": \"scatterpolargl\"}], \"scatterternary\": [{\"marker\": {\"colorbar\": {\"outlinewidth\": 0, \"ticks\": \"\"}}, \"type\": \"scatterternary\"}], \"surface\": [{\"colorbar\": {\"outlinewidth\": 0, \"ticks\": \"\"}, \"colorscale\": [[0.0, \"#0d0887\"], [0.1111111111111111, \"#46039f\"], [0.2222222222222222, \"#7201a8\"], [0.3333333333333333, \"#9c179e\"], [0.4444444444444444, \"#bd3786\"], [0.5555555555555556, \"#d8576b\"], [0.6666666666666666, \"#ed7953\"], [0.7777777777777778, \"#fb9f3a\"], [0.8888888888888888, \"#fdca26\"], [1.0, \"#f0f921\"]], \"type\": \"surface\"}], \"table\": [{\"cells\": {\"fill\": {\"color\": \"#EBF0F8\"}, \"line\": {\"color\": \"white\"}}, \"header\": {\"fill\": {\"color\": \"#C8D4E3\"}, \"line\": {\"color\": \"white\"}}, \"type\": \"table\"}]}, \"layout\": {\"annotationdefaults\": {\"arrowcolor\": \"#2a3f5f\", \"arrowhead\": 0, \"arrowwidth\": 1}, \"coloraxis\": {\"colorbar\": {\"outlinewidth\": 0, \"ticks\": \"\"}}, \"colorscale\": {\"diverging\": [[0, \"#8e0152\"], [0.1, \"#c51b7d\"], [0.2, \"#de77ae\"], [0.3, \"#f1b6da\"], [0.4, \"#fde0ef\"], [0.5, \"#f7f7f7\"], [0.6, \"#e6f5d0\"], [0.7, \"#b8e186\"], [0.8, \"#7fbc41\"], [0.9, \"#4d9221\"], [1, \"#276419\"]], \"sequential\": [[0.0, \"#0d0887\"], [0.1111111111111111, \"#46039f\"], [0.2222222222222222, \"#7201a8\"], [0.3333333333333333, \"#9c179e\"], [0.4444444444444444, \"#bd3786\"], [0.5555555555555556, \"#d8576b\"], [0.6666666666666666, \"#ed7953\"], [0.7777777777777778, \"#fb9f3a\"], [0.8888888888888888, \"#fdca26\"], [1.0, \"#f0f921\"]], \"sequentialminus\": [[0.0, \"#0d0887\"], [0.1111111111111111, \"#46039f\"], [0.2222222222222222, \"#7201a8\"], [0.3333333333333333, \"#9c179e\"], [0.4444444444444444, \"#bd3786\"], [0.5555555555555556, \"#d8576b\"], [0.6666666666666666, \"#ed7953\"], [0.7777777777777778, \"#fb9f3a\"], [0.8888888888888888, \"#fdca26\"], [1.0, \"#f0f921\"]]}, \"colorway\": [\"#636efa\", \"#EF553B\", \"#00cc96\", \"#ab63fa\", \"#FFA15A\", \"#19d3f3\", \"#FF6692\", \"#B6E880\", \"#FF97FF\", \"#FECB52\"], \"font\": {\"color\": \"#2a3f5f\"}, \"geo\": {\"bgcolor\": \"white\", \"lakecolor\": \"white\", \"landcolor\": \"#E5ECF6\", \"showlakes\": true, \"showland\": true, \"subunitcolor\": \"white\"}, \"hoverlabel\": {\"align\": \"left\"}, \"hovermode\": \"closest\", \"mapbox\": {\"style\": \"light\"}, \"paper_bgcolor\": \"white\", \"plot_bgcolor\": \"#E5ECF6\", \"polar\": {\"angularaxis\": {\"gridcolor\": \"white\", \"linecolor\": \"white\", \"ticks\": \"\"}, \"bgcolor\": \"#E5ECF6\", \"radialaxis\": {\"gridcolor\": \"white\", \"linecolor\": \"white\", \"ticks\": \"\"}}, \"scene\": {\"xaxis\": {\"backgroundcolor\": \"#E5ECF6\", \"gridcolor\": \"white\", \"gridwidth\": 2, \"linecolor\": \"white\", \"showbackground\": true, \"ticks\": \"\", \"zerolinecolor\": \"white\"}, \"yaxis\": {\"backgroundcolor\": \"#E5ECF6\", \"gridcolor\": \"white\", \"gridwidth\": 2, \"linecolor\": \"white\", \"showbackground\": true, \"ticks\": \"\", \"zerolinecolor\": \"white\"}, \"zaxis\": {\"backgroundcolor\": \"#E5ECF6\", \"gridcolor\": \"white\", \"gridwidth\": 2, \"linecolor\": \"white\", \"showbackground\": true, \"ticks\": \"\", \"zerolinecolor\": \"white\"}}, \"shapedefaults\": {\"line\": {\"color\": \"#2a3f5f\"}}, \"ternary\": {\"aaxis\": {\"gridcolor\": \"white\", \"linecolor\": \"white\", \"ticks\": \"\"}, \"baxis\": {\"gridcolor\": \"white\", \"linecolor\": \"white\", \"ticks\": \"\"}, \"bgcolor\": \"#E5ECF6\", \"caxis\": {\"gridcolor\": \"white\", \"linecolor\": \"white\", \"ticks\": \"\"}}, \"title\": {\"x\": 0.05}, \"xaxis\": {\"automargin\": true, \"gridcolor\": \"white\", \"linecolor\": \"white\", \"ticks\": \"\", \"title\": {\"standoff\": 15}, \"zerolinecolor\": \"white\", \"zerolinewidth\": 2}, \"yaxis\": {\"automargin\": true, \"gridcolor\": \"white\", \"linecolor\": \"white\", \"ticks\": \"\", \"title\": {\"standoff\": 15}, \"zerolinecolor\": \"white\", \"zerolinewidth\": 2}}}, \"width\": 550, \"xaxis\": {\"color\": \"black\", \"hoverformat\": \"%A, %b %d %Y \", \"showgrid\": false, \"showticklabels\": true, \"title\": {\"text\": \"Dates\"}, \"zeroline\": true}, \"yaxis\": {\"color\": \"black\", \"range\": [-65, 0], \"showgrid\": false, \"showticklabels\": true, \"title\": {\"text\": \"Drawdown in %\"}, \"zeroline\": true}},\n",
       "                        {\"responsive\": true}\n",
       "                    ).then(function(){\n",
       "                            \n",
       "var gd = document.getElementById('3d65aeb4-066a-4b7d-b13d-b108ec9d5474');\n",
       "var x = new MutationObserver(function (mutations, observer) {{\n",
       "        var display = window.getComputedStyle(gd).display;\n",
       "        if (!display || display === 'none') {{\n",
       "            console.log([gd, 'removed!']);\n",
       "            Plotly.purge(gd);\n",
       "            observer.disconnect();\n",
       "        }}\n",
       "}});\n",
       "\n",
       "// Listen for the removal of the full notebook cells\n",
       "var notebookContainer = gd.closest('#notebook-container');\n",
       "if (notebookContainer) {{\n",
       "    x.observe(notebookContainer, {childList: true});\n",
       "}}\n",
       "\n",
       "// Listen for the clearing of the current output cell\n",
       "var outputEl = gd.closest('.output');\n",
       "if (outputEl) {{\n",
       "    x.observe(outputEl, {childList: true});\n",
       "}}\n",
       "\n",
       "                        })\n",
       "                };\n",
       "                });\n",
       "            </script>\n",
       "        </div>"
      ]
     },
     "metadata": {},
     "output_type": "display_data"
    }
   ],
   "source": [
    "# from importlib import reload\n",
    "# reload(tsmom)\n",
    "tsmom.underwater(strat_unlevered, nifty_m_rets,\n",
    "                 width = 550, \n",
    "                 height = 300, \n",
    "                 online= False, \n",
    "                 range = [-65, 0],\n",
    "                 plt_type= 'iplot', \n",
    "#                  filename= '/Users/Ravi/Desktop/Git/india-famafrench/docs/_static/IndUnderwaterUnLevered.html'\n",
    "                )\n",
    "tsmom.underwater(strat_levered, nifty_m_rets,\n",
    "                 width = 550, \n",
    "                 height = 300, \n",
    "                 range = [-65, 0],\n",
    "                 online= False, \n",
    "                 plt_type= 'iplot', \n",
    "#                  filename= '/Users/Ravi/Desktop/Git/india-famafrench/docs/_static/IndUnderwaterUnVol.html'\n",
    "                )\n",
    "# tsmom.underwater(nifty_m_rets, \n",
    "#                  width = 550, \n",
    "#                  height = 250, \n",
    "#                  online= False, \n",
    "#                  plt_type= 'plot', \n",
    "#                  filename= 'UnderwaterNSE500.html')\n",
    "# tsmom.underwater(ew, plt_type= 'plot', filename= 'UnderwaterEW.html')"
   ]
  },
  {
   "cell_type": "markdown",
   "metadata": {},
   "source": []
  },
  {
   "cell_type": "code",
   "execution_count": 146,
   "metadata": {},
   "outputs": [
    {
     "data": {
      "application/vnd.plotly.v1+json": {
       "config": {
        "linkText": "Export to plot.ly",
        "plotlyServerURL": "https://plot.ly",
        "showLink": false
       },
       "data": [
        {
         "colorscale": [
          [
           0,
           "rgb(220, 58, 43)"
          ],
          [
           0.003937007874015748,
           "rgb(221, 61, 45)"
          ],
          [
           0.007874015748031496,
           "rgb(222, 63, 46)"
          ],
          [
           0.011811023622047244,
           "rgb(223, 65, 47)"
          ],
          [
           0.015748031496062992,
           "rgb(224, 68, 48)"
          ],
          [
           0.01968503937007874,
           "rgb(225, 70, 49)"
          ],
          [
           0.023622047244094488,
           "rgb(226, 73, 50)"
          ],
          [
           0.027559055118110236,
           "rgb(228, 75, 51)"
          ],
          [
           0.031496062992125984,
           "rgb(229, 77, 52)"
          ],
          [
           0.03543307086614173,
           "rgb(230, 80, 53)"
          ],
          [
           0.03937007874015748,
           "rgb(231, 82, 54)"
          ],
          [
           0.04330708661417323,
           "rgb(232, 85, 56)"
          ],
          [
           0.047244094488188976,
           "rgb(234, 89, 58)"
          ],
          [
           0.051181102362204724,
           "rgb(236, 92, 59)"
          ],
          [
           0.05511811023622047,
           "rgb(237, 94, 60)"
          ],
          [
           0.05905511811023622,
           "rgb(238, 97, 61)"
          ],
          [
           0.06299212598425197,
           "rgb(239, 99, 62)"
          ],
          [
           0.06692913385826771,
           "rgb(240, 101, 63)"
          ],
          [
           0.07086614173228346,
           "rgb(241, 104, 64)"
          ],
          [
           0.07480314960629922,
           "rgb(242, 106, 65)"
          ],
          [
           0.07874015748031496,
           "rgb(244, 109, 67)"
          ],
          [
           0.0826771653543307,
           "rgb(244, 111, 68)"
          ],
          [
           0.08661417322834646,
           "rgb(244, 114, 69)"
          ],
          [
           0.09055118110236221,
           "rgb(245, 116, 70)"
          ],
          [
           0.09448818897637795,
           "rgb(245, 119, 71)"
          ],
          [
           0.09842519685039369,
           "rgb(245, 121, 72)"
          ],
          [
           0.10236220472440945,
           "rgb(246, 124, 74)"
          ],
          [
           0.1062992125984252,
           "rgb(246, 126, 75)"
          ],
          [
           0.11023622047244094,
           "rgb(246, 129, 76)"
          ],
          [
           0.11417322834645668,
           "rgb(247, 131, 77)"
          ],
          [
           0.11811023622047244,
           "rgb(247, 134, 78)"
          ],
          [
           0.1220472440944882,
           "rgb(247, 137, 79)"
          ],
          [
           0.12598425196850394,
           "rgb(248, 139, 81)"
          ],
          [
           0.12992125984251968,
           "rgb(248, 142, 82)"
          ],
          [
           0.13385826771653542,
           "rgb(248, 144, 83)"
          ],
          [
           0.1377952755905512,
           "rgb(249, 147, 84)"
          ],
          [
           0.14173228346456693,
           "rgb(249, 149, 85)"
          ],
          [
           0.14566929133858267,
           "rgb(250, 152, 86)"
          ],
          [
           0.14960629921259844,
           "rgb(250, 154, 88)"
          ],
          [
           0.15354330708661418,
           "rgb(250, 157, 89)"
          ],
          [
           0.15748031496062992,
           "rgb(251, 159, 90)"
          ],
          [
           0.16141732283464566,
           "rgb(251, 162, 91)"
          ],
          [
           0.1653543307086614,
           "rgb(251, 165, 92)"
          ],
          [
           0.16929133858267717,
           "rgb(252, 167, 94)"
          ],
          [
           0.1732283464566929,
           "rgb(252, 170, 95)"
          ],
          [
           0.17716535433070865,
           "rgb(252, 172, 96)"
          ],
          [
           0.18110236220472442,
           "rgb(253, 174, 97)"
          ],
          [
           0.18503937007874016,
           "rgb(253, 176, 99)"
          ],
          [
           0.1889763779527559,
           "rgb(253, 178, 101)"
          ],
          [
           0.19291338582677164,
           "rgb(253, 180, 102)"
          ],
          [
           0.19685039370078738,
           "rgb(253, 182, 104)"
          ],
          [
           0.20078740157480315,
           "rgb(253, 184, 106)"
          ],
          [
           0.2047244094488189,
           "rgb(253, 186, 107)"
          ],
          [
           0.20866141732283464,
           "rgb(253, 188, 109)"
          ],
          [
           0.2125984251968504,
           "rgb(253, 192, 112)"
          ],
          [
           0.21653543307086615,
           "rgb(253, 194, 114)"
          ],
          [
           0.2204724409448819,
           "rgb(253, 196, 115)"
          ],
          [
           0.22440944881889763,
           "rgb(253, 198, 117)"
          ],
          [
           0.22834645669291337,
           "rgb(253, 200, 119)"
          ],
          [
           0.23228346456692914,
           "rgb(253, 202, 120)"
          ],
          [
           0.23622047244094488,
           "rgb(253, 204, 122)"
          ],
          [
           0.24015748031496062,
           "rgb(253, 206, 124)"
          ],
          [
           0.2440944881889764,
           "rgb(253, 208, 125)"
          ],
          [
           0.24803149606299213,
           "rgb(253, 210, 127)"
          ],
          [
           0.25196850393700787,
           "rgb(253, 212, 129)"
          ],
          [
           0.2559055118110236,
           "rgb(253, 214, 130)"
          ],
          [
           0.25984251968503935,
           "rgb(253, 216, 132)"
          ],
          [
           0.2637795275590551,
           "rgb(253, 218, 134)"
          ],
          [
           0.26771653543307083,
           "rgb(253, 220, 135)"
          ],
          [
           0.27165354330708663,
           "rgb(253, 222, 137)"
          ],
          [
           0.2755905511811024,
           "rgb(254, 224, 139)"
          ],
          [
           0.2795275590551181,
           "rgb(254, 225, 141)"
          ],
          [
           0.28346456692913385,
           "rgb(254, 226, 143)"
          ],
          [
           0.2874015748031496,
           "rgb(254, 227, 145)"
          ],
          [
           0.29133858267716534,
           "rgb(254, 228, 147)"
          ],
          [
           0.2952755905511811,
           "rgb(254, 230, 149)"
          ],
          [
           0.2992125984251969,
           "rgb(254, 231, 151)"
          ],
          [
           0.3031496062992126,
           "rgb(254, 232, 153)"
          ],
          [
           0.30708661417322836,
           "rgb(254, 233, 155)"
          ],
          [
           0.3110236220472441,
           "rgb(254, 234, 157)"
          ],
          [
           0.31496062992125984,
           "rgb(254, 236, 159)"
          ],
          [
           0.3188976377952756,
           "rgb(254, 237, 161)"
          ],
          [
           0.3228346456692913,
           "rgb(254, 238, 163)"
          ],
          [
           0.32677165354330706,
           "rgb(254, 239, 165)"
          ],
          [
           0.3307086614173228,
           "rgb(254, 241, 167)"
          ],
          [
           0.3346456692913386,
           "rgb(254, 242, 169)"
          ],
          [
           0.33858267716535434,
           "rgb(254, 243, 171)"
          ],
          [
           0.3425196850393701,
           "rgb(254, 244, 173)"
          ],
          [
           0.3464566929133858,
           "rgb(254, 245, 175)"
          ],
          [
           0.35039370078740156,
           "rgb(254, 247, 177)"
          ],
          [
           0.3543307086614173,
           "rgb(254, 248, 179)"
          ],
          [
           0.35826771653543305,
           "rgb(254, 249, 181)"
          ],
          [
           0.36220472440944884,
           "rgb(254, 250, 183)"
          ],
          [
           0.3661417322834646,
           "rgb(254, 251, 185)"
          ],
          [
           0.3700787401574803,
           "rgb(254, 253, 187)"
          ],
          [
           0.37401574803149606,
           "rgb(254, 254, 189)"
          ],
          [
           0.3779527559055118,
           "rgb(252, 254, 187)"
          ],
          [
           0.38188976377952755,
           "rgb(251, 253, 185)"
          ],
          [
           0.3858267716535433,
           "rgb(249, 252, 183)"
          ],
          [
           0.38976377952755903,
           "rgb(248, 252, 181)"
          ],
          [
           0.39370078740157477,
           "rgb(246, 251, 179)"
          ],
          [
           0.39763779527559057,
           "rgb(245, 250, 177)"
          ],
          [
           0.4015748031496063,
           "rgb(243, 250, 175)"
          ],
          [
           0.40551181102362205,
           "rgb(242, 249, 173)"
          ],
          [
           0.4094488188976378,
           "rgb(240, 249, 171)"
          ],
          [
           0.41338582677165353,
           "rgb(239, 248, 169)"
          ],
          [
           0.41732283464566927,
           "rgb(237, 247, 167)"
          ],
          [
           0.421259842519685,
           "rgb(236, 247, 165)"
          ],
          [
           0.4251968503937008,
           "rgb(234, 246, 163)"
          ],
          [
           0.42913385826771655,
           "rgb(233, 245, 161)"
          ],
          [
           0.4330708661417323,
           "rgb(231, 245, 159)"
          ],
          [
           0.43700787401574803,
           "rgb(230, 244, 157)"
          ],
          [
           0.4409448818897638,
           "rgb(228, 244, 155)"
          ],
          [
           0.4448818897637795,
           "rgb(227, 243, 153)"
          ],
          [
           0.44881889763779526,
           "rgb(225, 242, 151)"
          ],
          [
           0.452755905511811,
           "rgb(224, 242, 149)"
          ],
          [
           0.45669291338582674,
           "rgb(222, 241, 147)"
          ],
          [
           0.46062992125984253,
           "rgb(221, 240, 145)"
          ],
          [
           0.4645669291338583,
           "rgb(219, 240, 143)"
          ],
          [
           0.468503937007874,
           "rgb(218, 239, 141)"
          ],
          [
           0.47244094488188976,
           "rgb(217, 239, 139)"
          ],
          [
           0.4763779527559055,
           "rgb(215, 238, 137)"
          ],
          [
           0.48031496062992124,
           "rgb(213, 237, 136)"
          ],
          [
           0.484251968503937,
           "rgb(211, 236, 135)"
          ],
          [
           0.4881889763779528,
           "rgb(209, 235, 133)"
          ],
          [
           0.4921259842519685,
           "rgb(207, 234, 132)"
          ],
          [
           0.49606299212598426,
           "rgb(205, 233, 131)"
          ],
          [
           0.5,
           "rgb(203, 232, 129)"
          ],
          [
           0.5039370078740157,
           "rgb(201, 232, 128)"
          ],
          [
           0.5078740157480315,
           "rgb(199, 231, 127)"
          ],
          [
           0.5118110236220472,
           "rgb(197, 230, 126)"
          ],
          [
           0.515748031496063,
           "rgb(195, 229, 124)"
          ],
          [
           0.5196850393700787,
           "rgb(193, 228, 123)"
          ],
          [
           0.5236220472440944,
           "rgb(191, 227, 122)"
          ],
          [
           0.5275590551181102,
           "rgb(189, 226, 120)"
          ],
          [
           0.5314960629921259,
           "rgb(187, 226, 119)"
          ],
          [
           0.5354330708661417,
           "rgb(185, 225, 118)"
          ],
          [
           0.5393700787401575,
           "rgb(181, 223, 115)"
          ],
          [
           0.5433070866141733,
           "rgb(179, 222, 114)"
          ],
          [
           0.547244094488189,
           "rgb(177, 221, 113)"
          ],
          [
           0.5511811023622047,
           "rgb(175, 220, 111)"
          ],
          [
           0.5551181102362205,
           "rgb(173, 220, 110)"
          ],
          [
           0.5590551181102362,
           "rgb(171, 219, 109)"
          ],
          [
           0.562992125984252,
           "rgb(169, 218, 107)"
          ],
          [
           0.5669291338582677,
           "rgb(167, 217, 106)"
          ],
          [
           0.5708661417322834,
           "rgb(164, 216, 105)"
          ],
          [
           0.5748031496062992,
           "rgb(162, 215, 105)"
          ],
          [
           0.5787401574803149,
           "rgb(159, 214, 105)"
          ],
          [
           0.5826771653543307,
           "rgb(157, 213, 105)"
          ],
          [
           0.5866141732283464,
           "rgb(154, 212, 104)"
          ],
          [
           0.5905511811023622,
           "rgb(152, 210, 104)"
          ],
          [
           0.5944881889763779,
           "rgb(149, 209, 104)"
          ],
          [
           0.5984251968503937,
           "rgb(147, 208, 103)"
          ],
          [
           0.6023622047244095,
           "rgb(144, 207, 103)"
          ],
          [
           0.6062992125984252,
           "rgb(142, 206, 103)"
          ],
          [
           0.610236220472441,
           "rgb(139, 205, 103)"
          ],
          [
           0.6141732283464567,
           "rgb(137, 204, 102)"
          ],
          [
           0.6181102362204725,
           "rgb(134, 203, 102)"
          ],
          [
           0.6220472440944882,
           "rgb(132, 202, 102)"
          ],
          [
           0.6259842519685039,
           "rgb(129, 201, 102)"
          ],
          [
           0.6299212598425197,
           "rgb(127, 199, 101)"
          ],
          [
           0.6338582677165354,
           "rgb(124, 198, 101)"
          ],
          [
           0.6377952755905512,
           "rgb(122, 197, 101)"
          ],
          [
           0.6417322834645669,
           "rgb(119, 196, 100)"
          ],
          [
           0.6456692913385826,
           "rgb(117, 195, 100)"
          ],
          [
           0.6496062992125984,
           "rgb(114, 194, 100)"
          ],
          [
           0.6535433070866141,
           "rgb(112, 193, 100)"
          ],
          [
           0.6574803149606299,
           "rgb(109, 192, 99)"
          ],
          [
           0.6614173228346456,
           "rgb(107, 191, 99)"
          ],
          [
           0.6653543307086615,
           "rgb(104, 190, 99)"
          ],
          [
           0.6692913385826772,
           "rgb(102, 189, 99)"
          ],
          [
           0.6732283464566929,
           "rgb(99, 187, 98)"
          ],
          [
           0.6771653543307087,
           "rgb(96, 186, 97)"
          ],
          [
           0.6811023622047244,
           "rgb(93, 184, 96)"
          ],
          [
           0.6850393700787402,
           "rgb(90, 183, 96)"
          ],
          [
           0.6889763779527559,
           "rgb(87, 181, 95)"
          ],
          [
           0.6929133858267716,
           "rgb(84, 180, 94)"
          ],
          [
           0.6968503937007874,
           "rgb(81, 178, 93)"
          ],
          [
           0.7007874015748031,
           "rgb(78, 177, 93)"
          ],
          [
           0.7047244094488189,
           "rgb(72, 174, 91)"
          ],
          [
           0.7086614173228346,
           "rgb(69, 173, 90)"
          ],
          [
           0.7125984251968503,
           "rgb(66, 171, 90)"
          ],
          [
           0.7165354330708661,
           "rgb(63, 170, 89)"
          ],
          [
           0.7204724409448818,
           "rgb(60, 168, 88)"
          ],
          [
           0.7244094488188977,
           "rgb(57, 167, 87)"
          ],
          [
           0.7283464566929134,
           "rgb(54, 165, 87)"
          ],
          [
           0.7322834645669292,
           "rgb(51, 164, 86)"
          ],
          [
           0.7362204724409449,
           "rgb(48, 162, 85)"
          ],
          [
           0.7401574803149606,
           "rgb(45, 161, 84)"
          ],
          [
           0.7440944881889764,
           "rgb(42, 159, 84)"
          ],
          [
           0.7480314960629921,
           "rgb(39, 158, 83)"
          ],
          [
           0.7519685039370079,
           "rgb(36, 157, 82)"
          ],
          [
           0.7559055118110236,
           "rgb(33, 155, 81)"
          ],
          [
           0.7598425196850394,
           "rgb(30, 154, 81)"
          ],
          [
           0.7637795275590551,
           "rgb(27, 152, 80)"
          ],
          [
           0.7677165354330708,
           "rgb(25, 151, 79)"
          ],
          [
           0.7716535433070866,
           "rgb(24, 149, 78)"
          ],
          [
           0.7755905511811023,
           "rgb(23, 147, 77)"
          ],
          [
           0.7795275590551181,
           "rgb(22, 145, 76)"
          ],
          [
           0.7834645669291338,
           "rgb(21, 143, 75)"
          ],
          [
           0.7874015748031495,
           "rgb(20, 141, 74)"
          ],
          [
           0.7913385826771654,
           "rgb(19, 139, 73)"
          ],
          [
           0.7952755905511811,
           "rgb(18, 137, 72)"
          ],
          [
           0.7992125984251969,
           "rgb(17, 136, 71)"
          ],
          [
           0.8031496062992126,
           "rgb(16, 134, 70)"
          ],
          [
           0.8070866141732284,
           "rgb(15, 132, 69)"
          ],
          [
           0.8110236220472441,
           "rgb(14, 130, 68)"
          ],
          [
           0.8149606299212598,
           "rgb(13, 128, 67)"
          ],
          [
           0.8188976377952756,
           "rgb(12, 126, 66)"
          ],
          [
           0.8228346456692913,
           "rgb(11, 124, 65)"
          ],
          [
           0.8267716535433071,
           "rgb(10, 122, 64)"
          ],
          [
           0.8307086614173228,
           "rgb(9, 120, 63)"
          ],
          [
           0.8346456692913385,
           "rgb(8, 119, 62)"
          ],
          [
           0.8385826771653543,
           "rgb(7, 117, 61)"
          ],
          [
           0.84251968503937,
           "rgb(6, 115, 60)"
          ],
          [
           0.8464566929133858,
           "rgb(5, 113, 59)"
          ],
          [
           0.8503937007874016,
           "rgb(4, 111, 58)"
          ],
          [
           0.8543307086614174,
           "rgb(3, 109, 57)"
          ],
          [
           0.8582677165354331,
           "rgb(2, 107, 56)"
          ],
          [
           0.8622047244094488,
           "rgb(1, 105, 55)"
          ],
          [
           0.8661417322834646,
           "rgb(0, 104, 55)"
          ],
          [
           0.8700787401574803,
           "rgb(0, 104, 55)"
          ],
          [
           0.8740157480314961,
           "rgb(0, 104, 55)"
          ],
          [
           0.8779527559055118,
           "rgb(0, 104, 55)"
          ],
          [
           0.8818897637795275,
           "rgb(0, 104, 55)"
          ],
          [
           0.8858267716535433,
           "rgb(0, 104, 55)"
          ],
          [
           0.889763779527559,
           "rgb(0, 104, 55)"
          ],
          [
           0.8937007874015748,
           "rgb(0, 104, 55)"
          ],
          [
           0.8976377952755905,
           "rgb(0, 104, 55)"
          ],
          [
           0.9015748031496063,
           "rgb(0, 104, 55)"
          ],
          [
           0.905511811023622,
           "rgb(0, 104, 55)"
          ],
          [
           0.9094488188976377,
           "rgb(0, 104, 55)"
          ],
          [
           0.9133858267716535,
           "rgb(0, 104, 55)"
          ],
          [
           0.9173228346456693,
           "rgb(0, 104, 55)"
          ],
          [
           0.9212598425196851,
           "rgb(0, 104, 55)"
          ],
          [
           0.9251968503937008,
           "rgb(0, 104, 55)"
          ],
          [
           0.9291338582677166,
           "rgb(0, 104, 55)"
          ],
          [
           0.9330708661417323,
           "rgb(0, 104, 55)"
          ],
          [
           0.937007874015748,
           "rgb(0, 104, 55)"
          ],
          [
           0.9409448818897638,
           "rgb(0, 104, 55)"
          ],
          [
           0.9448818897637795,
           "rgb(0, 104, 55)"
          ],
          [
           0.9488188976377953,
           "rgb(0, 104, 55)"
          ],
          [
           0.952755905511811,
           "rgb(0, 104, 55)"
          ],
          [
           0.9566929133858267,
           "rgb(0, 104, 55)"
          ],
          [
           0.9606299212598425,
           "rgb(0, 104, 55)"
          ],
          [
           0.9645669291338582,
           "rgb(0, 104, 55)"
          ],
          [
           0.968503937007874,
           "rgb(0, 104, 55)"
          ],
          [
           0.9724409448818897,
           "rgb(0, 104, 55)"
          ],
          [
           0.9763779527559056,
           "rgb(0, 104, 55)"
          ],
          [
           0.9803149606299213,
           "rgb(0, 104, 55)"
          ],
          [
           0.984251968503937,
           "rgb(0, 104, 55)"
          ],
          [
           0.9881889763779528,
           "rgb(0, 104, 55)"
          ],
          [
           0.9921259842519685,
           "rgb(0, 104, 55)"
          ],
          [
           0.9960629921259843,
           "rgb(0, 104, 55)"
          ],
          [
           1,
           "rgb(0, 104, 55)"
          ]
         ],
         "hoverinfo": "y+z",
         "reversescale": false,
         "showscale": false,
         "type": "heatmap",
         "x": [
          "Jan",
          "Feb",
          "Mar",
          "Apr",
          "May",
          "Jun",
          "Jul",
          "Aug",
          "Sep",
          "Oct",
          "Nov",
          "Dec"
         ],
         "y": [
          2019,
          2018,
          2017,
          2016,
          2015,
          2014,
          2013,
          2012,
          2011,
          2010,
          2009,
          2008,
          2007,
          2006,
          2005,
          2004,
          2003,
          2002,
          2001
         ],
         "z": [
          [
           6.460000000000001,
           3.39,
           0.89,
           3.5700000000000003,
           3.08,
           10.280000000000001,
           11.29,
           5.88,
           4.42,
           5.99,
           0.76,
           4.15
          ],
          [
           3.49,
           4.06,
           8.6,
           7.22,
           5.06,
           5.2299999999999995,
           3.09,
           3.29,
           8.08,
           1.44,
           0.8500000000000001,
           -1.18
          ],
          [
           2.88,
           1.13,
           7.02,
           2.07,
           9.35,
           3.1,
           2.8400000000000003,
           8.68,
           2.48,
           4,
           1.1199999999999999,
           -2
          ],
          [
           4.04,
           0.8500000000000001,
           3.6700000000000004,
           1.9900000000000002,
           4.9,
           1.24,
           1.5599999999999998,
           3.9,
           2.98,
           3.2399999999999998,
           0.58,
           1.23
          ],
          [
           3.52,
           -0.8200000000000001,
           8.63,
           -2.91,
           4.83,
           6.08,
           4.52,
           5.779999999999999,
           1.02,
           -1.1900000000000002,
           0.74,
           1.53
          ],
          [
           6.4,
           6.17,
           0.27999999999999997,
           -2.03,
           1.16,
           4.75,
           6.239999999999999,
           14.12,
           7.24,
           4.47,
           7.6499999999999995,
           10.16
          ],
          [
           1.8399999999999999,
           6.93,
           7.489999999999999,
           0.48,
           7.140000000000001,
           7.35,
           7.380000000000001,
           1.48,
           1.35,
           0.72,
           0.74,
           2.4899999999999998
          ],
          [
           -6.23,
           2.11,
           8.219999999999999,
           3.66,
           5.949999999999999,
           -1.8599999999999999,
           3.66,
           6.4399999999999995,
           -1.67,
           3.63,
           2.32,
           3
          ],
          [
           6.260000000000001,
           5.24,
           3.62,
           0.63,
           4.34,
           4.36,
           3.53,
           9.82,
           2.08,
           0.8200000000000001,
           6.58,
           6.419999999999999
          ],
          [
           1.3599999999999999,
           5.82,
           3.08,
           4.859999999999999,
           7.32,
           0.02,
           4.73,
           5.1499999999999995,
           1.6500000000000001,
           3.74,
           6.859999999999999,
           -1.39
          ],
          [
           4.06,
           6.68,
           1.1900000000000002,
           -12.34,
           -14.06,
           3.4799999999999995,
           3.4099999999999997,
           -1.9800000000000002,
           0.9900000000000001,
           8.200000000000001,
           2.04,
           4.03
          ],
          [
           15.540000000000001,
           -1.1900000000000002,
           5.2299999999999995,
           -0.22,
           1.22,
           5.24,
           3.0700000000000003,
           -0.8999999999999999,
           8.01,
           23.16,
           5.33,
           -5.6000000000000005
          ],
          [
           0.65,
           2.08,
           4.7,
           2.34,
           4.6899999999999995,
           3.7600000000000002,
           5.92,
           2.94,
           4.96,
           13.41,
           2.77,
           2.5
          ],
          [
           6.6000000000000005,
           2.8000000000000003,
           8.98,
           1.47,
           -0.32,
           6.05,
           2.35,
           -1.79,
           2.91,
           1.47,
           5.38,
           1.6400000000000001
          ],
          [
           4.279999999999999,
           5.21,
           6.140000000000001,
           3.47,
           2.3,
           0.51,
           3.05,
           4.2700000000000005,
           -2.7199999999999998,
           0.65,
           2.45,
           6.39
          ],
          [
           11.709999999999999,
           6.52,
           8.07,
           3.4299999999999997,
           -5.58,
           3.82,
           4.51,
           5.28,
           -3.0700000000000003,
           3.64,
           2.94,
           0.83
          ],
          [
           9.33,
           3.3099999999999996,
           14.249999999999998,
           0.6799999999999999,
           8.780000000000001,
           2.36,
           5.949999999999999,
           4.67,
           7.920000000000001,
           13.22,
           -0.83,
           3.34
          ],
          [
           6.67,
           3.05,
           4.81,
           6.21,
           0.8200000000000001,
           7.37,
           1.28,
           1.49,
           2.75,
           7.82,
           -2.17,
           3.34
          ],
          [
           0,
           4.17,
           18.17,
           7.24,
           -4.51,
           7.1499999999999995,
           7.16,
           -2.08,
           6.38,
           -0.86,
           -5.81,
           1.0699999999999998
          ]
         ]
        }
       ],
       "layout": {
        "annotations": [
         {
          "font": {
           "color": "white",
           "size": 10
          },
          "showarrow": false,
          "text": "6.46",
          "x": "Jan",
          "xref": "x",
          "y": 2019,
          "yref": "y"
         },
         {
          "font": {
           "color": "black",
           "size": 10
          },
          "showarrow": false,
          "text": "3.39",
          "x": "Feb",
          "xref": "x",
          "y": 2019,
          "yref": "y"
         },
         {
          "font": {
           "color": "black",
           "size": 10
          },
          "showarrow": false,
          "text": "0.89",
          "x": "Mar",
          "xref": "x",
          "y": 2019,
          "yref": "y"
         },
         {
          "font": {
           "color": "black",
           "size": 10
          },
          "showarrow": false,
          "text": "3.57",
          "x": "Apr",
          "xref": "x",
          "y": 2019,
          "yref": "y"
         },
         {
          "font": {
           "color": "black",
           "size": 10
          },
          "showarrow": false,
          "text": "3.08",
          "x": "May",
          "xref": "x",
          "y": 2019,
          "yref": "y"
         },
         {
          "font": {
           "color": "white",
           "size": 10
          },
          "showarrow": false,
          "text": "10.28",
          "x": "Jun",
          "xref": "x",
          "y": 2019,
          "yref": "y"
         },
         {
          "font": {
           "color": "white",
           "size": 10
          },
          "showarrow": false,
          "text": "11.29",
          "x": "Jul",
          "xref": "x",
          "y": 2019,
          "yref": "y"
         },
         {
          "font": {
           "color": "white",
           "size": 10
          },
          "showarrow": false,
          "text": "5.88",
          "x": "Aug",
          "xref": "x",
          "y": 2019,
          "yref": "y"
         },
         {
          "font": {
           "color": "black",
           "size": 10
          },
          "showarrow": false,
          "text": "4.42",
          "x": "Sep",
          "xref": "x",
          "y": 2019,
          "yref": "y"
         },
         {
          "font": {
           "color": "white",
           "size": 10
          },
          "showarrow": false,
          "text": "5.99",
          "x": "Oct",
          "xref": "x",
          "y": 2019,
          "yref": "y"
         },
         {
          "font": {
           "color": "black",
           "size": 10
          },
          "showarrow": false,
          "text": "0.76",
          "x": "Nov",
          "xref": "x",
          "y": 2019,
          "yref": "y"
         },
         {
          "font": {
           "color": "black",
           "size": 10
          },
          "showarrow": false,
          "text": "4.15",
          "x": "Dec",
          "xref": "x",
          "y": 2019,
          "yref": "y"
         },
         {
          "font": {
           "color": "black",
           "size": 10
          },
          "showarrow": false,
          "text": "3.49",
          "x": "Jan",
          "xref": "x",
          "y": 2018,
          "yref": "y"
         },
         {
          "font": {
           "color": "black",
           "size": 10
          },
          "showarrow": false,
          "text": "4.06",
          "x": "Feb",
          "xref": "x",
          "y": 2018,
          "yref": "y"
         },
         {
          "font": {
           "color": "white",
           "size": 10
          },
          "showarrow": false,
          "text": "8.6",
          "x": "Mar",
          "xref": "x",
          "y": 2018,
          "yref": "y"
         },
         {
          "font": {
           "color": "white",
           "size": 10
          },
          "showarrow": false,
          "text": "7.22",
          "x": "Apr",
          "xref": "x",
          "y": 2018,
          "yref": "y"
         },
         {
          "font": {
           "color": "white",
           "size": 10
          },
          "showarrow": false,
          "text": "5.06",
          "x": "May",
          "xref": "x",
          "y": 2018,
          "yref": "y"
         },
         {
          "font": {
           "color": "white",
           "size": 10
          },
          "showarrow": false,
          "text": "5.23",
          "x": "Jun",
          "xref": "x",
          "y": 2018,
          "yref": "y"
         },
         {
          "font": {
           "color": "black",
           "size": 10
          },
          "showarrow": false,
          "text": "3.09",
          "x": "Jul",
          "xref": "x",
          "y": 2018,
          "yref": "y"
         },
         {
          "font": {
           "color": "black",
           "size": 10
          },
          "showarrow": false,
          "text": "3.29",
          "x": "Aug",
          "xref": "x",
          "y": 2018,
          "yref": "y"
         },
         {
          "font": {
           "color": "white",
           "size": 10
          },
          "showarrow": false,
          "text": "8.08",
          "x": "Sep",
          "xref": "x",
          "y": 2018,
          "yref": "y"
         },
         {
          "font": {
           "color": "black",
           "size": 10
          },
          "showarrow": false,
          "text": "1.44",
          "x": "Oct",
          "xref": "x",
          "y": 2018,
          "yref": "y"
         },
         {
          "font": {
           "color": "black",
           "size": 10
          },
          "showarrow": false,
          "text": "0.85",
          "x": "Nov",
          "xref": "x",
          "y": 2018,
          "yref": "y"
         },
         {
          "font": {
           "color": "black",
           "size": 10
          },
          "showarrow": false,
          "text": "-1.18",
          "x": "Dec",
          "xref": "x",
          "y": 2018,
          "yref": "y"
         },
         {
          "font": {
           "color": "black",
           "size": 10
          },
          "showarrow": false,
          "text": "2.88",
          "x": "Jan",
          "xref": "x",
          "y": 2017,
          "yref": "y"
         },
         {
          "font": {
           "color": "black",
           "size": 10
          },
          "showarrow": false,
          "text": "1.13",
          "x": "Feb",
          "xref": "x",
          "y": 2017,
          "yref": "y"
         },
         {
          "font": {
           "color": "white",
           "size": 10
          },
          "showarrow": false,
          "text": "7.02",
          "x": "Mar",
          "xref": "x",
          "y": 2017,
          "yref": "y"
         },
         {
          "font": {
           "color": "black",
           "size": 10
          },
          "showarrow": false,
          "text": "2.07",
          "x": "Apr",
          "xref": "x",
          "y": 2017,
          "yref": "y"
         },
         {
          "font": {
           "color": "white",
           "size": 10
          },
          "showarrow": false,
          "text": "9.35",
          "x": "May",
          "xref": "x",
          "y": 2017,
          "yref": "y"
         },
         {
          "font": {
           "color": "black",
           "size": 10
          },
          "showarrow": false,
          "text": "3.1",
          "x": "Jun",
          "xref": "x",
          "y": 2017,
          "yref": "y"
         },
         {
          "font": {
           "color": "black",
           "size": 10
          },
          "showarrow": false,
          "text": "2.84",
          "x": "Jul",
          "xref": "x",
          "y": 2017,
          "yref": "y"
         },
         {
          "font": {
           "color": "white",
           "size": 10
          },
          "showarrow": false,
          "text": "8.68",
          "x": "Aug",
          "xref": "x",
          "y": 2017,
          "yref": "y"
         },
         {
          "font": {
           "color": "black",
           "size": 10
          },
          "showarrow": false,
          "text": "2.48",
          "x": "Sep",
          "xref": "x",
          "y": 2017,
          "yref": "y"
         },
         {
          "font": {
           "color": "black",
           "size": 10
          },
          "showarrow": false,
          "text": "4.0",
          "x": "Oct",
          "xref": "x",
          "y": 2017,
          "yref": "y"
         },
         {
          "font": {
           "color": "black",
           "size": 10
          },
          "showarrow": false,
          "text": "1.12",
          "x": "Nov",
          "xref": "x",
          "y": 2017,
          "yref": "y"
         },
         {
          "font": {
           "color": "black",
           "size": 10
          },
          "showarrow": false,
          "text": "-2.0",
          "x": "Dec",
          "xref": "x",
          "y": 2017,
          "yref": "y"
         },
         {
          "font": {
           "color": "black",
           "size": 10
          },
          "showarrow": false,
          "text": "4.04",
          "x": "Jan",
          "xref": "x",
          "y": 2016,
          "yref": "y"
         },
         {
          "font": {
           "color": "black",
           "size": 10
          },
          "showarrow": false,
          "text": "0.85",
          "x": "Feb",
          "xref": "x",
          "y": 2016,
          "yref": "y"
         },
         {
          "font": {
           "color": "black",
           "size": 10
          },
          "showarrow": false,
          "text": "3.67",
          "x": "Mar",
          "xref": "x",
          "y": 2016,
          "yref": "y"
         },
         {
          "font": {
           "color": "black",
           "size": 10
          },
          "showarrow": false,
          "text": "1.99",
          "x": "Apr",
          "xref": "x",
          "y": 2016,
          "yref": "y"
         },
         {
          "font": {
           "color": "white",
           "size": 10
          },
          "showarrow": false,
          "text": "4.9",
          "x": "May",
          "xref": "x",
          "y": 2016,
          "yref": "y"
         },
         {
          "font": {
           "color": "black",
           "size": 10
          },
          "showarrow": false,
          "text": "1.24",
          "x": "Jun",
          "xref": "x",
          "y": 2016,
          "yref": "y"
         },
         {
          "font": {
           "color": "black",
           "size": 10
          },
          "showarrow": false,
          "text": "1.56",
          "x": "Jul",
          "xref": "x",
          "y": 2016,
          "yref": "y"
         },
         {
          "font": {
           "color": "black",
           "size": 10
          },
          "showarrow": false,
          "text": "3.9",
          "x": "Aug",
          "xref": "x",
          "y": 2016,
          "yref": "y"
         },
         {
          "font": {
           "color": "black",
           "size": 10
          },
          "showarrow": false,
          "text": "2.98",
          "x": "Sep",
          "xref": "x",
          "y": 2016,
          "yref": "y"
         },
         {
          "font": {
           "color": "black",
           "size": 10
          },
          "showarrow": false,
          "text": "3.24",
          "x": "Oct",
          "xref": "x",
          "y": 2016,
          "yref": "y"
         },
         {
          "font": {
           "color": "black",
           "size": 10
          },
          "showarrow": false,
          "text": "0.58",
          "x": "Nov",
          "xref": "x",
          "y": 2016,
          "yref": "y"
         },
         {
          "font": {
           "color": "black",
           "size": 10
          },
          "showarrow": false,
          "text": "1.23",
          "x": "Dec",
          "xref": "x",
          "y": 2016,
          "yref": "y"
         },
         {
          "font": {
           "color": "black",
           "size": 10
          },
          "showarrow": false,
          "text": "3.52",
          "x": "Jan",
          "xref": "x",
          "y": 2015,
          "yref": "y"
         },
         {
          "font": {
           "color": "black",
           "size": 10
          },
          "showarrow": false,
          "text": "-0.82",
          "x": "Feb",
          "xref": "x",
          "y": 2015,
          "yref": "y"
         },
         {
          "font": {
           "color": "white",
           "size": 10
          },
          "showarrow": false,
          "text": "8.63",
          "x": "Mar",
          "xref": "x",
          "y": 2015,
          "yref": "y"
         },
         {
          "font": {
           "color": "black",
           "size": 10
          },
          "showarrow": false,
          "text": "-2.91",
          "x": "Apr",
          "xref": "x",
          "y": 2015,
          "yref": "y"
         },
         {
          "font": {
           "color": "white",
           "size": 10
          },
          "showarrow": false,
          "text": "4.83",
          "x": "May",
          "xref": "x",
          "y": 2015,
          "yref": "y"
         },
         {
          "font": {
           "color": "white",
           "size": 10
          },
          "showarrow": false,
          "text": "6.08",
          "x": "Jun",
          "xref": "x",
          "y": 2015,
          "yref": "y"
         },
         {
          "font": {
           "color": "black",
           "size": 10
          },
          "showarrow": false,
          "text": "4.52",
          "x": "Jul",
          "xref": "x",
          "y": 2015,
          "yref": "y"
         },
         {
          "font": {
           "color": "white",
           "size": 10
          },
          "showarrow": false,
          "text": "5.78",
          "x": "Aug",
          "xref": "x",
          "y": 2015,
          "yref": "y"
         },
         {
          "font": {
           "color": "black",
           "size": 10
          },
          "showarrow": false,
          "text": "1.02",
          "x": "Sep",
          "xref": "x",
          "y": 2015,
          "yref": "y"
         },
         {
          "font": {
           "color": "black",
           "size": 10
          },
          "showarrow": false,
          "text": "-1.19",
          "x": "Oct",
          "xref": "x",
          "y": 2015,
          "yref": "y"
         },
         {
          "font": {
           "color": "black",
           "size": 10
          },
          "showarrow": false,
          "text": "0.74",
          "x": "Nov",
          "xref": "x",
          "y": 2015,
          "yref": "y"
         },
         {
          "font": {
           "color": "black",
           "size": 10
          },
          "showarrow": false,
          "text": "1.53",
          "x": "Dec",
          "xref": "x",
          "y": 2015,
          "yref": "y"
         },
         {
          "font": {
           "color": "white",
           "size": 10
          },
          "showarrow": false,
          "text": "6.4",
          "x": "Jan",
          "xref": "x",
          "y": 2014,
          "yref": "y"
         },
         {
          "font": {
           "color": "white",
           "size": 10
          },
          "showarrow": false,
          "text": "6.17",
          "x": "Feb",
          "xref": "x",
          "y": 2014,
          "yref": "y"
         },
         {
          "font": {
           "color": "black",
           "size": 10
          },
          "showarrow": false,
          "text": "0.28",
          "x": "Mar",
          "xref": "x",
          "y": 2014,
          "yref": "y"
         },
         {
          "font": {
           "color": "black",
           "size": 10
          },
          "showarrow": false,
          "text": "-2.03",
          "x": "Apr",
          "xref": "x",
          "y": 2014,
          "yref": "y"
         },
         {
          "font": {
           "color": "black",
           "size": 10
          },
          "showarrow": false,
          "text": "1.16",
          "x": "May",
          "xref": "x",
          "y": 2014,
          "yref": "y"
         },
         {
          "font": {
           "color": "white",
           "size": 10
          },
          "showarrow": false,
          "text": "4.75",
          "x": "Jun",
          "xref": "x",
          "y": 2014,
          "yref": "y"
         },
         {
          "font": {
           "color": "white",
           "size": 10
          },
          "showarrow": false,
          "text": "6.24",
          "x": "Jul",
          "xref": "x",
          "y": 2014,
          "yref": "y"
         },
         {
          "font": {
           "color": "white",
           "size": 10
          },
          "showarrow": false,
          "text": "14.12",
          "x": "Aug",
          "xref": "x",
          "y": 2014,
          "yref": "y"
         },
         {
          "font": {
           "color": "white",
           "size": 10
          },
          "showarrow": false,
          "text": "7.24",
          "x": "Sep",
          "xref": "x",
          "y": 2014,
          "yref": "y"
         },
         {
          "font": {
           "color": "black",
           "size": 10
          },
          "showarrow": false,
          "text": "4.47",
          "x": "Oct",
          "xref": "x",
          "y": 2014,
          "yref": "y"
         },
         {
          "font": {
           "color": "white",
           "size": 10
          },
          "showarrow": false,
          "text": "7.65",
          "x": "Nov",
          "xref": "x",
          "y": 2014,
          "yref": "y"
         },
         {
          "font": {
           "color": "white",
           "size": 10
          },
          "showarrow": false,
          "text": "10.16",
          "x": "Dec",
          "xref": "x",
          "y": 2014,
          "yref": "y"
         },
         {
          "font": {
           "color": "black",
           "size": 10
          },
          "showarrow": false,
          "text": "1.84",
          "x": "Jan",
          "xref": "x",
          "y": 2013,
          "yref": "y"
         },
         {
          "font": {
           "color": "white",
           "size": 10
          },
          "showarrow": false,
          "text": "6.93",
          "x": "Feb",
          "xref": "x",
          "y": 2013,
          "yref": "y"
         },
         {
          "font": {
           "color": "white",
           "size": 10
          },
          "showarrow": false,
          "text": "7.49",
          "x": "Mar",
          "xref": "x",
          "y": 2013,
          "yref": "y"
         },
         {
          "font": {
           "color": "black",
           "size": 10
          },
          "showarrow": false,
          "text": "0.48",
          "x": "Apr",
          "xref": "x",
          "y": 2013,
          "yref": "y"
         },
         {
          "font": {
           "color": "white",
           "size": 10
          },
          "showarrow": false,
          "text": "7.14",
          "x": "May",
          "xref": "x",
          "y": 2013,
          "yref": "y"
         },
         {
          "font": {
           "color": "white",
           "size": 10
          },
          "showarrow": false,
          "text": "7.35",
          "x": "Jun",
          "xref": "x",
          "y": 2013,
          "yref": "y"
         },
         {
          "font": {
           "color": "white",
           "size": 10
          },
          "showarrow": false,
          "text": "7.38",
          "x": "Jul",
          "xref": "x",
          "y": 2013,
          "yref": "y"
         },
         {
          "font": {
           "color": "black",
           "size": 10
          },
          "showarrow": false,
          "text": "1.48",
          "x": "Aug",
          "xref": "x",
          "y": 2013,
          "yref": "y"
         },
         {
          "font": {
           "color": "black",
           "size": 10
          },
          "showarrow": false,
          "text": "1.35",
          "x": "Sep",
          "xref": "x",
          "y": 2013,
          "yref": "y"
         },
         {
          "font": {
           "color": "black",
           "size": 10
          },
          "showarrow": false,
          "text": "0.72",
          "x": "Oct",
          "xref": "x",
          "y": 2013,
          "yref": "y"
         },
         {
          "font": {
           "color": "black",
           "size": 10
          },
          "showarrow": false,
          "text": "0.74",
          "x": "Nov",
          "xref": "x",
          "y": 2013,
          "yref": "y"
         },
         {
          "font": {
           "color": "black",
           "size": 10
          },
          "showarrow": false,
          "text": "2.49",
          "x": "Dec",
          "xref": "x",
          "y": 2013,
          "yref": "y"
         },
         {
          "font": {
           "color": "black",
           "size": 10
          },
          "showarrow": false,
          "text": "-6.23",
          "x": "Jan",
          "xref": "x",
          "y": 2012,
          "yref": "y"
         },
         {
          "font": {
           "color": "black",
           "size": 10
          },
          "showarrow": false,
          "text": "2.11",
          "x": "Feb",
          "xref": "x",
          "y": 2012,
          "yref": "y"
         },
         {
          "font": {
           "color": "white",
           "size": 10
          },
          "showarrow": false,
          "text": "8.22",
          "x": "Mar",
          "xref": "x",
          "y": 2012,
          "yref": "y"
         },
         {
          "font": {
           "color": "black",
           "size": 10
          },
          "showarrow": false,
          "text": "3.66",
          "x": "Apr",
          "xref": "x",
          "y": 2012,
          "yref": "y"
         },
         {
          "font": {
           "color": "white",
           "size": 10
          },
          "showarrow": false,
          "text": "5.95",
          "x": "May",
          "xref": "x",
          "y": 2012,
          "yref": "y"
         },
         {
          "font": {
           "color": "black",
           "size": 10
          },
          "showarrow": false,
          "text": "-1.86",
          "x": "Jun",
          "xref": "x",
          "y": 2012,
          "yref": "y"
         },
         {
          "font": {
           "color": "black",
           "size": 10
          },
          "showarrow": false,
          "text": "3.66",
          "x": "Jul",
          "xref": "x",
          "y": 2012,
          "yref": "y"
         },
         {
          "font": {
           "color": "white",
           "size": 10
          },
          "showarrow": false,
          "text": "6.44",
          "x": "Aug",
          "xref": "x",
          "y": 2012,
          "yref": "y"
         },
         {
          "font": {
           "color": "black",
           "size": 10
          },
          "showarrow": false,
          "text": "-1.67",
          "x": "Sep",
          "xref": "x",
          "y": 2012,
          "yref": "y"
         },
         {
          "font": {
           "color": "black",
           "size": 10
          },
          "showarrow": false,
          "text": "3.63",
          "x": "Oct",
          "xref": "x",
          "y": 2012,
          "yref": "y"
         },
         {
          "font": {
           "color": "black",
           "size": 10
          },
          "showarrow": false,
          "text": "2.32",
          "x": "Nov",
          "xref": "x",
          "y": 2012,
          "yref": "y"
         },
         {
          "font": {
           "color": "black",
           "size": 10
          },
          "showarrow": false,
          "text": "3.0",
          "x": "Dec",
          "xref": "x",
          "y": 2012,
          "yref": "y"
         },
         {
          "font": {
           "color": "white",
           "size": 10
          },
          "showarrow": false,
          "text": "6.26",
          "x": "Jan",
          "xref": "x",
          "y": 2011,
          "yref": "y"
         },
         {
          "font": {
           "color": "white",
           "size": 10
          },
          "showarrow": false,
          "text": "5.24",
          "x": "Feb",
          "xref": "x",
          "y": 2011,
          "yref": "y"
         },
         {
          "font": {
           "color": "black",
           "size": 10
          },
          "showarrow": false,
          "text": "3.62",
          "x": "Mar",
          "xref": "x",
          "y": 2011,
          "yref": "y"
         },
         {
          "font": {
           "color": "black",
           "size": 10
          },
          "showarrow": false,
          "text": "0.63",
          "x": "Apr",
          "xref": "x",
          "y": 2011,
          "yref": "y"
         },
         {
          "font": {
           "color": "black",
           "size": 10
          },
          "showarrow": false,
          "text": "4.34",
          "x": "May",
          "xref": "x",
          "y": 2011,
          "yref": "y"
         },
         {
          "font": {
           "color": "black",
           "size": 10
          },
          "showarrow": false,
          "text": "4.36",
          "x": "Jun",
          "xref": "x",
          "y": 2011,
          "yref": "y"
         },
         {
          "font": {
           "color": "black",
           "size": 10
          },
          "showarrow": false,
          "text": "3.53",
          "x": "Jul",
          "xref": "x",
          "y": 2011,
          "yref": "y"
         },
         {
          "font": {
           "color": "white",
           "size": 10
          },
          "showarrow": false,
          "text": "9.82",
          "x": "Aug",
          "xref": "x",
          "y": 2011,
          "yref": "y"
         },
         {
          "font": {
           "color": "black",
           "size": 10
          },
          "showarrow": false,
          "text": "2.08",
          "x": "Sep",
          "xref": "x",
          "y": 2011,
          "yref": "y"
         },
         {
          "font": {
           "color": "black",
           "size": 10
          },
          "showarrow": false,
          "text": "0.82",
          "x": "Oct",
          "xref": "x",
          "y": 2011,
          "yref": "y"
         },
         {
          "font": {
           "color": "white",
           "size": 10
          },
          "showarrow": false,
          "text": "6.58",
          "x": "Nov",
          "xref": "x",
          "y": 2011,
          "yref": "y"
         },
         {
          "font": {
           "color": "white",
           "size": 10
          },
          "showarrow": false,
          "text": "6.42",
          "x": "Dec",
          "xref": "x",
          "y": 2011,
          "yref": "y"
         },
         {
          "font": {
           "color": "black",
           "size": 10
          },
          "showarrow": false,
          "text": "1.36",
          "x": "Jan",
          "xref": "x",
          "y": 2010,
          "yref": "y"
         },
         {
          "font": {
           "color": "white",
           "size": 10
          },
          "showarrow": false,
          "text": "5.82",
          "x": "Feb",
          "xref": "x",
          "y": 2010,
          "yref": "y"
         },
         {
          "font": {
           "color": "black",
           "size": 10
          },
          "showarrow": false,
          "text": "3.08",
          "x": "Mar",
          "xref": "x",
          "y": 2010,
          "yref": "y"
         },
         {
          "font": {
           "color": "white",
           "size": 10
          },
          "showarrow": false,
          "text": "4.86",
          "x": "Apr",
          "xref": "x",
          "y": 2010,
          "yref": "y"
         },
         {
          "font": {
           "color": "white",
           "size": 10
          },
          "showarrow": false,
          "text": "7.32",
          "x": "May",
          "xref": "x",
          "y": 2010,
          "yref": "y"
         },
         {
          "font": {
           "color": "black",
           "size": 10
          },
          "showarrow": false,
          "text": "0.02",
          "x": "Jun",
          "xref": "x",
          "y": 2010,
          "yref": "y"
         },
         {
          "font": {
           "color": "white",
           "size": 10
          },
          "showarrow": false,
          "text": "4.73",
          "x": "Jul",
          "xref": "x",
          "y": 2010,
          "yref": "y"
         },
         {
          "font": {
           "color": "white",
           "size": 10
          },
          "showarrow": false,
          "text": "5.15",
          "x": "Aug",
          "xref": "x",
          "y": 2010,
          "yref": "y"
         },
         {
          "font": {
           "color": "black",
           "size": 10
          },
          "showarrow": false,
          "text": "1.65",
          "x": "Sep",
          "xref": "x",
          "y": 2010,
          "yref": "y"
         },
         {
          "font": {
           "color": "black",
           "size": 10
          },
          "showarrow": false,
          "text": "3.74",
          "x": "Oct",
          "xref": "x",
          "y": 2010,
          "yref": "y"
         },
         {
          "font": {
           "color": "white",
           "size": 10
          },
          "showarrow": false,
          "text": "6.86",
          "x": "Nov",
          "xref": "x",
          "y": 2010,
          "yref": "y"
         },
         {
          "font": {
           "color": "black",
           "size": 10
          },
          "showarrow": false,
          "text": "-1.39",
          "x": "Dec",
          "xref": "x",
          "y": 2010,
          "yref": "y"
         },
         {
          "font": {
           "color": "black",
           "size": 10
          },
          "showarrow": false,
          "text": "4.06",
          "x": "Jan",
          "xref": "x",
          "y": 2009,
          "yref": "y"
         },
         {
          "font": {
           "color": "white",
           "size": 10
          },
          "showarrow": false,
          "text": "6.68",
          "x": "Feb",
          "xref": "x",
          "y": 2009,
          "yref": "y"
         },
         {
          "font": {
           "color": "black",
           "size": 10
          },
          "showarrow": false,
          "text": "1.19",
          "x": "Mar",
          "xref": "x",
          "y": 2009,
          "yref": "y"
         },
         {
          "font": {
           "color": "black",
           "size": 10
          },
          "showarrow": false,
          "text": "-12.34",
          "x": "Apr",
          "xref": "x",
          "y": 2009,
          "yref": "y"
         },
         {
          "font": {
           "color": "black",
           "size": 10
          },
          "showarrow": false,
          "text": "-14.06",
          "x": "May",
          "xref": "x",
          "y": 2009,
          "yref": "y"
         },
         {
          "font": {
           "color": "black",
           "size": 10
          },
          "showarrow": false,
          "text": "3.48",
          "x": "Jun",
          "xref": "x",
          "y": 2009,
          "yref": "y"
         },
         {
          "font": {
           "color": "black",
           "size": 10
          },
          "showarrow": false,
          "text": "3.41",
          "x": "Jul",
          "xref": "x",
          "y": 2009,
          "yref": "y"
         },
         {
          "font": {
           "color": "black",
           "size": 10
          },
          "showarrow": false,
          "text": "-1.98",
          "x": "Aug",
          "xref": "x",
          "y": 2009,
          "yref": "y"
         },
         {
          "font": {
           "color": "black",
           "size": 10
          },
          "showarrow": false,
          "text": "0.99",
          "x": "Sep",
          "xref": "x",
          "y": 2009,
          "yref": "y"
         },
         {
          "font": {
           "color": "white",
           "size": 10
          },
          "showarrow": false,
          "text": "8.2",
          "x": "Oct",
          "xref": "x",
          "y": 2009,
          "yref": "y"
         },
         {
          "font": {
           "color": "black",
           "size": 10
          },
          "showarrow": false,
          "text": "2.04",
          "x": "Nov",
          "xref": "x",
          "y": 2009,
          "yref": "y"
         },
         {
          "font": {
           "color": "black",
           "size": 10
          },
          "showarrow": false,
          "text": "4.03",
          "x": "Dec",
          "xref": "x",
          "y": 2009,
          "yref": "y"
         },
         {
          "font": {
           "color": "white",
           "size": 10
          },
          "showarrow": false,
          "text": "15.54",
          "x": "Jan",
          "xref": "x",
          "y": 2008,
          "yref": "y"
         },
         {
          "font": {
           "color": "black",
           "size": 10
          },
          "showarrow": false,
          "text": "-1.19",
          "x": "Feb",
          "xref": "x",
          "y": 2008,
          "yref": "y"
         },
         {
          "font": {
           "color": "white",
           "size": 10
          },
          "showarrow": false,
          "text": "5.23",
          "x": "Mar",
          "xref": "x",
          "y": 2008,
          "yref": "y"
         },
         {
          "font": {
           "color": "black",
           "size": 10
          },
          "showarrow": false,
          "text": "-0.22",
          "x": "Apr",
          "xref": "x",
          "y": 2008,
          "yref": "y"
         },
         {
          "font": {
           "color": "black",
           "size": 10
          },
          "showarrow": false,
          "text": "1.22",
          "x": "May",
          "xref": "x",
          "y": 2008,
          "yref": "y"
         },
         {
          "font": {
           "color": "white",
           "size": 10
          },
          "showarrow": false,
          "text": "5.24",
          "x": "Jun",
          "xref": "x",
          "y": 2008,
          "yref": "y"
         },
         {
          "font": {
           "color": "black",
           "size": 10
          },
          "showarrow": false,
          "text": "3.07",
          "x": "Jul",
          "xref": "x",
          "y": 2008,
          "yref": "y"
         },
         {
          "font": {
           "color": "black",
           "size": 10
          },
          "showarrow": false,
          "text": "-0.9",
          "x": "Aug",
          "xref": "x",
          "y": 2008,
          "yref": "y"
         },
         {
          "font": {
           "color": "white",
           "size": 10
          },
          "showarrow": false,
          "text": "8.01",
          "x": "Sep",
          "xref": "x",
          "y": 2008,
          "yref": "y"
         },
         {
          "font": {
           "color": "white",
           "size": 10
          },
          "showarrow": false,
          "text": "23.16",
          "x": "Oct",
          "xref": "x",
          "y": 2008,
          "yref": "y"
         },
         {
          "font": {
           "color": "white",
           "size": 10
          },
          "showarrow": false,
          "text": "5.33",
          "x": "Nov",
          "xref": "x",
          "y": 2008,
          "yref": "y"
         },
         {
          "font": {
           "color": "black",
           "size": 10
          },
          "showarrow": false,
          "text": "-5.6",
          "x": "Dec",
          "xref": "x",
          "y": 2008,
          "yref": "y"
         },
         {
          "font": {
           "color": "black",
           "size": 10
          },
          "showarrow": false,
          "text": "0.65",
          "x": "Jan",
          "xref": "x",
          "y": 2007,
          "yref": "y"
         },
         {
          "font": {
           "color": "black",
           "size": 10
          },
          "showarrow": false,
          "text": "2.08",
          "x": "Feb",
          "xref": "x",
          "y": 2007,
          "yref": "y"
         },
         {
          "font": {
           "color": "white",
           "size": 10
          },
          "showarrow": false,
          "text": "4.7",
          "x": "Mar",
          "xref": "x",
          "y": 2007,
          "yref": "y"
         },
         {
          "font": {
           "color": "black",
           "size": 10
          },
          "showarrow": false,
          "text": "2.34",
          "x": "Apr",
          "xref": "x",
          "y": 2007,
          "yref": "y"
         },
         {
          "font": {
           "color": "white",
           "size": 10
          },
          "showarrow": false,
          "text": "4.69",
          "x": "May",
          "xref": "x",
          "y": 2007,
          "yref": "y"
         },
         {
          "font": {
           "color": "black",
           "size": 10
          },
          "showarrow": false,
          "text": "3.76",
          "x": "Jun",
          "xref": "x",
          "y": 2007,
          "yref": "y"
         },
         {
          "font": {
           "color": "white",
           "size": 10
          },
          "showarrow": false,
          "text": "5.92",
          "x": "Jul",
          "xref": "x",
          "y": 2007,
          "yref": "y"
         },
         {
          "font": {
           "color": "black",
           "size": 10
          },
          "showarrow": false,
          "text": "2.94",
          "x": "Aug",
          "xref": "x",
          "y": 2007,
          "yref": "y"
         },
         {
          "font": {
           "color": "white",
           "size": 10
          },
          "showarrow": false,
          "text": "4.96",
          "x": "Sep",
          "xref": "x",
          "y": 2007,
          "yref": "y"
         },
         {
          "font": {
           "color": "white",
           "size": 10
          },
          "showarrow": false,
          "text": "13.41",
          "x": "Oct",
          "xref": "x",
          "y": 2007,
          "yref": "y"
         },
         {
          "font": {
           "color": "black",
           "size": 10
          },
          "showarrow": false,
          "text": "2.77",
          "x": "Nov",
          "xref": "x",
          "y": 2007,
          "yref": "y"
         },
         {
          "font": {
           "color": "black",
           "size": 10
          },
          "showarrow": false,
          "text": "2.5",
          "x": "Dec",
          "xref": "x",
          "y": 2007,
          "yref": "y"
         },
         {
          "font": {
           "color": "white",
           "size": 10
          },
          "showarrow": false,
          "text": "6.6",
          "x": "Jan",
          "xref": "x",
          "y": 2006,
          "yref": "y"
         },
         {
          "font": {
           "color": "black",
           "size": 10
          },
          "showarrow": false,
          "text": "2.8",
          "x": "Feb",
          "xref": "x",
          "y": 2006,
          "yref": "y"
         },
         {
          "font": {
           "color": "white",
           "size": 10
          },
          "showarrow": false,
          "text": "8.98",
          "x": "Mar",
          "xref": "x",
          "y": 2006,
          "yref": "y"
         },
         {
          "font": {
           "color": "black",
           "size": 10
          },
          "showarrow": false,
          "text": "1.47",
          "x": "Apr",
          "xref": "x",
          "y": 2006,
          "yref": "y"
         },
         {
          "font": {
           "color": "black",
           "size": 10
          },
          "showarrow": false,
          "text": "-0.32",
          "x": "May",
          "xref": "x",
          "y": 2006,
          "yref": "y"
         },
         {
          "font": {
           "color": "white",
           "size": 10
          },
          "showarrow": false,
          "text": "6.05",
          "x": "Jun",
          "xref": "x",
          "y": 2006,
          "yref": "y"
         },
         {
          "font": {
           "color": "black",
           "size": 10
          },
          "showarrow": false,
          "text": "2.35",
          "x": "Jul",
          "xref": "x",
          "y": 2006,
          "yref": "y"
         },
         {
          "font": {
           "color": "black",
           "size": 10
          },
          "showarrow": false,
          "text": "-1.79",
          "x": "Aug",
          "xref": "x",
          "y": 2006,
          "yref": "y"
         },
         {
          "font": {
           "color": "black",
           "size": 10
          },
          "showarrow": false,
          "text": "2.91",
          "x": "Sep",
          "xref": "x",
          "y": 2006,
          "yref": "y"
         },
         {
          "font": {
           "color": "black",
           "size": 10
          },
          "showarrow": false,
          "text": "1.47",
          "x": "Oct",
          "xref": "x",
          "y": 2006,
          "yref": "y"
         },
         {
          "font": {
           "color": "white",
           "size": 10
          },
          "showarrow": false,
          "text": "5.38",
          "x": "Nov",
          "xref": "x",
          "y": 2006,
          "yref": "y"
         },
         {
          "font": {
           "color": "black",
           "size": 10
          },
          "showarrow": false,
          "text": "1.64",
          "x": "Dec",
          "xref": "x",
          "y": 2006,
          "yref": "y"
         },
         {
          "font": {
           "color": "black",
           "size": 10
          },
          "showarrow": false,
          "text": "4.28",
          "x": "Jan",
          "xref": "x",
          "y": 2005,
          "yref": "y"
         },
         {
          "font": {
           "color": "white",
           "size": 10
          },
          "showarrow": false,
          "text": "5.21",
          "x": "Feb",
          "xref": "x",
          "y": 2005,
          "yref": "y"
         },
         {
          "font": {
           "color": "white",
           "size": 10
          },
          "showarrow": false,
          "text": "6.14",
          "x": "Mar",
          "xref": "x",
          "y": 2005,
          "yref": "y"
         },
         {
          "font": {
           "color": "black",
           "size": 10
          },
          "showarrow": false,
          "text": "3.47",
          "x": "Apr",
          "xref": "x",
          "y": 2005,
          "yref": "y"
         },
         {
          "font": {
           "color": "black",
           "size": 10
          },
          "showarrow": false,
          "text": "2.3",
          "x": "May",
          "xref": "x",
          "y": 2005,
          "yref": "y"
         },
         {
          "font": {
           "color": "black",
           "size": 10
          },
          "showarrow": false,
          "text": "0.51",
          "x": "Jun",
          "xref": "x",
          "y": 2005,
          "yref": "y"
         },
         {
          "font": {
           "color": "black",
           "size": 10
          },
          "showarrow": false,
          "text": "3.05",
          "x": "Jul",
          "xref": "x",
          "y": 2005,
          "yref": "y"
         },
         {
          "font": {
           "color": "black",
           "size": 10
          },
          "showarrow": false,
          "text": "4.27",
          "x": "Aug",
          "xref": "x",
          "y": 2005,
          "yref": "y"
         },
         {
          "font": {
           "color": "black",
           "size": 10
          },
          "showarrow": false,
          "text": "-2.72",
          "x": "Sep",
          "xref": "x",
          "y": 2005,
          "yref": "y"
         },
         {
          "font": {
           "color": "black",
           "size": 10
          },
          "showarrow": false,
          "text": "0.65",
          "x": "Oct",
          "xref": "x",
          "y": 2005,
          "yref": "y"
         },
         {
          "font": {
           "color": "black",
           "size": 10
          },
          "showarrow": false,
          "text": "2.45",
          "x": "Nov",
          "xref": "x",
          "y": 2005,
          "yref": "y"
         },
         {
          "font": {
           "color": "white",
           "size": 10
          },
          "showarrow": false,
          "text": "6.39",
          "x": "Dec",
          "xref": "x",
          "y": 2005,
          "yref": "y"
         },
         {
          "font": {
           "color": "white",
           "size": 10
          },
          "showarrow": false,
          "text": "11.71",
          "x": "Jan",
          "xref": "x",
          "y": 2004,
          "yref": "y"
         },
         {
          "font": {
           "color": "white",
           "size": 10
          },
          "showarrow": false,
          "text": "6.52",
          "x": "Feb",
          "xref": "x",
          "y": 2004,
          "yref": "y"
         },
         {
          "font": {
           "color": "white",
           "size": 10
          },
          "showarrow": false,
          "text": "8.07",
          "x": "Mar",
          "xref": "x",
          "y": 2004,
          "yref": "y"
         },
         {
          "font": {
           "color": "black",
           "size": 10
          },
          "showarrow": false,
          "text": "3.43",
          "x": "Apr",
          "xref": "x",
          "y": 2004,
          "yref": "y"
         },
         {
          "font": {
           "color": "black",
           "size": 10
          },
          "showarrow": false,
          "text": "-5.58",
          "x": "May",
          "xref": "x",
          "y": 2004,
          "yref": "y"
         },
         {
          "font": {
           "color": "black",
           "size": 10
          },
          "showarrow": false,
          "text": "3.82",
          "x": "Jun",
          "xref": "x",
          "y": 2004,
          "yref": "y"
         },
         {
          "font": {
           "color": "black",
           "size": 10
          },
          "showarrow": false,
          "text": "4.51",
          "x": "Jul",
          "xref": "x",
          "y": 2004,
          "yref": "y"
         },
         {
          "font": {
           "color": "white",
           "size": 10
          },
          "showarrow": false,
          "text": "5.28",
          "x": "Aug",
          "xref": "x",
          "y": 2004,
          "yref": "y"
         },
         {
          "font": {
           "color": "black",
           "size": 10
          },
          "showarrow": false,
          "text": "-3.07",
          "x": "Sep",
          "xref": "x",
          "y": 2004,
          "yref": "y"
         },
         {
          "font": {
           "color": "black",
           "size": 10
          },
          "showarrow": false,
          "text": "3.64",
          "x": "Oct",
          "xref": "x",
          "y": 2004,
          "yref": "y"
         },
         {
          "font": {
           "color": "black",
           "size": 10
          },
          "showarrow": false,
          "text": "2.94",
          "x": "Nov",
          "xref": "x",
          "y": 2004,
          "yref": "y"
         },
         {
          "font": {
           "color": "black",
           "size": 10
          },
          "showarrow": false,
          "text": "0.83",
          "x": "Dec",
          "xref": "x",
          "y": 2004,
          "yref": "y"
         },
         {
          "font": {
           "color": "white",
           "size": 10
          },
          "showarrow": false,
          "text": "9.33",
          "x": "Jan",
          "xref": "x",
          "y": 2003,
          "yref": "y"
         },
         {
          "font": {
           "color": "black",
           "size": 10
          },
          "showarrow": false,
          "text": "3.31",
          "x": "Feb",
          "xref": "x",
          "y": 2003,
          "yref": "y"
         },
         {
          "font": {
           "color": "white",
           "size": 10
          },
          "showarrow": false,
          "text": "14.25",
          "x": "Mar",
          "xref": "x",
          "y": 2003,
          "yref": "y"
         },
         {
          "font": {
           "color": "black",
           "size": 10
          },
          "showarrow": false,
          "text": "0.68",
          "x": "Apr",
          "xref": "x",
          "y": 2003,
          "yref": "y"
         },
         {
          "font": {
           "color": "white",
           "size": 10
          },
          "showarrow": false,
          "text": "8.78",
          "x": "May",
          "xref": "x",
          "y": 2003,
          "yref": "y"
         },
         {
          "font": {
           "color": "black",
           "size": 10
          },
          "showarrow": false,
          "text": "2.36",
          "x": "Jun",
          "xref": "x",
          "y": 2003,
          "yref": "y"
         },
         {
          "font": {
           "color": "white",
           "size": 10
          },
          "showarrow": false,
          "text": "5.95",
          "x": "Jul",
          "xref": "x",
          "y": 2003,
          "yref": "y"
         },
         {
          "font": {
           "color": "white",
           "size": 10
          },
          "showarrow": false,
          "text": "4.67",
          "x": "Aug",
          "xref": "x",
          "y": 2003,
          "yref": "y"
         },
         {
          "font": {
           "color": "white",
           "size": 10
          },
          "showarrow": false,
          "text": "7.92",
          "x": "Sep",
          "xref": "x",
          "y": 2003,
          "yref": "y"
         },
         {
          "font": {
           "color": "white",
           "size": 10
          },
          "showarrow": false,
          "text": "13.22",
          "x": "Oct",
          "xref": "x",
          "y": 2003,
          "yref": "y"
         },
         {
          "font": {
           "color": "black",
           "size": 10
          },
          "showarrow": false,
          "text": "-0.83",
          "x": "Nov",
          "xref": "x",
          "y": 2003,
          "yref": "y"
         },
         {
          "font": {
           "color": "black",
           "size": 10
          },
          "showarrow": false,
          "text": "3.34",
          "x": "Dec",
          "xref": "x",
          "y": 2003,
          "yref": "y"
         },
         {
          "font": {
           "color": "white",
           "size": 10
          },
          "showarrow": false,
          "text": "6.67",
          "x": "Jan",
          "xref": "x",
          "y": 2002,
          "yref": "y"
         },
         {
          "font": {
           "color": "black",
           "size": 10
          },
          "showarrow": false,
          "text": "3.05",
          "x": "Feb",
          "xref": "x",
          "y": 2002,
          "yref": "y"
         },
         {
          "font": {
           "color": "white",
           "size": 10
          },
          "showarrow": false,
          "text": "4.81",
          "x": "Mar",
          "xref": "x",
          "y": 2002,
          "yref": "y"
         },
         {
          "font": {
           "color": "white",
           "size": 10
          },
          "showarrow": false,
          "text": "6.21",
          "x": "Apr",
          "xref": "x",
          "y": 2002,
          "yref": "y"
         },
         {
          "font": {
           "color": "black",
           "size": 10
          },
          "showarrow": false,
          "text": "0.82",
          "x": "May",
          "xref": "x",
          "y": 2002,
          "yref": "y"
         },
         {
          "font": {
           "color": "white",
           "size": 10
          },
          "showarrow": false,
          "text": "7.37",
          "x": "Jun",
          "xref": "x",
          "y": 2002,
          "yref": "y"
         },
         {
          "font": {
           "color": "black",
           "size": 10
          },
          "showarrow": false,
          "text": "1.28",
          "x": "Jul",
          "xref": "x",
          "y": 2002,
          "yref": "y"
         },
         {
          "font": {
           "color": "black",
           "size": 10
          },
          "showarrow": false,
          "text": "1.49",
          "x": "Aug",
          "xref": "x",
          "y": 2002,
          "yref": "y"
         },
         {
          "font": {
           "color": "black",
           "size": 10
          },
          "showarrow": false,
          "text": "2.75",
          "x": "Sep",
          "xref": "x",
          "y": 2002,
          "yref": "y"
         },
         {
          "font": {
           "color": "white",
           "size": 10
          },
          "showarrow": false,
          "text": "7.82",
          "x": "Oct",
          "xref": "x",
          "y": 2002,
          "yref": "y"
         },
         {
          "font": {
           "color": "black",
           "size": 10
          },
          "showarrow": false,
          "text": "-2.17",
          "x": "Nov",
          "xref": "x",
          "y": 2002,
          "yref": "y"
         },
         {
          "font": {
           "color": "black",
           "size": 10
          },
          "showarrow": false,
          "text": "3.34",
          "x": "Dec",
          "xref": "x",
          "y": 2002,
          "yref": "y"
         },
         {
          "font": {
           "color": "black",
           "size": 10
          },
          "showarrow": false,
          "text": "0.0",
          "x": "Jan",
          "xref": "x",
          "y": 2001,
          "yref": "y"
         },
         {
          "font": {
           "color": "black",
           "size": 10
          },
          "showarrow": false,
          "text": "4.17",
          "x": "Feb",
          "xref": "x",
          "y": 2001,
          "yref": "y"
         },
         {
          "font": {
           "color": "white",
           "size": 10
          },
          "showarrow": false,
          "text": "18.17",
          "x": "Mar",
          "xref": "x",
          "y": 2001,
          "yref": "y"
         },
         {
          "font": {
           "color": "white",
           "size": 10
          },
          "showarrow": false,
          "text": "7.24",
          "x": "Apr",
          "xref": "x",
          "y": 2001,
          "yref": "y"
         },
         {
          "font": {
           "color": "black",
           "size": 10
          },
          "showarrow": false,
          "text": "-4.51",
          "x": "May",
          "xref": "x",
          "y": 2001,
          "yref": "y"
         },
         {
          "font": {
           "color": "white",
           "size": 10
          },
          "showarrow": false,
          "text": "7.15",
          "x": "Jun",
          "xref": "x",
          "y": 2001,
          "yref": "y"
         },
         {
          "font": {
           "color": "white",
           "size": 10
          },
          "showarrow": false,
          "text": "7.16",
          "x": "Jul",
          "xref": "x",
          "y": 2001,
          "yref": "y"
         },
         {
          "font": {
           "color": "black",
           "size": 10
          },
          "showarrow": false,
          "text": "-2.08",
          "x": "Aug",
          "xref": "x",
          "y": 2001,
          "yref": "y"
         },
         {
          "font": {
           "color": "white",
           "size": 10
          },
          "showarrow": false,
          "text": "6.38",
          "x": "Sep",
          "xref": "x",
          "y": 2001,
          "yref": "y"
         },
         {
          "font": {
           "color": "black",
           "size": 10
          },
          "showarrow": false,
          "text": "-0.86",
          "x": "Oct",
          "xref": "x",
          "y": 2001,
          "yref": "y"
         },
         {
          "font": {
           "color": "black",
           "size": 10
          },
          "showarrow": false,
          "text": "-5.81",
          "x": "Nov",
          "xref": "x",
          "y": 2001,
          "yref": "y"
         },
         {
          "font": {
           "color": "black",
           "size": 10
          },
          "showarrow": false,
          "text": "1.07",
          "x": "Dec",
          "xref": "x",
          "y": 2001,
          "yref": "y"
         }
        ],
        "height": 500,
        "template": {
         "data": {
          "bar": [
           {
            "error_x": {
             "color": "#2a3f5f"
            },
            "error_y": {
             "color": "#2a3f5f"
            },
            "marker": {
             "line": {
              "color": "#E5ECF6",
              "width": 0.5
             }
            },
            "type": "bar"
           }
          ],
          "barpolar": [
           {
            "marker": {
             "line": {
              "color": "#E5ECF6",
              "width": 0.5
             }
            },
            "type": "barpolar"
           }
          ],
          "carpet": [
           {
            "aaxis": {
             "endlinecolor": "#2a3f5f",
             "gridcolor": "white",
             "linecolor": "white",
             "minorgridcolor": "white",
             "startlinecolor": "#2a3f5f"
            },
            "baxis": {
             "endlinecolor": "#2a3f5f",
             "gridcolor": "white",
             "linecolor": "white",
             "minorgridcolor": "white",
             "startlinecolor": "#2a3f5f"
            },
            "type": "carpet"
           }
          ],
          "choropleth": [
           {
            "colorbar": {
             "outlinewidth": 0,
             "ticks": ""
            },
            "type": "choropleth"
           }
          ],
          "contour": [
           {
            "colorbar": {
             "outlinewidth": 0,
             "ticks": ""
            },
            "colorscale": [
             [
              0,
              "#0d0887"
             ],
             [
              0.1111111111111111,
              "#46039f"
             ],
             [
              0.2222222222222222,
              "#7201a8"
             ],
             [
              0.3333333333333333,
              "#9c179e"
             ],
             [
              0.4444444444444444,
              "#bd3786"
             ],
             [
              0.5555555555555556,
              "#d8576b"
             ],
             [
              0.6666666666666666,
              "#ed7953"
             ],
             [
              0.7777777777777778,
              "#fb9f3a"
             ],
             [
              0.8888888888888888,
              "#fdca26"
             ],
             [
              1,
              "#f0f921"
             ]
            ],
            "type": "contour"
           }
          ],
          "contourcarpet": [
           {
            "colorbar": {
             "outlinewidth": 0,
             "ticks": ""
            },
            "type": "contourcarpet"
           }
          ],
          "heatmap": [
           {
            "colorbar": {
             "outlinewidth": 0,
             "ticks": ""
            },
            "colorscale": [
             [
              0,
              "#0d0887"
             ],
             [
              0.1111111111111111,
              "#46039f"
             ],
             [
              0.2222222222222222,
              "#7201a8"
             ],
             [
              0.3333333333333333,
              "#9c179e"
             ],
             [
              0.4444444444444444,
              "#bd3786"
             ],
             [
              0.5555555555555556,
              "#d8576b"
             ],
             [
              0.6666666666666666,
              "#ed7953"
             ],
             [
              0.7777777777777778,
              "#fb9f3a"
             ],
             [
              0.8888888888888888,
              "#fdca26"
             ],
             [
              1,
              "#f0f921"
             ]
            ],
            "type": "heatmap"
           }
          ],
          "heatmapgl": [
           {
            "colorbar": {
             "outlinewidth": 0,
             "ticks": ""
            },
            "colorscale": [
             [
              0,
              "#0d0887"
             ],
             [
              0.1111111111111111,
              "#46039f"
             ],
             [
              0.2222222222222222,
              "#7201a8"
             ],
             [
              0.3333333333333333,
              "#9c179e"
             ],
             [
              0.4444444444444444,
              "#bd3786"
             ],
             [
              0.5555555555555556,
              "#d8576b"
             ],
             [
              0.6666666666666666,
              "#ed7953"
             ],
             [
              0.7777777777777778,
              "#fb9f3a"
             ],
             [
              0.8888888888888888,
              "#fdca26"
             ],
             [
              1,
              "#f0f921"
             ]
            ],
            "type": "heatmapgl"
           }
          ],
          "histogram": [
           {
            "marker": {
             "colorbar": {
              "outlinewidth": 0,
              "ticks": ""
             }
            },
            "type": "histogram"
           }
          ],
          "histogram2d": [
           {
            "colorbar": {
             "outlinewidth": 0,
             "ticks": ""
            },
            "colorscale": [
             [
              0,
              "#0d0887"
             ],
             [
              0.1111111111111111,
              "#46039f"
             ],
             [
              0.2222222222222222,
              "#7201a8"
             ],
             [
              0.3333333333333333,
              "#9c179e"
             ],
             [
              0.4444444444444444,
              "#bd3786"
             ],
             [
              0.5555555555555556,
              "#d8576b"
             ],
             [
              0.6666666666666666,
              "#ed7953"
             ],
             [
              0.7777777777777778,
              "#fb9f3a"
             ],
             [
              0.8888888888888888,
              "#fdca26"
             ],
             [
              1,
              "#f0f921"
             ]
            ],
            "type": "histogram2d"
           }
          ],
          "histogram2dcontour": [
           {
            "colorbar": {
             "outlinewidth": 0,
             "ticks": ""
            },
            "colorscale": [
             [
              0,
              "#0d0887"
             ],
             [
              0.1111111111111111,
              "#46039f"
             ],
             [
              0.2222222222222222,
              "#7201a8"
             ],
             [
              0.3333333333333333,
              "#9c179e"
             ],
             [
              0.4444444444444444,
              "#bd3786"
             ],
             [
              0.5555555555555556,
              "#d8576b"
             ],
             [
              0.6666666666666666,
              "#ed7953"
             ],
             [
              0.7777777777777778,
              "#fb9f3a"
             ],
             [
              0.8888888888888888,
              "#fdca26"
             ],
             [
              1,
              "#f0f921"
             ]
            ],
            "type": "histogram2dcontour"
           }
          ],
          "mesh3d": [
           {
            "colorbar": {
             "outlinewidth": 0,
             "ticks": ""
            },
            "type": "mesh3d"
           }
          ],
          "parcoords": [
           {
            "line": {
             "colorbar": {
              "outlinewidth": 0,
              "ticks": ""
             }
            },
            "type": "parcoords"
           }
          ],
          "pie": [
           {
            "automargin": true,
            "type": "pie"
           }
          ],
          "scatter": [
           {
            "marker": {
             "colorbar": {
              "outlinewidth": 0,
              "ticks": ""
             }
            },
            "type": "scatter"
           }
          ],
          "scatter3d": [
           {
            "line": {
             "colorbar": {
              "outlinewidth": 0,
              "ticks": ""
             }
            },
            "marker": {
             "colorbar": {
              "outlinewidth": 0,
              "ticks": ""
             }
            },
            "type": "scatter3d"
           }
          ],
          "scattercarpet": [
           {
            "marker": {
             "colorbar": {
              "outlinewidth": 0,
              "ticks": ""
             }
            },
            "type": "scattercarpet"
           }
          ],
          "scattergeo": [
           {
            "marker": {
             "colorbar": {
              "outlinewidth": 0,
              "ticks": ""
             }
            },
            "type": "scattergeo"
           }
          ],
          "scattergl": [
           {
            "marker": {
             "colorbar": {
              "outlinewidth": 0,
              "ticks": ""
             }
            },
            "type": "scattergl"
           }
          ],
          "scattermapbox": [
           {
            "marker": {
             "colorbar": {
              "outlinewidth": 0,
              "ticks": ""
             }
            },
            "type": "scattermapbox"
           }
          ],
          "scatterpolar": [
           {
            "marker": {
             "colorbar": {
              "outlinewidth": 0,
              "ticks": ""
             }
            },
            "type": "scatterpolar"
           }
          ],
          "scatterpolargl": [
           {
            "marker": {
             "colorbar": {
              "outlinewidth": 0,
              "ticks": ""
             }
            },
            "type": "scatterpolargl"
           }
          ],
          "scatterternary": [
           {
            "marker": {
             "colorbar": {
              "outlinewidth": 0,
              "ticks": ""
             }
            },
            "type": "scatterternary"
           }
          ],
          "surface": [
           {
            "colorbar": {
             "outlinewidth": 0,
             "ticks": ""
            },
            "colorscale": [
             [
              0,
              "#0d0887"
             ],
             [
              0.1111111111111111,
              "#46039f"
             ],
             [
              0.2222222222222222,
              "#7201a8"
             ],
             [
              0.3333333333333333,
              "#9c179e"
             ],
             [
              0.4444444444444444,
              "#bd3786"
             ],
             [
              0.5555555555555556,
              "#d8576b"
             ],
             [
              0.6666666666666666,
              "#ed7953"
             ],
             [
              0.7777777777777778,
              "#fb9f3a"
             ],
             [
              0.8888888888888888,
              "#fdca26"
             ],
             [
              1,
              "#f0f921"
             ]
            ],
            "type": "surface"
           }
          ],
          "table": [
           {
            "cells": {
             "fill": {
              "color": "#EBF0F8"
             },
             "line": {
              "color": "white"
             }
            },
            "header": {
             "fill": {
              "color": "#C8D4E3"
             },
             "line": {
              "color": "white"
             }
            },
            "type": "table"
           }
          ]
         },
         "layout": {
          "annotationdefaults": {
           "arrowcolor": "#2a3f5f",
           "arrowhead": 0,
           "arrowwidth": 1
          },
          "coloraxis": {
           "colorbar": {
            "outlinewidth": 0,
            "ticks": ""
           }
          },
          "colorscale": {
           "diverging": [
            [
             0,
             "#8e0152"
            ],
            [
             0.1,
             "#c51b7d"
            ],
            [
             0.2,
             "#de77ae"
            ],
            [
             0.3,
             "#f1b6da"
            ],
            [
             0.4,
             "#fde0ef"
            ],
            [
             0.5,
             "#f7f7f7"
            ],
            [
             0.6,
             "#e6f5d0"
            ],
            [
             0.7,
             "#b8e186"
            ],
            [
             0.8,
             "#7fbc41"
            ],
            [
             0.9,
             "#4d9221"
            ],
            [
             1,
             "#276419"
            ]
           ],
           "sequential": [
            [
             0,
             "#0d0887"
            ],
            [
             0.1111111111111111,
             "#46039f"
            ],
            [
             0.2222222222222222,
             "#7201a8"
            ],
            [
             0.3333333333333333,
             "#9c179e"
            ],
            [
             0.4444444444444444,
             "#bd3786"
            ],
            [
             0.5555555555555556,
             "#d8576b"
            ],
            [
             0.6666666666666666,
             "#ed7953"
            ],
            [
             0.7777777777777778,
             "#fb9f3a"
            ],
            [
             0.8888888888888888,
             "#fdca26"
            ],
            [
             1,
             "#f0f921"
            ]
           ],
           "sequentialminus": [
            [
             0,
             "#0d0887"
            ],
            [
             0.1111111111111111,
             "#46039f"
            ],
            [
             0.2222222222222222,
             "#7201a8"
            ],
            [
             0.3333333333333333,
             "#9c179e"
            ],
            [
             0.4444444444444444,
             "#bd3786"
            ],
            [
             0.5555555555555556,
             "#d8576b"
            ],
            [
             0.6666666666666666,
             "#ed7953"
            ],
            [
             0.7777777777777778,
             "#fb9f3a"
            ],
            [
             0.8888888888888888,
             "#fdca26"
            ],
            [
             1,
             "#f0f921"
            ]
           ]
          },
          "colorway": [
           "#636efa",
           "#EF553B",
           "#00cc96",
           "#ab63fa",
           "#FFA15A",
           "#19d3f3",
           "#FF6692",
           "#B6E880",
           "#FF97FF",
           "#FECB52"
          ],
          "font": {
           "color": "#2a3f5f"
          },
          "geo": {
           "bgcolor": "white",
           "lakecolor": "white",
           "landcolor": "#E5ECF6",
           "showlakes": true,
           "showland": true,
           "subunitcolor": "white"
          },
          "hoverlabel": {
           "align": "left"
          },
          "hovermode": "closest",
          "mapbox": {
           "style": "light"
          },
          "paper_bgcolor": "white",
          "plot_bgcolor": "#E5ECF6",
          "polar": {
           "angularaxis": {
            "gridcolor": "white",
            "linecolor": "white",
            "ticks": ""
           },
           "bgcolor": "#E5ECF6",
           "radialaxis": {
            "gridcolor": "white",
            "linecolor": "white",
            "ticks": ""
           }
          },
          "scene": {
           "xaxis": {
            "backgroundcolor": "#E5ECF6",
            "gridcolor": "white",
            "gridwidth": 2,
            "linecolor": "white",
            "showbackground": true,
            "ticks": "",
            "zerolinecolor": "white"
           },
           "yaxis": {
            "backgroundcolor": "#E5ECF6",
            "gridcolor": "white",
            "gridwidth": 2,
            "linecolor": "white",
            "showbackground": true,
            "ticks": "",
            "zerolinecolor": "white"
           },
           "zaxis": {
            "backgroundcolor": "#E5ECF6",
            "gridcolor": "white",
            "gridwidth": 2,
            "linecolor": "white",
            "showbackground": true,
            "ticks": "",
            "zerolinecolor": "white"
           }
          },
          "shapedefaults": {
           "line": {
            "color": "#2a3f5f"
           }
          },
          "ternary": {
           "aaxis": {
            "gridcolor": "white",
            "linecolor": "white",
            "ticks": ""
           },
           "baxis": {
            "gridcolor": "white",
            "linecolor": "white",
            "ticks": ""
           },
           "bgcolor": "#E5ECF6",
           "caxis": {
            "gridcolor": "white",
            "linecolor": "white",
            "ticks": ""
           }
          },
          "title": {
           "x": 0.05
          },
          "xaxis": {
           "automargin": true,
           "gridcolor": "white",
           "linecolor": "white",
           "ticks": "",
           "title": {
            "standoff": 15
           },
           "zerolinecolor": "white",
           "zerolinewidth": 2
          },
          "yaxis": {
           "automargin": true,
           "gridcolor": "white",
           "linecolor": "white",
           "ticks": "",
           "title": {
            "standoff": 15
           },
           "zerolinecolor": "white",
           "zerolinewidth": 2
          }
         }
        },
        "title": {
         "text": "Heatmap for TSMOM from 2001 - 2019"
        },
        "width": 600,
        "xaxis": {
         "dtick": 1,
         "gridcolor": "rgb(0, 0, 0)",
         "side": "top",
         "ticks": ""
        },
        "yaxis": {
         "dtick": 3,
         "tick0": 2,
         "ticks": "",
         "ticksuffix": "  ",
         "title": {
          "text": "Years"
         }
        }
       }
      },
      "text/html": [
       "<div>\n",
       "        \n",
       "        \n",
       "            <div id=\"cea869d4-1801-4bdb-968c-b0401a2b5a7e\" class=\"plotly-graph-div\" style=\"height:500px; width:600px;\"></div>\n",
       "            <script type=\"text/javascript\">\n",
       "                require([\"plotly\"], function(Plotly) {\n",
       "                    window.PLOTLYENV=window.PLOTLYENV || {};\n",
       "                    \n",
       "                if (document.getElementById(\"cea869d4-1801-4bdb-968c-b0401a2b5a7e\")) {\n",
       "                    Plotly.newPlot(\n",
       "                        'cea869d4-1801-4bdb-968c-b0401a2b5a7e',\n",
       "                        [{\"colorscale\": [[0.0, \"rgb(220, 58, 43)\"], [0.003937007874015748, \"rgb(221, 61, 45)\"], [0.007874015748031496, \"rgb(222, 63, 46)\"], [0.011811023622047244, \"rgb(223, 65, 47)\"], [0.015748031496062992, \"rgb(224, 68, 48)\"], [0.01968503937007874, \"rgb(225, 70, 49)\"], [0.023622047244094488, \"rgb(226, 73, 50)\"], [0.027559055118110236, \"rgb(228, 75, 51)\"], [0.031496062992125984, \"rgb(229, 77, 52)\"], [0.03543307086614173, \"rgb(230, 80, 53)\"], [0.03937007874015748, \"rgb(231, 82, 54)\"], [0.04330708661417323, \"rgb(232, 85, 56)\"], [0.047244094488188976, \"rgb(234, 89, 58)\"], [0.051181102362204724, \"rgb(236, 92, 59)\"], [0.05511811023622047, \"rgb(237, 94, 60)\"], [0.05905511811023622, \"rgb(238, 97, 61)\"], [0.06299212598425197, \"rgb(239, 99, 62)\"], [0.06692913385826771, \"rgb(240, 101, 63)\"], [0.07086614173228346, \"rgb(241, 104, 64)\"], [0.07480314960629922, \"rgb(242, 106, 65)\"], [0.07874015748031496, \"rgb(244, 109, 67)\"], [0.0826771653543307, \"rgb(244, 111, 68)\"], [0.08661417322834646, \"rgb(244, 114, 69)\"], [0.09055118110236221, \"rgb(245, 116, 70)\"], [0.09448818897637795, \"rgb(245, 119, 71)\"], [0.09842519685039369, \"rgb(245, 121, 72)\"], [0.10236220472440945, \"rgb(246, 124, 74)\"], [0.1062992125984252, \"rgb(246, 126, 75)\"], [0.11023622047244094, \"rgb(246, 129, 76)\"], [0.11417322834645668, \"rgb(247, 131, 77)\"], [0.11811023622047244, \"rgb(247, 134, 78)\"], [0.1220472440944882, \"rgb(247, 137, 79)\"], [0.12598425196850394, \"rgb(248, 139, 81)\"], [0.12992125984251968, \"rgb(248, 142, 82)\"], [0.13385826771653542, \"rgb(248, 144, 83)\"], [0.1377952755905512, \"rgb(249, 147, 84)\"], [0.14173228346456693, \"rgb(249, 149, 85)\"], [0.14566929133858267, \"rgb(250, 152, 86)\"], [0.14960629921259844, \"rgb(250, 154, 88)\"], [0.15354330708661418, \"rgb(250, 157, 89)\"], [0.15748031496062992, \"rgb(251, 159, 90)\"], [0.16141732283464566, \"rgb(251, 162, 91)\"], [0.1653543307086614, \"rgb(251, 165, 92)\"], [0.16929133858267717, \"rgb(252, 167, 94)\"], [0.1732283464566929, \"rgb(252, 170, 95)\"], [0.17716535433070865, \"rgb(252, 172, 96)\"], [0.18110236220472442, \"rgb(253, 174, 97)\"], [0.18503937007874016, \"rgb(253, 176, 99)\"], [0.1889763779527559, \"rgb(253, 178, 101)\"], [0.19291338582677164, \"rgb(253, 180, 102)\"], [0.19685039370078738, \"rgb(253, 182, 104)\"], [0.20078740157480315, \"rgb(253, 184, 106)\"], [0.2047244094488189, \"rgb(253, 186, 107)\"], [0.20866141732283464, \"rgb(253, 188, 109)\"], [0.2125984251968504, \"rgb(253, 192, 112)\"], [0.21653543307086615, \"rgb(253, 194, 114)\"], [0.2204724409448819, \"rgb(253, 196, 115)\"], [0.22440944881889763, \"rgb(253, 198, 117)\"], [0.22834645669291337, \"rgb(253, 200, 119)\"], [0.23228346456692914, \"rgb(253, 202, 120)\"], [0.23622047244094488, \"rgb(253, 204, 122)\"], [0.24015748031496062, \"rgb(253, 206, 124)\"], [0.2440944881889764, \"rgb(253, 208, 125)\"], [0.24803149606299213, \"rgb(253, 210, 127)\"], [0.25196850393700787, \"rgb(253, 212, 129)\"], [0.2559055118110236, \"rgb(253, 214, 130)\"], [0.25984251968503935, \"rgb(253, 216, 132)\"], [0.2637795275590551, \"rgb(253, 218, 134)\"], [0.26771653543307083, \"rgb(253, 220, 135)\"], [0.27165354330708663, \"rgb(253, 222, 137)\"], [0.2755905511811024, \"rgb(254, 224, 139)\"], [0.2795275590551181, \"rgb(254, 225, 141)\"], [0.28346456692913385, \"rgb(254, 226, 143)\"], [0.2874015748031496, \"rgb(254, 227, 145)\"], [0.29133858267716534, \"rgb(254, 228, 147)\"], [0.2952755905511811, \"rgb(254, 230, 149)\"], [0.2992125984251969, \"rgb(254, 231, 151)\"], [0.3031496062992126, \"rgb(254, 232, 153)\"], [0.30708661417322836, \"rgb(254, 233, 155)\"], [0.3110236220472441, \"rgb(254, 234, 157)\"], [0.31496062992125984, \"rgb(254, 236, 159)\"], [0.3188976377952756, \"rgb(254, 237, 161)\"], [0.3228346456692913, \"rgb(254, 238, 163)\"], [0.32677165354330706, \"rgb(254, 239, 165)\"], [0.3307086614173228, \"rgb(254, 241, 167)\"], [0.3346456692913386, \"rgb(254, 242, 169)\"], [0.33858267716535434, \"rgb(254, 243, 171)\"], [0.3425196850393701, \"rgb(254, 244, 173)\"], [0.3464566929133858, \"rgb(254, 245, 175)\"], [0.35039370078740156, \"rgb(254, 247, 177)\"], [0.3543307086614173, \"rgb(254, 248, 179)\"], [0.35826771653543305, \"rgb(254, 249, 181)\"], [0.36220472440944884, \"rgb(254, 250, 183)\"], [0.3661417322834646, \"rgb(254, 251, 185)\"], [0.3700787401574803, \"rgb(254, 253, 187)\"], [0.37401574803149606, \"rgb(254, 254, 189)\"], [0.3779527559055118, \"rgb(252, 254, 187)\"], [0.38188976377952755, \"rgb(251, 253, 185)\"], [0.3858267716535433, \"rgb(249, 252, 183)\"], [0.38976377952755903, \"rgb(248, 252, 181)\"], [0.39370078740157477, \"rgb(246, 251, 179)\"], [0.39763779527559057, \"rgb(245, 250, 177)\"], [0.4015748031496063, \"rgb(243, 250, 175)\"], [0.40551181102362205, \"rgb(242, 249, 173)\"], [0.4094488188976378, \"rgb(240, 249, 171)\"], [0.41338582677165353, \"rgb(239, 248, 169)\"], [0.41732283464566927, \"rgb(237, 247, 167)\"], [0.421259842519685, \"rgb(236, 247, 165)\"], [0.4251968503937008, \"rgb(234, 246, 163)\"], [0.42913385826771655, \"rgb(233, 245, 161)\"], [0.4330708661417323, \"rgb(231, 245, 159)\"], [0.43700787401574803, \"rgb(230, 244, 157)\"], [0.4409448818897638, \"rgb(228, 244, 155)\"], [0.4448818897637795, \"rgb(227, 243, 153)\"], [0.44881889763779526, \"rgb(225, 242, 151)\"], [0.452755905511811, \"rgb(224, 242, 149)\"], [0.45669291338582674, \"rgb(222, 241, 147)\"], [0.46062992125984253, \"rgb(221, 240, 145)\"], [0.4645669291338583, \"rgb(219, 240, 143)\"], [0.468503937007874, \"rgb(218, 239, 141)\"], [0.47244094488188976, \"rgb(217, 239, 139)\"], [0.4763779527559055, \"rgb(215, 238, 137)\"], [0.48031496062992124, \"rgb(213, 237, 136)\"], [0.484251968503937, \"rgb(211, 236, 135)\"], [0.4881889763779528, \"rgb(209, 235, 133)\"], [0.4921259842519685, \"rgb(207, 234, 132)\"], [0.49606299212598426, \"rgb(205, 233, 131)\"], [0.5, \"rgb(203, 232, 129)\"], [0.5039370078740157, \"rgb(201, 232, 128)\"], [0.5078740157480315, \"rgb(199, 231, 127)\"], [0.5118110236220472, \"rgb(197, 230, 126)\"], [0.515748031496063, \"rgb(195, 229, 124)\"], [0.5196850393700787, \"rgb(193, 228, 123)\"], [0.5236220472440944, \"rgb(191, 227, 122)\"], [0.5275590551181102, \"rgb(189, 226, 120)\"], [0.5314960629921259, \"rgb(187, 226, 119)\"], [0.5354330708661417, \"rgb(185, 225, 118)\"], [0.5393700787401575, \"rgb(181, 223, 115)\"], [0.5433070866141733, \"rgb(179, 222, 114)\"], [0.547244094488189, \"rgb(177, 221, 113)\"], [0.5511811023622047, \"rgb(175, 220, 111)\"], [0.5551181102362205, \"rgb(173, 220, 110)\"], [0.5590551181102362, \"rgb(171, 219, 109)\"], [0.562992125984252, \"rgb(169, 218, 107)\"], [0.5669291338582677, \"rgb(167, 217, 106)\"], [0.5708661417322834, \"rgb(164, 216, 105)\"], [0.5748031496062992, \"rgb(162, 215, 105)\"], [0.5787401574803149, \"rgb(159, 214, 105)\"], [0.5826771653543307, \"rgb(157, 213, 105)\"], [0.5866141732283464, \"rgb(154, 212, 104)\"], [0.5905511811023622, \"rgb(152, 210, 104)\"], [0.5944881889763779, \"rgb(149, 209, 104)\"], [0.5984251968503937, \"rgb(147, 208, 103)\"], [0.6023622047244095, \"rgb(144, 207, 103)\"], [0.6062992125984252, \"rgb(142, 206, 103)\"], [0.610236220472441, \"rgb(139, 205, 103)\"], [0.6141732283464567, \"rgb(137, 204, 102)\"], [0.6181102362204725, \"rgb(134, 203, 102)\"], [0.6220472440944882, \"rgb(132, 202, 102)\"], [0.6259842519685039, \"rgb(129, 201, 102)\"], [0.6299212598425197, \"rgb(127, 199, 101)\"], [0.6338582677165354, \"rgb(124, 198, 101)\"], [0.6377952755905512, \"rgb(122, 197, 101)\"], [0.6417322834645669, \"rgb(119, 196, 100)\"], [0.6456692913385826, \"rgb(117, 195, 100)\"], [0.6496062992125984, \"rgb(114, 194, 100)\"], [0.6535433070866141, \"rgb(112, 193, 100)\"], [0.6574803149606299, \"rgb(109, 192, 99)\"], [0.6614173228346456, \"rgb(107, 191, 99)\"], [0.6653543307086615, \"rgb(104, 190, 99)\"], [0.6692913385826772, \"rgb(102, 189, 99)\"], [0.6732283464566929, \"rgb(99, 187, 98)\"], [0.6771653543307087, \"rgb(96, 186, 97)\"], [0.6811023622047244, \"rgb(93, 184, 96)\"], [0.6850393700787402, \"rgb(90, 183, 96)\"], [0.6889763779527559, \"rgb(87, 181, 95)\"], [0.6929133858267716, \"rgb(84, 180, 94)\"], [0.6968503937007874, \"rgb(81, 178, 93)\"], [0.7007874015748031, \"rgb(78, 177, 93)\"], [0.7047244094488189, \"rgb(72, 174, 91)\"], [0.7086614173228346, \"rgb(69, 173, 90)\"], [0.7125984251968503, \"rgb(66, 171, 90)\"], [0.7165354330708661, \"rgb(63, 170, 89)\"], [0.7204724409448818, \"rgb(60, 168, 88)\"], [0.7244094488188977, \"rgb(57, 167, 87)\"], [0.7283464566929134, \"rgb(54, 165, 87)\"], [0.7322834645669292, \"rgb(51, 164, 86)\"], [0.7362204724409449, \"rgb(48, 162, 85)\"], [0.7401574803149606, \"rgb(45, 161, 84)\"], [0.7440944881889764, \"rgb(42, 159, 84)\"], [0.7480314960629921, \"rgb(39, 158, 83)\"], [0.7519685039370079, \"rgb(36, 157, 82)\"], [0.7559055118110236, \"rgb(33, 155, 81)\"], [0.7598425196850394, \"rgb(30, 154, 81)\"], [0.7637795275590551, \"rgb(27, 152, 80)\"], [0.7677165354330708, \"rgb(25, 151, 79)\"], [0.7716535433070866, \"rgb(24, 149, 78)\"], [0.7755905511811023, \"rgb(23, 147, 77)\"], [0.7795275590551181, \"rgb(22, 145, 76)\"], [0.7834645669291338, \"rgb(21, 143, 75)\"], [0.7874015748031495, \"rgb(20, 141, 74)\"], [0.7913385826771654, \"rgb(19, 139, 73)\"], [0.7952755905511811, \"rgb(18, 137, 72)\"], [0.7992125984251969, \"rgb(17, 136, 71)\"], [0.8031496062992126, \"rgb(16, 134, 70)\"], [0.8070866141732284, \"rgb(15, 132, 69)\"], [0.8110236220472441, \"rgb(14, 130, 68)\"], [0.8149606299212598, \"rgb(13, 128, 67)\"], [0.8188976377952756, \"rgb(12, 126, 66)\"], [0.8228346456692913, \"rgb(11, 124, 65)\"], [0.8267716535433071, \"rgb(10, 122, 64)\"], [0.8307086614173228, \"rgb(9, 120, 63)\"], [0.8346456692913385, \"rgb(8, 119, 62)\"], [0.8385826771653543, \"rgb(7, 117, 61)\"], [0.84251968503937, \"rgb(6, 115, 60)\"], [0.8464566929133858, \"rgb(5, 113, 59)\"], [0.8503937007874016, \"rgb(4, 111, 58)\"], [0.8543307086614174, \"rgb(3, 109, 57)\"], [0.8582677165354331, \"rgb(2, 107, 56)\"], [0.8622047244094488, \"rgb(1, 105, 55)\"], [0.8661417322834646, \"rgb(0, 104, 55)\"], [0.8700787401574803, \"rgb(0, 104, 55)\"], [0.8740157480314961, \"rgb(0, 104, 55)\"], [0.8779527559055118, \"rgb(0, 104, 55)\"], [0.8818897637795275, \"rgb(0, 104, 55)\"], [0.8858267716535433, \"rgb(0, 104, 55)\"], [0.889763779527559, \"rgb(0, 104, 55)\"], [0.8937007874015748, \"rgb(0, 104, 55)\"], [0.8976377952755905, \"rgb(0, 104, 55)\"], [0.9015748031496063, \"rgb(0, 104, 55)\"], [0.905511811023622, \"rgb(0, 104, 55)\"], [0.9094488188976377, \"rgb(0, 104, 55)\"], [0.9133858267716535, \"rgb(0, 104, 55)\"], [0.9173228346456693, \"rgb(0, 104, 55)\"], [0.9212598425196851, \"rgb(0, 104, 55)\"], [0.9251968503937008, \"rgb(0, 104, 55)\"], [0.9291338582677166, \"rgb(0, 104, 55)\"], [0.9330708661417323, \"rgb(0, 104, 55)\"], [0.937007874015748, \"rgb(0, 104, 55)\"], [0.9409448818897638, \"rgb(0, 104, 55)\"], [0.9448818897637795, \"rgb(0, 104, 55)\"], [0.9488188976377953, \"rgb(0, 104, 55)\"], [0.952755905511811, \"rgb(0, 104, 55)\"], [0.9566929133858267, \"rgb(0, 104, 55)\"], [0.9606299212598425, \"rgb(0, 104, 55)\"], [0.9645669291338582, \"rgb(0, 104, 55)\"], [0.968503937007874, \"rgb(0, 104, 55)\"], [0.9724409448818897, \"rgb(0, 104, 55)\"], [0.9763779527559056, \"rgb(0, 104, 55)\"], [0.9803149606299213, \"rgb(0, 104, 55)\"], [0.984251968503937, \"rgb(0, 104, 55)\"], [0.9881889763779528, \"rgb(0, 104, 55)\"], [0.9921259842519685, \"rgb(0, 104, 55)\"], [0.9960629921259843, \"rgb(0, 104, 55)\"], [1.0, \"rgb(0, 104, 55)\"]], \"hoverinfo\": \"y+z\", \"reversescale\": false, \"showscale\": false, \"type\": \"heatmap\", \"x\": [\"Jan\", \"Feb\", \"Mar\", \"Apr\", \"May\", \"Jun\", \"Jul\", \"Aug\", \"Sep\", \"Oct\", \"Nov\", \"Dec\"], \"y\": [2019, 2018, 2017, 2016, 2015, 2014, 2013, 2012, 2011, 2010, 2009, 2008, 2007, 2006, 2005, 2004, 2003, 2002, 2001], \"z\": [[6.460000000000001, 3.39, 0.89, 3.5700000000000003, 3.08, 10.280000000000001, 11.29, 5.88, 4.42, 5.99, 0.76, 4.15], [3.49, 4.06, 8.6, 7.22, 5.06, 5.2299999999999995, 3.09, 3.29, 8.08, 1.44, 0.8500000000000001, -1.18], [2.88, 1.13, 7.02, 2.07, 9.35, 3.1, 2.8400000000000003, 8.68, 2.48, 4.0, 1.1199999999999999, -2.0], [4.04, 0.8500000000000001, 3.6700000000000004, 1.9900000000000002, 4.9, 1.24, 1.5599999999999998, 3.9, 2.98, 3.2399999999999998, 0.58, 1.23], [3.52, -0.8200000000000001, 8.63, -2.91, 4.83, 6.08, 4.52, 5.779999999999999, 1.02, -1.1900000000000002, 0.74, 1.53], [6.4, 6.17, 0.27999999999999997, -2.03, 1.16, 4.75, 6.239999999999999, 14.12, 7.24, 4.47, 7.6499999999999995, 10.16], [1.8399999999999999, 6.93, 7.489999999999999, 0.48, 7.140000000000001, 7.35, 7.380000000000001, 1.48, 1.35, 0.72, 0.74, 2.4899999999999998], [-6.23, 2.11, 8.219999999999999, 3.66, 5.949999999999999, -1.8599999999999999, 3.66, 6.4399999999999995, -1.67, 3.63, 2.32, 3.0], [6.260000000000001, 5.24, 3.62, 0.63, 4.34, 4.36, 3.53, 9.82, 2.08, 0.8200000000000001, 6.58, 6.419999999999999], [1.3599999999999999, 5.82, 3.08, 4.859999999999999, 7.32, 0.02, 4.73, 5.1499999999999995, 1.6500000000000001, 3.74, 6.859999999999999, -1.39], [4.06, 6.68, 1.1900000000000002, -12.34, -14.06, 3.4799999999999995, 3.4099999999999997, -1.9800000000000002, 0.9900000000000001, 8.200000000000001, 2.04, 4.03], [15.540000000000001, -1.1900000000000002, 5.2299999999999995, -0.22, 1.22, 5.24, 3.0700000000000003, -0.8999999999999999, 8.01, 23.16, 5.33, -5.6000000000000005], [0.65, 2.08, 4.7, 2.34, 4.6899999999999995, 3.7600000000000002, 5.92, 2.94, 4.96, 13.41, 2.77, 2.5], [6.6000000000000005, 2.8000000000000003, 8.98, 1.47, -0.32, 6.05, 2.35, -1.79, 2.91, 1.47, 5.38, 1.6400000000000001], [4.279999999999999, 5.21, 6.140000000000001, 3.47, 2.3, 0.51, 3.05, 4.2700000000000005, -2.7199999999999998, 0.65, 2.45, 6.39], [11.709999999999999, 6.52, 8.07, 3.4299999999999997, -5.58, 3.82, 4.51, 5.28, -3.0700000000000003, 3.64, 2.94, 0.83], [9.33, 3.3099999999999996, 14.249999999999998, 0.6799999999999999, 8.780000000000001, 2.36, 5.949999999999999, 4.67, 7.920000000000001, 13.22, -0.83, 3.34], [6.67, 3.05, 4.81, 6.21, 0.8200000000000001, 7.37, 1.28, 1.49, 2.75, 7.82, -2.17, 3.34], [0.0, 4.17, 18.17, 7.24, -4.51, 7.1499999999999995, 7.16, -2.08, 6.38, -0.86, -5.81, 1.0699999999999998]]}],\n",
       "                        {\"annotations\": [{\"font\": {\"color\": \"white\", \"size\": 10}, \"showarrow\": false, \"text\": \"6.46\", \"x\": \"Jan\", \"xref\": \"x\", \"y\": 2019, \"yref\": \"y\"}, {\"font\": {\"color\": \"black\", \"size\": 10}, \"showarrow\": false, \"text\": \"3.39\", \"x\": \"Feb\", \"xref\": \"x\", \"y\": 2019, \"yref\": \"y\"}, {\"font\": {\"color\": \"black\", \"size\": 10}, \"showarrow\": false, \"text\": \"0.89\", \"x\": \"Mar\", \"xref\": \"x\", \"y\": 2019, \"yref\": \"y\"}, {\"font\": {\"color\": \"black\", \"size\": 10}, \"showarrow\": false, \"text\": \"3.57\", \"x\": \"Apr\", \"xref\": \"x\", \"y\": 2019, \"yref\": \"y\"}, {\"font\": {\"color\": \"black\", \"size\": 10}, \"showarrow\": false, \"text\": \"3.08\", \"x\": \"May\", \"xref\": \"x\", \"y\": 2019, \"yref\": \"y\"}, {\"font\": {\"color\": \"white\", \"size\": 10}, \"showarrow\": false, \"text\": \"10.28\", \"x\": \"Jun\", \"xref\": \"x\", \"y\": 2019, \"yref\": \"y\"}, {\"font\": {\"color\": \"white\", \"size\": 10}, \"showarrow\": false, \"text\": \"11.29\", \"x\": \"Jul\", \"xref\": \"x\", \"y\": 2019, \"yref\": \"y\"}, {\"font\": {\"color\": \"white\", \"size\": 10}, \"showarrow\": false, \"text\": \"5.88\", \"x\": \"Aug\", \"xref\": \"x\", \"y\": 2019, \"yref\": \"y\"}, {\"font\": {\"color\": \"black\", \"size\": 10}, \"showarrow\": false, \"text\": \"4.42\", \"x\": \"Sep\", \"xref\": \"x\", \"y\": 2019, \"yref\": \"y\"}, {\"font\": {\"color\": \"white\", \"size\": 10}, \"showarrow\": false, \"text\": \"5.99\", \"x\": \"Oct\", \"xref\": \"x\", \"y\": 2019, \"yref\": \"y\"}, {\"font\": {\"color\": \"black\", \"size\": 10}, \"showarrow\": false, \"text\": \"0.76\", \"x\": \"Nov\", \"xref\": \"x\", \"y\": 2019, \"yref\": \"y\"}, {\"font\": {\"color\": \"black\", \"size\": 10}, \"showarrow\": false, \"text\": \"4.15\", \"x\": \"Dec\", \"xref\": \"x\", \"y\": 2019, \"yref\": \"y\"}, {\"font\": {\"color\": \"black\", \"size\": 10}, \"showarrow\": false, \"text\": \"3.49\", \"x\": \"Jan\", \"xref\": \"x\", \"y\": 2018, \"yref\": \"y\"}, {\"font\": {\"color\": \"black\", \"size\": 10}, \"showarrow\": false, \"text\": \"4.06\", \"x\": \"Feb\", \"xref\": \"x\", \"y\": 2018, \"yref\": \"y\"}, {\"font\": {\"color\": \"white\", \"size\": 10}, \"showarrow\": false, \"text\": \"8.6\", \"x\": \"Mar\", \"xref\": \"x\", \"y\": 2018, \"yref\": \"y\"}, {\"font\": {\"color\": \"white\", \"size\": 10}, \"showarrow\": false, \"text\": \"7.22\", \"x\": \"Apr\", \"xref\": \"x\", \"y\": 2018, \"yref\": \"y\"}, {\"font\": {\"color\": \"white\", \"size\": 10}, \"showarrow\": false, \"text\": \"5.06\", \"x\": \"May\", \"xref\": \"x\", \"y\": 2018, \"yref\": \"y\"}, {\"font\": {\"color\": \"white\", \"size\": 10}, \"showarrow\": false, \"text\": \"5.23\", \"x\": \"Jun\", \"xref\": \"x\", \"y\": 2018, \"yref\": \"y\"}, {\"font\": {\"color\": \"black\", \"size\": 10}, \"showarrow\": false, \"text\": \"3.09\", \"x\": \"Jul\", \"xref\": \"x\", \"y\": 2018, \"yref\": \"y\"}, {\"font\": {\"color\": \"black\", \"size\": 10}, \"showarrow\": false, \"text\": \"3.29\", \"x\": \"Aug\", \"xref\": \"x\", \"y\": 2018, \"yref\": \"y\"}, {\"font\": {\"color\": \"white\", \"size\": 10}, \"showarrow\": false, \"text\": \"8.08\", \"x\": \"Sep\", \"xref\": \"x\", \"y\": 2018, \"yref\": \"y\"}, {\"font\": {\"color\": \"black\", \"size\": 10}, \"showarrow\": false, \"text\": \"1.44\", \"x\": \"Oct\", \"xref\": \"x\", \"y\": 2018, \"yref\": \"y\"}, {\"font\": {\"color\": \"black\", \"size\": 10}, \"showarrow\": false, \"text\": \"0.85\", \"x\": \"Nov\", \"xref\": \"x\", \"y\": 2018, \"yref\": \"y\"}, {\"font\": {\"color\": \"black\", \"size\": 10}, \"showarrow\": false, \"text\": \"-1.18\", \"x\": \"Dec\", \"xref\": \"x\", \"y\": 2018, \"yref\": \"y\"}, {\"font\": {\"color\": \"black\", \"size\": 10}, \"showarrow\": false, \"text\": \"2.88\", \"x\": \"Jan\", \"xref\": \"x\", \"y\": 2017, \"yref\": \"y\"}, {\"font\": {\"color\": \"black\", \"size\": 10}, \"showarrow\": false, \"text\": \"1.13\", \"x\": \"Feb\", \"xref\": \"x\", \"y\": 2017, \"yref\": \"y\"}, {\"font\": {\"color\": \"white\", \"size\": 10}, \"showarrow\": false, \"text\": \"7.02\", \"x\": \"Mar\", \"xref\": \"x\", \"y\": 2017, \"yref\": \"y\"}, {\"font\": {\"color\": \"black\", \"size\": 10}, \"showarrow\": false, \"text\": \"2.07\", \"x\": \"Apr\", \"xref\": \"x\", \"y\": 2017, \"yref\": \"y\"}, {\"font\": {\"color\": \"white\", \"size\": 10}, \"showarrow\": false, \"text\": \"9.35\", \"x\": \"May\", \"xref\": \"x\", \"y\": 2017, \"yref\": \"y\"}, {\"font\": {\"color\": \"black\", \"size\": 10}, \"showarrow\": false, \"text\": \"3.1\", \"x\": \"Jun\", \"xref\": \"x\", \"y\": 2017, \"yref\": \"y\"}, {\"font\": {\"color\": \"black\", \"size\": 10}, \"showarrow\": false, \"text\": \"2.84\", \"x\": \"Jul\", \"xref\": \"x\", \"y\": 2017, \"yref\": \"y\"}, {\"font\": {\"color\": \"white\", \"size\": 10}, \"showarrow\": false, \"text\": \"8.68\", \"x\": \"Aug\", \"xref\": \"x\", \"y\": 2017, \"yref\": \"y\"}, {\"font\": {\"color\": \"black\", \"size\": 10}, \"showarrow\": false, \"text\": \"2.48\", \"x\": \"Sep\", \"xref\": \"x\", \"y\": 2017, \"yref\": \"y\"}, {\"font\": {\"color\": \"black\", \"size\": 10}, \"showarrow\": false, \"text\": \"4.0\", \"x\": \"Oct\", \"xref\": \"x\", \"y\": 2017, \"yref\": \"y\"}, {\"font\": {\"color\": \"black\", \"size\": 10}, \"showarrow\": false, \"text\": \"1.12\", \"x\": \"Nov\", \"xref\": \"x\", \"y\": 2017, \"yref\": \"y\"}, {\"font\": {\"color\": \"black\", \"size\": 10}, \"showarrow\": false, \"text\": \"-2.0\", \"x\": \"Dec\", \"xref\": \"x\", \"y\": 2017, \"yref\": \"y\"}, {\"font\": {\"color\": \"black\", \"size\": 10}, \"showarrow\": false, \"text\": \"4.04\", \"x\": \"Jan\", \"xref\": \"x\", \"y\": 2016, \"yref\": \"y\"}, {\"font\": {\"color\": \"black\", \"size\": 10}, \"showarrow\": false, \"text\": \"0.85\", \"x\": \"Feb\", \"xref\": \"x\", \"y\": 2016, \"yref\": \"y\"}, {\"font\": {\"color\": \"black\", \"size\": 10}, \"showarrow\": false, \"text\": \"3.67\", \"x\": \"Mar\", \"xref\": \"x\", \"y\": 2016, \"yref\": \"y\"}, {\"font\": {\"color\": \"black\", \"size\": 10}, \"showarrow\": false, \"text\": \"1.99\", \"x\": \"Apr\", \"xref\": \"x\", \"y\": 2016, \"yref\": \"y\"}, {\"font\": {\"color\": \"white\", \"size\": 10}, \"showarrow\": false, \"text\": \"4.9\", \"x\": \"May\", \"xref\": \"x\", \"y\": 2016, \"yref\": \"y\"}, {\"font\": {\"color\": \"black\", \"size\": 10}, \"showarrow\": false, \"text\": \"1.24\", \"x\": \"Jun\", \"xref\": \"x\", \"y\": 2016, \"yref\": \"y\"}, {\"font\": {\"color\": \"black\", \"size\": 10}, \"showarrow\": false, \"text\": \"1.56\", \"x\": \"Jul\", \"xref\": \"x\", \"y\": 2016, \"yref\": \"y\"}, {\"font\": {\"color\": \"black\", \"size\": 10}, \"showarrow\": false, \"text\": \"3.9\", \"x\": \"Aug\", \"xref\": \"x\", \"y\": 2016, \"yref\": \"y\"}, {\"font\": {\"color\": \"black\", \"size\": 10}, \"showarrow\": false, \"text\": \"2.98\", \"x\": \"Sep\", \"xref\": \"x\", \"y\": 2016, \"yref\": \"y\"}, {\"font\": {\"color\": \"black\", \"size\": 10}, \"showarrow\": false, \"text\": \"3.24\", \"x\": \"Oct\", \"xref\": \"x\", \"y\": 2016, \"yref\": \"y\"}, {\"font\": {\"color\": \"black\", \"size\": 10}, \"showarrow\": false, \"text\": \"0.58\", \"x\": \"Nov\", \"xref\": \"x\", \"y\": 2016, \"yref\": \"y\"}, {\"font\": {\"color\": \"black\", \"size\": 10}, \"showarrow\": false, \"text\": \"1.23\", \"x\": \"Dec\", \"xref\": \"x\", \"y\": 2016, \"yref\": \"y\"}, {\"font\": {\"color\": \"black\", \"size\": 10}, \"showarrow\": false, \"text\": \"3.52\", \"x\": \"Jan\", \"xref\": \"x\", \"y\": 2015, \"yref\": \"y\"}, {\"font\": {\"color\": \"black\", \"size\": 10}, \"showarrow\": false, \"text\": \"-0.82\", \"x\": \"Feb\", \"xref\": \"x\", \"y\": 2015, \"yref\": \"y\"}, {\"font\": {\"color\": \"white\", \"size\": 10}, \"showarrow\": false, \"text\": \"8.63\", \"x\": \"Mar\", \"xref\": \"x\", \"y\": 2015, \"yref\": \"y\"}, {\"font\": {\"color\": \"black\", \"size\": 10}, \"showarrow\": false, \"text\": \"-2.91\", \"x\": \"Apr\", \"xref\": \"x\", \"y\": 2015, \"yref\": \"y\"}, {\"font\": {\"color\": \"white\", \"size\": 10}, \"showarrow\": false, \"text\": \"4.83\", \"x\": \"May\", \"xref\": \"x\", \"y\": 2015, \"yref\": \"y\"}, {\"font\": {\"color\": \"white\", \"size\": 10}, \"showarrow\": false, \"text\": \"6.08\", \"x\": \"Jun\", \"xref\": \"x\", \"y\": 2015, \"yref\": \"y\"}, {\"font\": {\"color\": \"black\", \"size\": 10}, \"showarrow\": false, \"text\": \"4.52\", \"x\": \"Jul\", \"xref\": \"x\", \"y\": 2015, \"yref\": \"y\"}, {\"font\": {\"color\": \"white\", \"size\": 10}, \"showarrow\": false, \"text\": \"5.78\", \"x\": \"Aug\", \"xref\": \"x\", \"y\": 2015, \"yref\": \"y\"}, {\"font\": {\"color\": \"black\", \"size\": 10}, \"showarrow\": false, \"text\": \"1.02\", \"x\": \"Sep\", \"xref\": \"x\", \"y\": 2015, \"yref\": \"y\"}, {\"font\": {\"color\": \"black\", \"size\": 10}, \"showarrow\": false, \"text\": \"-1.19\", \"x\": \"Oct\", \"xref\": \"x\", \"y\": 2015, \"yref\": \"y\"}, {\"font\": {\"color\": \"black\", \"size\": 10}, \"showarrow\": false, \"text\": \"0.74\", \"x\": \"Nov\", \"xref\": \"x\", \"y\": 2015, \"yref\": \"y\"}, {\"font\": {\"color\": \"black\", \"size\": 10}, \"showarrow\": false, \"text\": \"1.53\", \"x\": \"Dec\", \"xref\": \"x\", \"y\": 2015, \"yref\": \"y\"}, {\"font\": {\"color\": \"white\", \"size\": 10}, \"showarrow\": false, \"text\": \"6.4\", \"x\": \"Jan\", \"xref\": \"x\", \"y\": 2014, \"yref\": \"y\"}, {\"font\": {\"color\": \"white\", \"size\": 10}, \"showarrow\": false, \"text\": \"6.17\", \"x\": \"Feb\", \"xref\": \"x\", \"y\": 2014, \"yref\": \"y\"}, {\"font\": {\"color\": \"black\", \"size\": 10}, \"showarrow\": false, \"text\": \"0.28\", \"x\": \"Mar\", \"xref\": \"x\", \"y\": 2014, \"yref\": \"y\"}, {\"font\": {\"color\": \"black\", \"size\": 10}, \"showarrow\": false, \"text\": \"-2.03\", \"x\": \"Apr\", \"xref\": \"x\", \"y\": 2014, \"yref\": \"y\"}, {\"font\": {\"color\": \"black\", \"size\": 10}, \"showarrow\": false, \"text\": \"1.16\", \"x\": \"May\", \"xref\": \"x\", \"y\": 2014, \"yref\": \"y\"}, {\"font\": {\"color\": \"white\", \"size\": 10}, \"showarrow\": false, \"text\": \"4.75\", \"x\": \"Jun\", \"xref\": \"x\", \"y\": 2014, \"yref\": \"y\"}, {\"font\": {\"color\": \"white\", \"size\": 10}, \"showarrow\": false, \"text\": \"6.24\", \"x\": \"Jul\", \"xref\": \"x\", \"y\": 2014, \"yref\": \"y\"}, {\"font\": {\"color\": \"white\", \"size\": 10}, \"showarrow\": false, \"text\": \"14.12\", \"x\": \"Aug\", \"xref\": \"x\", \"y\": 2014, \"yref\": \"y\"}, {\"font\": {\"color\": \"white\", \"size\": 10}, \"showarrow\": false, \"text\": \"7.24\", \"x\": \"Sep\", \"xref\": \"x\", \"y\": 2014, \"yref\": \"y\"}, {\"font\": {\"color\": \"black\", \"size\": 10}, \"showarrow\": false, \"text\": \"4.47\", \"x\": \"Oct\", \"xref\": \"x\", \"y\": 2014, \"yref\": \"y\"}, {\"font\": {\"color\": \"white\", \"size\": 10}, \"showarrow\": false, \"text\": \"7.65\", \"x\": \"Nov\", \"xref\": \"x\", \"y\": 2014, \"yref\": \"y\"}, {\"font\": {\"color\": \"white\", \"size\": 10}, \"showarrow\": false, \"text\": \"10.16\", \"x\": \"Dec\", \"xref\": \"x\", \"y\": 2014, \"yref\": \"y\"}, {\"font\": {\"color\": \"black\", \"size\": 10}, \"showarrow\": false, \"text\": \"1.84\", \"x\": \"Jan\", \"xref\": \"x\", \"y\": 2013, \"yref\": \"y\"}, {\"font\": {\"color\": \"white\", \"size\": 10}, \"showarrow\": false, \"text\": \"6.93\", \"x\": \"Feb\", \"xref\": \"x\", \"y\": 2013, \"yref\": \"y\"}, {\"font\": {\"color\": \"white\", \"size\": 10}, \"showarrow\": false, \"text\": \"7.49\", \"x\": \"Mar\", \"xref\": \"x\", \"y\": 2013, \"yref\": \"y\"}, {\"font\": {\"color\": \"black\", \"size\": 10}, \"showarrow\": false, \"text\": \"0.48\", \"x\": \"Apr\", \"xref\": \"x\", \"y\": 2013, \"yref\": \"y\"}, {\"font\": {\"color\": \"white\", \"size\": 10}, \"showarrow\": false, \"text\": \"7.14\", \"x\": \"May\", \"xref\": \"x\", \"y\": 2013, \"yref\": \"y\"}, {\"font\": {\"color\": \"white\", \"size\": 10}, \"showarrow\": false, \"text\": \"7.35\", \"x\": \"Jun\", \"xref\": \"x\", \"y\": 2013, \"yref\": \"y\"}, {\"font\": {\"color\": \"white\", \"size\": 10}, \"showarrow\": false, \"text\": \"7.38\", \"x\": \"Jul\", \"xref\": \"x\", \"y\": 2013, \"yref\": \"y\"}, {\"font\": {\"color\": \"black\", \"size\": 10}, \"showarrow\": false, \"text\": \"1.48\", \"x\": \"Aug\", \"xref\": \"x\", \"y\": 2013, \"yref\": \"y\"}, {\"font\": {\"color\": \"black\", \"size\": 10}, \"showarrow\": false, \"text\": \"1.35\", \"x\": \"Sep\", \"xref\": \"x\", \"y\": 2013, \"yref\": \"y\"}, {\"font\": {\"color\": \"black\", \"size\": 10}, \"showarrow\": false, \"text\": \"0.72\", \"x\": \"Oct\", \"xref\": \"x\", \"y\": 2013, \"yref\": \"y\"}, {\"font\": {\"color\": \"black\", \"size\": 10}, \"showarrow\": false, \"text\": \"0.74\", \"x\": \"Nov\", \"xref\": \"x\", \"y\": 2013, \"yref\": \"y\"}, {\"font\": {\"color\": \"black\", \"size\": 10}, \"showarrow\": false, \"text\": \"2.49\", \"x\": \"Dec\", \"xref\": \"x\", \"y\": 2013, \"yref\": \"y\"}, {\"font\": {\"color\": \"black\", \"size\": 10}, \"showarrow\": false, \"text\": \"-6.23\", \"x\": \"Jan\", \"xref\": \"x\", \"y\": 2012, \"yref\": \"y\"}, {\"font\": {\"color\": \"black\", \"size\": 10}, \"showarrow\": false, \"text\": \"2.11\", \"x\": \"Feb\", \"xref\": \"x\", \"y\": 2012, \"yref\": \"y\"}, {\"font\": {\"color\": \"white\", \"size\": 10}, \"showarrow\": false, \"text\": \"8.22\", \"x\": \"Mar\", \"xref\": \"x\", \"y\": 2012, \"yref\": \"y\"}, {\"font\": {\"color\": \"black\", \"size\": 10}, \"showarrow\": false, \"text\": \"3.66\", \"x\": \"Apr\", \"xref\": \"x\", \"y\": 2012, \"yref\": \"y\"}, {\"font\": {\"color\": \"white\", \"size\": 10}, \"showarrow\": false, \"text\": \"5.95\", \"x\": \"May\", \"xref\": \"x\", \"y\": 2012, \"yref\": \"y\"}, {\"font\": {\"color\": \"black\", \"size\": 10}, \"showarrow\": false, \"text\": \"-1.86\", \"x\": \"Jun\", \"xref\": \"x\", \"y\": 2012, \"yref\": \"y\"}, {\"font\": {\"color\": \"black\", \"size\": 10}, \"showarrow\": false, \"text\": \"3.66\", \"x\": \"Jul\", \"xref\": \"x\", \"y\": 2012, \"yref\": \"y\"}, {\"font\": {\"color\": \"white\", \"size\": 10}, \"showarrow\": false, \"text\": \"6.44\", \"x\": \"Aug\", \"xref\": \"x\", \"y\": 2012, \"yref\": \"y\"}, {\"font\": {\"color\": \"black\", \"size\": 10}, \"showarrow\": false, \"text\": \"-1.67\", \"x\": \"Sep\", \"xref\": \"x\", \"y\": 2012, \"yref\": \"y\"}, {\"font\": {\"color\": \"black\", \"size\": 10}, \"showarrow\": false, \"text\": \"3.63\", \"x\": \"Oct\", \"xref\": \"x\", \"y\": 2012, \"yref\": \"y\"}, {\"font\": {\"color\": \"black\", \"size\": 10}, \"showarrow\": false, \"text\": \"2.32\", \"x\": \"Nov\", \"xref\": \"x\", \"y\": 2012, \"yref\": \"y\"}, {\"font\": {\"color\": \"black\", \"size\": 10}, \"showarrow\": false, \"text\": \"3.0\", \"x\": \"Dec\", \"xref\": \"x\", \"y\": 2012, \"yref\": \"y\"}, {\"font\": {\"color\": \"white\", \"size\": 10}, \"showarrow\": false, \"text\": \"6.26\", \"x\": \"Jan\", \"xref\": \"x\", \"y\": 2011, \"yref\": \"y\"}, {\"font\": {\"color\": \"white\", \"size\": 10}, \"showarrow\": false, \"text\": \"5.24\", \"x\": \"Feb\", \"xref\": \"x\", \"y\": 2011, \"yref\": \"y\"}, {\"font\": {\"color\": \"black\", \"size\": 10}, \"showarrow\": false, \"text\": \"3.62\", \"x\": \"Mar\", \"xref\": \"x\", \"y\": 2011, \"yref\": \"y\"}, {\"font\": {\"color\": \"black\", \"size\": 10}, \"showarrow\": false, \"text\": \"0.63\", \"x\": \"Apr\", \"xref\": \"x\", \"y\": 2011, \"yref\": \"y\"}, {\"font\": {\"color\": \"black\", \"size\": 10}, \"showarrow\": false, \"text\": \"4.34\", \"x\": \"May\", \"xref\": \"x\", \"y\": 2011, \"yref\": \"y\"}, {\"font\": {\"color\": \"black\", \"size\": 10}, \"showarrow\": false, \"text\": \"4.36\", \"x\": \"Jun\", \"xref\": \"x\", \"y\": 2011, \"yref\": \"y\"}, {\"font\": {\"color\": \"black\", \"size\": 10}, \"showarrow\": false, \"text\": \"3.53\", \"x\": \"Jul\", \"xref\": \"x\", \"y\": 2011, \"yref\": \"y\"}, {\"font\": {\"color\": \"white\", \"size\": 10}, \"showarrow\": false, \"text\": \"9.82\", \"x\": \"Aug\", \"xref\": \"x\", \"y\": 2011, \"yref\": \"y\"}, {\"font\": {\"color\": \"black\", \"size\": 10}, \"showarrow\": false, \"text\": \"2.08\", \"x\": \"Sep\", \"xref\": \"x\", \"y\": 2011, \"yref\": \"y\"}, {\"font\": {\"color\": \"black\", \"size\": 10}, \"showarrow\": false, \"text\": \"0.82\", \"x\": \"Oct\", \"xref\": \"x\", \"y\": 2011, \"yref\": \"y\"}, {\"font\": {\"color\": \"white\", \"size\": 10}, \"showarrow\": false, \"text\": \"6.58\", \"x\": \"Nov\", \"xref\": \"x\", \"y\": 2011, \"yref\": \"y\"}, {\"font\": {\"color\": \"white\", \"size\": 10}, \"showarrow\": false, \"text\": \"6.42\", \"x\": \"Dec\", \"xref\": \"x\", \"y\": 2011, \"yref\": \"y\"}, {\"font\": {\"color\": \"black\", \"size\": 10}, \"showarrow\": false, \"text\": \"1.36\", \"x\": \"Jan\", \"xref\": \"x\", \"y\": 2010, \"yref\": \"y\"}, {\"font\": {\"color\": \"white\", \"size\": 10}, \"showarrow\": false, \"text\": \"5.82\", \"x\": \"Feb\", \"xref\": \"x\", \"y\": 2010, \"yref\": \"y\"}, {\"font\": {\"color\": \"black\", \"size\": 10}, \"showarrow\": false, \"text\": \"3.08\", \"x\": \"Mar\", \"xref\": \"x\", \"y\": 2010, \"yref\": \"y\"}, {\"font\": {\"color\": \"white\", \"size\": 10}, \"showarrow\": false, \"text\": \"4.86\", \"x\": \"Apr\", \"xref\": \"x\", \"y\": 2010, \"yref\": \"y\"}, {\"font\": {\"color\": \"white\", \"size\": 10}, \"showarrow\": false, \"text\": \"7.32\", \"x\": \"May\", \"xref\": \"x\", \"y\": 2010, \"yref\": \"y\"}, {\"font\": {\"color\": \"black\", \"size\": 10}, \"showarrow\": false, \"text\": \"0.02\", \"x\": \"Jun\", \"xref\": \"x\", \"y\": 2010, \"yref\": \"y\"}, {\"font\": {\"color\": \"white\", \"size\": 10}, \"showarrow\": false, \"text\": \"4.73\", \"x\": \"Jul\", \"xref\": \"x\", \"y\": 2010, \"yref\": \"y\"}, {\"font\": {\"color\": \"white\", \"size\": 10}, \"showarrow\": false, \"text\": \"5.15\", \"x\": \"Aug\", \"xref\": \"x\", \"y\": 2010, \"yref\": \"y\"}, {\"font\": {\"color\": \"black\", \"size\": 10}, \"showarrow\": false, \"text\": \"1.65\", \"x\": \"Sep\", \"xref\": \"x\", \"y\": 2010, \"yref\": \"y\"}, {\"font\": {\"color\": \"black\", \"size\": 10}, \"showarrow\": false, \"text\": \"3.74\", \"x\": \"Oct\", \"xref\": \"x\", \"y\": 2010, \"yref\": \"y\"}, {\"font\": {\"color\": \"white\", \"size\": 10}, \"showarrow\": false, \"text\": \"6.86\", \"x\": \"Nov\", \"xref\": \"x\", \"y\": 2010, \"yref\": \"y\"}, {\"font\": {\"color\": \"black\", \"size\": 10}, \"showarrow\": false, \"text\": \"-1.39\", \"x\": \"Dec\", \"xref\": \"x\", \"y\": 2010, \"yref\": \"y\"}, {\"font\": {\"color\": \"black\", \"size\": 10}, \"showarrow\": false, \"text\": \"4.06\", \"x\": \"Jan\", \"xref\": \"x\", \"y\": 2009, \"yref\": \"y\"}, {\"font\": {\"color\": \"white\", \"size\": 10}, \"showarrow\": false, \"text\": \"6.68\", \"x\": \"Feb\", \"xref\": \"x\", \"y\": 2009, \"yref\": \"y\"}, {\"font\": {\"color\": \"black\", \"size\": 10}, \"showarrow\": false, \"text\": \"1.19\", \"x\": \"Mar\", \"xref\": \"x\", \"y\": 2009, \"yref\": \"y\"}, {\"font\": {\"color\": \"black\", \"size\": 10}, \"showarrow\": false, \"text\": \"-12.34\", \"x\": \"Apr\", \"xref\": \"x\", \"y\": 2009, \"yref\": \"y\"}, {\"font\": {\"color\": \"black\", \"size\": 10}, \"showarrow\": false, \"text\": \"-14.06\", \"x\": \"May\", \"xref\": \"x\", \"y\": 2009, \"yref\": \"y\"}, {\"font\": {\"color\": \"black\", \"size\": 10}, \"showarrow\": false, \"text\": \"3.48\", \"x\": \"Jun\", \"xref\": \"x\", \"y\": 2009, \"yref\": \"y\"}, {\"font\": {\"color\": \"black\", \"size\": 10}, \"showarrow\": false, \"text\": \"3.41\", \"x\": \"Jul\", \"xref\": \"x\", \"y\": 2009, \"yref\": \"y\"}, {\"font\": {\"color\": \"black\", \"size\": 10}, \"showarrow\": false, \"text\": \"-1.98\", \"x\": \"Aug\", \"xref\": \"x\", \"y\": 2009, \"yref\": \"y\"}, {\"font\": {\"color\": \"black\", \"size\": 10}, \"showarrow\": false, \"text\": \"0.99\", \"x\": \"Sep\", \"xref\": \"x\", \"y\": 2009, \"yref\": \"y\"}, {\"font\": {\"color\": \"white\", \"size\": 10}, \"showarrow\": false, \"text\": \"8.2\", \"x\": \"Oct\", \"xref\": \"x\", \"y\": 2009, \"yref\": \"y\"}, {\"font\": {\"color\": \"black\", \"size\": 10}, \"showarrow\": false, \"text\": \"2.04\", \"x\": \"Nov\", \"xref\": \"x\", \"y\": 2009, \"yref\": \"y\"}, {\"font\": {\"color\": \"black\", \"size\": 10}, \"showarrow\": false, \"text\": \"4.03\", \"x\": \"Dec\", \"xref\": \"x\", \"y\": 2009, \"yref\": \"y\"}, {\"font\": {\"color\": \"white\", \"size\": 10}, \"showarrow\": false, \"text\": \"15.54\", \"x\": \"Jan\", \"xref\": \"x\", \"y\": 2008, \"yref\": \"y\"}, {\"font\": {\"color\": \"black\", \"size\": 10}, \"showarrow\": false, \"text\": \"-1.19\", \"x\": \"Feb\", \"xref\": \"x\", \"y\": 2008, \"yref\": \"y\"}, {\"font\": {\"color\": \"white\", \"size\": 10}, \"showarrow\": false, \"text\": \"5.23\", \"x\": \"Mar\", \"xref\": \"x\", \"y\": 2008, \"yref\": \"y\"}, {\"font\": {\"color\": \"black\", \"size\": 10}, \"showarrow\": false, \"text\": \"-0.22\", \"x\": \"Apr\", \"xref\": \"x\", \"y\": 2008, \"yref\": \"y\"}, {\"font\": {\"color\": \"black\", \"size\": 10}, \"showarrow\": false, \"text\": \"1.22\", \"x\": \"May\", \"xref\": \"x\", \"y\": 2008, \"yref\": \"y\"}, {\"font\": {\"color\": \"white\", \"size\": 10}, \"showarrow\": false, \"text\": \"5.24\", \"x\": \"Jun\", \"xref\": \"x\", \"y\": 2008, \"yref\": \"y\"}, {\"font\": {\"color\": \"black\", \"size\": 10}, \"showarrow\": false, \"text\": \"3.07\", \"x\": \"Jul\", \"xref\": \"x\", \"y\": 2008, \"yref\": \"y\"}, {\"font\": {\"color\": \"black\", \"size\": 10}, \"showarrow\": false, \"text\": \"-0.9\", \"x\": \"Aug\", \"xref\": \"x\", \"y\": 2008, \"yref\": \"y\"}, {\"font\": {\"color\": \"white\", \"size\": 10}, \"showarrow\": false, \"text\": \"8.01\", \"x\": \"Sep\", \"xref\": \"x\", \"y\": 2008, \"yref\": \"y\"}, {\"font\": {\"color\": \"white\", \"size\": 10}, \"showarrow\": false, \"text\": \"23.16\", \"x\": \"Oct\", \"xref\": \"x\", \"y\": 2008, \"yref\": \"y\"}, {\"font\": {\"color\": \"white\", \"size\": 10}, \"showarrow\": false, \"text\": \"5.33\", \"x\": \"Nov\", \"xref\": \"x\", \"y\": 2008, \"yref\": \"y\"}, {\"font\": {\"color\": \"black\", \"size\": 10}, \"showarrow\": false, \"text\": \"-5.6\", \"x\": \"Dec\", \"xref\": \"x\", \"y\": 2008, \"yref\": \"y\"}, {\"font\": {\"color\": \"black\", \"size\": 10}, \"showarrow\": false, \"text\": \"0.65\", \"x\": \"Jan\", \"xref\": \"x\", \"y\": 2007, \"yref\": \"y\"}, {\"font\": {\"color\": \"black\", \"size\": 10}, \"showarrow\": false, \"text\": \"2.08\", \"x\": \"Feb\", \"xref\": \"x\", \"y\": 2007, \"yref\": \"y\"}, {\"font\": {\"color\": \"white\", \"size\": 10}, \"showarrow\": false, \"text\": \"4.7\", \"x\": \"Mar\", \"xref\": \"x\", \"y\": 2007, \"yref\": \"y\"}, {\"font\": {\"color\": \"black\", \"size\": 10}, \"showarrow\": false, \"text\": \"2.34\", \"x\": \"Apr\", \"xref\": \"x\", \"y\": 2007, \"yref\": \"y\"}, {\"font\": {\"color\": \"white\", \"size\": 10}, \"showarrow\": false, \"text\": \"4.69\", \"x\": \"May\", \"xref\": \"x\", \"y\": 2007, \"yref\": \"y\"}, {\"font\": {\"color\": \"black\", \"size\": 10}, \"showarrow\": false, \"text\": \"3.76\", \"x\": \"Jun\", \"xref\": \"x\", \"y\": 2007, \"yref\": \"y\"}, {\"font\": {\"color\": \"white\", \"size\": 10}, \"showarrow\": false, \"text\": \"5.92\", \"x\": \"Jul\", \"xref\": \"x\", \"y\": 2007, \"yref\": \"y\"}, {\"font\": {\"color\": \"black\", \"size\": 10}, \"showarrow\": false, \"text\": \"2.94\", \"x\": \"Aug\", \"xref\": \"x\", \"y\": 2007, \"yref\": \"y\"}, {\"font\": {\"color\": \"white\", \"size\": 10}, \"showarrow\": false, \"text\": \"4.96\", \"x\": \"Sep\", \"xref\": \"x\", \"y\": 2007, \"yref\": \"y\"}, {\"font\": {\"color\": \"white\", \"size\": 10}, \"showarrow\": false, \"text\": \"13.41\", \"x\": \"Oct\", \"xref\": \"x\", \"y\": 2007, \"yref\": \"y\"}, {\"font\": {\"color\": \"black\", \"size\": 10}, \"showarrow\": false, \"text\": \"2.77\", \"x\": \"Nov\", \"xref\": \"x\", \"y\": 2007, \"yref\": \"y\"}, {\"font\": {\"color\": \"black\", \"size\": 10}, \"showarrow\": false, \"text\": \"2.5\", \"x\": \"Dec\", \"xref\": \"x\", \"y\": 2007, \"yref\": \"y\"}, {\"font\": {\"color\": \"white\", \"size\": 10}, \"showarrow\": false, \"text\": \"6.6\", \"x\": \"Jan\", \"xref\": \"x\", \"y\": 2006, \"yref\": \"y\"}, {\"font\": {\"color\": \"black\", \"size\": 10}, \"showarrow\": false, \"text\": \"2.8\", \"x\": \"Feb\", \"xref\": \"x\", \"y\": 2006, \"yref\": \"y\"}, {\"font\": {\"color\": \"white\", \"size\": 10}, \"showarrow\": false, \"text\": \"8.98\", \"x\": \"Mar\", \"xref\": \"x\", \"y\": 2006, \"yref\": \"y\"}, {\"font\": {\"color\": \"black\", \"size\": 10}, \"showarrow\": false, \"text\": \"1.47\", \"x\": \"Apr\", \"xref\": \"x\", \"y\": 2006, \"yref\": \"y\"}, {\"font\": {\"color\": \"black\", \"size\": 10}, \"showarrow\": false, \"text\": \"-0.32\", \"x\": \"May\", \"xref\": \"x\", \"y\": 2006, \"yref\": \"y\"}, {\"font\": {\"color\": \"white\", \"size\": 10}, \"showarrow\": false, \"text\": \"6.05\", \"x\": \"Jun\", \"xref\": \"x\", \"y\": 2006, \"yref\": \"y\"}, {\"font\": {\"color\": \"black\", \"size\": 10}, \"showarrow\": false, \"text\": \"2.35\", \"x\": \"Jul\", \"xref\": \"x\", \"y\": 2006, \"yref\": \"y\"}, {\"font\": {\"color\": \"black\", \"size\": 10}, \"showarrow\": false, \"text\": \"-1.79\", \"x\": \"Aug\", \"xref\": \"x\", \"y\": 2006, \"yref\": \"y\"}, {\"font\": {\"color\": \"black\", \"size\": 10}, \"showarrow\": false, \"text\": \"2.91\", \"x\": \"Sep\", \"xref\": \"x\", \"y\": 2006, \"yref\": \"y\"}, {\"font\": {\"color\": \"black\", \"size\": 10}, \"showarrow\": false, \"text\": \"1.47\", \"x\": \"Oct\", \"xref\": \"x\", \"y\": 2006, \"yref\": \"y\"}, {\"font\": {\"color\": \"white\", \"size\": 10}, \"showarrow\": false, \"text\": \"5.38\", \"x\": \"Nov\", \"xref\": \"x\", \"y\": 2006, \"yref\": \"y\"}, {\"font\": {\"color\": \"black\", \"size\": 10}, \"showarrow\": false, \"text\": \"1.64\", \"x\": \"Dec\", \"xref\": \"x\", \"y\": 2006, \"yref\": \"y\"}, {\"font\": {\"color\": \"black\", \"size\": 10}, \"showarrow\": false, \"text\": \"4.28\", \"x\": \"Jan\", \"xref\": \"x\", \"y\": 2005, \"yref\": \"y\"}, {\"font\": {\"color\": \"white\", \"size\": 10}, \"showarrow\": false, \"text\": \"5.21\", \"x\": \"Feb\", \"xref\": \"x\", \"y\": 2005, \"yref\": \"y\"}, {\"font\": {\"color\": \"white\", \"size\": 10}, \"showarrow\": false, \"text\": \"6.14\", \"x\": \"Mar\", \"xref\": \"x\", \"y\": 2005, \"yref\": \"y\"}, {\"font\": {\"color\": \"black\", \"size\": 10}, \"showarrow\": false, \"text\": \"3.47\", \"x\": \"Apr\", \"xref\": \"x\", \"y\": 2005, \"yref\": \"y\"}, {\"font\": {\"color\": \"black\", \"size\": 10}, \"showarrow\": false, \"text\": \"2.3\", \"x\": \"May\", \"xref\": \"x\", \"y\": 2005, \"yref\": \"y\"}, {\"font\": {\"color\": \"black\", \"size\": 10}, \"showarrow\": false, \"text\": \"0.51\", \"x\": \"Jun\", \"xref\": \"x\", \"y\": 2005, \"yref\": \"y\"}, {\"font\": {\"color\": \"black\", \"size\": 10}, \"showarrow\": false, \"text\": \"3.05\", \"x\": \"Jul\", \"xref\": \"x\", \"y\": 2005, \"yref\": \"y\"}, {\"font\": {\"color\": \"black\", \"size\": 10}, \"showarrow\": false, \"text\": \"4.27\", \"x\": \"Aug\", \"xref\": \"x\", \"y\": 2005, \"yref\": \"y\"}, {\"font\": {\"color\": \"black\", \"size\": 10}, \"showarrow\": false, \"text\": \"-2.72\", \"x\": \"Sep\", \"xref\": \"x\", \"y\": 2005, \"yref\": \"y\"}, {\"font\": {\"color\": \"black\", \"size\": 10}, \"showarrow\": false, \"text\": \"0.65\", \"x\": \"Oct\", \"xref\": \"x\", \"y\": 2005, \"yref\": \"y\"}, {\"font\": {\"color\": \"black\", \"size\": 10}, \"showarrow\": false, \"text\": \"2.45\", \"x\": \"Nov\", \"xref\": \"x\", \"y\": 2005, \"yref\": \"y\"}, {\"font\": {\"color\": \"white\", \"size\": 10}, \"showarrow\": false, \"text\": \"6.39\", \"x\": \"Dec\", \"xref\": \"x\", \"y\": 2005, \"yref\": \"y\"}, {\"font\": {\"color\": \"white\", \"size\": 10}, \"showarrow\": false, \"text\": \"11.71\", \"x\": \"Jan\", \"xref\": \"x\", \"y\": 2004, \"yref\": \"y\"}, {\"font\": {\"color\": \"white\", \"size\": 10}, \"showarrow\": false, \"text\": \"6.52\", \"x\": \"Feb\", \"xref\": \"x\", \"y\": 2004, \"yref\": \"y\"}, {\"font\": {\"color\": \"white\", \"size\": 10}, \"showarrow\": false, \"text\": \"8.07\", \"x\": \"Mar\", \"xref\": \"x\", \"y\": 2004, \"yref\": \"y\"}, {\"font\": {\"color\": \"black\", \"size\": 10}, \"showarrow\": false, \"text\": \"3.43\", \"x\": \"Apr\", \"xref\": \"x\", \"y\": 2004, \"yref\": \"y\"}, {\"font\": {\"color\": \"black\", \"size\": 10}, \"showarrow\": false, \"text\": \"-5.58\", \"x\": \"May\", \"xref\": \"x\", \"y\": 2004, \"yref\": \"y\"}, {\"font\": {\"color\": \"black\", \"size\": 10}, \"showarrow\": false, \"text\": \"3.82\", \"x\": \"Jun\", \"xref\": \"x\", \"y\": 2004, \"yref\": \"y\"}, {\"font\": {\"color\": \"black\", \"size\": 10}, \"showarrow\": false, \"text\": \"4.51\", \"x\": \"Jul\", \"xref\": \"x\", \"y\": 2004, \"yref\": \"y\"}, {\"font\": {\"color\": \"white\", \"size\": 10}, \"showarrow\": false, \"text\": \"5.28\", \"x\": \"Aug\", \"xref\": \"x\", \"y\": 2004, \"yref\": \"y\"}, {\"font\": {\"color\": \"black\", \"size\": 10}, \"showarrow\": false, \"text\": \"-3.07\", \"x\": \"Sep\", \"xref\": \"x\", \"y\": 2004, \"yref\": \"y\"}, {\"font\": {\"color\": \"black\", \"size\": 10}, \"showarrow\": false, \"text\": \"3.64\", \"x\": \"Oct\", \"xref\": \"x\", \"y\": 2004, \"yref\": \"y\"}, {\"font\": {\"color\": \"black\", \"size\": 10}, \"showarrow\": false, \"text\": \"2.94\", \"x\": \"Nov\", \"xref\": \"x\", \"y\": 2004, \"yref\": \"y\"}, {\"font\": {\"color\": \"black\", \"size\": 10}, \"showarrow\": false, \"text\": \"0.83\", \"x\": \"Dec\", \"xref\": \"x\", \"y\": 2004, \"yref\": \"y\"}, {\"font\": {\"color\": \"white\", \"size\": 10}, \"showarrow\": false, \"text\": \"9.33\", \"x\": \"Jan\", \"xref\": \"x\", \"y\": 2003, \"yref\": \"y\"}, {\"font\": {\"color\": \"black\", \"size\": 10}, \"showarrow\": false, \"text\": \"3.31\", \"x\": \"Feb\", \"xref\": \"x\", \"y\": 2003, \"yref\": \"y\"}, {\"font\": {\"color\": \"white\", \"size\": 10}, \"showarrow\": false, \"text\": \"14.25\", \"x\": \"Mar\", \"xref\": \"x\", \"y\": 2003, \"yref\": \"y\"}, {\"font\": {\"color\": \"black\", \"size\": 10}, \"showarrow\": false, \"text\": \"0.68\", \"x\": \"Apr\", \"xref\": \"x\", \"y\": 2003, \"yref\": \"y\"}, {\"font\": {\"color\": \"white\", \"size\": 10}, \"showarrow\": false, \"text\": \"8.78\", \"x\": \"May\", \"xref\": \"x\", \"y\": 2003, \"yref\": \"y\"}, {\"font\": {\"color\": \"black\", \"size\": 10}, \"showarrow\": false, \"text\": \"2.36\", \"x\": \"Jun\", \"xref\": \"x\", \"y\": 2003, \"yref\": \"y\"}, {\"font\": {\"color\": \"white\", \"size\": 10}, \"showarrow\": false, \"text\": \"5.95\", \"x\": \"Jul\", \"xref\": \"x\", \"y\": 2003, \"yref\": \"y\"}, {\"font\": {\"color\": \"white\", \"size\": 10}, \"showarrow\": false, \"text\": \"4.67\", \"x\": \"Aug\", \"xref\": \"x\", \"y\": 2003, \"yref\": \"y\"}, {\"font\": {\"color\": \"white\", \"size\": 10}, \"showarrow\": false, \"text\": \"7.92\", \"x\": \"Sep\", \"xref\": \"x\", \"y\": 2003, \"yref\": \"y\"}, {\"font\": {\"color\": \"white\", \"size\": 10}, \"showarrow\": false, \"text\": \"13.22\", \"x\": \"Oct\", \"xref\": \"x\", \"y\": 2003, \"yref\": \"y\"}, {\"font\": {\"color\": \"black\", \"size\": 10}, \"showarrow\": false, \"text\": \"-0.83\", \"x\": \"Nov\", \"xref\": \"x\", \"y\": 2003, \"yref\": \"y\"}, {\"font\": {\"color\": \"black\", \"size\": 10}, \"showarrow\": false, \"text\": \"3.34\", \"x\": \"Dec\", \"xref\": \"x\", \"y\": 2003, \"yref\": \"y\"}, {\"font\": {\"color\": \"white\", \"size\": 10}, \"showarrow\": false, \"text\": \"6.67\", \"x\": \"Jan\", \"xref\": \"x\", \"y\": 2002, \"yref\": \"y\"}, {\"font\": {\"color\": \"black\", \"size\": 10}, \"showarrow\": false, \"text\": \"3.05\", \"x\": \"Feb\", \"xref\": \"x\", \"y\": 2002, \"yref\": \"y\"}, {\"font\": {\"color\": \"white\", \"size\": 10}, \"showarrow\": false, \"text\": \"4.81\", \"x\": \"Mar\", \"xref\": \"x\", \"y\": 2002, \"yref\": \"y\"}, {\"font\": {\"color\": \"white\", \"size\": 10}, \"showarrow\": false, \"text\": \"6.21\", \"x\": \"Apr\", \"xref\": \"x\", \"y\": 2002, \"yref\": \"y\"}, {\"font\": {\"color\": \"black\", \"size\": 10}, \"showarrow\": false, \"text\": \"0.82\", \"x\": \"May\", \"xref\": \"x\", \"y\": 2002, \"yref\": \"y\"}, {\"font\": {\"color\": \"white\", \"size\": 10}, \"showarrow\": false, \"text\": \"7.37\", \"x\": \"Jun\", \"xref\": \"x\", \"y\": 2002, \"yref\": \"y\"}, {\"font\": {\"color\": \"black\", \"size\": 10}, \"showarrow\": false, \"text\": \"1.28\", \"x\": \"Jul\", \"xref\": \"x\", \"y\": 2002, \"yref\": \"y\"}, {\"font\": {\"color\": \"black\", \"size\": 10}, \"showarrow\": false, \"text\": \"1.49\", \"x\": \"Aug\", \"xref\": \"x\", \"y\": 2002, \"yref\": \"y\"}, {\"font\": {\"color\": \"black\", \"size\": 10}, \"showarrow\": false, \"text\": \"2.75\", \"x\": \"Sep\", \"xref\": \"x\", \"y\": 2002, \"yref\": \"y\"}, {\"font\": {\"color\": \"white\", \"size\": 10}, \"showarrow\": false, \"text\": \"7.82\", \"x\": \"Oct\", \"xref\": \"x\", \"y\": 2002, \"yref\": \"y\"}, {\"font\": {\"color\": \"black\", \"size\": 10}, \"showarrow\": false, \"text\": \"-2.17\", \"x\": \"Nov\", \"xref\": \"x\", \"y\": 2002, \"yref\": \"y\"}, {\"font\": {\"color\": \"black\", \"size\": 10}, \"showarrow\": false, \"text\": \"3.34\", \"x\": \"Dec\", \"xref\": \"x\", \"y\": 2002, \"yref\": \"y\"}, {\"font\": {\"color\": \"black\", \"size\": 10}, \"showarrow\": false, \"text\": \"0.0\", \"x\": \"Jan\", \"xref\": \"x\", \"y\": 2001, \"yref\": \"y\"}, {\"font\": {\"color\": \"black\", \"size\": 10}, \"showarrow\": false, \"text\": \"4.17\", \"x\": \"Feb\", \"xref\": \"x\", \"y\": 2001, \"yref\": \"y\"}, {\"font\": {\"color\": \"white\", \"size\": 10}, \"showarrow\": false, \"text\": \"18.17\", \"x\": \"Mar\", \"xref\": \"x\", \"y\": 2001, \"yref\": \"y\"}, {\"font\": {\"color\": \"white\", \"size\": 10}, \"showarrow\": false, \"text\": \"7.24\", \"x\": \"Apr\", \"xref\": \"x\", \"y\": 2001, \"yref\": \"y\"}, {\"font\": {\"color\": \"black\", \"size\": 10}, \"showarrow\": false, \"text\": \"-4.51\", \"x\": \"May\", \"xref\": \"x\", \"y\": 2001, \"yref\": \"y\"}, {\"font\": {\"color\": \"white\", \"size\": 10}, \"showarrow\": false, \"text\": \"7.15\", \"x\": \"Jun\", \"xref\": \"x\", \"y\": 2001, \"yref\": \"y\"}, {\"font\": {\"color\": \"white\", \"size\": 10}, \"showarrow\": false, \"text\": \"7.16\", \"x\": \"Jul\", \"xref\": \"x\", \"y\": 2001, \"yref\": \"y\"}, {\"font\": {\"color\": \"black\", \"size\": 10}, \"showarrow\": false, \"text\": \"-2.08\", \"x\": \"Aug\", \"xref\": \"x\", \"y\": 2001, \"yref\": \"y\"}, {\"font\": {\"color\": \"white\", \"size\": 10}, \"showarrow\": false, \"text\": \"6.38\", \"x\": \"Sep\", \"xref\": \"x\", \"y\": 2001, \"yref\": \"y\"}, {\"font\": {\"color\": \"black\", \"size\": 10}, \"showarrow\": false, \"text\": \"-0.86\", \"x\": \"Oct\", \"xref\": \"x\", \"y\": 2001, \"yref\": \"y\"}, {\"font\": {\"color\": \"black\", \"size\": 10}, \"showarrow\": false, \"text\": \"-5.81\", \"x\": \"Nov\", \"xref\": \"x\", \"y\": 2001, \"yref\": \"y\"}, {\"font\": {\"color\": \"black\", \"size\": 10}, \"showarrow\": false, \"text\": \"1.07\", \"x\": \"Dec\", \"xref\": \"x\", \"y\": 2001, \"yref\": \"y\"}], \"height\": 500, \"template\": {\"data\": {\"bar\": [{\"error_x\": {\"color\": \"#2a3f5f\"}, \"error_y\": {\"color\": \"#2a3f5f\"}, \"marker\": {\"line\": {\"color\": \"#E5ECF6\", \"width\": 0.5}}, \"type\": \"bar\"}], \"barpolar\": [{\"marker\": {\"line\": {\"color\": \"#E5ECF6\", \"width\": 0.5}}, \"type\": \"barpolar\"}], \"carpet\": [{\"aaxis\": {\"endlinecolor\": \"#2a3f5f\", \"gridcolor\": \"white\", \"linecolor\": \"white\", \"minorgridcolor\": \"white\", \"startlinecolor\": \"#2a3f5f\"}, \"baxis\": {\"endlinecolor\": \"#2a3f5f\", \"gridcolor\": \"white\", \"linecolor\": \"white\", \"minorgridcolor\": \"white\", \"startlinecolor\": \"#2a3f5f\"}, \"type\": \"carpet\"}], \"choropleth\": [{\"colorbar\": {\"outlinewidth\": 0, \"ticks\": \"\"}, \"type\": \"choropleth\"}], \"contour\": [{\"colorbar\": {\"outlinewidth\": 0, \"ticks\": \"\"}, \"colorscale\": [[0.0, \"#0d0887\"], [0.1111111111111111, \"#46039f\"], [0.2222222222222222, \"#7201a8\"], [0.3333333333333333, \"#9c179e\"], [0.4444444444444444, \"#bd3786\"], [0.5555555555555556, \"#d8576b\"], [0.6666666666666666, \"#ed7953\"], [0.7777777777777778, \"#fb9f3a\"], [0.8888888888888888, \"#fdca26\"], [1.0, \"#f0f921\"]], \"type\": \"contour\"}], \"contourcarpet\": [{\"colorbar\": {\"outlinewidth\": 0, \"ticks\": \"\"}, \"type\": \"contourcarpet\"}], \"heatmap\": [{\"colorbar\": {\"outlinewidth\": 0, \"ticks\": \"\"}, \"colorscale\": [[0.0, \"#0d0887\"], [0.1111111111111111, \"#46039f\"], [0.2222222222222222, \"#7201a8\"], [0.3333333333333333, \"#9c179e\"], [0.4444444444444444, \"#bd3786\"], [0.5555555555555556, \"#d8576b\"], [0.6666666666666666, \"#ed7953\"], [0.7777777777777778, \"#fb9f3a\"], [0.8888888888888888, \"#fdca26\"], [1.0, \"#f0f921\"]], \"type\": \"heatmap\"}], \"heatmapgl\": [{\"colorbar\": {\"outlinewidth\": 0, \"ticks\": \"\"}, \"colorscale\": [[0.0, \"#0d0887\"], [0.1111111111111111, \"#46039f\"], [0.2222222222222222, \"#7201a8\"], [0.3333333333333333, \"#9c179e\"], [0.4444444444444444, \"#bd3786\"], [0.5555555555555556, \"#d8576b\"], [0.6666666666666666, \"#ed7953\"], [0.7777777777777778, \"#fb9f3a\"], [0.8888888888888888, \"#fdca26\"], [1.0, \"#f0f921\"]], \"type\": \"heatmapgl\"}], \"histogram\": [{\"marker\": {\"colorbar\": {\"outlinewidth\": 0, \"ticks\": \"\"}}, \"type\": \"histogram\"}], \"histogram2d\": [{\"colorbar\": {\"outlinewidth\": 0, \"ticks\": \"\"}, \"colorscale\": [[0.0, \"#0d0887\"], [0.1111111111111111, \"#46039f\"], [0.2222222222222222, \"#7201a8\"], [0.3333333333333333, \"#9c179e\"], [0.4444444444444444, \"#bd3786\"], [0.5555555555555556, \"#d8576b\"], [0.6666666666666666, \"#ed7953\"], [0.7777777777777778, \"#fb9f3a\"], [0.8888888888888888, \"#fdca26\"], [1.0, \"#f0f921\"]], \"type\": \"histogram2d\"}], \"histogram2dcontour\": [{\"colorbar\": {\"outlinewidth\": 0, \"ticks\": \"\"}, \"colorscale\": [[0.0, \"#0d0887\"], [0.1111111111111111, \"#46039f\"], [0.2222222222222222, \"#7201a8\"], [0.3333333333333333, \"#9c179e\"], [0.4444444444444444, \"#bd3786\"], [0.5555555555555556, \"#d8576b\"], [0.6666666666666666, \"#ed7953\"], [0.7777777777777778, \"#fb9f3a\"], [0.8888888888888888, \"#fdca26\"], [1.0, \"#f0f921\"]], \"type\": \"histogram2dcontour\"}], \"mesh3d\": [{\"colorbar\": {\"outlinewidth\": 0, \"ticks\": \"\"}, \"type\": \"mesh3d\"}], \"parcoords\": [{\"line\": {\"colorbar\": {\"outlinewidth\": 0, \"ticks\": \"\"}}, \"type\": \"parcoords\"}], \"pie\": [{\"automargin\": true, \"type\": \"pie\"}], \"scatter\": [{\"marker\": {\"colorbar\": {\"outlinewidth\": 0, \"ticks\": \"\"}}, \"type\": \"scatter\"}], \"scatter3d\": [{\"line\": {\"colorbar\": {\"outlinewidth\": 0, \"ticks\": \"\"}}, \"marker\": {\"colorbar\": {\"outlinewidth\": 0, \"ticks\": \"\"}}, \"type\": \"scatter3d\"}], \"scattercarpet\": [{\"marker\": {\"colorbar\": {\"outlinewidth\": 0, \"ticks\": \"\"}}, \"type\": \"scattercarpet\"}], \"scattergeo\": [{\"marker\": {\"colorbar\": {\"outlinewidth\": 0, \"ticks\": \"\"}}, \"type\": \"scattergeo\"}], \"scattergl\": [{\"marker\": {\"colorbar\": {\"outlinewidth\": 0, \"ticks\": \"\"}}, \"type\": \"scattergl\"}], \"scattermapbox\": [{\"marker\": {\"colorbar\": {\"outlinewidth\": 0, \"ticks\": \"\"}}, \"type\": \"scattermapbox\"}], \"scatterpolar\": [{\"marker\": {\"colorbar\": {\"outlinewidth\": 0, \"ticks\": \"\"}}, \"type\": \"scatterpolar\"}], \"scatterpolargl\": [{\"marker\": {\"colorbar\": {\"outlinewidth\": 0, \"ticks\": \"\"}}, \"type\": \"scatterpolargl\"}], \"scatterternary\": [{\"marker\": {\"colorbar\": {\"outlinewidth\": 0, \"ticks\": \"\"}}, \"type\": \"scatterternary\"}], \"surface\": [{\"colorbar\": {\"outlinewidth\": 0, \"ticks\": \"\"}, \"colorscale\": [[0.0, \"#0d0887\"], [0.1111111111111111, \"#46039f\"], [0.2222222222222222, \"#7201a8\"], [0.3333333333333333, \"#9c179e\"], [0.4444444444444444, \"#bd3786\"], [0.5555555555555556, \"#d8576b\"], [0.6666666666666666, \"#ed7953\"], [0.7777777777777778, \"#fb9f3a\"], [0.8888888888888888, \"#fdca26\"], [1.0, \"#f0f921\"]], \"type\": \"surface\"}], \"table\": [{\"cells\": {\"fill\": {\"color\": \"#EBF0F8\"}, \"line\": {\"color\": \"white\"}}, \"header\": {\"fill\": {\"color\": \"#C8D4E3\"}, \"line\": {\"color\": \"white\"}}, \"type\": \"table\"}]}, \"layout\": {\"annotationdefaults\": {\"arrowcolor\": \"#2a3f5f\", \"arrowhead\": 0, \"arrowwidth\": 1}, \"coloraxis\": {\"colorbar\": {\"outlinewidth\": 0, \"ticks\": \"\"}}, \"colorscale\": {\"diverging\": [[0, \"#8e0152\"], [0.1, \"#c51b7d\"], [0.2, \"#de77ae\"], [0.3, \"#f1b6da\"], [0.4, \"#fde0ef\"], [0.5, \"#f7f7f7\"], [0.6, \"#e6f5d0\"], [0.7, \"#b8e186\"], [0.8, \"#7fbc41\"], [0.9, \"#4d9221\"], [1, \"#276419\"]], \"sequential\": [[0.0, \"#0d0887\"], [0.1111111111111111, \"#46039f\"], [0.2222222222222222, \"#7201a8\"], [0.3333333333333333, \"#9c179e\"], [0.4444444444444444, \"#bd3786\"], [0.5555555555555556, \"#d8576b\"], [0.6666666666666666, \"#ed7953\"], [0.7777777777777778, \"#fb9f3a\"], [0.8888888888888888, \"#fdca26\"], [1.0, \"#f0f921\"]], \"sequentialminus\": [[0.0, \"#0d0887\"], [0.1111111111111111, \"#46039f\"], [0.2222222222222222, \"#7201a8\"], [0.3333333333333333, \"#9c179e\"], [0.4444444444444444, \"#bd3786\"], [0.5555555555555556, \"#d8576b\"], [0.6666666666666666, \"#ed7953\"], [0.7777777777777778, \"#fb9f3a\"], [0.8888888888888888, \"#fdca26\"], [1.0, \"#f0f921\"]]}, \"colorway\": [\"#636efa\", \"#EF553B\", \"#00cc96\", \"#ab63fa\", \"#FFA15A\", \"#19d3f3\", \"#FF6692\", \"#B6E880\", \"#FF97FF\", \"#FECB52\"], \"font\": {\"color\": \"#2a3f5f\"}, \"geo\": {\"bgcolor\": \"white\", \"lakecolor\": \"white\", \"landcolor\": \"#E5ECF6\", \"showlakes\": true, \"showland\": true, \"subunitcolor\": \"white\"}, \"hoverlabel\": {\"align\": \"left\"}, \"hovermode\": \"closest\", \"mapbox\": {\"style\": \"light\"}, \"paper_bgcolor\": \"white\", \"plot_bgcolor\": \"#E5ECF6\", \"polar\": {\"angularaxis\": {\"gridcolor\": \"white\", \"linecolor\": \"white\", \"ticks\": \"\"}, \"bgcolor\": \"#E5ECF6\", \"radialaxis\": {\"gridcolor\": \"white\", \"linecolor\": \"white\", \"ticks\": \"\"}}, \"scene\": {\"xaxis\": {\"backgroundcolor\": \"#E5ECF6\", \"gridcolor\": \"white\", \"gridwidth\": 2, \"linecolor\": \"white\", \"showbackground\": true, \"ticks\": \"\", \"zerolinecolor\": \"white\"}, \"yaxis\": {\"backgroundcolor\": \"#E5ECF6\", \"gridcolor\": \"white\", \"gridwidth\": 2, \"linecolor\": \"white\", \"showbackground\": true, \"ticks\": \"\", \"zerolinecolor\": \"white\"}, \"zaxis\": {\"backgroundcolor\": \"#E5ECF6\", \"gridcolor\": \"white\", \"gridwidth\": 2, \"linecolor\": \"white\", \"showbackground\": true, \"ticks\": \"\", \"zerolinecolor\": \"white\"}}, \"shapedefaults\": {\"line\": {\"color\": \"#2a3f5f\"}}, \"ternary\": {\"aaxis\": {\"gridcolor\": \"white\", \"linecolor\": \"white\", \"ticks\": \"\"}, \"baxis\": {\"gridcolor\": \"white\", \"linecolor\": \"white\", \"ticks\": \"\"}, \"bgcolor\": \"#E5ECF6\", \"caxis\": {\"gridcolor\": \"white\", \"linecolor\": \"white\", \"ticks\": \"\"}}, \"title\": {\"x\": 0.05}, \"xaxis\": {\"automargin\": true, \"gridcolor\": \"white\", \"linecolor\": \"white\", \"ticks\": \"\", \"title\": {\"standoff\": 15}, \"zerolinecolor\": \"white\", \"zerolinewidth\": 2}, \"yaxis\": {\"automargin\": true, \"gridcolor\": \"white\", \"linecolor\": \"white\", \"ticks\": \"\", \"title\": {\"standoff\": 15}, \"zerolinecolor\": \"white\", \"zerolinewidth\": 2}}}, \"title\": {\"text\": \"Heatmap for TSMOM from 2001 - 2019\"}, \"width\": 600, \"xaxis\": {\"dtick\": 1, \"gridcolor\": \"rgb(0, 0, 0)\", \"side\": \"top\", \"ticks\": \"\"}, \"yaxis\": {\"dtick\": 3, \"tick0\": 2, \"ticks\": \"\", \"ticksuffix\": \"  \", \"title\": {\"text\": \"Years\"}}},\n",
       "                        {\"responsive\": true}\n",
       "                    ).then(function(){\n",
       "                            \n",
       "var gd = document.getElementById('cea869d4-1801-4bdb-968c-b0401a2b5a7e');\n",
       "var x = new MutationObserver(function (mutations, observer) {{\n",
       "        var display = window.getComputedStyle(gd).display;\n",
       "        if (!display || display === 'none') {{\n",
       "            console.log([gd, 'removed!']);\n",
       "            Plotly.purge(gd);\n",
       "            observer.disconnect();\n",
       "        }}\n",
       "}});\n",
       "\n",
       "// Listen for the removal of the full notebook cells\n",
       "var notebookContainer = gd.closest('#notebook-container');\n",
       "if (notebookContainer) {{\n",
       "    x.observe(notebookContainer, {childList: true});\n",
       "}}\n",
       "\n",
       "// Listen for the clearing of the current output cell\n",
       "var outputEl = gd.closest('.output');\n",
       "if (outputEl) {{\n",
       "    x.observe(outputEl, {childList: true});\n",
       "}}\n",
       "\n",
       "                        })\n",
       "                };\n",
       "                });\n",
       "            </script>\n",
       "        </div>"
      ]
     },
     "metadata": {},
     "output_type": "display_data"
    },
    {
     "data": {
      "application/vnd.plotly.v1+json": {
       "config": {
        "linkText": "Export to plot.ly",
        "plotlyServerURL": "https://plot.ly",
        "showLink": false
       },
       "data": [
        {
         "colorscale": [
          [
           0,
           "rgb(253, 190, 110)"
          ],
          [
           0.003937007874015748,
           "rgb(253, 194, 114)"
          ],
          [
           0.007874015748031496,
           "rgb(253, 196, 115)"
          ],
          [
           0.011811023622047244,
           "rgb(253, 200, 119)"
          ],
          [
           0.015748031496062992,
           "rgb(253, 204, 122)"
          ],
          [
           0.01968503937007874,
           "rgb(253, 206, 124)"
          ],
          [
           0.023622047244094488,
           "rgb(253, 210, 127)"
          ],
          [
           0.027559055118110236,
           "rgb(253, 214, 130)"
          ],
          [
           0.031496062992125984,
           "rgb(253, 216, 132)"
          ],
          [
           0.03543307086614173,
           "rgb(253, 220, 135)"
          ],
          [
           0.03937007874015748,
           "rgb(254, 224, 139)"
          ],
          [
           0.04330708661417323,
           "rgb(254, 226, 143)"
          ],
          [
           0.047244094488188976,
           "rgb(254, 227, 145)"
          ],
          [
           0.051181102362204724,
           "rgb(254, 230, 149)"
          ],
          [
           0.05511811023622047,
           "rgb(254, 232, 153)"
          ],
          [
           0.05905511811023622,
           "rgb(254, 233, 155)"
          ],
          [
           0.06299212598425197,
           "rgb(254, 236, 159)"
          ],
          [
           0.06692913385826771,
           "rgb(254, 238, 163)"
          ],
          [
           0.07086614173228346,
           "rgb(254, 241, 167)"
          ],
          [
           0.07480314960629922,
           "rgb(254, 242, 169)"
          ],
          [
           0.07874015748031496,
           "rgb(254, 244, 173)"
          ],
          [
           0.0826771653543307,
           "rgb(254, 247, 177)"
          ],
          [
           0.08661417322834646,
           "rgb(254, 248, 179)"
          ],
          [
           0.09055118110236221,
           "rgb(254, 250, 183)"
          ],
          [
           0.09448818897637795,
           "rgb(254, 253, 187)"
          ],
          [
           0.09842519685039369,
           "rgb(254, 254, 189)"
          ],
          [
           0.10236220472440945,
           "rgb(252, 254, 187)"
          ],
          [
           0.1062992125984252,
           "rgb(249, 252, 183)"
          ],
          [
           0.11023622047244094,
           "rgb(246, 251, 179)"
          ],
          [
           0.11417322834645668,
           "rgb(245, 250, 177)"
          ],
          [
           0.11811023622047244,
           "rgb(242, 249, 173)"
          ],
          [
           0.1220472440944882,
           "rgb(239, 248, 169)"
          ],
          [
           0.12598425196850394,
           "rgb(237, 247, 167)"
          ],
          [
           0.12992125984251968,
           "rgb(234, 246, 163)"
          ],
          [
           0.13385826771653542,
           "rgb(231, 245, 159)"
          ],
          [
           0.1377952755905512,
           "rgb(228, 244, 155)"
          ],
          [
           0.14173228346456693,
           "rgb(227, 243, 153)"
          ],
          [
           0.14566929133858267,
           "rgb(224, 242, 149)"
          ],
          [
           0.14960629921259844,
           "rgb(221, 240, 145)"
          ],
          [
           0.15354330708661418,
           "rgb(219, 240, 143)"
          ],
          [
           0.15748031496062992,
           "rgb(217, 239, 139)"
          ],
          [
           0.16141732283464566,
           "rgb(213, 237, 136)"
          ],
          [
           0.1653543307086614,
           "rgb(209, 235, 133)"
          ],
          [
           0.16929133858267717,
           "rgb(207, 234, 132)"
          ],
          [
           0.1732283464566929,
           "rgb(203, 232, 129)"
          ],
          [
           0.17716535433070865,
           "rgb(199, 231, 127)"
          ],
          [
           0.18110236220472442,
           "rgb(197, 230, 126)"
          ],
          [
           0.18503937007874016,
           "rgb(193, 228, 123)"
          ],
          [
           0.1889763779527559,
           "rgb(189, 226, 120)"
          ],
          [
           0.19291338582677164,
           "rgb(187, 226, 119)"
          ],
          [
           0.19685039370078738,
           "rgb(183, 224, 117)"
          ],
          [
           0.20078740157480315,
           "rgb(179, 222, 114)"
          ],
          [
           0.2047244094488189,
           "rgb(175, 220, 111)"
          ],
          [
           0.20866141732283464,
           "rgb(173, 220, 110)"
          ],
          [
           0.2125984251968504,
           "rgb(169, 218, 107)"
          ],
          [
           0.21653543307086615,
           "rgb(164, 216, 105)"
          ],
          [
           0.2204724409448819,
           "rgb(162, 215, 105)"
          ],
          [
           0.22440944881889763,
           "rgb(157, 213, 105)"
          ],
          [
           0.22834645669291337,
           "rgb(152, 210, 104)"
          ],
          [
           0.23228346456692914,
           "rgb(147, 208, 103)"
          ],
          [
           0.23622047244094488,
           "rgb(144, 207, 103)"
          ],
          [
           0.24015748031496062,
           "rgb(139, 205, 103)"
          ],
          [
           0.2440944881889764,
           "rgb(134, 203, 102)"
          ],
          [
           0.24803149606299213,
           "rgb(132, 202, 102)"
          ],
          [
           0.25196850393700787,
           "rgb(127, 199, 101)"
          ],
          [
           0.2559055118110236,
           "rgb(122, 197, 101)"
          ],
          [
           0.25984251968503935,
           "rgb(119, 196, 100)"
          ],
          [
           0.2637795275590551,
           "rgb(114, 194, 100)"
          ],
          [
           0.26771653543307083,
           "rgb(109, 192, 99)"
          ],
          [
           0.27165354330708663,
           "rgb(104, 190, 99)"
          ],
          [
           0.2755905511811024,
           "rgb(102, 189, 99)"
          ],
          [
           0.2795275590551181,
           "rgb(96, 186, 97)"
          ],
          [
           0.28346456692913385,
           "rgb(90, 183, 96)"
          ],
          [
           0.2874015748031496,
           "rgb(87, 181, 95)"
          ],
          [
           0.29133858267716534,
           "rgb(81, 178, 93)"
          ],
          [
           0.2952755905511811,
           "rgb(75, 175, 92)"
          ],
          [
           0.2992125984251969,
           "rgb(69, 173, 90)"
          ],
          [
           0.3031496062992126,
           "rgb(66, 171, 90)"
          ],
          [
           0.30708661417322836,
           "rgb(60, 168, 88)"
          ],
          [
           0.3110236220472441,
           "rgb(54, 165, 87)"
          ],
          [
           0.31496062992125984,
           "rgb(51, 164, 86)"
          ],
          [
           0.3188976377952756,
           "rgb(45, 161, 84)"
          ],
          [
           0.3228346456692913,
           "rgb(39, 158, 83)"
          ],
          [
           0.32677165354330706,
           "rgb(36, 157, 82)"
          ],
          [
           0.3307086614173228,
           "rgb(30, 154, 81)"
          ],
          [
           0.3346456692913386,
           "rgb(25, 151, 79)"
          ],
          [
           0.33858267716535434,
           "rgb(23, 147, 77)"
          ],
          [
           0.3425196850393701,
           "rgb(22, 145, 76)"
          ],
          [
           0.3464566929133858,
           "rgb(20, 141, 74)"
          ],
          [
           0.35039370078740156,
           "rgb(18, 137, 72)"
          ],
          [
           0.3543307086614173,
           "rgb(17, 136, 71)"
          ],
          [
           0.35826771653543305,
           "rgb(15, 132, 69)"
          ],
          [
           0.36220472440944884,
           "rgb(13, 128, 67)"
          ],
          [
           0.3661417322834646,
           "rgb(11, 124, 65)"
          ],
          [
           0.3700787401574803,
           "rgb(10, 122, 64)"
          ],
          [
           0.37401574803149606,
           "rgb(8, 119, 62)"
          ],
          [
           0.3779527559055118,
           "rgb(6, 115, 60)"
          ],
          [
           0.38188976377952755,
           "rgb(5, 113, 59)"
          ],
          [
           0.3858267716535433,
           "rgb(3, 109, 57)"
          ],
          [
           0.38976377952755903,
           "rgb(1, 105, 55)"
          ],
          [
           0.39370078740157477,
           "rgb(0, 104, 55)"
          ],
          [
           0.39763779527559057,
           "rgb(0, 104, 55)"
          ],
          [
           0.4015748031496063,
           "rgb(0, 104, 55)"
          ],
          [
           0.40551181102362205,
           "rgb(0, 104, 55)"
          ],
          [
           0.4094488188976378,
           "rgb(0, 104, 55)"
          ],
          [
           0.41338582677165353,
           "rgb(0, 104, 55)"
          ],
          [
           0.41732283464566927,
           "rgb(0, 104, 55)"
          ],
          [
           0.421259842519685,
           "rgb(0, 104, 55)"
          ],
          [
           0.4251968503937008,
           "rgb(0, 104, 55)"
          ],
          [
           0.42913385826771655,
           "rgb(0, 104, 55)"
          ],
          [
           0.4330708661417323,
           "rgb(0, 104, 55)"
          ],
          [
           0.43700787401574803,
           "rgb(0, 104, 55)"
          ],
          [
           0.4409448818897638,
           "rgb(0, 104, 55)"
          ],
          [
           0.4448818897637795,
           "rgb(0, 104, 55)"
          ],
          [
           0.44881889763779526,
           "rgb(0, 104, 55)"
          ],
          [
           0.452755905511811,
           "rgb(0, 104, 55)"
          ],
          [
           0.45669291338582674,
           "rgb(0, 104, 55)"
          ],
          [
           0.46062992125984253,
           "rgb(0, 104, 55)"
          ],
          [
           0.4645669291338583,
           "rgb(0, 104, 55)"
          ],
          [
           0.468503937007874,
           "rgb(0, 104, 55)"
          ],
          [
           0.47244094488188976,
           "rgb(0, 104, 55)"
          ],
          [
           0.4763779527559055,
           "rgb(0, 104, 55)"
          ],
          [
           0.48031496062992124,
           "rgb(0, 104, 55)"
          ],
          [
           0.484251968503937,
           "rgb(0, 104, 55)"
          ],
          [
           0.4881889763779528,
           "rgb(0, 104, 55)"
          ],
          [
           0.4921259842519685,
           "rgb(0, 104, 55)"
          ],
          [
           0.49606299212598426,
           "rgb(0, 104, 55)"
          ],
          [
           0.5,
           "rgb(0, 104, 55)"
          ],
          [
           0.5039370078740157,
           "rgb(0, 104, 55)"
          ],
          [
           0.5078740157480315,
           "rgb(0, 104, 55)"
          ],
          [
           0.5118110236220472,
           "rgb(0, 104, 55)"
          ],
          [
           0.515748031496063,
           "rgb(0, 104, 55)"
          ],
          [
           0.5196850393700787,
           "rgb(0, 104, 55)"
          ],
          [
           0.5236220472440944,
           "rgb(0, 104, 55)"
          ],
          [
           0.5275590551181102,
           "rgb(0, 104, 55)"
          ],
          [
           0.5314960629921259,
           "rgb(0, 104, 55)"
          ],
          [
           0.5354330708661417,
           "rgb(0, 104, 55)"
          ],
          [
           0.5393700787401575,
           "rgb(0, 104, 55)"
          ],
          [
           0.5433070866141733,
           "rgb(0, 104, 55)"
          ],
          [
           0.547244094488189,
           "rgb(0, 104, 55)"
          ],
          [
           0.5511811023622047,
           "rgb(0, 104, 55)"
          ],
          [
           0.5551181102362205,
           "rgb(0, 104, 55)"
          ],
          [
           0.5590551181102362,
           "rgb(0, 104, 55)"
          ],
          [
           0.562992125984252,
           "rgb(0, 104, 55)"
          ],
          [
           0.5669291338582677,
           "rgb(0, 104, 55)"
          ],
          [
           0.5708661417322834,
           "rgb(0, 104, 55)"
          ],
          [
           0.5748031496062992,
           "rgb(0, 104, 55)"
          ],
          [
           0.5787401574803149,
           "rgb(0, 104, 55)"
          ],
          [
           0.5826771653543307,
           "rgb(0, 104, 55)"
          ],
          [
           0.5866141732283464,
           "rgb(0, 104, 55)"
          ],
          [
           0.5905511811023622,
           "rgb(0, 104, 55)"
          ],
          [
           0.5944881889763779,
           "rgb(0, 104, 55)"
          ],
          [
           0.5984251968503937,
           "rgb(0, 104, 55)"
          ],
          [
           0.6023622047244095,
           "rgb(0, 104, 55)"
          ],
          [
           0.6062992125984252,
           "rgb(0, 104, 55)"
          ],
          [
           0.610236220472441,
           "rgb(0, 104, 55)"
          ],
          [
           0.6141732283464567,
           "rgb(0, 104, 55)"
          ],
          [
           0.6181102362204725,
           "rgb(0, 104, 55)"
          ],
          [
           0.6220472440944882,
           "rgb(0, 104, 55)"
          ],
          [
           0.6259842519685039,
           "rgb(0, 104, 55)"
          ],
          [
           0.6299212598425197,
           "rgb(0, 104, 55)"
          ],
          [
           0.6338582677165354,
           "rgb(0, 104, 55)"
          ],
          [
           0.6377952755905512,
           "rgb(0, 104, 55)"
          ],
          [
           0.6417322834645669,
           "rgb(0, 104, 55)"
          ],
          [
           0.6456692913385826,
           "rgb(0, 104, 55)"
          ],
          [
           0.6496062992125984,
           "rgb(0, 104, 55)"
          ],
          [
           0.6535433070866141,
           "rgb(0, 104, 55)"
          ],
          [
           0.6574803149606299,
           "rgb(0, 104, 55)"
          ],
          [
           0.6614173228346456,
           "rgb(0, 104, 55)"
          ],
          [
           0.6653543307086615,
           "rgb(0, 104, 55)"
          ],
          [
           0.6692913385826772,
           "rgb(0, 104, 55)"
          ],
          [
           0.6732283464566929,
           "rgb(0, 104, 55)"
          ],
          [
           0.6771653543307087,
           "rgb(0, 104, 55)"
          ],
          [
           0.6811023622047244,
           "rgb(0, 104, 55)"
          ],
          [
           0.6850393700787402,
           "rgb(0, 104, 55)"
          ],
          [
           0.6889763779527559,
           "rgb(0, 104, 55)"
          ],
          [
           0.6929133858267716,
           "rgb(0, 104, 55)"
          ],
          [
           0.6968503937007874,
           "rgb(0, 104, 55)"
          ],
          [
           0.7007874015748031,
           "rgb(0, 104, 55)"
          ],
          [
           0.7047244094488189,
           "rgb(0, 104, 55)"
          ],
          [
           0.7086614173228346,
           "rgb(0, 104, 55)"
          ],
          [
           0.7125984251968503,
           "rgb(0, 104, 55)"
          ],
          [
           0.7165354330708661,
           "rgb(0, 104, 55)"
          ],
          [
           0.7204724409448818,
           "rgb(0, 104, 55)"
          ],
          [
           0.7244094488188977,
           "rgb(0, 104, 55)"
          ],
          [
           0.7283464566929134,
           "rgb(0, 104, 55)"
          ],
          [
           0.7322834645669292,
           "rgb(0, 104, 55)"
          ],
          [
           0.7362204724409449,
           "rgb(0, 104, 55)"
          ],
          [
           0.7401574803149606,
           "rgb(0, 104, 55)"
          ],
          [
           0.7440944881889764,
           "rgb(0, 104, 55)"
          ],
          [
           0.7480314960629921,
           "rgb(0, 104, 55)"
          ],
          [
           0.7519685039370079,
           "rgb(0, 104, 55)"
          ],
          [
           0.7559055118110236,
           "rgb(0, 104, 55)"
          ],
          [
           0.7598425196850394,
           "rgb(0, 104, 55)"
          ],
          [
           0.7637795275590551,
           "rgb(0, 104, 55)"
          ],
          [
           0.7677165354330708,
           "rgb(0, 104, 55)"
          ],
          [
           0.7716535433070866,
           "rgb(0, 104, 55)"
          ],
          [
           0.7755905511811023,
           "rgb(0, 104, 55)"
          ],
          [
           0.7795275590551181,
           "rgb(0, 104, 55)"
          ],
          [
           0.7834645669291338,
           "rgb(0, 104, 55)"
          ],
          [
           0.7874015748031495,
           "rgb(0, 104, 55)"
          ],
          [
           0.7913385826771654,
           "rgb(0, 104, 55)"
          ],
          [
           0.7952755905511811,
           "rgb(0, 104, 55)"
          ],
          [
           0.7992125984251969,
           "rgb(0, 104, 55)"
          ],
          [
           0.8031496062992126,
           "rgb(0, 104, 55)"
          ],
          [
           0.8070866141732284,
           "rgb(0, 104, 55)"
          ],
          [
           0.8110236220472441,
           "rgb(0, 104, 55)"
          ],
          [
           0.8149606299212598,
           "rgb(0, 104, 55)"
          ],
          [
           0.8188976377952756,
           "rgb(0, 104, 55)"
          ],
          [
           0.8228346456692913,
           "rgb(0, 104, 55)"
          ],
          [
           0.8267716535433071,
           "rgb(0, 104, 55)"
          ],
          [
           0.8307086614173228,
           "rgb(0, 104, 55)"
          ],
          [
           0.8346456692913385,
           "rgb(0, 104, 55)"
          ],
          [
           0.8385826771653543,
           "rgb(0, 104, 55)"
          ],
          [
           0.84251968503937,
           "rgb(0, 104, 55)"
          ],
          [
           0.8464566929133858,
           "rgb(0, 104, 55)"
          ],
          [
           0.8503937007874016,
           "rgb(0, 104, 55)"
          ],
          [
           0.8543307086614174,
           "rgb(0, 104, 55)"
          ],
          [
           0.8582677165354331,
           "rgb(0, 104, 55)"
          ],
          [
           0.8622047244094488,
           "rgb(0, 104, 55)"
          ],
          [
           0.8661417322834646,
           "rgb(0, 104, 55)"
          ],
          [
           0.8700787401574803,
           "rgb(0, 104, 55)"
          ],
          [
           0.8740157480314961,
           "rgb(0, 104, 55)"
          ],
          [
           0.8779527559055118,
           "rgb(0, 104, 55)"
          ],
          [
           0.8818897637795275,
           "rgb(0, 104, 55)"
          ],
          [
           0.8858267716535433,
           "rgb(0, 104, 55)"
          ],
          [
           0.889763779527559,
           "rgb(0, 104, 55)"
          ],
          [
           0.8937007874015748,
           "rgb(0, 104, 55)"
          ],
          [
           0.8976377952755905,
           "rgb(0, 104, 55)"
          ],
          [
           0.9015748031496063,
           "rgb(0, 104, 55)"
          ],
          [
           0.905511811023622,
           "rgb(0, 104, 55)"
          ],
          [
           0.9094488188976377,
           "rgb(0, 104, 55)"
          ],
          [
           0.9133858267716535,
           "rgb(0, 104, 55)"
          ],
          [
           0.9173228346456693,
           "rgb(0, 104, 55)"
          ],
          [
           0.9212598425196851,
           "rgb(0, 104, 55)"
          ],
          [
           0.9251968503937008,
           "rgb(0, 104, 55)"
          ],
          [
           0.9291338582677166,
           "rgb(0, 104, 55)"
          ],
          [
           0.9330708661417323,
           "rgb(0, 104, 55)"
          ],
          [
           0.937007874015748,
           "rgb(0, 104, 55)"
          ],
          [
           0.9409448818897638,
           "rgb(0, 104, 55)"
          ],
          [
           0.9448818897637795,
           "rgb(0, 104, 55)"
          ],
          [
           0.9488188976377953,
           "rgb(0, 104, 55)"
          ],
          [
           0.952755905511811,
           "rgb(0, 104, 55)"
          ],
          [
           0.9566929133858267,
           "rgb(0, 104, 55)"
          ],
          [
           0.9606299212598425,
           "rgb(0, 104, 55)"
          ],
          [
           0.9645669291338582,
           "rgb(0, 104, 55)"
          ],
          [
           0.968503937007874,
           "rgb(0, 104, 55)"
          ],
          [
           0.9724409448818897,
           "rgb(0, 104, 55)"
          ],
          [
           0.9763779527559056,
           "rgb(0, 104, 55)"
          ],
          [
           0.9803149606299213,
           "rgb(0, 104, 55)"
          ],
          [
           0.984251968503937,
           "rgb(0, 104, 55)"
          ],
          [
           0.9881889763779528,
           "rgb(0, 104, 55)"
          ],
          [
           0.9921259842519685,
           "rgb(0, 104, 55)"
          ],
          [
           0.9960629921259843,
           "rgb(0, 104, 55)"
          ],
          [
           1,
           "rgb(0, 104, 55)"
          ]
         ],
         "hoverinfo": "y+z",
         "reversescale": false,
         "showscale": false,
         "type": "heatmap",
         "x": [
          "Jan",
          "Feb",
          "Mar",
          "Apr",
          "May",
          "Jun",
          "Jul",
          "Aug",
          "Sep",
          "Oct",
          "Nov",
          "Dec"
         ],
         "y": [
          2019,
          2018,
          2017,
          2016,
          2015,
          2014,
          2013,
          2012,
          2011,
          2010,
          2009,
          2008,
          2007,
          2006,
          2005,
          2004,
          2003,
          2002,
          2001
         ],
         "z": [
          [
           6.239999999999999,
           3.44,
           1.72,
           3.37,
           3.29,
           7.5,
           8.73,
           1.7000000000000002,
           5.13,
           4.760000000000001,
           1.13,
           3.2800000000000002
          ],
          [
           1.5,
           4.06,
           8.07,
           6.18,
           5.43,
           3.55,
           3.2800000000000002,
           3.39,
           5.89,
           0.6799999999999999,
           1.1199999999999999,
           -1
          ],
          [
           2.63,
           0.49,
           5.94,
           2.0500000000000003,
           17.94,
           2.44,
           3.39,
           8.43,
           2.31,
           3.16,
           0.66,
           -1.38
          ],
          [
           4.88,
           2.73,
           1.05,
           1.7500000000000002,
           4.06,
           -1.01,
           1.52,
           4.3999999999999995,
           2.01,
           2.1399999999999997,
           1.48,
           0.91
          ],
          [
           3.1199999999999997,
           -0.8699999999999999,
           6.69,
           -3.54,
           3.26,
           6.72,
           4.34,
           5.1,
           0.98,
           -1.78,
           -0.12,
           1.16
          ],
          [
           8.73,
           5.7,
           -1.26,
           -1.73,
           -0.12,
           3.9,
           -4.5,
           15.68,
           5.489999999999999,
           4.03,
           7.71,
           7.42
          ],
          [
           1.3599999999999999,
           8.219999999999999,
           6.65,
           0.74,
           6.65,
           13.950000000000001,
           6.4,
           0.8500000000000001,
           2.4899999999999998,
           1.69,
           0.4,
           3.9800000000000004
          ],
          [
           -4.5,
           3.95,
           6.619999999999999,
           3.5700000000000003,
           5.1,
           -1.76,
           3.8600000000000003,
           6.67,
           -1.49,
           3.85,
           2.85,
           3.02
          ],
          [
           5.34,
           5.07,
           3.49,
           1.7000000000000002,
           4.2,
           4.25,
           4.35,
           11.18,
           1.71,
           1.51,
           5.609999999999999,
           4.97
          ],
          [
           0.21,
           5.1499999999999995,
           3.25,
           6.78,
           10.36,
           0.42,
           5.13,
           5.970000000000001,
           2.8000000000000003,
           4.14,
           9.049999999999999,
           -1.55
          ],
          [
           5.59,
           4.79,
           3.25,
           -7.37,
           -7.01,
           1.9300000000000002,
           3.0300000000000002,
           -1.05,
           1.3599999999999999,
           6.510000000000001,
           1.9,
           3.8899999999999997
          ],
          [
           14.549999999999999,
           -0.5,
           3.66,
           -0.37,
           1.13,
           6.239999999999999,
           1.08,
           -0.51,
           6.890000000000001,
           16.89,
           1.81,
           -4.54
          ],
          [
           -0.05,
           3.09,
           4.75,
           0.9299999999999999,
           3.62,
           3.32,
           5.8500000000000005,
           3.4099999999999997,
           2.9000000000000004,
           12,
           1.1199999999999999,
           -1.48
          ],
          [
           6.74,
           3.18,
           8.99,
           1.17,
           0.86,
           4.859999999999999,
           1.23,
           -1.49,
           2.34,
           1.5,
           4.33,
           1.63
          ],
          [
           4.15,
           3.8699999999999997,
           -35.97,
           2.93,
           -0.6799999999999999,
           1.41,
           0.84,
           3.46,
           -2.04,
           2.22,
           1.38,
           5.800000000000001
          ],
          [
           2.4299999999999997,
           2.41,
           4.41,
           2.75,
           -6.47,
           -5.6899999999999995,
           2.5700000000000003,
           4.38,
           -0.64,
           2.85,
           2.08,
           -0.24
          ],
          [
           7.21,
           2.6100000000000003,
           13.200000000000001,
           1.6500000000000001,
           -5.35,
           76,
           4.2,
           0.62,
           6.03,
           10.27,
           0.2,
           7.9399999999999995
          ],
          [
           -6.9,
           -1.04,
           2.2800000000000002,
           4.47,
           0.9900000000000001,
           5.79,
           4.9399999999999995,
           0.9299999999999999,
           3.2,
           190.13,
           2.77,
           3.29
          ],
          [
           0,
           2.9000000000000004,
           66.58,
           6.02,
           0.69,
           3.26,
           3.74,
           -0.47000000000000003,
           3,
           0.5,
           9.379999999999999,
           0.47000000000000003
          ]
         ]
        }
       ],
       "layout": {
        "annotations": [
         {
          "font": {
           "color": "black",
           "size": 10
          },
          "showarrow": false,
          "text": "6.24",
          "x": "Jan",
          "xref": "x",
          "y": 2019,
          "yref": "y"
         },
         {
          "font": {
           "color": "black",
           "size": 10
          },
          "showarrow": false,
          "text": "3.44",
          "x": "Feb",
          "xref": "x",
          "y": 2019,
          "yref": "y"
         },
         {
          "font": {
           "color": "black",
           "size": 10
          },
          "showarrow": false,
          "text": "1.72",
          "x": "Mar",
          "xref": "x",
          "y": 2019,
          "yref": "y"
         },
         {
          "font": {
           "color": "black",
           "size": 10
          },
          "showarrow": false,
          "text": "3.37",
          "x": "Apr",
          "xref": "x",
          "y": 2019,
          "yref": "y"
         },
         {
          "font": {
           "color": "black",
           "size": 10
          },
          "showarrow": false,
          "text": "3.29",
          "x": "May",
          "xref": "x",
          "y": 2019,
          "yref": "y"
         },
         {
          "font": {
           "color": "black",
           "size": 10
          },
          "showarrow": false,
          "text": "7.5",
          "x": "Jun",
          "xref": "x",
          "y": 2019,
          "yref": "y"
         },
         {
          "font": {
           "color": "black",
           "size": 10
          },
          "showarrow": false,
          "text": "8.73",
          "x": "Jul",
          "xref": "x",
          "y": 2019,
          "yref": "y"
         },
         {
          "font": {
           "color": "black",
           "size": 10
          },
          "showarrow": false,
          "text": "1.7",
          "x": "Aug",
          "xref": "x",
          "y": 2019,
          "yref": "y"
         },
         {
          "font": {
           "color": "black",
           "size": 10
          },
          "showarrow": false,
          "text": "5.13",
          "x": "Sep",
          "xref": "x",
          "y": 2019,
          "yref": "y"
         },
         {
          "font": {
           "color": "black",
           "size": 10
          },
          "showarrow": false,
          "text": "4.76",
          "x": "Oct",
          "xref": "x",
          "y": 2019,
          "yref": "y"
         },
         {
          "font": {
           "color": "black",
           "size": 10
          },
          "showarrow": false,
          "text": "1.13",
          "x": "Nov",
          "xref": "x",
          "y": 2019,
          "yref": "y"
         },
         {
          "font": {
           "color": "black",
           "size": 10
          },
          "showarrow": false,
          "text": "3.28",
          "x": "Dec",
          "xref": "x",
          "y": 2019,
          "yref": "y"
         },
         {
          "font": {
           "color": "black",
           "size": 10
          },
          "showarrow": false,
          "text": "1.5",
          "x": "Jan",
          "xref": "x",
          "y": 2018,
          "yref": "y"
         },
         {
          "font": {
           "color": "black",
           "size": 10
          },
          "showarrow": false,
          "text": "4.06",
          "x": "Feb",
          "xref": "x",
          "y": 2018,
          "yref": "y"
         },
         {
          "font": {
           "color": "black",
           "size": 10
          },
          "showarrow": false,
          "text": "8.07",
          "x": "Mar",
          "xref": "x",
          "y": 2018,
          "yref": "y"
         },
         {
          "font": {
           "color": "black",
           "size": 10
          },
          "showarrow": false,
          "text": "6.18",
          "x": "Apr",
          "xref": "x",
          "y": 2018,
          "yref": "y"
         },
         {
          "font": {
           "color": "black",
           "size": 10
          },
          "showarrow": false,
          "text": "5.43",
          "x": "May",
          "xref": "x",
          "y": 2018,
          "yref": "y"
         },
         {
          "font": {
           "color": "black",
           "size": 10
          },
          "showarrow": false,
          "text": "3.55",
          "x": "Jun",
          "xref": "x",
          "y": 2018,
          "yref": "y"
         },
         {
          "font": {
           "color": "black",
           "size": 10
          },
          "showarrow": false,
          "text": "3.28",
          "x": "Jul",
          "xref": "x",
          "y": 2018,
          "yref": "y"
         },
         {
          "font": {
           "color": "black",
           "size": 10
          },
          "showarrow": false,
          "text": "3.39",
          "x": "Aug",
          "xref": "x",
          "y": 2018,
          "yref": "y"
         },
         {
          "font": {
           "color": "black",
           "size": 10
          },
          "showarrow": false,
          "text": "5.89",
          "x": "Sep",
          "xref": "x",
          "y": 2018,
          "yref": "y"
         },
         {
          "font": {
           "color": "black",
           "size": 10
          },
          "showarrow": false,
          "text": "0.68",
          "x": "Oct",
          "xref": "x",
          "y": 2018,
          "yref": "y"
         },
         {
          "font": {
           "color": "black",
           "size": 10
          },
          "showarrow": false,
          "text": "1.12",
          "x": "Nov",
          "xref": "x",
          "y": 2018,
          "yref": "y"
         },
         {
          "font": {
           "color": "black",
           "size": 10
          },
          "showarrow": false,
          "text": "-1.0",
          "x": "Dec",
          "xref": "x",
          "y": 2018,
          "yref": "y"
         },
         {
          "font": {
           "color": "black",
           "size": 10
          },
          "showarrow": false,
          "text": "2.63",
          "x": "Jan",
          "xref": "x",
          "y": 2017,
          "yref": "y"
         },
         {
          "font": {
           "color": "black",
           "size": 10
          },
          "showarrow": false,
          "text": "0.49",
          "x": "Feb",
          "xref": "x",
          "y": 2017,
          "yref": "y"
         },
         {
          "font": {
           "color": "black",
           "size": 10
          },
          "showarrow": false,
          "text": "5.94",
          "x": "Mar",
          "xref": "x",
          "y": 2017,
          "yref": "y"
         },
         {
          "font": {
           "color": "black",
           "size": 10
          },
          "showarrow": false,
          "text": "2.05",
          "x": "Apr",
          "xref": "x",
          "y": 2017,
          "yref": "y"
         },
         {
          "font": {
           "color": "black",
           "size": 10
          },
          "showarrow": false,
          "text": "17.94",
          "x": "May",
          "xref": "x",
          "y": 2017,
          "yref": "y"
         },
         {
          "font": {
           "color": "black",
           "size": 10
          },
          "showarrow": false,
          "text": "2.44",
          "x": "Jun",
          "xref": "x",
          "y": 2017,
          "yref": "y"
         },
         {
          "font": {
           "color": "black",
           "size": 10
          },
          "showarrow": false,
          "text": "3.39",
          "x": "Jul",
          "xref": "x",
          "y": 2017,
          "yref": "y"
         },
         {
          "font": {
           "color": "black",
           "size": 10
          },
          "showarrow": false,
          "text": "8.43",
          "x": "Aug",
          "xref": "x",
          "y": 2017,
          "yref": "y"
         },
         {
          "font": {
           "color": "black",
           "size": 10
          },
          "showarrow": false,
          "text": "2.31",
          "x": "Sep",
          "xref": "x",
          "y": 2017,
          "yref": "y"
         },
         {
          "font": {
           "color": "black",
           "size": 10
          },
          "showarrow": false,
          "text": "3.16",
          "x": "Oct",
          "xref": "x",
          "y": 2017,
          "yref": "y"
         },
         {
          "font": {
           "color": "black",
           "size": 10
          },
          "showarrow": false,
          "text": "0.66",
          "x": "Nov",
          "xref": "x",
          "y": 2017,
          "yref": "y"
         },
         {
          "font": {
           "color": "black",
           "size": 10
          },
          "showarrow": false,
          "text": "-1.38",
          "x": "Dec",
          "xref": "x",
          "y": 2017,
          "yref": "y"
         },
         {
          "font": {
           "color": "black",
           "size": 10
          },
          "showarrow": false,
          "text": "4.88",
          "x": "Jan",
          "xref": "x",
          "y": 2016,
          "yref": "y"
         },
         {
          "font": {
           "color": "black",
           "size": 10
          },
          "showarrow": false,
          "text": "2.73",
          "x": "Feb",
          "xref": "x",
          "y": 2016,
          "yref": "y"
         },
         {
          "font": {
           "color": "black",
           "size": 10
          },
          "showarrow": false,
          "text": "1.05",
          "x": "Mar",
          "xref": "x",
          "y": 2016,
          "yref": "y"
         },
         {
          "font": {
           "color": "black",
           "size": 10
          },
          "showarrow": false,
          "text": "1.75",
          "x": "Apr",
          "xref": "x",
          "y": 2016,
          "yref": "y"
         },
         {
          "font": {
           "color": "black",
           "size": 10
          },
          "showarrow": false,
          "text": "4.06",
          "x": "May",
          "xref": "x",
          "y": 2016,
          "yref": "y"
         },
         {
          "font": {
           "color": "black",
           "size": 10
          },
          "showarrow": false,
          "text": "-1.01",
          "x": "Jun",
          "xref": "x",
          "y": 2016,
          "yref": "y"
         },
         {
          "font": {
           "color": "black",
           "size": 10
          },
          "showarrow": false,
          "text": "1.52",
          "x": "Jul",
          "xref": "x",
          "y": 2016,
          "yref": "y"
         },
         {
          "font": {
           "color": "black",
           "size": 10
          },
          "showarrow": false,
          "text": "4.4",
          "x": "Aug",
          "xref": "x",
          "y": 2016,
          "yref": "y"
         },
         {
          "font": {
           "color": "black",
           "size": 10
          },
          "showarrow": false,
          "text": "2.01",
          "x": "Sep",
          "xref": "x",
          "y": 2016,
          "yref": "y"
         },
         {
          "font": {
           "color": "black",
           "size": 10
          },
          "showarrow": false,
          "text": "2.14",
          "x": "Oct",
          "xref": "x",
          "y": 2016,
          "yref": "y"
         },
         {
          "font": {
           "color": "black",
           "size": 10
          },
          "showarrow": false,
          "text": "1.48",
          "x": "Nov",
          "xref": "x",
          "y": 2016,
          "yref": "y"
         },
         {
          "font": {
           "color": "black",
           "size": 10
          },
          "showarrow": false,
          "text": "0.91",
          "x": "Dec",
          "xref": "x",
          "y": 2016,
          "yref": "y"
         },
         {
          "font": {
           "color": "black",
           "size": 10
          },
          "showarrow": false,
          "text": "3.12",
          "x": "Jan",
          "xref": "x",
          "y": 2015,
          "yref": "y"
         },
         {
          "font": {
           "color": "black",
           "size": 10
          },
          "showarrow": false,
          "text": "-0.87",
          "x": "Feb",
          "xref": "x",
          "y": 2015,
          "yref": "y"
         },
         {
          "font": {
           "color": "black",
           "size": 10
          },
          "showarrow": false,
          "text": "6.69",
          "x": "Mar",
          "xref": "x",
          "y": 2015,
          "yref": "y"
         },
         {
          "font": {
           "color": "black",
           "size": 10
          },
          "showarrow": false,
          "text": "-3.54",
          "x": "Apr",
          "xref": "x",
          "y": 2015,
          "yref": "y"
         },
         {
          "font": {
           "color": "black",
           "size": 10
          },
          "showarrow": false,
          "text": "3.26",
          "x": "May",
          "xref": "x",
          "y": 2015,
          "yref": "y"
         },
         {
          "font": {
           "color": "black",
           "size": 10
          },
          "showarrow": false,
          "text": "6.72",
          "x": "Jun",
          "xref": "x",
          "y": 2015,
          "yref": "y"
         },
         {
          "font": {
           "color": "black",
           "size": 10
          },
          "showarrow": false,
          "text": "4.34",
          "x": "Jul",
          "xref": "x",
          "y": 2015,
          "yref": "y"
         },
         {
          "font": {
           "color": "black",
           "size": 10
          },
          "showarrow": false,
          "text": "5.1",
          "x": "Aug",
          "xref": "x",
          "y": 2015,
          "yref": "y"
         },
         {
          "font": {
           "color": "black",
           "size": 10
          },
          "showarrow": false,
          "text": "0.98",
          "x": "Sep",
          "xref": "x",
          "y": 2015,
          "yref": "y"
         },
         {
          "font": {
           "color": "black",
           "size": 10
          },
          "showarrow": false,
          "text": "-1.78",
          "x": "Oct",
          "xref": "x",
          "y": 2015,
          "yref": "y"
         },
         {
          "font": {
           "color": "black",
           "size": 10
          },
          "showarrow": false,
          "text": "-0.12",
          "x": "Nov",
          "xref": "x",
          "y": 2015,
          "yref": "y"
         },
         {
          "font": {
           "color": "black",
           "size": 10
          },
          "showarrow": false,
          "text": "1.16",
          "x": "Dec",
          "xref": "x",
          "y": 2015,
          "yref": "y"
         },
         {
          "font": {
           "color": "black",
           "size": 10
          },
          "showarrow": false,
          "text": "8.73",
          "x": "Jan",
          "xref": "x",
          "y": 2014,
          "yref": "y"
         },
         {
          "font": {
           "color": "black",
           "size": 10
          },
          "showarrow": false,
          "text": "5.7",
          "x": "Feb",
          "xref": "x",
          "y": 2014,
          "yref": "y"
         },
         {
          "font": {
           "color": "black",
           "size": 10
          },
          "showarrow": false,
          "text": "-1.26",
          "x": "Mar",
          "xref": "x",
          "y": 2014,
          "yref": "y"
         },
         {
          "font": {
           "color": "black",
           "size": 10
          },
          "showarrow": false,
          "text": "-1.73",
          "x": "Apr",
          "xref": "x",
          "y": 2014,
          "yref": "y"
         },
         {
          "font": {
           "color": "black",
           "size": 10
          },
          "showarrow": false,
          "text": "-0.12",
          "x": "May",
          "xref": "x",
          "y": 2014,
          "yref": "y"
         },
         {
          "font": {
           "color": "black",
           "size": 10
          },
          "showarrow": false,
          "text": "3.9",
          "x": "Jun",
          "xref": "x",
          "y": 2014,
          "yref": "y"
         },
         {
          "font": {
           "color": "black",
           "size": 10
          },
          "showarrow": false,
          "text": "-4.5",
          "x": "Jul",
          "xref": "x",
          "y": 2014,
          "yref": "y"
         },
         {
          "font": {
           "color": "black",
           "size": 10
          },
          "showarrow": false,
          "text": "15.68",
          "x": "Aug",
          "xref": "x",
          "y": 2014,
          "yref": "y"
         },
         {
          "font": {
           "color": "black",
           "size": 10
          },
          "showarrow": false,
          "text": "5.49",
          "x": "Sep",
          "xref": "x",
          "y": 2014,
          "yref": "y"
         },
         {
          "font": {
           "color": "black",
           "size": 10
          },
          "showarrow": false,
          "text": "4.03",
          "x": "Oct",
          "xref": "x",
          "y": 2014,
          "yref": "y"
         },
         {
          "font": {
           "color": "black",
           "size": 10
          },
          "showarrow": false,
          "text": "7.71",
          "x": "Nov",
          "xref": "x",
          "y": 2014,
          "yref": "y"
         },
         {
          "font": {
           "color": "black",
           "size": 10
          },
          "showarrow": false,
          "text": "7.42",
          "x": "Dec",
          "xref": "x",
          "y": 2014,
          "yref": "y"
         },
         {
          "font": {
           "color": "black",
           "size": 10
          },
          "showarrow": false,
          "text": "1.36",
          "x": "Jan",
          "xref": "x",
          "y": 2013,
          "yref": "y"
         },
         {
          "font": {
           "color": "black",
           "size": 10
          },
          "showarrow": false,
          "text": "8.22",
          "x": "Feb",
          "xref": "x",
          "y": 2013,
          "yref": "y"
         },
         {
          "font": {
           "color": "black",
           "size": 10
          },
          "showarrow": false,
          "text": "6.65",
          "x": "Mar",
          "xref": "x",
          "y": 2013,
          "yref": "y"
         },
         {
          "font": {
           "color": "black",
           "size": 10
          },
          "showarrow": false,
          "text": "0.74",
          "x": "Apr",
          "xref": "x",
          "y": 2013,
          "yref": "y"
         },
         {
          "font": {
           "color": "black",
           "size": 10
          },
          "showarrow": false,
          "text": "6.65",
          "x": "May",
          "xref": "x",
          "y": 2013,
          "yref": "y"
         },
         {
          "font": {
           "color": "black",
           "size": 10
          },
          "showarrow": false,
          "text": "13.95",
          "x": "Jun",
          "xref": "x",
          "y": 2013,
          "yref": "y"
         },
         {
          "font": {
           "color": "black",
           "size": 10
          },
          "showarrow": false,
          "text": "6.4",
          "x": "Jul",
          "xref": "x",
          "y": 2013,
          "yref": "y"
         },
         {
          "font": {
           "color": "black",
           "size": 10
          },
          "showarrow": false,
          "text": "0.85",
          "x": "Aug",
          "xref": "x",
          "y": 2013,
          "yref": "y"
         },
         {
          "font": {
           "color": "black",
           "size": 10
          },
          "showarrow": false,
          "text": "2.49",
          "x": "Sep",
          "xref": "x",
          "y": 2013,
          "yref": "y"
         },
         {
          "font": {
           "color": "black",
           "size": 10
          },
          "showarrow": false,
          "text": "1.69",
          "x": "Oct",
          "xref": "x",
          "y": 2013,
          "yref": "y"
         },
         {
          "font": {
           "color": "black",
           "size": 10
          },
          "showarrow": false,
          "text": "0.4",
          "x": "Nov",
          "xref": "x",
          "y": 2013,
          "yref": "y"
         },
         {
          "font": {
           "color": "black",
           "size": 10
          },
          "showarrow": false,
          "text": "3.98",
          "x": "Dec",
          "xref": "x",
          "y": 2013,
          "yref": "y"
         },
         {
          "font": {
           "color": "black",
           "size": 10
          },
          "showarrow": false,
          "text": "-4.5",
          "x": "Jan",
          "xref": "x",
          "y": 2012,
          "yref": "y"
         },
         {
          "font": {
           "color": "black",
           "size": 10
          },
          "showarrow": false,
          "text": "3.95",
          "x": "Feb",
          "xref": "x",
          "y": 2012,
          "yref": "y"
         },
         {
          "font": {
           "color": "black",
           "size": 10
          },
          "showarrow": false,
          "text": "6.62",
          "x": "Mar",
          "xref": "x",
          "y": 2012,
          "yref": "y"
         },
         {
          "font": {
           "color": "black",
           "size": 10
          },
          "showarrow": false,
          "text": "3.57",
          "x": "Apr",
          "xref": "x",
          "y": 2012,
          "yref": "y"
         },
         {
          "font": {
           "color": "black",
           "size": 10
          },
          "showarrow": false,
          "text": "5.1",
          "x": "May",
          "xref": "x",
          "y": 2012,
          "yref": "y"
         },
         {
          "font": {
           "color": "black",
           "size": 10
          },
          "showarrow": false,
          "text": "-1.76",
          "x": "Jun",
          "xref": "x",
          "y": 2012,
          "yref": "y"
         },
         {
          "font": {
           "color": "black",
           "size": 10
          },
          "showarrow": false,
          "text": "3.86",
          "x": "Jul",
          "xref": "x",
          "y": 2012,
          "yref": "y"
         },
         {
          "font": {
           "color": "black",
           "size": 10
          },
          "showarrow": false,
          "text": "6.67",
          "x": "Aug",
          "xref": "x",
          "y": 2012,
          "yref": "y"
         },
         {
          "font": {
           "color": "black",
           "size": 10
          },
          "showarrow": false,
          "text": "-1.49",
          "x": "Sep",
          "xref": "x",
          "y": 2012,
          "yref": "y"
         },
         {
          "font": {
           "color": "black",
           "size": 10
          },
          "showarrow": false,
          "text": "3.85",
          "x": "Oct",
          "xref": "x",
          "y": 2012,
          "yref": "y"
         },
         {
          "font": {
           "color": "black",
           "size": 10
          },
          "showarrow": false,
          "text": "2.85",
          "x": "Nov",
          "xref": "x",
          "y": 2012,
          "yref": "y"
         },
         {
          "font": {
           "color": "black",
           "size": 10
          },
          "showarrow": false,
          "text": "3.02",
          "x": "Dec",
          "xref": "x",
          "y": 2012,
          "yref": "y"
         },
         {
          "font": {
           "color": "black",
           "size": 10
          },
          "showarrow": false,
          "text": "5.34",
          "x": "Jan",
          "xref": "x",
          "y": 2011,
          "yref": "y"
         },
         {
          "font": {
           "color": "black",
           "size": 10
          },
          "showarrow": false,
          "text": "5.07",
          "x": "Feb",
          "xref": "x",
          "y": 2011,
          "yref": "y"
         },
         {
          "font": {
           "color": "black",
           "size": 10
          },
          "showarrow": false,
          "text": "3.49",
          "x": "Mar",
          "xref": "x",
          "y": 2011,
          "yref": "y"
         },
         {
          "font": {
           "color": "black",
           "size": 10
          },
          "showarrow": false,
          "text": "1.7",
          "x": "Apr",
          "xref": "x",
          "y": 2011,
          "yref": "y"
         },
         {
          "font": {
           "color": "black",
           "size": 10
          },
          "showarrow": false,
          "text": "4.2",
          "x": "May",
          "xref": "x",
          "y": 2011,
          "yref": "y"
         },
         {
          "font": {
           "color": "black",
           "size": 10
          },
          "showarrow": false,
          "text": "4.25",
          "x": "Jun",
          "xref": "x",
          "y": 2011,
          "yref": "y"
         },
         {
          "font": {
           "color": "black",
           "size": 10
          },
          "showarrow": false,
          "text": "4.35",
          "x": "Jul",
          "xref": "x",
          "y": 2011,
          "yref": "y"
         },
         {
          "font": {
           "color": "black",
           "size": 10
          },
          "showarrow": false,
          "text": "11.18",
          "x": "Aug",
          "xref": "x",
          "y": 2011,
          "yref": "y"
         },
         {
          "font": {
           "color": "black",
           "size": 10
          },
          "showarrow": false,
          "text": "1.71",
          "x": "Sep",
          "xref": "x",
          "y": 2011,
          "yref": "y"
         },
         {
          "font": {
           "color": "black",
           "size": 10
          },
          "showarrow": false,
          "text": "1.51",
          "x": "Oct",
          "xref": "x",
          "y": 2011,
          "yref": "y"
         },
         {
          "font": {
           "color": "black",
           "size": 10
          },
          "showarrow": false,
          "text": "5.61",
          "x": "Nov",
          "xref": "x",
          "y": 2011,
          "yref": "y"
         },
         {
          "font": {
           "color": "black",
           "size": 10
          },
          "showarrow": false,
          "text": "4.97",
          "x": "Dec",
          "xref": "x",
          "y": 2011,
          "yref": "y"
         },
         {
          "font": {
           "color": "black",
           "size": 10
          },
          "showarrow": false,
          "text": "0.21",
          "x": "Jan",
          "xref": "x",
          "y": 2010,
          "yref": "y"
         },
         {
          "font": {
           "color": "black",
           "size": 10
          },
          "showarrow": false,
          "text": "5.15",
          "x": "Feb",
          "xref": "x",
          "y": 2010,
          "yref": "y"
         },
         {
          "font": {
           "color": "black",
           "size": 10
          },
          "showarrow": false,
          "text": "3.25",
          "x": "Mar",
          "xref": "x",
          "y": 2010,
          "yref": "y"
         },
         {
          "font": {
           "color": "black",
           "size": 10
          },
          "showarrow": false,
          "text": "6.78",
          "x": "Apr",
          "xref": "x",
          "y": 2010,
          "yref": "y"
         },
         {
          "font": {
           "color": "black",
           "size": 10
          },
          "showarrow": false,
          "text": "10.36",
          "x": "May",
          "xref": "x",
          "y": 2010,
          "yref": "y"
         },
         {
          "font": {
           "color": "black",
           "size": 10
          },
          "showarrow": false,
          "text": "0.42",
          "x": "Jun",
          "xref": "x",
          "y": 2010,
          "yref": "y"
         },
         {
          "font": {
           "color": "black",
           "size": 10
          },
          "showarrow": false,
          "text": "5.13",
          "x": "Jul",
          "xref": "x",
          "y": 2010,
          "yref": "y"
         },
         {
          "font": {
           "color": "black",
           "size": 10
          },
          "showarrow": false,
          "text": "5.97",
          "x": "Aug",
          "xref": "x",
          "y": 2010,
          "yref": "y"
         },
         {
          "font": {
           "color": "black",
           "size": 10
          },
          "showarrow": false,
          "text": "2.8",
          "x": "Sep",
          "xref": "x",
          "y": 2010,
          "yref": "y"
         },
         {
          "font": {
           "color": "black",
           "size": 10
          },
          "showarrow": false,
          "text": "4.14",
          "x": "Oct",
          "xref": "x",
          "y": 2010,
          "yref": "y"
         },
         {
          "font": {
           "color": "black",
           "size": 10
          },
          "showarrow": false,
          "text": "9.05",
          "x": "Nov",
          "xref": "x",
          "y": 2010,
          "yref": "y"
         },
         {
          "font": {
           "color": "black",
           "size": 10
          },
          "showarrow": false,
          "text": "-1.55",
          "x": "Dec",
          "xref": "x",
          "y": 2010,
          "yref": "y"
         },
         {
          "font": {
           "color": "black",
           "size": 10
          },
          "showarrow": false,
          "text": "5.59",
          "x": "Jan",
          "xref": "x",
          "y": 2009,
          "yref": "y"
         },
         {
          "font": {
           "color": "black",
           "size": 10
          },
          "showarrow": false,
          "text": "4.79",
          "x": "Feb",
          "xref": "x",
          "y": 2009,
          "yref": "y"
         },
         {
          "font": {
           "color": "black",
           "size": 10
          },
          "showarrow": false,
          "text": "3.25",
          "x": "Mar",
          "xref": "x",
          "y": 2009,
          "yref": "y"
         },
         {
          "font": {
           "color": "black",
           "size": 10
          },
          "showarrow": false,
          "text": "-7.37",
          "x": "Apr",
          "xref": "x",
          "y": 2009,
          "yref": "y"
         },
         {
          "font": {
           "color": "black",
           "size": 10
          },
          "showarrow": false,
          "text": "-7.01",
          "x": "May",
          "xref": "x",
          "y": 2009,
          "yref": "y"
         },
         {
          "font": {
           "color": "black",
           "size": 10
          },
          "showarrow": false,
          "text": "1.93",
          "x": "Jun",
          "xref": "x",
          "y": 2009,
          "yref": "y"
         },
         {
          "font": {
           "color": "black",
           "size": 10
          },
          "showarrow": false,
          "text": "3.03",
          "x": "Jul",
          "xref": "x",
          "y": 2009,
          "yref": "y"
         },
         {
          "font": {
           "color": "black",
           "size": 10
          },
          "showarrow": false,
          "text": "-1.05",
          "x": "Aug",
          "xref": "x",
          "y": 2009,
          "yref": "y"
         },
         {
          "font": {
           "color": "black",
           "size": 10
          },
          "showarrow": false,
          "text": "1.36",
          "x": "Sep",
          "xref": "x",
          "y": 2009,
          "yref": "y"
         },
         {
          "font": {
           "color": "black",
           "size": 10
          },
          "showarrow": false,
          "text": "6.51",
          "x": "Oct",
          "xref": "x",
          "y": 2009,
          "yref": "y"
         },
         {
          "font": {
           "color": "black",
           "size": 10
          },
          "showarrow": false,
          "text": "1.9",
          "x": "Nov",
          "xref": "x",
          "y": 2009,
          "yref": "y"
         },
         {
          "font": {
           "color": "black",
           "size": 10
          },
          "showarrow": false,
          "text": "3.89",
          "x": "Dec",
          "xref": "x",
          "y": 2009,
          "yref": "y"
         },
         {
          "font": {
           "color": "black",
           "size": 10
          },
          "showarrow": false,
          "text": "14.55",
          "x": "Jan",
          "xref": "x",
          "y": 2008,
          "yref": "y"
         },
         {
          "font": {
           "color": "black",
           "size": 10
          },
          "showarrow": false,
          "text": "-0.5",
          "x": "Feb",
          "xref": "x",
          "y": 2008,
          "yref": "y"
         },
         {
          "font": {
           "color": "black",
           "size": 10
          },
          "showarrow": false,
          "text": "3.66",
          "x": "Mar",
          "xref": "x",
          "y": 2008,
          "yref": "y"
         },
         {
          "font": {
           "color": "black",
           "size": 10
          },
          "showarrow": false,
          "text": "-0.37",
          "x": "Apr",
          "xref": "x",
          "y": 2008,
          "yref": "y"
         },
         {
          "font": {
           "color": "black",
           "size": 10
          },
          "showarrow": false,
          "text": "1.13",
          "x": "May",
          "xref": "x",
          "y": 2008,
          "yref": "y"
         },
         {
          "font": {
           "color": "black",
           "size": 10
          },
          "showarrow": false,
          "text": "6.24",
          "x": "Jun",
          "xref": "x",
          "y": 2008,
          "yref": "y"
         },
         {
          "font": {
           "color": "black",
           "size": 10
          },
          "showarrow": false,
          "text": "1.08",
          "x": "Jul",
          "xref": "x",
          "y": 2008,
          "yref": "y"
         },
         {
          "font": {
           "color": "black",
           "size": 10
          },
          "showarrow": false,
          "text": "-0.51",
          "x": "Aug",
          "xref": "x",
          "y": 2008,
          "yref": "y"
         },
         {
          "font": {
           "color": "black",
           "size": 10
          },
          "showarrow": false,
          "text": "6.89",
          "x": "Sep",
          "xref": "x",
          "y": 2008,
          "yref": "y"
         },
         {
          "font": {
           "color": "black",
           "size": 10
          },
          "showarrow": false,
          "text": "16.89",
          "x": "Oct",
          "xref": "x",
          "y": 2008,
          "yref": "y"
         },
         {
          "font": {
           "color": "black",
           "size": 10
          },
          "showarrow": false,
          "text": "1.81",
          "x": "Nov",
          "xref": "x",
          "y": 2008,
          "yref": "y"
         },
         {
          "font": {
           "color": "black",
           "size": 10
          },
          "showarrow": false,
          "text": "-4.54",
          "x": "Dec",
          "xref": "x",
          "y": 2008,
          "yref": "y"
         },
         {
          "font": {
           "color": "black",
           "size": 10
          },
          "showarrow": false,
          "text": "-0.05",
          "x": "Jan",
          "xref": "x",
          "y": 2007,
          "yref": "y"
         },
         {
          "font": {
           "color": "black",
           "size": 10
          },
          "showarrow": false,
          "text": "3.09",
          "x": "Feb",
          "xref": "x",
          "y": 2007,
          "yref": "y"
         },
         {
          "font": {
           "color": "black",
           "size": 10
          },
          "showarrow": false,
          "text": "4.75",
          "x": "Mar",
          "xref": "x",
          "y": 2007,
          "yref": "y"
         },
         {
          "font": {
           "color": "black",
           "size": 10
          },
          "showarrow": false,
          "text": "0.93",
          "x": "Apr",
          "xref": "x",
          "y": 2007,
          "yref": "y"
         },
         {
          "font": {
           "color": "black",
           "size": 10
          },
          "showarrow": false,
          "text": "3.62",
          "x": "May",
          "xref": "x",
          "y": 2007,
          "yref": "y"
         },
         {
          "font": {
           "color": "black",
           "size": 10
          },
          "showarrow": false,
          "text": "3.32",
          "x": "Jun",
          "xref": "x",
          "y": 2007,
          "yref": "y"
         },
         {
          "font": {
           "color": "black",
           "size": 10
          },
          "showarrow": false,
          "text": "5.85",
          "x": "Jul",
          "xref": "x",
          "y": 2007,
          "yref": "y"
         },
         {
          "font": {
           "color": "black",
           "size": 10
          },
          "showarrow": false,
          "text": "3.41",
          "x": "Aug",
          "xref": "x",
          "y": 2007,
          "yref": "y"
         },
         {
          "font": {
           "color": "black",
           "size": 10
          },
          "showarrow": false,
          "text": "2.9",
          "x": "Sep",
          "xref": "x",
          "y": 2007,
          "yref": "y"
         },
         {
          "font": {
           "color": "black",
           "size": 10
          },
          "showarrow": false,
          "text": "12.0",
          "x": "Oct",
          "xref": "x",
          "y": 2007,
          "yref": "y"
         },
         {
          "font": {
           "color": "black",
           "size": 10
          },
          "showarrow": false,
          "text": "1.12",
          "x": "Nov",
          "xref": "x",
          "y": 2007,
          "yref": "y"
         },
         {
          "font": {
           "color": "black",
           "size": 10
          },
          "showarrow": false,
          "text": "-1.48",
          "x": "Dec",
          "xref": "x",
          "y": 2007,
          "yref": "y"
         },
         {
          "font": {
           "color": "black",
           "size": 10
          },
          "showarrow": false,
          "text": "6.74",
          "x": "Jan",
          "xref": "x",
          "y": 2006,
          "yref": "y"
         },
         {
          "font": {
           "color": "black",
           "size": 10
          },
          "showarrow": false,
          "text": "3.18",
          "x": "Feb",
          "xref": "x",
          "y": 2006,
          "yref": "y"
         },
         {
          "font": {
           "color": "black",
           "size": 10
          },
          "showarrow": false,
          "text": "8.99",
          "x": "Mar",
          "xref": "x",
          "y": 2006,
          "yref": "y"
         },
         {
          "font": {
           "color": "black",
           "size": 10
          },
          "showarrow": false,
          "text": "1.17",
          "x": "Apr",
          "xref": "x",
          "y": 2006,
          "yref": "y"
         },
         {
          "font": {
           "color": "black",
           "size": 10
          },
          "showarrow": false,
          "text": "0.86",
          "x": "May",
          "xref": "x",
          "y": 2006,
          "yref": "y"
         },
         {
          "font": {
           "color": "black",
           "size": 10
          },
          "showarrow": false,
          "text": "4.86",
          "x": "Jun",
          "xref": "x",
          "y": 2006,
          "yref": "y"
         },
         {
          "font": {
           "color": "black",
           "size": 10
          },
          "showarrow": false,
          "text": "1.23",
          "x": "Jul",
          "xref": "x",
          "y": 2006,
          "yref": "y"
         },
         {
          "font": {
           "color": "black",
           "size": 10
          },
          "showarrow": false,
          "text": "-1.49",
          "x": "Aug",
          "xref": "x",
          "y": 2006,
          "yref": "y"
         },
         {
          "font": {
           "color": "black",
           "size": 10
          },
          "showarrow": false,
          "text": "2.34",
          "x": "Sep",
          "xref": "x",
          "y": 2006,
          "yref": "y"
         },
         {
          "font": {
           "color": "black",
           "size": 10
          },
          "showarrow": false,
          "text": "1.5",
          "x": "Oct",
          "xref": "x",
          "y": 2006,
          "yref": "y"
         },
         {
          "font": {
           "color": "black",
           "size": 10
          },
          "showarrow": false,
          "text": "4.33",
          "x": "Nov",
          "xref": "x",
          "y": 2006,
          "yref": "y"
         },
         {
          "font": {
           "color": "black",
           "size": 10
          },
          "showarrow": false,
          "text": "1.63",
          "x": "Dec",
          "xref": "x",
          "y": 2006,
          "yref": "y"
         },
         {
          "font": {
           "color": "black",
           "size": 10
          },
          "showarrow": false,
          "text": "4.15",
          "x": "Jan",
          "xref": "x",
          "y": 2005,
          "yref": "y"
         },
         {
          "font": {
           "color": "black",
           "size": 10
          },
          "showarrow": false,
          "text": "3.87",
          "x": "Feb",
          "xref": "x",
          "y": 2005,
          "yref": "y"
         },
         {
          "font": {
           "color": "black",
           "size": 10
          },
          "showarrow": false,
          "text": "-35.97",
          "x": "Mar",
          "xref": "x",
          "y": 2005,
          "yref": "y"
         },
         {
          "font": {
           "color": "black",
           "size": 10
          },
          "showarrow": false,
          "text": "2.93",
          "x": "Apr",
          "xref": "x",
          "y": 2005,
          "yref": "y"
         },
         {
          "font": {
           "color": "black",
           "size": 10
          },
          "showarrow": false,
          "text": "-0.68",
          "x": "May",
          "xref": "x",
          "y": 2005,
          "yref": "y"
         },
         {
          "font": {
           "color": "black",
           "size": 10
          },
          "showarrow": false,
          "text": "1.41",
          "x": "Jun",
          "xref": "x",
          "y": 2005,
          "yref": "y"
         },
         {
          "font": {
           "color": "black",
           "size": 10
          },
          "showarrow": false,
          "text": "0.84",
          "x": "Jul",
          "xref": "x",
          "y": 2005,
          "yref": "y"
         },
         {
          "font": {
           "color": "black",
           "size": 10
          },
          "showarrow": false,
          "text": "3.46",
          "x": "Aug",
          "xref": "x",
          "y": 2005,
          "yref": "y"
         },
         {
          "font": {
           "color": "black",
           "size": 10
          },
          "showarrow": false,
          "text": "-2.04",
          "x": "Sep",
          "xref": "x",
          "y": 2005,
          "yref": "y"
         },
         {
          "font": {
           "color": "black",
           "size": 10
          },
          "showarrow": false,
          "text": "2.22",
          "x": "Oct",
          "xref": "x",
          "y": 2005,
          "yref": "y"
         },
         {
          "font": {
           "color": "black",
           "size": 10
          },
          "showarrow": false,
          "text": "1.38",
          "x": "Nov",
          "xref": "x",
          "y": 2005,
          "yref": "y"
         },
         {
          "font": {
           "color": "black",
           "size": 10
          },
          "showarrow": false,
          "text": "5.8",
          "x": "Dec",
          "xref": "x",
          "y": 2005,
          "yref": "y"
         },
         {
          "font": {
           "color": "black",
           "size": 10
          },
          "showarrow": false,
          "text": "2.43",
          "x": "Jan",
          "xref": "x",
          "y": 2004,
          "yref": "y"
         },
         {
          "font": {
           "color": "black",
           "size": 10
          },
          "showarrow": false,
          "text": "2.41",
          "x": "Feb",
          "xref": "x",
          "y": 2004,
          "yref": "y"
         },
         {
          "font": {
           "color": "black",
           "size": 10
          },
          "showarrow": false,
          "text": "4.41",
          "x": "Mar",
          "xref": "x",
          "y": 2004,
          "yref": "y"
         },
         {
          "font": {
           "color": "black",
           "size": 10
          },
          "showarrow": false,
          "text": "2.75",
          "x": "Apr",
          "xref": "x",
          "y": 2004,
          "yref": "y"
         },
         {
          "font": {
           "color": "black",
           "size": 10
          },
          "showarrow": false,
          "text": "-6.47",
          "x": "May",
          "xref": "x",
          "y": 2004,
          "yref": "y"
         },
         {
          "font": {
           "color": "black",
           "size": 10
          },
          "showarrow": false,
          "text": "-5.69",
          "x": "Jun",
          "xref": "x",
          "y": 2004,
          "yref": "y"
         },
         {
          "font": {
           "color": "black",
           "size": 10
          },
          "showarrow": false,
          "text": "2.57",
          "x": "Jul",
          "xref": "x",
          "y": 2004,
          "yref": "y"
         },
         {
          "font": {
           "color": "black",
           "size": 10
          },
          "showarrow": false,
          "text": "4.38",
          "x": "Aug",
          "xref": "x",
          "y": 2004,
          "yref": "y"
         },
         {
          "font": {
           "color": "black",
           "size": 10
          },
          "showarrow": false,
          "text": "-0.64",
          "x": "Sep",
          "xref": "x",
          "y": 2004,
          "yref": "y"
         },
         {
          "font": {
           "color": "black",
           "size": 10
          },
          "showarrow": false,
          "text": "2.85",
          "x": "Oct",
          "xref": "x",
          "y": 2004,
          "yref": "y"
         },
         {
          "font": {
           "color": "black",
           "size": 10
          },
          "showarrow": false,
          "text": "2.08",
          "x": "Nov",
          "xref": "x",
          "y": 2004,
          "yref": "y"
         },
         {
          "font": {
           "color": "black",
           "size": 10
          },
          "showarrow": false,
          "text": "-0.24",
          "x": "Dec",
          "xref": "x",
          "y": 2004,
          "yref": "y"
         },
         {
          "font": {
           "color": "black",
           "size": 10
          },
          "showarrow": false,
          "text": "7.21",
          "x": "Jan",
          "xref": "x",
          "y": 2003,
          "yref": "y"
         },
         {
          "font": {
           "color": "black",
           "size": 10
          },
          "showarrow": false,
          "text": "2.61",
          "x": "Feb",
          "xref": "x",
          "y": 2003,
          "yref": "y"
         },
         {
          "font": {
           "color": "black",
           "size": 10
          },
          "showarrow": false,
          "text": "13.2",
          "x": "Mar",
          "xref": "x",
          "y": 2003,
          "yref": "y"
         },
         {
          "font": {
           "color": "black",
           "size": 10
          },
          "showarrow": false,
          "text": "1.65",
          "x": "Apr",
          "xref": "x",
          "y": 2003,
          "yref": "y"
         },
         {
          "font": {
           "color": "black",
           "size": 10
          },
          "showarrow": false,
          "text": "-5.35",
          "x": "May",
          "xref": "x",
          "y": 2003,
          "yref": "y"
         },
         {
          "font": {
           "color": "black",
           "size": 10
          },
          "showarrow": false,
          "text": "76.0",
          "x": "Jun",
          "xref": "x",
          "y": 2003,
          "yref": "y"
         },
         {
          "font": {
           "color": "black",
           "size": 10
          },
          "showarrow": false,
          "text": "4.2",
          "x": "Jul",
          "xref": "x",
          "y": 2003,
          "yref": "y"
         },
         {
          "font": {
           "color": "black",
           "size": 10
          },
          "showarrow": false,
          "text": "0.62",
          "x": "Aug",
          "xref": "x",
          "y": 2003,
          "yref": "y"
         },
         {
          "font": {
           "color": "black",
           "size": 10
          },
          "showarrow": false,
          "text": "6.03",
          "x": "Sep",
          "xref": "x",
          "y": 2003,
          "yref": "y"
         },
         {
          "font": {
           "color": "black",
           "size": 10
          },
          "showarrow": false,
          "text": "10.27",
          "x": "Oct",
          "xref": "x",
          "y": 2003,
          "yref": "y"
         },
         {
          "font": {
           "color": "black",
           "size": 10
          },
          "showarrow": false,
          "text": "0.2",
          "x": "Nov",
          "xref": "x",
          "y": 2003,
          "yref": "y"
         },
         {
          "font": {
           "color": "black",
           "size": 10
          },
          "showarrow": false,
          "text": "7.94",
          "x": "Dec",
          "xref": "x",
          "y": 2003,
          "yref": "y"
         },
         {
          "font": {
           "color": "black",
           "size": 10
          },
          "showarrow": false,
          "text": "-6.9",
          "x": "Jan",
          "xref": "x",
          "y": 2002,
          "yref": "y"
         },
         {
          "font": {
           "color": "black",
           "size": 10
          },
          "showarrow": false,
          "text": "-1.04",
          "x": "Feb",
          "xref": "x",
          "y": 2002,
          "yref": "y"
         },
         {
          "font": {
           "color": "black",
           "size": 10
          },
          "showarrow": false,
          "text": "2.28",
          "x": "Mar",
          "xref": "x",
          "y": 2002,
          "yref": "y"
         },
         {
          "font": {
           "color": "black",
           "size": 10
          },
          "showarrow": false,
          "text": "4.47",
          "x": "Apr",
          "xref": "x",
          "y": 2002,
          "yref": "y"
         },
         {
          "font": {
           "color": "black",
           "size": 10
          },
          "showarrow": false,
          "text": "0.99",
          "x": "May",
          "xref": "x",
          "y": 2002,
          "yref": "y"
         },
         {
          "font": {
           "color": "black",
           "size": 10
          },
          "showarrow": false,
          "text": "5.79",
          "x": "Jun",
          "xref": "x",
          "y": 2002,
          "yref": "y"
         },
         {
          "font": {
           "color": "black",
           "size": 10
          },
          "showarrow": false,
          "text": "4.94",
          "x": "Jul",
          "xref": "x",
          "y": 2002,
          "yref": "y"
         },
         {
          "font": {
           "color": "black",
           "size": 10
          },
          "showarrow": false,
          "text": "0.93",
          "x": "Aug",
          "xref": "x",
          "y": 2002,
          "yref": "y"
         },
         {
          "font": {
           "color": "black",
           "size": 10
          },
          "showarrow": false,
          "text": "3.2",
          "x": "Sep",
          "xref": "x",
          "y": 2002,
          "yref": "y"
         },
         {
          "font": {
           "color": "white",
           "size": 10
          },
          "showarrow": false,
          "text": "190.13",
          "x": "Oct",
          "xref": "x",
          "y": 2002,
          "yref": "y"
         },
         {
          "font": {
           "color": "black",
           "size": 10
          },
          "showarrow": false,
          "text": "2.77",
          "x": "Nov",
          "xref": "x",
          "y": 2002,
          "yref": "y"
         },
         {
          "font": {
           "color": "black",
           "size": 10
          },
          "showarrow": false,
          "text": "3.29",
          "x": "Dec",
          "xref": "x",
          "y": 2002,
          "yref": "y"
         },
         {
          "font": {
           "color": "black",
           "size": 10
          },
          "showarrow": false,
          "text": "0.0",
          "x": "Jan",
          "xref": "x",
          "y": 2001,
          "yref": "y"
         },
         {
          "font": {
           "color": "black",
           "size": 10
          },
          "showarrow": false,
          "text": "2.9",
          "x": "Feb",
          "xref": "x",
          "y": 2001,
          "yref": "y"
         },
         {
          "font": {
           "color": "black",
           "size": 10
          },
          "showarrow": false,
          "text": "66.58",
          "x": "Mar",
          "xref": "x",
          "y": 2001,
          "yref": "y"
         },
         {
          "font": {
           "color": "black",
           "size": 10
          },
          "showarrow": false,
          "text": "6.02",
          "x": "Apr",
          "xref": "x",
          "y": 2001,
          "yref": "y"
         },
         {
          "font": {
           "color": "black",
           "size": 10
          },
          "showarrow": false,
          "text": "0.69",
          "x": "May",
          "xref": "x",
          "y": 2001,
          "yref": "y"
         },
         {
          "font": {
           "color": "black",
           "size": 10
          },
          "showarrow": false,
          "text": "3.26",
          "x": "Jun",
          "xref": "x",
          "y": 2001,
          "yref": "y"
         },
         {
          "font": {
           "color": "black",
           "size": 10
          },
          "showarrow": false,
          "text": "3.74",
          "x": "Jul",
          "xref": "x",
          "y": 2001,
          "yref": "y"
         },
         {
          "font": {
           "color": "black",
           "size": 10
          },
          "showarrow": false,
          "text": "-0.47",
          "x": "Aug",
          "xref": "x",
          "y": 2001,
          "yref": "y"
         },
         {
          "font": {
           "color": "black",
           "size": 10
          },
          "showarrow": false,
          "text": "3.0",
          "x": "Sep",
          "xref": "x",
          "y": 2001,
          "yref": "y"
         },
         {
          "font": {
           "color": "black",
           "size": 10
          },
          "showarrow": false,
          "text": "0.5",
          "x": "Oct",
          "xref": "x",
          "y": 2001,
          "yref": "y"
         },
         {
          "font": {
           "color": "black",
           "size": 10
          },
          "showarrow": false,
          "text": "9.38",
          "x": "Nov",
          "xref": "x",
          "y": 2001,
          "yref": "y"
         },
         {
          "font": {
           "color": "black",
           "size": 10
          },
          "showarrow": false,
          "text": "0.47",
          "x": "Dec",
          "xref": "x",
          "y": 2001,
          "yref": "y"
         }
        ],
        "height": 500,
        "template": {
         "data": {
          "bar": [
           {
            "error_x": {
             "color": "#2a3f5f"
            },
            "error_y": {
             "color": "#2a3f5f"
            },
            "marker": {
             "line": {
              "color": "#E5ECF6",
              "width": 0.5
             }
            },
            "type": "bar"
           }
          ],
          "barpolar": [
           {
            "marker": {
             "line": {
              "color": "#E5ECF6",
              "width": 0.5
             }
            },
            "type": "barpolar"
           }
          ],
          "carpet": [
           {
            "aaxis": {
             "endlinecolor": "#2a3f5f",
             "gridcolor": "white",
             "linecolor": "white",
             "minorgridcolor": "white",
             "startlinecolor": "#2a3f5f"
            },
            "baxis": {
             "endlinecolor": "#2a3f5f",
             "gridcolor": "white",
             "linecolor": "white",
             "minorgridcolor": "white",
             "startlinecolor": "#2a3f5f"
            },
            "type": "carpet"
           }
          ],
          "choropleth": [
           {
            "colorbar": {
             "outlinewidth": 0,
             "ticks": ""
            },
            "type": "choropleth"
           }
          ],
          "contour": [
           {
            "colorbar": {
             "outlinewidth": 0,
             "ticks": ""
            },
            "colorscale": [
             [
              0,
              "#0d0887"
             ],
             [
              0.1111111111111111,
              "#46039f"
             ],
             [
              0.2222222222222222,
              "#7201a8"
             ],
             [
              0.3333333333333333,
              "#9c179e"
             ],
             [
              0.4444444444444444,
              "#bd3786"
             ],
             [
              0.5555555555555556,
              "#d8576b"
             ],
             [
              0.6666666666666666,
              "#ed7953"
             ],
             [
              0.7777777777777778,
              "#fb9f3a"
             ],
             [
              0.8888888888888888,
              "#fdca26"
             ],
             [
              1,
              "#f0f921"
             ]
            ],
            "type": "contour"
           }
          ],
          "contourcarpet": [
           {
            "colorbar": {
             "outlinewidth": 0,
             "ticks": ""
            },
            "type": "contourcarpet"
           }
          ],
          "heatmap": [
           {
            "colorbar": {
             "outlinewidth": 0,
             "ticks": ""
            },
            "colorscale": [
             [
              0,
              "#0d0887"
             ],
             [
              0.1111111111111111,
              "#46039f"
             ],
             [
              0.2222222222222222,
              "#7201a8"
             ],
             [
              0.3333333333333333,
              "#9c179e"
             ],
             [
              0.4444444444444444,
              "#bd3786"
             ],
             [
              0.5555555555555556,
              "#d8576b"
             ],
             [
              0.6666666666666666,
              "#ed7953"
             ],
             [
              0.7777777777777778,
              "#fb9f3a"
             ],
             [
              0.8888888888888888,
              "#fdca26"
             ],
             [
              1,
              "#f0f921"
             ]
            ],
            "type": "heatmap"
           }
          ],
          "heatmapgl": [
           {
            "colorbar": {
             "outlinewidth": 0,
             "ticks": ""
            },
            "colorscale": [
             [
              0,
              "#0d0887"
             ],
             [
              0.1111111111111111,
              "#46039f"
             ],
             [
              0.2222222222222222,
              "#7201a8"
             ],
             [
              0.3333333333333333,
              "#9c179e"
             ],
             [
              0.4444444444444444,
              "#bd3786"
             ],
             [
              0.5555555555555556,
              "#d8576b"
             ],
             [
              0.6666666666666666,
              "#ed7953"
             ],
             [
              0.7777777777777778,
              "#fb9f3a"
             ],
             [
              0.8888888888888888,
              "#fdca26"
             ],
             [
              1,
              "#f0f921"
             ]
            ],
            "type": "heatmapgl"
           }
          ],
          "histogram": [
           {
            "marker": {
             "colorbar": {
              "outlinewidth": 0,
              "ticks": ""
             }
            },
            "type": "histogram"
           }
          ],
          "histogram2d": [
           {
            "colorbar": {
             "outlinewidth": 0,
             "ticks": ""
            },
            "colorscale": [
             [
              0,
              "#0d0887"
             ],
             [
              0.1111111111111111,
              "#46039f"
             ],
             [
              0.2222222222222222,
              "#7201a8"
             ],
             [
              0.3333333333333333,
              "#9c179e"
             ],
             [
              0.4444444444444444,
              "#bd3786"
             ],
             [
              0.5555555555555556,
              "#d8576b"
             ],
             [
              0.6666666666666666,
              "#ed7953"
             ],
             [
              0.7777777777777778,
              "#fb9f3a"
             ],
             [
              0.8888888888888888,
              "#fdca26"
             ],
             [
              1,
              "#f0f921"
             ]
            ],
            "type": "histogram2d"
           }
          ],
          "histogram2dcontour": [
           {
            "colorbar": {
             "outlinewidth": 0,
             "ticks": ""
            },
            "colorscale": [
             [
              0,
              "#0d0887"
             ],
             [
              0.1111111111111111,
              "#46039f"
             ],
             [
              0.2222222222222222,
              "#7201a8"
             ],
             [
              0.3333333333333333,
              "#9c179e"
             ],
             [
              0.4444444444444444,
              "#bd3786"
             ],
             [
              0.5555555555555556,
              "#d8576b"
             ],
             [
              0.6666666666666666,
              "#ed7953"
             ],
             [
              0.7777777777777778,
              "#fb9f3a"
             ],
             [
              0.8888888888888888,
              "#fdca26"
             ],
             [
              1,
              "#f0f921"
             ]
            ],
            "type": "histogram2dcontour"
           }
          ],
          "mesh3d": [
           {
            "colorbar": {
             "outlinewidth": 0,
             "ticks": ""
            },
            "type": "mesh3d"
           }
          ],
          "parcoords": [
           {
            "line": {
             "colorbar": {
              "outlinewidth": 0,
              "ticks": ""
             }
            },
            "type": "parcoords"
           }
          ],
          "pie": [
           {
            "automargin": true,
            "type": "pie"
           }
          ],
          "scatter": [
           {
            "marker": {
             "colorbar": {
              "outlinewidth": 0,
              "ticks": ""
             }
            },
            "type": "scatter"
           }
          ],
          "scatter3d": [
           {
            "line": {
             "colorbar": {
              "outlinewidth": 0,
              "ticks": ""
             }
            },
            "marker": {
             "colorbar": {
              "outlinewidth": 0,
              "ticks": ""
             }
            },
            "type": "scatter3d"
           }
          ],
          "scattercarpet": [
           {
            "marker": {
             "colorbar": {
              "outlinewidth": 0,
              "ticks": ""
             }
            },
            "type": "scattercarpet"
           }
          ],
          "scattergeo": [
           {
            "marker": {
             "colorbar": {
              "outlinewidth": 0,
              "ticks": ""
             }
            },
            "type": "scattergeo"
           }
          ],
          "scattergl": [
           {
            "marker": {
             "colorbar": {
              "outlinewidth": 0,
              "ticks": ""
             }
            },
            "type": "scattergl"
           }
          ],
          "scattermapbox": [
           {
            "marker": {
             "colorbar": {
              "outlinewidth": 0,
              "ticks": ""
             }
            },
            "type": "scattermapbox"
           }
          ],
          "scatterpolar": [
           {
            "marker": {
             "colorbar": {
              "outlinewidth": 0,
              "ticks": ""
             }
            },
            "type": "scatterpolar"
           }
          ],
          "scatterpolargl": [
           {
            "marker": {
             "colorbar": {
              "outlinewidth": 0,
              "ticks": ""
             }
            },
            "type": "scatterpolargl"
           }
          ],
          "scatterternary": [
           {
            "marker": {
             "colorbar": {
              "outlinewidth": 0,
              "ticks": ""
             }
            },
            "type": "scatterternary"
           }
          ],
          "surface": [
           {
            "colorbar": {
             "outlinewidth": 0,
             "ticks": ""
            },
            "colorscale": [
             [
              0,
              "#0d0887"
             ],
             [
              0.1111111111111111,
              "#46039f"
             ],
             [
              0.2222222222222222,
              "#7201a8"
             ],
             [
              0.3333333333333333,
              "#9c179e"
             ],
             [
              0.4444444444444444,
              "#bd3786"
             ],
             [
              0.5555555555555556,
              "#d8576b"
             ],
             [
              0.6666666666666666,
              "#ed7953"
             ],
             [
              0.7777777777777778,
              "#fb9f3a"
             ],
             [
              0.8888888888888888,
              "#fdca26"
             ],
             [
              1,
              "#f0f921"
             ]
            ],
            "type": "surface"
           }
          ],
          "table": [
           {
            "cells": {
             "fill": {
              "color": "#EBF0F8"
             },
             "line": {
              "color": "white"
             }
            },
            "header": {
             "fill": {
              "color": "#C8D4E3"
             },
             "line": {
              "color": "white"
             }
            },
            "type": "table"
           }
          ]
         },
         "layout": {
          "annotationdefaults": {
           "arrowcolor": "#2a3f5f",
           "arrowhead": 0,
           "arrowwidth": 1
          },
          "coloraxis": {
           "colorbar": {
            "outlinewidth": 0,
            "ticks": ""
           }
          },
          "colorscale": {
           "diverging": [
            [
             0,
             "#8e0152"
            ],
            [
             0.1,
             "#c51b7d"
            ],
            [
             0.2,
             "#de77ae"
            ],
            [
             0.3,
             "#f1b6da"
            ],
            [
             0.4,
             "#fde0ef"
            ],
            [
             0.5,
             "#f7f7f7"
            ],
            [
             0.6,
             "#e6f5d0"
            ],
            [
             0.7,
             "#b8e186"
            ],
            [
             0.8,
             "#7fbc41"
            ],
            [
             0.9,
             "#4d9221"
            ],
            [
             1,
             "#276419"
            ]
           ],
           "sequential": [
            [
             0,
             "#0d0887"
            ],
            [
             0.1111111111111111,
             "#46039f"
            ],
            [
             0.2222222222222222,
             "#7201a8"
            ],
            [
             0.3333333333333333,
             "#9c179e"
            ],
            [
             0.4444444444444444,
             "#bd3786"
            ],
            [
             0.5555555555555556,
             "#d8576b"
            ],
            [
             0.6666666666666666,
             "#ed7953"
            ],
            [
             0.7777777777777778,
             "#fb9f3a"
            ],
            [
             0.8888888888888888,
             "#fdca26"
            ],
            [
             1,
             "#f0f921"
            ]
           ],
           "sequentialminus": [
            [
             0,
             "#0d0887"
            ],
            [
             0.1111111111111111,
             "#46039f"
            ],
            [
             0.2222222222222222,
             "#7201a8"
            ],
            [
             0.3333333333333333,
             "#9c179e"
            ],
            [
             0.4444444444444444,
             "#bd3786"
            ],
            [
             0.5555555555555556,
             "#d8576b"
            ],
            [
             0.6666666666666666,
             "#ed7953"
            ],
            [
             0.7777777777777778,
             "#fb9f3a"
            ],
            [
             0.8888888888888888,
             "#fdca26"
            ],
            [
             1,
             "#f0f921"
            ]
           ]
          },
          "colorway": [
           "#636efa",
           "#EF553B",
           "#00cc96",
           "#ab63fa",
           "#FFA15A",
           "#19d3f3",
           "#FF6692",
           "#B6E880",
           "#FF97FF",
           "#FECB52"
          ],
          "font": {
           "color": "#2a3f5f"
          },
          "geo": {
           "bgcolor": "white",
           "lakecolor": "white",
           "landcolor": "#E5ECF6",
           "showlakes": true,
           "showland": true,
           "subunitcolor": "white"
          },
          "hoverlabel": {
           "align": "left"
          },
          "hovermode": "closest",
          "mapbox": {
           "style": "light"
          },
          "paper_bgcolor": "white",
          "plot_bgcolor": "#E5ECF6",
          "polar": {
           "angularaxis": {
            "gridcolor": "white",
            "linecolor": "white",
            "ticks": ""
           },
           "bgcolor": "#E5ECF6",
           "radialaxis": {
            "gridcolor": "white",
            "linecolor": "white",
            "ticks": ""
           }
          },
          "scene": {
           "xaxis": {
            "backgroundcolor": "#E5ECF6",
            "gridcolor": "white",
            "gridwidth": 2,
            "linecolor": "white",
            "showbackground": true,
            "ticks": "",
            "zerolinecolor": "white"
           },
           "yaxis": {
            "backgroundcolor": "#E5ECF6",
            "gridcolor": "white",
            "gridwidth": 2,
            "linecolor": "white",
            "showbackground": true,
            "ticks": "",
            "zerolinecolor": "white"
           },
           "zaxis": {
            "backgroundcolor": "#E5ECF6",
            "gridcolor": "white",
            "gridwidth": 2,
            "linecolor": "white",
            "showbackground": true,
            "ticks": "",
            "zerolinecolor": "white"
           }
          },
          "shapedefaults": {
           "line": {
            "color": "#2a3f5f"
           }
          },
          "ternary": {
           "aaxis": {
            "gridcolor": "white",
            "linecolor": "white",
            "ticks": ""
           },
           "baxis": {
            "gridcolor": "white",
            "linecolor": "white",
            "ticks": ""
           },
           "bgcolor": "#E5ECF6",
           "caxis": {
            "gridcolor": "white",
            "linecolor": "white",
            "ticks": ""
           }
          },
          "title": {
           "x": 0.05
          },
          "xaxis": {
           "automargin": true,
           "gridcolor": "white",
           "linecolor": "white",
           "ticks": "",
           "title": {
            "standoff": 15
           },
           "zerolinecolor": "white",
           "zerolinewidth": 2
          },
          "yaxis": {
           "automargin": true,
           "gridcolor": "white",
           "linecolor": "white",
           "ticks": "",
           "title": {
            "standoff": 15
           },
           "zerolinecolor": "white",
           "zerolinewidth": 2
          }
         }
        },
        "title": {
         "text": "Heatmap for TSMOM VolScale from 2001 - 2019"
        },
        "width": 600,
        "xaxis": {
         "dtick": 1,
         "gridcolor": "rgb(0, 0, 0)",
         "side": "top",
         "ticks": ""
        },
        "yaxis": {
         "dtick": 3,
         "tick0": 2,
         "ticks": "",
         "ticksuffix": "  ",
         "title": {
          "text": "Years"
         }
        }
       }
      },
      "text/html": [
       "<div>\n",
       "        \n",
       "        \n",
       "            <div id=\"624f6df2-2e72-4e27-b569-0bdecf3fd794\" class=\"plotly-graph-div\" style=\"height:500px; width:600px;\"></div>\n",
       "            <script type=\"text/javascript\">\n",
       "                require([\"plotly\"], function(Plotly) {\n",
       "                    window.PLOTLYENV=window.PLOTLYENV || {};\n",
       "                    \n",
       "                if (document.getElementById(\"624f6df2-2e72-4e27-b569-0bdecf3fd794\")) {\n",
       "                    Plotly.newPlot(\n",
       "                        '624f6df2-2e72-4e27-b569-0bdecf3fd794',\n",
       "                        [{\"colorscale\": [[0.0, \"rgb(253, 190, 110)\"], [0.003937007874015748, \"rgb(253, 194, 114)\"], [0.007874015748031496, \"rgb(253, 196, 115)\"], [0.011811023622047244, \"rgb(253, 200, 119)\"], [0.015748031496062992, \"rgb(253, 204, 122)\"], [0.01968503937007874, \"rgb(253, 206, 124)\"], [0.023622047244094488, \"rgb(253, 210, 127)\"], [0.027559055118110236, \"rgb(253, 214, 130)\"], [0.031496062992125984, \"rgb(253, 216, 132)\"], [0.03543307086614173, \"rgb(253, 220, 135)\"], [0.03937007874015748, \"rgb(254, 224, 139)\"], [0.04330708661417323, \"rgb(254, 226, 143)\"], [0.047244094488188976, \"rgb(254, 227, 145)\"], [0.051181102362204724, \"rgb(254, 230, 149)\"], [0.05511811023622047, \"rgb(254, 232, 153)\"], [0.05905511811023622, \"rgb(254, 233, 155)\"], [0.06299212598425197, \"rgb(254, 236, 159)\"], [0.06692913385826771, \"rgb(254, 238, 163)\"], [0.07086614173228346, \"rgb(254, 241, 167)\"], [0.07480314960629922, \"rgb(254, 242, 169)\"], [0.07874015748031496, \"rgb(254, 244, 173)\"], [0.0826771653543307, \"rgb(254, 247, 177)\"], [0.08661417322834646, \"rgb(254, 248, 179)\"], [0.09055118110236221, \"rgb(254, 250, 183)\"], [0.09448818897637795, \"rgb(254, 253, 187)\"], [0.09842519685039369, \"rgb(254, 254, 189)\"], [0.10236220472440945, \"rgb(252, 254, 187)\"], [0.1062992125984252, \"rgb(249, 252, 183)\"], [0.11023622047244094, \"rgb(246, 251, 179)\"], [0.11417322834645668, \"rgb(245, 250, 177)\"], [0.11811023622047244, \"rgb(242, 249, 173)\"], [0.1220472440944882, \"rgb(239, 248, 169)\"], [0.12598425196850394, \"rgb(237, 247, 167)\"], [0.12992125984251968, \"rgb(234, 246, 163)\"], [0.13385826771653542, \"rgb(231, 245, 159)\"], [0.1377952755905512, \"rgb(228, 244, 155)\"], [0.14173228346456693, \"rgb(227, 243, 153)\"], [0.14566929133858267, \"rgb(224, 242, 149)\"], [0.14960629921259844, \"rgb(221, 240, 145)\"], [0.15354330708661418, \"rgb(219, 240, 143)\"], [0.15748031496062992, \"rgb(217, 239, 139)\"], [0.16141732283464566, \"rgb(213, 237, 136)\"], [0.1653543307086614, \"rgb(209, 235, 133)\"], [0.16929133858267717, \"rgb(207, 234, 132)\"], [0.1732283464566929, \"rgb(203, 232, 129)\"], [0.17716535433070865, \"rgb(199, 231, 127)\"], [0.18110236220472442, \"rgb(197, 230, 126)\"], [0.18503937007874016, \"rgb(193, 228, 123)\"], [0.1889763779527559, \"rgb(189, 226, 120)\"], [0.19291338582677164, \"rgb(187, 226, 119)\"], [0.19685039370078738, \"rgb(183, 224, 117)\"], [0.20078740157480315, \"rgb(179, 222, 114)\"], [0.2047244094488189, \"rgb(175, 220, 111)\"], [0.20866141732283464, \"rgb(173, 220, 110)\"], [0.2125984251968504, \"rgb(169, 218, 107)\"], [0.21653543307086615, \"rgb(164, 216, 105)\"], [0.2204724409448819, \"rgb(162, 215, 105)\"], [0.22440944881889763, \"rgb(157, 213, 105)\"], [0.22834645669291337, \"rgb(152, 210, 104)\"], [0.23228346456692914, \"rgb(147, 208, 103)\"], [0.23622047244094488, \"rgb(144, 207, 103)\"], [0.24015748031496062, \"rgb(139, 205, 103)\"], [0.2440944881889764, \"rgb(134, 203, 102)\"], [0.24803149606299213, \"rgb(132, 202, 102)\"], [0.25196850393700787, \"rgb(127, 199, 101)\"], [0.2559055118110236, \"rgb(122, 197, 101)\"], [0.25984251968503935, \"rgb(119, 196, 100)\"], [0.2637795275590551, \"rgb(114, 194, 100)\"], [0.26771653543307083, \"rgb(109, 192, 99)\"], [0.27165354330708663, \"rgb(104, 190, 99)\"], [0.2755905511811024, \"rgb(102, 189, 99)\"], [0.2795275590551181, \"rgb(96, 186, 97)\"], [0.28346456692913385, \"rgb(90, 183, 96)\"], [0.2874015748031496, \"rgb(87, 181, 95)\"], [0.29133858267716534, \"rgb(81, 178, 93)\"], [0.2952755905511811, \"rgb(75, 175, 92)\"], [0.2992125984251969, \"rgb(69, 173, 90)\"], [0.3031496062992126, \"rgb(66, 171, 90)\"], [0.30708661417322836, \"rgb(60, 168, 88)\"], [0.3110236220472441, \"rgb(54, 165, 87)\"], [0.31496062992125984, \"rgb(51, 164, 86)\"], [0.3188976377952756, \"rgb(45, 161, 84)\"], [0.3228346456692913, \"rgb(39, 158, 83)\"], [0.32677165354330706, \"rgb(36, 157, 82)\"], [0.3307086614173228, \"rgb(30, 154, 81)\"], [0.3346456692913386, \"rgb(25, 151, 79)\"], [0.33858267716535434, \"rgb(23, 147, 77)\"], [0.3425196850393701, \"rgb(22, 145, 76)\"], [0.3464566929133858, \"rgb(20, 141, 74)\"], [0.35039370078740156, \"rgb(18, 137, 72)\"], [0.3543307086614173, \"rgb(17, 136, 71)\"], [0.35826771653543305, \"rgb(15, 132, 69)\"], [0.36220472440944884, \"rgb(13, 128, 67)\"], [0.3661417322834646, \"rgb(11, 124, 65)\"], [0.3700787401574803, \"rgb(10, 122, 64)\"], [0.37401574803149606, \"rgb(8, 119, 62)\"], [0.3779527559055118, \"rgb(6, 115, 60)\"], [0.38188976377952755, \"rgb(5, 113, 59)\"], [0.3858267716535433, \"rgb(3, 109, 57)\"], [0.38976377952755903, \"rgb(1, 105, 55)\"], [0.39370078740157477, \"rgb(0, 104, 55)\"], [0.39763779527559057, \"rgb(0, 104, 55)\"], [0.4015748031496063, \"rgb(0, 104, 55)\"], [0.40551181102362205, \"rgb(0, 104, 55)\"], [0.4094488188976378, \"rgb(0, 104, 55)\"], [0.41338582677165353, \"rgb(0, 104, 55)\"], [0.41732283464566927, \"rgb(0, 104, 55)\"], [0.421259842519685, \"rgb(0, 104, 55)\"], [0.4251968503937008, \"rgb(0, 104, 55)\"], [0.42913385826771655, \"rgb(0, 104, 55)\"], [0.4330708661417323, \"rgb(0, 104, 55)\"], [0.43700787401574803, \"rgb(0, 104, 55)\"], [0.4409448818897638, \"rgb(0, 104, 55)\"], [0.4448818897637795, \"rgb(0, 104, 55)\"], [0.44881889763779526, \"rgb(0, 104, 55)\"], [0.452755905511811, \"rgb(0, 104, 55)\"], [0.45669291338582674, \"rgb(0, 104, 55)\"], [0.46062992125984253, \"rgb(0, 104, 55)\"], [0.4645669291338583, \"rgb(0, 104, 55)\"], [0.468503937007874, \"rgb(0, 104, 55)\"], [0.47244094488188976, \"rgb(0, 104, 55)\"], [0.4763779527559055, \"rgb(0, 104, 55)\"], [0.48031496062992124, \"rgb(0, 104, 55)\"], [0.484251968503937, \"rgb(0, 104, 55)\"], [0.4881889763779528, \"rgb(0, 104, 55)\"], [0.4921259842519685, \"rgb(0, 104, 55)\"], [0.49606299212598426, \"rgb(0, 104, 55)\"], [0.5, \"rgb(0, 104, 55)\"], [0.5039370078740157, \"rgb(0, 104, 55)\"], [0.5078740157480315, \"rgb(0, 104, 55)\"], [0.5118110236220472, \"rgb(0, 104, 55)\"], [0.515748031496063, \"rgb(0, 104, 55)\"], [0.5196850393700787, \"rgb(0, 104, 55)\"], [0.5236220472440944, \"rgb(0, 104, 55)\"], [0.5275590551181102, \"rgb(0, 104, 55)\"], [0.5314960629921259, \"rgb(0, 104, 55)\"], [0.5354330708661417, \"rgb(0, 104, 55)\"], [0.5393700787401575, \"rgb(0, 104, 55)\"], [0.5433070866141733, \"rgb(0, 104, 55)\"], [0.547244094488189, \"rgb(0, 104, 55)\"], [0.5511811023622047, \"rgb(0, 104, 55)\"], [0.5551181102362205, \"rgb(0, 104, 55)\"], [0.5590551181102362, \"rgb(0, 104, 55)\"], [0.562992125984252, \"rgb(0, 104, 55)\"], [0.5669291338582677, \"rgb(0, 104, 55)\"], [0.5708661417322834, \"rgb(0, 104, 55)\"], [0.5748031496062992, \"rgb(0, 104, 55)\"], [0.5787401574803149, \"rgb(0, 104, 55)\"], [0.5826771653543307, \"rgb(0, 104, 55)\"], [0.5866141732283464, \"rgb(0, 104, 55)\"], [0.5905511811023622, \"rgb(0, 104, 55)\"], [0.5944881889763779, \"rgb(0, 104, 55)\"], [0.5984251968503937, \"rgb(0, 104, 55)\"], [0.6023622047244095, \"rgb(0, 104, 55)\"], [0.6062992125984252, \"rgb(0, 104, 55)\"], [0.610236220472441, \"rgb(0, 104, 55)\"], [0.6141732283464567, \"rgb(0, 104, 55)\"], [0.6181102362204725, \"rgb(0, 104, 55)\"], [0.6220472440944882, \"rgb(0, 104, 55)\"], [0.6259842519685039, \"rgb(0, 104, 55)\"], [0.6299212598425197, \"rgb(0, 104, 55)\"], [0.6338582677165354, \"rgb(0, 104, 55)\"], [0.6377952755905512, \"rgb(0, 104, 55)\"], [0.6417322834645669, \"rgb(0, 104, 55)\"], [0.6456692913385826, \"rgb(0, 104, 55)\"], [0.6496062992125984, \"rgb(0, 104, 55)\"], [0.6535433070866141, \"rgb(0, 104, 55)\"], [0.6574803149606299, \"rgb(0, 104, 55)\"], [0.6614173228346456, \"rgb(0, 104, 55)\"], [0.6653543307086615, \"rgb(0, 104, 55)\"], [0.6692913385826772, \"rgb(0, 104, 55)\"], [0.6732283464566929, \"rgb(0, 104, 55)\"], [0.6771653543307087, \"rgb(0, 104, 55)\"], [0.6811023622047244, \"rgb(0, 104, 55)\"], [0.6850393700787402, \"rgb(0, 104, 55)\"], [0.6889763779527559, \"rgb(0, 104, 55)\"], [0.6929133858267716, \"rgb(0, 104, 55)\"], [0.6968503937007874, \"rgb(0, 104, 55)\"], [0.7007874015748031, \"rgb(0, 104, 55)\"], [0.7047244094488189, \"rgb(0, 104, 55)\"], [0.7086614173228346, \"rgb(0, 104, 55)\"], [0.7125984251968503, \"rgb(0, 104, 55)\"], [0.7165354330708661, \"rgb(0, 104, 55)\"], [0.7204724409448818, \"rgb(0, 104, 55)\"], [0.7244094488188977, \"rgb(0, 104, 55)\"], [0.7283464566929134, \"rgb(0, 104, 55)\"], [0.7322834645669292, \"rgb(0, 104, 55)\"], [0.7362204724409449, \"rgb(0, 104, 55)\"], [0.7401574803149606, \"rgb(0, 104, 55)\"], [0.7440944881889764, \"rgb(0, 104, 55)\"], [0.7480314960629921, \"rgb(0, 104, 55)\"], [0.7519685039370079, \"rgb(0, 104, 55)\"], [0.7559055118110236, \"rgb(0, 104, 55)\"], [0.7598425196850394, \"rgb(0, 104, 55)\"], [0.7637795275590551, \"rgb(0, 104, 55)\"], [0.7677165354330708, \"rgb(0, 104, 55)\"], [0.7716535433070866, \"rgb(0, 104, 55)\"], [0.7755905511811023, \"rgb(0, 104, 55)\"], [0.7795275590551181, \"rgb(0, 104, 55)\"], [0.7834645669291338, \"rgb(0, 104, 55)\"], [0.7874015748031495, \"rgb(0, 104, 55)\"], [0.7913385826771654, \"rgb(0, 104, 55)\"], [0.7952755905511811, \"rgb(0, 104, 55)\"], [0.7992125984251969, \"rgb(0, 104, 55)\"], [0.8031496062992126, \"rgb(0, 104, 55)\"], [0.8070866141732284, \"rgb(0, 104, 55)\"], [0.8110236220472441, \"rgb(0, 104, 55)\"], [0.8149606299212598, \"rgb(0, 104, 55)\"], [0.8188976377952756, \"rgb(0, 104, 55)\"], [0.8228346456692913, \"rgb(0, 104, 55)\"], [0.8267716535433071, \"rgb(0, 104, 55)\"], [0.8307086614173228, \"rgb(0, 104, 55)\"], [0.8346456692913385, \"rgb(0, 104, 55)\"], [0.8385826771653543, \"rgb(0, 104, 55)\"], [0.84251968503937, \"rgb(0, 104, 55)\"], [0.8464566929133858, \"rgb(0, 104, 55)\"], [0.8503937007874016, \"rgb(0, 104, 55)\"], [0.8543307086614174, \"rgb(0, 104, 55)\"], [0.8582677165354331, \"rgb(0, 104, 55)\"], [0.8622047244094488, \"rgb(0, 104, 55)\"], [0.8661417322834646, \"rgb(0, 104, 55)\"], [0.8700787401574803, \"rgb(0, 104, 55)\"], [0.8740157480314961, \"rgb(0, 104, 55)\"], [0.8779527559055118, \"rgb(0, 104, 55)\"], [0.8818897637795275, \"rgb(0, 104, 55)\"], [0.8858267716535433, \"rgb(0, 104, 55)\"], [0.889763779527559, \"rgb(0, 104, 55)\"], [0.8937007874015748, \"rgb(0, 104, 55)\"], [0.8976377952755905, \"rgb(0, 104, 55)\"], [0.9015748031496063, \"rgb(0, 104, 55)\"], [0.905511811023622, \"rgb(0, 104, 55)\"], [0.9094488188976377, \"rgb(0, 104, 55)\"], [0.9133858267716535, \"rgb(0, 104, 55)\"], [0.9173228346456693, \"rgb(0, 104, 55)\"], [0.9212598425196851, \"rgb(0, 104, 55)\"], [0.9251968503937008, \"rgb(0, 104, 55)\"], [0.9291338582677166, \"rgb(0, 104, 55)\"], [0.9330708661417323, \"rgb(0, 104, 55)\"], [0.937007874015748, \"rgb(0, 104, 55)\"], [0.9409448818897638, \"rgb(0, 104, 55)\"], [0.9448818897637795, \"rgb(0, 104, 55)\"], [0.9488188976377953, \"rgb(0, 104, 55)\"], [0.952755905511811, \"rgb(0, 104, 55)\"], [0.9566929133858267, \"rgb(0, 104, 55)\"], [0.9606299212598425, \"rgb(0, 104, 55)\"], [0.9645669291338582, \"rgb(0, 104, 55)\"], [0.968503937007874, \"rgb(0, 104, 55)\"], [0.9724409448818897, \"rgb(0, 104, 55)\"], [0.9763779527559056, \"rgb(0, 104, 55)\"], [0.9803149606299213, \"rgb(0, 104, 55)\"], [0.984251968503937, \"rgb(0, 104, 55)\"], [0.9881889763779528, \"rgb(0, 104, 55)\"], [0.9921259842519685, \"rgb(0, 104, 55)\"], [0.9960629921259843, \"rgb(0, 104, 55)\"], [1.0, \"rgb(0, 104, 55)\"]], \"hoverinfo\": \"y+z\", \"reversescale\": false, \"showscale\": false, \"type\": \"heatmap\", \"x\": [\"Jan\", \"Feb\", \"Mar\", \"Apr\", \"May\", \"Jun\", \"Jul\", \"Aug\", \"Sep\", \"Oct\", \"Nov\", \"Dec\"], \"y\": [2019, 2018, 2017, 2016, 2015, 2014, 2013, 2012, 2011, 2010, 2009, 2008, 2007, 2006, 2005, 2004, 2003, 2002, 2001], \"z\": [[6.239999999999999, 3.44, 1.72, 3.37, 3.29, 7.5, 8.73, 1.7000000000000002, 5.13, 4.760000000000001, 1.13, 3.2800000000000002], [1.5, 4.06, 8.07, 6.18, 5.43, 3.55, 3.2800000000000002, 3.39, 5.89, 0.6799999999999999, 1.1199999999999999, -1.0], [2.63, 0.49, 5.94, 2.0500000000000003, 17.94, 2.44, 3.39, 8.43, 2.31, 3.16, 0.66, -1.38], [4.88, 2.73, 1.05, 1.7500000000000002, 4.06, -1.01, 1.52, 4.3999999999999995, 2.01, 2.1399999999999997, 1.48, 0.91], [3.1199999999999997, -0.8699999999999999, 6.69, -3.54, 3.26, 6.72, 4.34, 5.1, 0.98, -1.78, -0.12, 1.16], [8.73, 5.7, -1.26, -1.73, -0.12, 3.9, -4.5, 15.68, 5.489999999999999, 4.03, 7.71, 7.42], [1.3599999999999999, 8.219999999999999, 6.65, 0.74, 6.65, 13.950000000000001, 6.4, 0.8500000000000001, 2.4899999999999998, 1.69, 0.4, 3.9800000000000004], [-4.5, 3.95, 6.619999999999999, 3.5700000000000003, 5.1, -1.76, 3.8600000000000003, 6.67, -1.49, 3.85, 2.85, 3.02], [5.34, 5.07, 3.49, 1.7000000000000002, 4.2, 4.25, 4.35, 11.18, 1.71, 1.51, 5.609999999999999, 4.97], [0.21, 5.1499999999999995, 3.25, 6.78, 10.36, 0.42, 5.13, 5.970000000000001, 2.8000000000000003, 4.14, 9.049999999999999, -1.55], [5.59, 4.79, 3.25, -7.37, -7.01, 1.9300000000000002, 3.0300000000000002, -1.05, 1.3599999999999999, 6.510000000000001, 1.9, 3.8899999999999997], [14.549999999999999, -0.5, 3.66, -0.37, 1.13, 6.239999999999999, 1.08, -0.51, 6.890000000000001, 16.89, 1.81, -4.54], [-0.05, 3.09, 4.75, 0.9299999999999999, 3.62, 3.32, 5.8500000000000005, 3.4099999999999997, 2.9000000000000004, 12.0, 1.1199999999999999, -1.48], [6.74, 3.18, 8.99, 1.17, 0.86, 4.859999999999999, 1.23, -1.49, 2.34, 1.5, 4.33, 1.63], [4.15, 3.8699999999999997, -35.97, 2.93, -0.6799999999999999, 1.41, 0.84, 3.46, -2.04, 2.22, 1.38, 5.800000000000001], [2.4299999999999997, 2.41, 4.41, 2.75, -6.47, -5.6899999999999995, 2.5700000000000003, 4.38, -0.64, 2.85, 2.08, -0.24], [7.21, 2.6100000000000003, 13.200000000000001, 1.6500000000000001, -5.35, 76.0, 4.2, 0.62, 6.03, 10.27, 0.2, 7.9399999999999995], [-6.9, -1.04, 2.2800000000000002, 4.47, 0.9900000000000001, 5.79, 4.9399999999999995, 0.9299999999999999, 3.2, 190.13, 2.77, 3.29], [0.0, 2.9000000000000004, 66.58, 6.02, 0.69, 3.26, 3.74, -0.47000000000000003, 3.0, 0.5, 9.379999999999999, 0.47000000000000003]]}],\n",
       "                        {\"annotations\": [{\"font\": {\"color\": \"black\", \"size\": 10}, \"showarrow\": false, \"text\": \"6.24\", \"x\": \"Jan\", \"xref\": \"x\", \"y\": 2019, \"yref\": \"y\"}, {\"font\": {\"color\": \"black\", \"size\": 10}, \"showarrow\": false, \"text\": \"3.44\", \"x\": \"Feb\", \"xref\": \"x\", \"y\": 2019, \"yref\": \"y\"}, {\"font\": {\"color\": \"black\", \"size\": 10}, \"showarrow\": false, \"text\": \"1.72\", \"x\": \"Mar\", \"xref\": \"x\", \"y\": 2019, \"yref\": \"y\"}, {\"font\": {\"color\": \"black\", \"size\": 10}, \"showarrow\": false, \"text\": \"3.37\", \"x\": \"Apr\", \"xref\": \"x\", \"y\": 2019, \"yref\": \"y\"}, {\"font\": {\"color\": \"black\", \"size\": 10}, \"showarrow\": false, \"text\": \"3.29\", \"x\": \"May\", \"xref\": \"x\", \"y\": 2019, \"yref\": \"y\"}, {\"font\": {\"color\": \"black\", \"size\": 10}, \"showarrow\": false, \"text\": \"7.5\", \"x\": \"Jun\", \"xref\": \"x\", \"y\": 2019, \"yref\": \"y\"}, {\"font\": {\"color\": \"black\", \"size\": 10}, \"showarrow\": false, \"text\": \"8.73\", \"x\": \"Jul\", \"xref\": \"x\", \"y\": 2019, \"yref\": \"y\"}, {\"font\": {\"color\": \"black\", \"size\": 10}, \"showarrow\": false, \"text\": \"1.7\", \"x\": \"Aug\", \"xref\": \"x\", \"y\": 2019, \"yref\": \"y\"}, {\"font\": {\"color\": \"black\", \"size\": 10}, \"showarrow\": false, \"text\": \"5.13\", \"x\": \"Sep\", \"xref\": \"x\", \"y\": 2019, \"yref\": \"y\"}, {\"font\": {\"color\": \"black\", \"size\": 10}, \"showarrow\": false, \"text\": \"4.76\", \"x\": \"Oct\", \"xref\": \"x\", \"y\": 2019, \"yref\": \"y\"}, {\"font\": {\"color\": \"black\", \"size\": 10}, \"showarrow\": false, \"text\": \"1.13\", \"x\": \"Nov\", \"xref\": \"x\", \"y\": 2019, \"yref\": \"y\"}, {\"font\": {\"color\": \"black\", \"size\": 10}, \"showarrow\": false, \"text\": \"3.28\", \"x\": \"Dec\", \"xref\": \"x\", \"y\": 2019, \"yref\": \"y\"}, {\"font\": {\"color\": \"black\", \"size\": 10}, \"showarrow\": false, \"text\": \"1.5\", \"x\": \"Jan\", \"xref\": \"x\", \"y\": 2018, \"yref\": \"y\"}, {\"font\": {\"color\": \"black\", \"size\": 10}, \"showarrow\": false, \"text\": \"4.06\", \"x\": \"Feb\", \"xref\": \"x\", \"y\": 2018, \"yref\": \"y\"}, {\"font\": {\"color\": \"black\", \"size\": 10}, \"showarrow\": false, \"text\": \"8.07\", \"x\": \"Mar\", \"xref\": \"x\", \"y\": 2018, \"yref\": \"y\"}, {\"font\": {\"color\": \"black\", \"size\": 10}, \"showarrow\": false, \"text\": \"6.18\", \"x\": \"Apr\", \"xref\": \"x\", \"y\": 2018, \"yref\": \"y\"}, {\"font\": {\"color\": \"black\", \"size\": 10}, \"showarrow\": false, \"text\": \"5.43\", \"x\": \"May\", \"xref\": \"x\", \"y\": 2018, \"yref\": \"y\"}, {\"font\": {\"color\": \"black\", \"size\": 10}, \"showarrow\": false, \"text\": \"3.55\", \"x\": \"Jun\", \"xref\": \"x\", \"y\": 2018, \"yref\": \"y\"}, {\"font\": {\"color\": \"black\", \"size\": 10}, \"showarrow\": false, \"text\": \"3.28\", \"x\": \"Jul\", \"xref\": \"x\", \"y\": 2018, \"yref\": \"y\"}, {\"font\": {\"color\": \"black\", \"size\": 10}, \"showarrow\": false, \"text\": \"3.39\", \"x\": \"Aug\", \"xref\": \"x\", \"y\": 2018, \"yref\": \"y\"}, {\"font\": {\"color\": \"black\", \"size\": 10}, \"showarrow\": false, \"text\": \"5.89\", \"x\": \"Sep\", \"xref\": \"x\", \"y\": 2018, \"yref\": \"y\"}, {\"font\": {\"color\": \"black\", \"size\": 10}, \"showarrow\": false, \"text\": \"0.68\", \"x\": \"Oct\", \"xref\": \"x\", \"y\": 2018, \"yref\": \"y\"}, {\"font\": {\"color\": \"black\", \"size\": 10}, \"showarrow\": false, \"text\": \"1.12\", \"x\": \"Nov\", \"xref\": \"x\", \"y\": 2018, \"yref\": \"y\"}, {\"font\": {\"color\": \"black\", \"size\": 10}, \"showarrow\": false, \"text\": \"-1.0\", \"x\": \"Dec\", \"xref\": \"x\", \"y\": 2018, \"yref\": \"y\"}, {\"font\": {\"color\": \"black\", \"size\": 10}, \"showarrow\": false, \"text\": \"2.63\", \"x\": \"Jan\", \"xref\": \"x\", \"y\": 2017, \"yref\": \"y\"}, {\"font\": {\"color\": \"black\", \"size\": 10}, \"showarrow\": false, \"text\": \"0.49\", \"x\": \"Feb\", \"xref\": \"x\", \"y\": 2017, \"yref\": \"y\"}, {\"font\": {\"color\": \"black\", \"size\": 10}, \"showarrow\": false, \"text\": \"5.94\", \"x\": \"Mar\", \"xref\": \"x\", \"y\": 2017, \"yref\": \"y\"}, {\"font\": {\"color\": \"black\", \"size\": 10}, \"showarrow\": false, \"text\": \"2.05\", \"x\": \"Apr\", \"xref\": \"x\", \"y\": 2017, \"yref\": \"y\"}, {\"font\": {\"color\": \"black\", \"size\": 10}, \"showarrow\": false, \"text\": \"17.94\", \"x\": \"May\", \"xref\": \"x\", \"y\": 2017, \"yref\": \"y\"}, {\"font\": {\"color\": \"black\", \"size\": 10}, \"showarrow\": false, \"text\": \"2.44\", \"x\": \"Jun\", \"xref\": \"x\", \"y\": 2017, \"yref\": \"y\"}, {\"font\": {\"color\": \"black\", \"size\": 10}, \"showarrow\": false, \"text\": \"3.39\", \"x\": \"Jul\", \"xref\": \"x\", \"y\": 2017, \"yref\": \"y\"}, {\"font\": {\"color\": \"black\", \"size\": 10}, \"showarrow\": false, \"text\": \"8.43\", \"x\": \"Aug\", \"xref\": \"x\", \"y\": 2017, \"yref\": \"y\"}, {\"font\": {\"color\": \"black\", \"size\": 10}, \"showarrow\": false, \"text\": \"2.31\", \"x\": \"Sep\", \"xref\": \"x\", \"y\": 2017, \"yref\": \"y\"}, {\"font\": {\"color\": \"black\", \"size\": 10}, \"showarrow\": false, \"text\": \"3.16\", \"x\": \"Oct\", \"xref\": \"x\", \"y\": 2017, \"yref\": \"y\"}, {\"font\": {\"color\": \"black\", \"size\": 10}, \"showarrow\": false, \"text\": \"0.66\", \"x\": \"Nov\", \"xref\": \"x\", \"y\": 2017, \"yref\": \"y\"}, {\"font\": {\"color\": \"black\", \"size\": 10}, \"showarrow\": false, \"text\": \"-1.38\", \"x\": \"Dec\", \"xref\": \"x\", \"y\": 2017, \"yref\": \"y\"}, {\"font\": {\"color\": \"black\", \"size\": 10}, \"showarrow\": false, \"text\": \"4.88\", \"x\": \"Jan\", \"xref\": \"x\", \"y\": 2016, \"yref\": \"y\"}, {\"font\": {\"color\": \"black\", \"size\": 10}, \"showarrow\": false, \"text\": \"2.73\", \"x\": \"Feb\", \"xref\": \"x\", \"y\": 2016, \"yref\": \"y\"}, {\"font\": {\"color\": \"black\", \"size\": 10}, \"showarrow\": false, \"text\": \"1.05\", \"x\": \"Mar\", \"xref\": \"x\", \"y\": 2016, \"yref\": \"y\"}, {\"font\": {\"color\": \"black\", \"size\": 10}, \"showarrow\": false, \"text\": \"1.75\", \"x\": \"Apr\", \"xref\": \"x\", \"y\": 2016, \"yref\": \"y\"}, {\"font\": {\"color\": \"black\", \"size\": 10}, \"showarrow\": false, \"text\": \"4.06\", \"x\": \"May\", \"xref\": \"x\", \"y\": 2016, \"yref\": \"y\"}, {\"font\": {\"color\": \"black\", \"size\": 10}, \"showarrow\": false, \"text\": \"-1.01\", \"x\": \"Jun\", \"xref\": \"x\", \"y\": 2016, \"yref\": \"y\"}, {\"font\": {\"color\": \"black\", \"size\": 10}, \"showarrow\": false, \"text\": \"1.52\", \"x\": \"Jul\", \"xref\": \"x\", \"y\": 2016, \"yref\": \"y\"}, {\"font\": {\"color\": \"black\", \"size\": 10}, \"showarrow\": false, \"text\": \"4.4\", \"x\": \"Aug\", \"xref\": \"x\", \"y\": 2016, \"yref\": \"y\"}, {\"font\": {\"color\": \"black\", \"size\": 10}, \"showarrow\": false, \"text\": \"2.01\", \"x\": \"Sep\", \"xref\": \"x\", \"y\": 2016, \"yref\": \"y\"}, {\"font\": {\"color\": \"black\", \"size\": 10}, \"showarrow\": false, \"text\": \"2.14\", \"x\": \"Oct\", \"xref\": \"x\", \"y\": 2016, \"yref\": \"y\"}, {\"font\": {\"color\": \"black\", \"size\": 10}, \"showarrow\": false, \"text\": \"1.48\", \"x\": \"Nov\", \"xref\": \"x\", \"y\": 2016, \"yref\": \"y\"}, {\"font\": {\"color\": \"black\", \"size\": 10}, \"showarrow\": false, \"text\": \"0.91\", \"x\": \"Dec\", \"xref\": \"x\", \"y\": 2016, \"yref\": \"y\"}, {\"font\": {\"color\": \"black\", \"size\": 10}, \"showarrow\": false, \"text\": \"3.12\", \"x\": \"Jan\", \"xref\": \"x\", \"y\": 2015, \"yref\": \"y\"}, {\"font\": {\"color\": \"black\", \"size\": 10}, \"showarrow\": false, \"text\": \"-0.87\", \"x\": \"Feb\", \"xref\": \"x\", \"y\": 2015, \"yref\": \"y\"}, {\"font\": {\"color\": \"black\", \"size\": 10}, \"showarrow\": false, \"text\": \"6.69\", \"x\": \"Mar\", \"xref\": \"x\", \"y\": 2015, \"yref\": \"y\"}, {\"font\": {\"color\": \"black\", \"size\": 10}, \"showarrow\": false, \"text\": \"-3.54\", \"x\": \"Apr\", \"xref\": \"x\", \"y\": 2015, \"yref\": \"y\"}, {\"font\": {\"color\": \"black\", \"size\": 10}, \"showarrow\": false, \"text\": \"3.26\", \"x\": \"May\", \"xref\": \"x\", \"y\": 2015, \"yref\": \"y\"}, {\"font\": {\"color\": \"black\", \"size\": 10}, \"showarrow\": false, \"text\": \"6.72\", \"x\": \"Jun\", \"xref\": \"x\", \"y\": 2015, \"yref\": \"y\"}, {\"font\": {\"color\": \"black\", \"size\": 10}, \"showarrow\": false, \"text\": \"4.34\", \"x\": \"Jul\", \"xref\": \"x\", \"y\": 2015, \"yref\": \"y\"}, {\"font\": {\"color\": \"black\", \"size\": 10}, \"showarrow\": false, \"text\": \"5.1\", \"x\": \"Aug\", \"xref\": \"x\", \"y\": 2015, \"yref\": \"y\"}, {\"font\": {\"color\": \"black\", \"size\": 10}, \"showarrow\": false, \"text\": \"0.98\", \"x\": \"Sep\", \"xref\": \"x\", \"y\": 2015, \"yref\": \"y\"}, {\"font\": {\"color\": \"black\", \"size\": 10}, \"showarrow\": false, \"text\": \"-1.78\", \"x\": \"Oct\", \"xref\": \"x\", \"y\": 2015, \"yref\": \"y\"}, {\"font\": {\"color\": \"black\", \"size\": 10}, \"showarrow\": false, \"text\": \"-0.12\", \"x\": \"Nov\", \"xref\": \"x\", \"y\": 2015, \"yref\": \"y\"}, {\"font\": {\"color\": \"black\", \"size\": 10}, \"showarrow\": false, \"text\": \"1.16\", \"x\": \"Dec\", \"xref\": \"x\", \"y\": 2015, \"yref\": \"y\"}, {\"font\": {\"color\": \"black\", \"size\": 10}, \"showarrow\": false, \"text\": \"8.73\", \"x\": \"Jan\", \"xref\": \"x\", \"y\": 2014, \"yref\": \"y\"}, {\"font\": {\"color\": \"black\", \"size\": 10}, \"showarrow\": false, \"text\": \"5.7\", \"x\": \"Feb\", \"xref\": \"x\", \"y\": 2014, \"yref\": \"y\"}, {\"font\": {\"color\": \"black\", \"size\": 10}, \"showarrow\": false, \"text\": \"-1.26\", \"x\": \"Mar\", \"xref\": \"x\", \"y\": 2014, \"yref\": \"y\"}, {\"font\": {\"color\": \"black\", \"size\": 10}, \"showarrow\": false, \"text\": \"-1.73\", \"x\": \"Apr\", \"xref\": \"x\", \"y\": 2014, \"yref\": \"y\"}, {\"font\": {\"color\": \"black\", \"size\": 10}, \"showarrow\": false, \"text\": \"-0.12\", \"x\": \"May\", \"xref\": \"x\", \"y\": 2014, \"yref\": \"y\"}, {\"font\": {\"color\": \"black\", \"size\": 10}, \"showarrow\": false, \"text\": \"3.9\", \"x\": \"Jun\", \"xref\": \"x\", \"y\": 2014, \"yref\": \"y\"}, {\"font\": {\"color\": \"black\", \"size\": 10}, \"showarrow\": false, \"text\": \"-4.5\", \"x\": \"Jul\", \"xref\": \"x\", \"y\": 2014, \"yref\": \"y\"}, {\"font\": {\"color\": \"black\", \"size\": 10}, \"showarrow\": false, \"text\": \"15.68\", \"x\": \"Aug\", \"xref\": \"x\", \"y\": 2014, \"yref\": \"y\"}, {\"font\": {\"color\": \"black\", \"size\": 10}, \"showarrow\": false, \"text\": \"5.49\", \"x\": \"Sep\", \"xref\": \"x\", \"y\": 2014, \"yref\": \"y\"}, {\"font\": {\"color\": \"black\", \"size\": 10}, \"showarrow\": false, \"text\": \"4.03\", \"x\": \"Oct\", \"xref\": \"x\", \"y\": 2014, \"yref\": \"y\"}, {\"font\": {\"color\": \"black\", \"size\": 10}, \"showarrow\": false, \"text\": \"7.71\", \"x\": \"Nov\", \"xref\": \"x\", \"y\": 2014, \"yref\": \"y\"}, {\"font\": {\"color\": \"black\", \"size\": 10}, \"showarrow\": false, \"text\": \"7.42\", \"x\": \"Dec\", \"xref\": \"x\", \"y\": 2014, \"yref\": \"y\"}, {\"font\": {\"color\": \"black\", \"size\": 10}, \"showarrow\": false, \"text\": \"1.36\", \"x\": \"Jan\", \"xref\": \"x\", \"y\": 2013, \"yref\": \"y\"}, {\"font\": {\"color\": \"black\", \"size\": 10}, \"showarrow\": false, \"text\": \"8.22\", \"x\": \"Feb\", \"xref\": \"x\", \"y\": 2013, \"yref\": \"y\"}, {\"font\": {\"color\": \"black\", \"size\": 10}, \"showarrow\": false, \"text\": \"6.65\", \"x\": \"Mar\", \"xref\": \"x\", \"y\": 2013, \"yref\": \"y\"}, {\"font\": {\"color\": \"black\", \"size\": 10}, \"showarrow\": false, \"text\": \"0.74\", \"x\": \"Apr\", \"xref\": \"x\", \"y\": 2013, \"yref\": \"y\"}, {\"font\": {\"color\": \"black\", \"size\": 10}, \"showarrow\": false, \"text\": \"6.65\", \"x\": \"May\", \"xref\": \"x\", \"y\": 2013, \"yref\": \"y\"}, {\"font\": {\"color\": \"black\", \"size\": 10}, \"showarrow\": false, \"text\": \"13.95\", \"x\": \"Jun\", \"xref\": \"x\", \"y\": 2013, \"yref\": \"y\"}, {\"font\": {\"color\": \"black\", \"size\": 10}, \"showarrow\": false, \"text\": \"6.4\", \"x\": \"Jul\", \"xref\": \"x\", \"y\": 2013, \"yref\": \"y\"}, {\"font\": {\"color\": \"black\", \"size\": 10}, \"showarrow\": false, \"text\": \"0.85\", \"x\": \"Aug\", \"xref\": \"x\", \"y\": 2013, \"yref\": \"y\"}, {\"font\": {\"color\": \"black\", \"size\": 10}, \"showarrow\": false, \"text\": \"2.49\", \"x\": \"Sep\", \"xref\": \"x\", \"y\": 2013, \"yref\": \"y\"}, {\"font\": {\"color\": \"black\", \"size\": 10}, \"showarrow\": false, \"text\": \"1.69\", \"x\": \"Oct\", \"xref\": \"x\", \"y\": 2013, \"yref\": \"y\"}, {\"font\": {\"color\": \"black\", \"size\": 10}, \"showarrow\": false, \"text\": \"0.4\", \"x\": \"Nov\", \"xref\": \"x\", \"y\": 2013, \"yref\": \"y\"}, {\"font\": {\"color\": \"black\", \"size\": 10}, \"showarrow\": false, \"text\": \"3.98\", \"x\": \"Dec\", \"xref\": \"x\", \"y\": 2013, \"yref\": \"y\"}, {\"font\": {\"color\": \"black\", \"size\": 10}, \"showarrow\": false, \"text\": \"-4.5\", \"x\": \"Jan\", \"xref\": \"x\", \"y\": 2012, \"yref\": \"y\"}, {\"font\": {\"color\": \"black\", \"size\": 10}, \"showarrow\": false, \"text\": \"3.95\", \"x\": \"Feb\", \"xref\": \"x\", \"y\": 2012, \"yref\": \"y\"}, {\"font\": {\"color\": \"black\", \"size\": 10}, \"showarrow\": false, \"text\": \"6.62\", \"x\": \"Mar\", \"xref\": \"x\", \"y\": 2012, \"yref\": \"y\"}, {\"font\": {\"color\": \"black\", \"size\": 10}, \"showarrow\": false, \"text\": \"3.57\", \"x\": \"Apr\", \"xref\": \"x\", \"y\": 2012, \"yref\": \"y\"}, {\"font\": {\"color\": \"black\", \"size\": 10}, \"showarrow\": false, \"text\": \"5.1\", \"x\": \"May\", \"xref\": \"x\", \"y\": 2012, \"yref\": \"y\"}, {\"font\": {\"color\": \"black\", \"size\": 10}, \"showarrow\": false, \"text\": \"-1.76\", \"x\": \"Jun\", \"xref\": \"x\", \"y\": 2012, \"yref\": \"y\"}, {\"font\": {\"color\": \"black\", \"size\": 10}, \"showarrow\": false, \"text\": \"3.86\", \"x\": \"Jul\", \"xref\": \"x\", \"y\": 2012, \"yref\": \"y\"}, {\"font\": {\"color\": \"black\", \"size\": 10}, \"showarrow\": false, \"text\": \"6.67\", \"x\": \"Aug\", \"xref\": \"x\", \"y\": 2012, \"yref\": \"y\"}, {\"font\": {\"color\": \"black\", \"size\": 10}, \"showarrow\": false, \"text\": \"-1.49\", \"x\": \"Sep\", \"xref\": \"x\", \"y\": 2012, \"yref\": \"y\"}, {\"font\": {\"color\": \"black\", \"size\": 10}, \"showarrow\": false, \"text\": \"3.85\", \"x\": \"Oct\", \"xref\": \"x\", \"y\": 2012, \"yref\": \"y\"}, {\"font\": {\"color\": \"black\", \"size\": 10}, \"showarrow\": false, \"text\": \"2.85\", \"x\": \"Nov\", \"xref\": \"x\", \"y\": 2012, \"yref\": \"y\"}, {\"font\": {\"color\": \"black\", \"size\": 10}, \"showarrow\": false, \"text\": \"3.02\", \"x\": \"Dec\", \"xref\": \"x\", \"y\": 2012, \"yref\": \"y\"}, {\"font\": {\"color\": \"black\", \"size\": 10}, \"showarrow\": false, \"text\": \"5.34\", \"x\": \"Jan\", \"xref\": \"x\", \"y\": 2011, \"yref\": \"y\"}, {\"font\": {\"color\": \"black\", \"size\": 10}, \"showarrow\": false, \"text\": \"5.07\", \"x\": \"Feb\", \"xref\": \"x\", \"y\": 2011, \"yref\": \"y\"}, {\"font\": {\"color\": \"black\", \"size\": 10}, \"showarrow\": false, \"text\": \"3.49\", \"x\": \"Mar\", \"xref\": \"x\", \"y\": 2011, \"yref\": \"y\"}, {\"font\": {\"color\": \"black\", \"size\": 10}, \"showarrow\": false, \"text\": \"1.7\", \"x\": \"Apr\", \"xref\": \"x\", \"y\": 2011, \"yref\": \"y\"}, {\"font\": {\"color\": \"black\", \"size\": 10}, \"showarrow\": false, \"text\": \"4.2\", \"x\": \"May\", \"xref\": \"x\", \"y\": 2011, \"yref\": \"y\"}, {\"font\": {\"color\": \"black\", \"size\": 10}, \"showarrow\": false, \"text\": \"4.25\", \"x\": \"Jun\", \"xref\": \"x\", \"y\": 2011, \"yref\": \"y\"}, {\"font\": {\"color\": \"black\", \"size\": 10}, \"showarrow\": false, \"text\": \"4.35\", \"x\": \"Jul\", \"xref\": \"x\", \"y\": 2011, \"yref\": \"y\"}, {\"font\": {\"color\": \"black\", \"size\": 10}, \"showarrow\": false, \"text\": \"11.18\", \"x\": \"Aug\", \"xref\": \"x\", \"y\": 2011, \"yref\": \"y\"}, {\"font\": {\"color\": \"black\", \"size\": 10}, \"showarrow\": false, \"text\": \"1.71\", \"x\": \"Sep\", \"xref\": \"x\", \"y\": 2011, \"yref\": \"y\"}, {\"font\": {\"color\": \"black\", \"size\": 10}, \"showarrow\": false, \"text\": \"1.51\", \"x\": \"Oct\", \"xref\": \"x\", \"y\": 2011, \"yref\": \"y\"}, {\"font\": {\"color\": \"black\", \"size\": 10}, \"showarrow\": false, \"text\": \"5.61\", \"x\": \"Nov\", \"xref\": \"x\", \"y\": 2011, \"yref\": \"y\"}, {\"font\": {\"color\": \"black\", \"size\": 10}, \"showarrow\": false, \"text\": \"4.97\", \"x\": \"Dec\", \"xref\": \"x\", \"y\": 2011, \"yref\": \"y\"}, {\"font\": {\"color\": \"black\", \"size\": 10}, \"showarrow\": false, \"text\": \"0.21\", \"x\": \"Jan\", \"xref\": \"x\", \"y\": 2010, \"yref\": \"y\"}, {\"font\": {\"color\": \"black\", \"size\": 10}, \"showarrow\": false, \"text\": \"5.15\", \"x\": \"Feb\", \"xref\": \"x\", \"y\": 2010, \"yref\": \"y\"}, {\"font\": {\"color\": \"black\", \"size\": 10}, \"showarrow\": false, \"text\": \"3.25\", \"x\": \"Mar\", \"xref\": \"x\", \"y\": 2010, \"yref\": \"y\"}, {\"font\": {\"color\": \"black\", \"size\": 10}, \"showarrow\": false, \"text\": \"6.78\", \"x\": \"Apr\", \"xref\": \"x\", \"y\": 2010, \"yref\": \"y\"}, {\"font\": {\"color\": \"black\", \"size\": 10}, \"showarrow\": false, \"text\": \"10.36\", \"x\": \"May\", \"xref\": \"x\", \"y\": 2010, \"yref\": \"y\"}, {\"font\": {\"color\": \"black\", \"size\": 10}, \"showarrow\": false, \"text\": \"0.42\", \"x\": \"Jun\", \"xref\": \"x\", \"y\": 2010, \"yref\": \"y\"}, {\"font\": {\"color\": \"black\", \"size\": 10}, \"showarrow\": false, \"text\": \"5.13\", \"x\": \"Jul\", \"xref\": \"x\", \"y\": 2010, \"yref\": \"y\"}, {\"font\": {\"color\": \"black\", \"size\": 10}, \"showarrow\": false, \"text\": \"5.97\", \"x\": \"Aug\", \"xref\": \"x\", \"y\": 2010, \"yref\": \"y\"}, {\"font\": {\"color\": \"black\", \"size\": 10}, \"showarrow\": false, \"text\": \"2.8\", \"x\": \"Sep\", \"xref\": \"x\", \"y\": 2010, \"yref\": \"y\"}, {\"font\": {\"color\": \"black\", \"size\": 10}, \"showarrow\": false, \"text\": \"4.14\", \"x\": \"Oct\", \"xref\": \"x\", \"y\": 2010, \"yref\": \"y\"}, {\"font\": {\"color\": \"black\", \"size\": 10}, \"showarrow\": false, \"text\": \"9.05\", \"x\": \"Nov\", \"xref\": \"x\", \"y\": 2010, \"yref\": \"y\"}, {\"font\": {\"color\": \"black\", \"size\": 10}, \"showarrow\": false, \"text\": \"-1.55\", \"x\": \"Dec\", \"xref\": \"x\", \"y\": 2010, \"yref\": \"y\"}, {\"font\": {\"color\": \"black\", \"size\": 10}, \"showarrow\": false, \"text\": \"5.59\", \"x\": \"Jan\", \"xref\": \"x\", \"y\": 2009, \"yref\": \"y\"}, {\"font\": {\"color\": \"black\", \"size\": 10}, \"showarrow\": false, \"text\": \"4.79\", \"x\": \"Feb\", \"xref\": \"x\", \"y\": 2009, \"yref\": \"y\"}, {\"font\": {\"color\": \"black\", \"size\": 10}, \"showarrow\": false, \"text\": \"3.25\", \"x\": \"Mar\", \"xref\": \"x\", \"y\": 2009, \"yref\": \"y\"}, {\"font\": {\"color\": \"black\", \"size\": 10}, \"showarrow\": false, \"text\": \"-7.37\", \"x\": \"Apr\", \"xref\": \"x\", \"y\": 2009, \"yref\": \"y\"}, {\"font\": {\"color\": \"black\", \"size\": 10}, \"showarrow\": false, \"text\": \"-7.01\", \"x\": \"May\", \"xref\": \"x\", \"y\": 2009, \"yref\": \"y\"}, {\"font\": {\"color\": \"black\", \"size\": 10}, \"showarrow\": false, \"text\": \"1.93\", \"x\": \"Jun\", \"xref\": \"x\", \"y\": 2009, \"yref\": \"y\"}, {\"font\": {\"color\": \"black\", \"size\": 10}, \"showarrow\": false, \"text\": \"3.03\", \"x\": \"Jul\", \"xref\": \"x\", \"y\": 2009, \"yref\": \"y\"}, {\"font\": {\"color\": \"black\", \"size\": 10}, \"showarrow\": false, \"text\": \"-1.05\", \"x\": \"Aug\", \"xref\": \"x\", \"y\": 2009, \"yref\": \"y\"}, {\"font\": {\"color\": \"black\", \"size\": 10}, \"showarrow\": false, \"text\": \"1.36\", \"x\": \"Sep\", \"xref\": \"x\", \"y\": 2009, \"yref\": \"y\"}, {\"font\": {\"color\": \"black\", \"size\": 10}, \"showarrow\": false, \"text\": \"6.51\", \"x\": \"Oct\", \"xref\": \"x\", \"y\": 2009, \"yref\": \"y\"}, {\"font\": {\"color\": \"black\", \"size\": 10}, \"showarrow\": false, \"text\": \"1.9\", \"x\": \"Nov\", \"xref\": \"x\", \"y\": 2009, \"yref\": \"y\"}, {\"font\": {\"color\": \"black\", \"size\": 10}, \"showarrow\": false, \"text\": \"3.89\", \"x\": \"Dec\", \"xref\": \"x\", \"y\": 2009, \"yref\": \"y\"}, {\"font\": {\"color\": \"black\", \"size\": 10}, \"showarrow\": false, \"text\": \"14.55\", \"x\": \"Jan\", \"xref\": \"x\", \"y\": 2008, \"yref\": \"y\"}, {\"font\": {\"color\": \"black\", \"size\": 10}, \"showarrow\": false, \"text\": \"-0.5\", \"x\": \"Feb\", \"xref\": \"x\", \"y\": 2008, \"yref\": \"y\"}, {\"font\": {\"color\": \"black\", \"size\": 10}, \"showarrow\": false, \"text\": \"3.66\", \"x\": \"Mar\", \"xref\": \"x\", \"y\": 2008, \"yref\": \"y\"}, {\"font\": {\"color\": \"black\", \"size\": 10}, \"showarrow\": false, \"text\": \"-0.37\", \"x\": \"Apr\", \"xref\": \"x\", \"y\": 2008, \"yref\": \"y\"}, {\"font\": {\"color\": \"black\", \"size\": 10}, \"showarrow\": false, \"text\": \"1.13\", \"x\": \"May\", \"xref\": \"x\", \"y\": 2008, \"yref\": \"y\"}, {\"font\": {\"color\": \"black\", \"size\": 10}, \"showarrow\": false, \"text\": \"6.24\", \"x\": \"Jun\", \"xref\": \"x\", \"y\": 2008, \"yref\": \"y\"}, {\"font\": {\"color\": \"black\", \"size\": 10}, \"showarrow\": false, \"text\": \"1.08\", \"x\": \"Jul\", \"xref\": \"x\", \"y\": 2008, \"yref\": \"y\"}, {\"font\": {\"color\": \"black\", \"size\": 10}, \"showarrow\": false, \"text\": \"-0.51\", \"x\": \"Aug\", \"xref\": \"x\", \"y\": 2008, \"yref\": \"y\"}, {\"font\": {\"color\": \"black\", \"size\": 10}, \"showarrow\": false, \"text\": \"6.89\", \"x\": \"Sep\", \"xref\": \"x\", \"y\": 2008, \"yref\": \"y\"}, {\"font\": {\"color\": \"black\", \"size\": 10}, \"showarrow\": false, \"text\": \"16.89\", \"x\": \"Oct\", \"xref\": \"x\", \"y\": 2008, \"yref\": \"y\"}, {\"font\": {\"color\": \"black\", \"size\": 10}, \"showarrow\": false, \"text\": \"1.81\", \"x\": \"Nov\", \"xref\": \"x\", \"y\": 2008, \"yref\": \"y\"}, {\"font\": {\"color\": \"black\", \"size\": 10}, \"showarrow\": false, \"text\": \"-4.54\", \"x\": \"Dec\", \"xref\": \"x\", \"y\": 2008, \"yref\": \"y\"}, {\"font\": {\"color\": \"black\", \"size\": 10}, \"showarrow\": false, \"text\": \"-0.05\", \"x\": \"Jan\", \"xref\": \"x\", \"y\": 2007, \"yref\": \"y\"}, {\"font\": {\"color\": \"black\", \"size\": 10}, \"showarrow\": false, \"text\": \"3.09\", \"x\": \"Feb\", \"xref\": \"x\", \"y\": 2007, \"yref\": \"y\"}, {\"font\": {\"color\": \"black\", \"size\": 10}, \"showarrow\": false, \"text\": \"4.75\", \"x\": \"Mar\", \"xref\": \"x\", \"y\": 2007, \"yref\": \"y\"}, {\"font\": {\"color\": \"black\", \"size\": 10}, \"showarrow\": false, \"text\": \"0.93\", \"x\": \"Apr\", \"xref\": \"x\", \"y\": 2007, \"yref\": \"y\"}, {\"font\": {\"color\": \"black\", \"size\": 10}, \"showarrow\": false, \"text\": \"3.62\", \"x\": \"May\", \"xref\": \"x\", \"y\": 2007, \"yref\": \"y\"}, {\"font\": {\"color\": \"black\", \"size\": 10}, \"showarrow\": false, \"text\": \"3.32\", \"x\": \"Jun\", \"xref\": \"x\", \"y\": 2007, \"yref\": \"y\"}, {\"font\": {\"color\": \"black\", \"size\": 10}, \"showarrow\": false, \"text\": \"5.85\", \"x\": \"Jul\", \"xref\": \"x\", \"y\": 2007, \"yref\": \"y\"}, {\"font\": {\"color\": \"black\", \"size\": 10}, \"showarrow\": false, \"text\": \"3.41\", \"x\": \"Aug\", \"xref\": \"x\", \"y\": 2007, \"yref\": \"y\"}, {\"font\": {\"color\": \"black\", \"size\": 10}, \"showarrow\": false, \"text\": \"2.9\", \"x\": \"Sep\", \"xref\": \"x\", \"y\": 2007, \"yref\": \"y\"}, {\"font\": {\"color\": \"black\", \"size\": 10}, \"showarrow\": false, \"text\": \"12.0\", \"x\": \"Oct\", \"xref\": \"x\", \"y\": 2007, \"yref\": \"y\"}, {\"font\": {\"color\": \"black\", \"size\": 10}, \"showarrow\": false, \"text\": \"1.12\", \"x\": \"Nov\", \"xref\": \"x\", \"y\": 2007, \"yref\": \"y\"}, {\"font\": {\"color\": \"black\", \"size\": 10}, \"showarrow\": false, \"text\": \"-1.48\", \"x\": \"Dec\", \"xref\": \"x\", \"y\": 2007, \"yref\": \"y\"}, {\"font\": {\"color\": \"black\", \"size\": 10}, \"showarrow\": false, \"text\": \"6.74\", \"x\": \"Jan\", \"xref\": \"x\", \"y\": 2006, \"yref\": \"y\"}, {\"font\": {\"color\": \"black\", \"size\": 10}, \"showarrow\": false, \"text\": \"3.18\", \"x\": \"Feb\", \"xref\": \"x\", \"y\": 2006, \"yref\": \"y\"}, {\"font\": {\"color\": \"black\", \"size\": 10}, \"showarrow\": false, \"text\": \"8.99\", \"x\": \"Mar\", \"xref\": \"x\", \"y\": 2006, \"yref\": \"y\"}, {\"font\": {\"color\": \"black\", \"size\": 10}, \"showarrow\": false, \"text\": \"1.17\", \"x\": \"Apr\", \"xref\": \"x\", \"y\": 2006, \"yref\": \"y\"}, {\"font\": {\"color\": \"black\", \"size\": 10}, \"showarrow\": false, \"text\": \"0.86\", \"x\": \"May\", \"xref\": \"x\", \"y\": 2006, \"yref\": \"y\"}, {\"font\": {\"color\": \"black\", \"size\": 10}, \"showarrow\": false, \"text\": \"4.86\", \"x\": \"Jun\", \"xref\": \"x\", \"y\": 2006, \"yref\": \"y\"}, {\"font\": {\"color\": \"black\", \"size\": 10}, \"showarrow\": false, \"text\": \"1.23\", \"x\": \"Jul\", \"xref\": \"x\", \"y\": 2006, \"yref\": \"y\"}, {\"font\": {\"color\": \"black\", \"size\": 10}, \"showarrow\": false, \"text\": \"-1.49\", \"x\": \"Aug\", \"xref\": \"x\", \"y\": 2006, \"yref\": \"y\"}, {\"font\": {\"color\": \"black\", \"size\": 10}, \"showarrow\": false, \"text\": \"2.34\", \"x\": \"Sep\", \"xref\": \"x\", \"y\": 2006, \"yref\": \"y\"}, {\"font\": {\"color\": \"black\", \"size\": 10}, \"showarrow\": false, \"text\": \"1.5\", \"x\": \"Oct\", \"xref\": \"x\", \"y\": 2006, \"yref\": \"y\"}, {\"font\": {\"color\": \"black\", \"size\": 10}, \"showarrow\": false, \"text\": \"4.33\", \"x\": \"Nov\", \"xref\": \"x\", \"y\": 2006, \"yref\": \"y\"}, {\"font\": {\"color\": \"black\", \"size\": 10}, \"showarrow\": false, \"text\": \"1.63\", \"x\": \"Dec\", \"xref\": \"x\", \"y\": 2006, \"yref\": \"y\"}, {\"font\": {\"color\": \"black\", \"size\": 10}, \"showarrow\": false, \"text\": \"4.15\", \"x\": \"Jan\", \"xref\": \"x\", \"y\": 2005, \"yref\": \"y\"}, {\"font\": {\"color\": \"black\", \"size\": 10}, \"showarrow\": false, \"text\": \"3.87\", \"x\": \"Feb\", \"xref\": \"x\", \"y\": 2005, \"yref\": \"y\"}, {\"font\": {\"color\": \"black\", \"size\": 10}, \"showarrow\": false, \"text\": \"-35.97\", \"x\": \"Mar\", \"xref\": \"x\", \"y\": 2005, \"yref\": \"y\"}, {\"font\": {\"color\": \"black\", \"size\": 10}, \"showarrow\": false, \"text\": \"2.93\", \"x\": \"Apr\", \"xref\": \"x\", \"y\": 2005, \"yref\": \"y\"}, {\"font\": {\"color\": \"black\", \"size\": 10}, \"showarrow\": false, \"text\": \"-0.68\", \"x\": \"May\", \"xref\": \"x\", \"y\": 2005, \"yref\": \"y\"}, {\"font\": {\"color\": \"black\", \"size\": 10}, \"showarrow\": false, \"text\": \"1.41\", \"x\": \"Jun\", \"xref\": \"x\", \"y\": 2005, \"yref\": \"y\"}, {\"font\": {\"color\": \"black\", \"size\": 10}, \"showarrow\": false, \"text\": \"0.84\", \"x\": \"Jul\", \"xref\": \"x\", \"y\": 2005, \"yref\": \"y\"}, {\"font\": {\"color\": \"black\", \"size\": 10}, \"showarrow\": false, \"text\": \"3.46\", \"x\": \"Aug\", \"xref\": \"x\", \"y\": 2005, \"yref\": \"y\"}, {\"font\": {\"color\": \"black\", \"size\": 10}, \"showarrow\": false, \"text\": \"-2.04\", \"x\": \"Sep\", \"xref\": \"x\", \"y\": 2005, \"yref\": \"y\"}, {\"font\": {\"color\": \"black\", \"size\": 10}, \"showarrow\": false, \"text\": \"2.22\", \"x\": \"Oct\", \"xref\": \"x\", \"y\": 2005, \"yref\": \"y\"}, {\"font\": {\"color\": \"black\", \"size\": 10}, \"showarrow\": false, \"text\": \"1.38\", \"x\": \"Nov\", \"xref\": \"x\", \"y\": 2005, \"yref\": \"y\"}, {\"font\": {\"color\": \"black\", \"size\": 10}, \"showarrow\": false, \"text\": \"5.8\", \"x\": \"Dec\", \"xref\": \"x\", \"y\": 2005, \"yref\": \"y\"}, {\"font\": {\"color\": \"black\", \"size\": 10}, \"showarrow\": false, \"text\": \"2.43\", \"x\": \"Jan\", \"xref\": \"x\", \"y\": 2004, \"yref\": \"y\"}, {\"font\": {\"color\": \"black\", \"size\": 10}, \"showarrow\": false, \"text\": \"2.41\", \"x\": \"Feb\", \"xref\": \"x\", \"y\": 2004, \"yref\": \"y\"}, {\"font\": {\"color\": \"black\", \"size\": 10}, \"showarrow\": false, \"text\": \"4.41\", \"x\": \"Mar\", \"xref\": \"x\", \"y\": 2004, \"yref\": \"y\"}, {\"font\": {\"color\": \"black\", \"size\": 10}, \"showarrow\": false, \"text\": \"2.75\", \"x\": \"Apr\", \"xref\": \"x\", \"y\": 2004, \"yref\": \"y\"}, {\"font\": {\"color\": \"black\", \"size\": 10}, \"showarrow\": false, \"text\": \"-6.47\", \"x\": \"May\", \"xref\": \"x\", \"y\": 2004, \"yref\": \"y\"}, {\"font\": {\"color\": \"black\", \"size\": 10}, \"showarrow\": false, \"text\": \"-5.69\", \"x\": \"Jun\", \"xref\": \"x\", \"y\": 2004, \"yref\": \"y\"}, {\"font\": {\"color\": \"black\", \"size\": 10}, \"showarrow\": false, \"text\": \"2.57\", \"x\": \"Jul\", \"xref\": \"x\", \"y\": 2004, \"yref\": \"y\"}, {\"font\": {\"color\": \"black\", \"size\": 10}, \"showarrow\": false, \"text\": \"4.38\", \"x\": \"Aug\", \"xref\": \"x\", \"y\": 2004, \"yref\": \"y\"}, {\"font\": {\"color\": \"black\", \"size\": 10}, \"showarrow\": false, \"text\": \"-0.64\", \"x\": \"Sep\", \"xref\": \"x\", \"y\": 2004, \"yref\": \"y\"}, {\"font\": {\"color\": \"black\", \"size\": 10}, \"showarrow\": false, \"text\": \"2.85\", \"x\": \"Oct\", \"xref\": \"x\", \"y\": 2004, \"yref\": \"y\"}, {\"font\": {\"color\": \"black\", \"size\": 10}, \"showarrow\": false, \"text\": \"2.08\", \"x\": \"Nov\", \"xref\": \"x\", \"y\": 2004, \"yref\": \"y\"}, {\"font\": {\"color\": \"black\", \"size\": 10}, \"showarrow\": false, \"text\": \"-0.24\", \"x\": \"Dec\", \"xref\": \"x\", \"y\": 2004, \"yref\": \"y\"}, {\"font\": {\"color\": \"black\", \"size\": 10}, \"showarrow\": false, \"text\": \"7.21\", \"x\": \"Jan\", \"xref\": \"x\", \"y\": 2003, \"yref\": \"y\"}, {\"font\": {\"color\": \"black\", \"size\": 10}, \"showarrow\": false, \"text\": \"2.61\", \"x\": \"Feb\", \"xref\": \"x\", \"y\": 2003, \"yref\": \"y\"}, {\"font\": {\"color\": \"black\", \"size\": 10}, \"showarrow\": false, \"text\": \"13.2\", \"x\": \"Mar\", \"xref\": \"x\", \"y\": 2003, \"yref\": \"y\"}, {\"font\": {\"color\": \"black\", \"size\": 10}, \"showarrow\": false, \"text\": \"1.65\", \"x\": \"Apr\", \"xref\": \"x\", \"y\": 2003, \"yref\": \"y\"}, {\"font\": {\"color\": \"black\", \"size\": 10}, \"showarrow\": false, \"text\": \"-5.35\", \"x\": \"May\", \"xref\": \"x\", \"y\": 2003, \"yref\": \"y\"}, {\"font\": {\"color\": \"black\", \"size\": 10}, \"showarrow\": false, \"text\": \"76.0\", \"x\": \"Jun\", \"xref\": \"x\", \"y\": 2003, \"yref\": \"y\"}, {\"font\": {\"color\": \"black\", \"size\": 10}, \"showarrow\": false, \"text\": \"4.2\", \"x\": \"Jul\", \"xref\": \"x\", \"y\": 2003, \"yref\": \"y\"}, {\"font\": {\"color\": \"black\", \"size\": 10}, \"showarrow\": false, \"text\": \"0.62\", \"x\": \"Aug\", \"xref\": \"x\", \"y\": 2003, \"yref\": \"y\"}, {\"font\": {\"color\": \"black\", \"size\": 10}, \"showarrow\": false, \"text\": \"6.03\", \"x\": \"Sep\", \"xref\": \"x\", \"y\": 2003, \"yref\": \"y\"}, {\"font\": {\"color\": \"black\", \"size\": 10}, \"showarrow\": false, \"text\": \"10.27\", \"x\": \"Oct\", \"xref\": \"x\", \"y\": 2003, \"yref\": \"y\"}, {\"font\": {\"color\": \"black\", \"size\": 10}, \"showarrow\": false, \"text\": \"0.2\", \"x\": \"Nov\", \"xref\": \"x\", \"y\": 2003, \"yref\": \"y\"}, {\"font\": {\"color\": \"black\", \"size\": 10}, \"showarrow\": false, \"text\": \"7.94\", \"x\": \"Dec\", \"xref\": \"x\", \"y\": 2003, \"yref\": \"y\"}, {\"font\": {\"color\": \"black\", \"size\": 10}, \"showarrow\": false, \"text\": \"-6.9\", \"x\": \"Jan\", \"xref\": \"x\", \"y\": 2002, \"yref\": \"y\"}, {\"font\": {\"color\": \"black\", \"size\": 10}, \"showarrow\": false, \"text\": \"-1.04\", \"x\": \"Feb\", \"xref\": \"x\", \"y\": 2002, \"yref\": \"y\"}, {\"font\": {\"color\": \"black\", \"size\": 10}, \"showarrow\": false, \"text\": \"2.28\", \"x\": \"Mar\", \"xref\": \"x\", \"y\": 2002, \"yref\": \"y\"}, {\"font\": {\"color\": \"black\", \"size\": 10}, \"showarrow\": false, \"text\": \"4.47\", \"x\": \"Apr\", \"xref\": \"x\", \"y\": 2002, \"yref\": \"y\"}, {\"font\": {\"color\": \"black\", \"size\": 10}, \"showarrow\": false, \"text\": \"0.99\", \"x\": \"May\", \"xref\": \"x\", \"y\": 2002, \"yref\": \"y\"}, {\"font\": {\"color\": \"black\", \"size\": 10}, \"showarrow\": false, \"text\": \"5.79\", \"x\": \"Jun\", \"xref\": \"x\", \"y\": 2002, \"yref\": \"y\"}, {\"font\": {\"color\": \"black\", \"size\": 10}, \"showarrow\": false, \"text\": \"4.94\", \"x\": \"Jul\", \"xref\": \"x\", \"y\": 2002, \"yref\": \"y\"}, {\"font\": {\"color\": \"black\", \"size\": 10}, \"showarrow\": false, \"text\": \"0.93\", \"x\": \"Aug\", \"xref\": \"x\", \"y\": 2002, \"yref\": \"y\"}, {\"font\": {\"color\": \"black\", \"size\": 10}, \"showarrow\": false, \"text\": \"3.2\", \"x\": \"Sep\", \"xref\": \"x\", \"y\": 2002, \"yref\": \"y\"}, {\"font\": {\"color\": \"white\", \"size\": 10}, \"showarrow\": false, \"text\": \"190.13\", \"x\": \"Oct\", \"xref\": \"x\", \"y\": 2002, \"yref\": \"y\"}, {\"font\": {\"color\": \"black\", \"size\": 10}, \"showarrow\": false, \"text\": \"2.77\", \"x\": \"Nov\", \"xref\": \"x\", \"y\": 2002, \"yref\": \"y\"}, {\"font\": {\"color\": \"black\", \"size\": 10}, \"showarrow\": false, \"text\": \"3.29\", \"x\": \"Dec\", \"xref\": \"x\", \"y\": 2002, \"yref\": \"y\"}, {\"font\": {\"color\": \"black\", \"size\": 10}, \"showarrow\": false, \"text\": \"0.0\", \"x\": \"Jan\", \"xref\": \"x\", \"y\": 2001, \"yref\": \"y\"}, {\"font\": {\"color\": \"black\", \"size\": 10}, \"showarrow\": false, \"text\": \"2.9\", \"x\": \"Feb\", \"xref\": \"x\", \"y\": 2001, \"yref\": \"y\"}, {\"font\": {\"color\": \"black\", \"size\": 10}, \"showarrow\": false, \"text\": \"66.58\", \"x\": \"Mar\", \"xref\": \"x\", \"y\": 2001, \"yref\": \"y\"}, {\"font\": {\"color\": \"black\", \"size\": 10}, \"showarrow\": false, \"text\": \"6.02\", \"x\": \"Apr\", \"xref\": \"x\", \"y\": 2001, \"yref\": \"y\"}, {\"font\": {\"color\": \"black\", \"size\": 10}, \"showarrow\": false, \"text\": \"0.69\", \"x\": \"May\", \"xref\": \"x\", \"y\": 2001, \"yref\": \"y\"}, {\"font\": {\"color\": \"black\", \"size\": 10}, \"showarrow\": false, \"text\": \"3.26\", \"x\": \"Jun\", \"xref\": \"x\", \"y\": 2001, \"yref\": \"y\"}, {\"font\": {\"color\": \"black\", \"size\": 10}, \"showarrow\": false, \"text\": \"3.74\", \"x\": \"Jul\", \"xref\": \"x\", \"y\": 2001, \"yref\": \"y\"}, {\"font\": {\"color\": \"black\", \"size\": 10}, \"showarrow\": false, \"text\": \"-0.47\", \"x\": \"Aug\", \"xref\": \"x\", \"y\": 2001, \"yref\": \"y\"}, {\"font\": {\"color\": \"black\", \"size\": 10}, \"showarrow\": false, \"text\": \"3.0\", \"x\": \"Sep\", \"xref\": \"x\", \"y\": 2001, \"yref\": \"y\"}, {\"font\": {\"color\": \"black\", \"size\": 10}, \"showarrow\": false, \"text\": \"0.5\", \"x\": \"Oct\", \"xref\": \"x\", \"y\": 2001, \"yref\": \"y\"}, {\"font\": {\"color\": \"black\", \"size\": 10}, \"showarrow\": false, \"text\": \"9.38\", \"x\": \"Nov\", \"xref\": \"x\", \"y\": 2001, \"yref\": \"y\"}, {\"font\": {\"color\": \"black\", \"size\": 10}, \"showarrow\": false, \"text\": \"0.47\", \"x\": \"Dec\", \"xref\": \"x\", \"y\": 2001, \"yref\": \"y\"}], \"height\": 500, \"template\": {\"data\": {\"bar\": [{\"error_x\": {\"color\": \"#2a3f5f\"}, \"error_y\": {\"color\": \"#2a3f5f\"}, \"marker\": {\"line\": {\"color\": \"#E5ECF6\", \"width\": 0.5}}, \"type\": \"bar\"}], \"barpolar\": [{\"marker\": {\"line\": {\"color\": \"#E5ECF6\", \"width\": 0.5}}, \"type\": \"barpolar\"}], \"carpet\": [{\"aaxis\": {\"endlinecolor\": \"#2a3f5f\", \"gridcolor\": \"white\", \"linecolor\": \"white\", \"minorgridcolor\": \"white\", \"startlinecolor\": \"#2a3f5f\"}, \"baxis\": {\"endlinecolor\": \"#2a3f5f\", \"gridcolor\": \"white\", \"linecolor\": \"white\", \"minorgridcolor\": \"white\", \"startlinecolor\": \"#2a3f5f\"}, \"type\": \"carpet\"}], \"choropleth\": [{\"colorbar\": {\"outlinewidth\": 0, \"ticks\": \"\"}, \"type\": \"choropleth\"}], \"contour\": [{\"colorbar\": {\"outlinewidth\": 0, \"ticks\": \"\"}, \"colorscale\": [[0.0, \"#0d0887\"], [0.1111111111111111, \"#46039f\"], [0.2222222222222222, \"#7201a8\"], [0.3333333333333333, \"#9c179e\"], [0.4444444444444444, \"#bd3786\"], [0.5555555555555556, \"#d8576b\"], [0.6666666666666666, \"#ed7953\"], [0.7777777777777778, \"#fb9f3a\"], [0.8888888888888888, \"#fdca26\"], [1.0, \"#f0f921\"]], \"type\": \"contour\"}], \"contourcarpet\": [{\"colorbar\": {\"outlinewidth\": 0, \"ticks\": \"\"}, \"type\": \"contourcarpet\"}], \"heatmap\": [{\"colorbar\": {\"outlinewidth\": 0, \"ticks\": \"\"}, \"colorscale\": [[0.0, \"#0d0887\"], [0.1111111111111111, \"#46039f\"], [0.2222222222222222, \"#7201a8\"], [0.3333333333333333, \"#9c179e\"], [0.4444444444444444, \"#bd3786\"], [0.5555555555555556, \"#d8576b\"], [0.6666666666666666, \"#ed7953\"], [0.7777777777777778, \"#fb9f3a\"], [0.8888888888888888, \"#fdca26\"], [1.0, \"#f0f921\"]], \"type\": \"heatmap\"}], \"heatmapgl\": [{\"colorbar\": {\"outlinewidth\": 0, \"ticks\": \"\"}, \"colorscale\": [[0.0, \"#0d0887\"], [0.1111111111111111, \"#46039f\"], [0.2222222222222222, \"#7201a8\"], [0.3333333333333333, \"#9c179e\"], [0.4444444444444444, \"#bd3786\"], [0.5555555555555556, \"#d8576b\"], [0.6666666666666666, \"#ed7953\"], [0.7777777777777778, \"#fb9f3a\"], [0.8888888888888888, \"#fdca26\"], [1.0, \"#f0f921\"]], \"type\": \"heatmapgl\"}], \"histogram\": [{\"marker\": {\"colorbar\": {\"outlinewidth\": 0, \"ticks\": \"\"}}, \"type\": \"histogram\"}], \"histogram2d\": [{\"colorbar\": {\"outlinewidth\": 0, \"ticks\": \"\"}, \"colorscale\": [[0.0, \"#0d0887\"], [0.1111111111111111, \"#46039f\"], [0.2222222222222222, \"#7201a8\"], [0.3333333333333333, \"#9c179e\"], [0.4444444444444444, \"#bd3786\"], [0.5555555555555556, \"#d8576b\"], [0.6666666666666666, \"#ed7953\"], [0.7777777777777778, \"#fb9f3a\"], [0.8888888888888888, \"#fdca26\"], [1.0, \"#f0f921\"]], \"type\": \"histogram2d\"}], \"histogram2dcontour\": [{\"colorbar\": {\"outlinewidth\": 0, \"ticks\": \"\"}, \"colorscale\": [[0.0, \"#0d0887\"], [0.1111111111111111, \"#46039f\"], [0.2222222222222222, \"#7201a8\"], [0.3333333333333333, \"#9c179e\"], [0.4444444444444444, \"#bd3786\"], [0.5555555555555556, \"#d8576b\"], [0.6666666666666666, \"#ed7953\"], [0.7777777777777778, \"#fb9f3a\"], [0.8888888888888888, \"#fdca26\"], [1.0, \"#f0f921\"]], \"type\": \"histogram2dcontour\"}], \"mesh3d\": [{\"colorbar\": {\"outlinewidth\": 0, \"ticks\": \"\"}, \"type\": \"mesh3d\"}], \"parcoords\": [{\"line\": {\"colorbar\": {\"outlinewidth\": 0, \"ticks\": \"\"}}, \"type\": \"parcoords\"}], \"pie\": [{\"automargin\": true, \"type\": \"pie\"}], \"scatter\": [{\"marker\": {\"colorbar\": {\"outlinewidth\": 0, \"ticks\": \"\"}}, \"type\": \"scatter\"}], \"scatter3d\": [{\"line\": {\"colorbar\": {\"outlinewidth\": 0, \"ticks\": \"\"}}, \"marker\": {\"colorbar\": {\"outlinewidth\": 0, \"ticks\": \"\"}}, \"type\": \"scatter3d\"}], \"scattercarpet\": [{\"marker\": {\"colorbar\": {\"outlinewidth\": 0, \"ticks\": \"\"}}, \"type\": \"scattercarpet\"}], \"scattergeo\": [{\"marker\": {\"colorbar\": {\"outlinewidth\": 0, \"ticks\": \"\"}}, \"type\": \"scattergeo\"}], \"scattergl\": [{\"marker\": {\"colorbar\": {\"outlinewidth\": 0, \"ticks\": \"\"}}, \"type\": \"scattergl\"}], \"scattermapbox\": [{\"marker\": {\"colorbar\": {\"outlinewidth\": 0, \"ticks\": \"\"}}, \"type\": \"scattermapbox\"}], \"scatterpolar\": [{\"marker\": {\"colorbar\": {\"outlinewidth\": 0, \"ticks\": \"\"}}, \"type\": \"scatterpolar\"}], \"scatterpolargl\": [{\"marker\": {\"colorbar\": {\"outlinewidth\": 0, \"ticks\": \"\"}}, \"type\": \"scatterpolargl\"}], \"scatterternary\": [{\"marker\": {\"colorbar\": {\"outlinewidth\": 0, \"ticks\": \"\"}}, \"type\": \"scatterternary\"}], \"surface\": [{\"colorbar\": {\"outlinewidth\": 0, \"ticks\": \"\"}, \"colorscale\": [[0.0, \"#0d0887\"], [0.1111111111111111, \"#46039f\"], [0.2222222222222222, \"#7201a8\"], [0.3333333333333333, \"#9c179e\"], [0.4444444444444444, \"#bd3786\"], [0.5555555555555556, \"#d8576b\"], [0.6666666666666666, \"#ed7953\"], [0.7777777777777778, \"#fb9f3a\"], [0.8888888888888888, \"#fdca26\"], [1.0, \"#f0f921\"]], \"type\": \"surface\"}], \"table\": [{\"cells\": {\"fill\": {\"color\": \"#EBF0F8\"}, \"line\": {\"color\": \"white\"}}, \"header\": {\"fill\": {\"color\": \"#C8D4E3\"}, \"line\": {\"color\": \"white\"}}, \"type\": \"table\"}]}, \"layout\": {\"annotationdefaults\": {\"arrowcolor\": \"#2a3f5f\", \"arrowhead\": 0, \"arrowwidth\": 1}, \"coloraxis\": {\"colorbar\": {\"outlinewidth\": 0, \"ticks\": \"\"}}, \"colorscale\": {\"diverging\": [[0, \"#8e0152\"], [0.1, \"#c51b7d\"], [0.2, \"#de77ae\"], [0.3, \"#f1b6da\"], [0.4, \"#fde0ef\"], [0.5, \"#f7f7f7\"], [0.6, \"#e6f5d0\"], [0.7, \"#b8e186\"], [0.8, \"#7fbc41\"], [0.9, \"#4d9221\"], [1, \"#276419\"]], \"sequential\": [[0.0, \"#0d0887\"], [0.1111111111111111, \"#46039f\"], [0.2222222222222222, \"#7201a8\"], [0.3333333333333333, \"#9c179e\"], [0.4444444444444444, \"#bd3786\"], [0.5555555555555556, \"#d8576b\"], [0.6666666666666666, \"#ed7953\"], [0.7777777777777778, \"#fb9f3a\"], [0.8888888888888888, \"#fdca26\"], [1.0, \"#f0f921\"]], \"sequentialminus\": [[0.0, \"#0d0887\"], [0.1111111111111111, \"#46039f\"], [0.2222222222222222, \"#7201a8\"], [0.3333333333333333, \"#9c179e\"], [0.4444444444444444, \"#bd3786\"], [0.5555555555555556, \"#d8576b\"], [0.6666666666666666, \"#ed7953\"], [0.7777777777777778, \"#fb9f3a\"], [0.8888888888888888, \"#fdca26\"], [1.0, \"#f0f921\"]]}, \"colorway\": [\"#636efa\", \"#EF553B\", \"#00cc96\", \"#ab63fa\", \"#FFA15A\", \"#19d3f3\", \"#FF6692\", \"#B6E880\", \"#FF97FF\", \"#FECB52\"], \"font\": {\"color\": \"#2a3f5f\"}, \"geo\": {\"bgcolor\": \"white\", \"lakecolor\": \"white\", \"landcolor\": \"#E5ECF6\", \"showlakes\": true, \"showland\": true, \"subunitcolor\": \"white\"}, \"hoverlabel\": {\"align\": \"left\"}, \"hovermode\": \"closest\", \"mapbox\": {\"style\": \"light\"}, \"paper_bgcolor\": \"white\", \"plot_bgcolor\": \"#E5ECF6\", \"polar\": {\"angularaxis\": {\"gridcolor\": \"white\", \"linecolor\": \"white\", \"ticks\": \"\"}, \"bgcolor\": \"#E5ECF6\", \"radialaxis\": {\"gridcolor\": \"white\", \"linecolor\": \"white\", \"ticks\": \"\"}}, \"scene\": {\"xaxis\": {\"backgroundcolor\": \"#E5ECF6\", \"gridcolor\": \"white\", \"gridwidth\": 2, \"linecolor\": \"white\", \"showbackground\": true, \"ticks\": \"\", \"zerolinecolor\": \"white\"}, \"yaxis\": {\"backgroundcolor\": \"#E5ECF6\", \"gridcolor\": \"white\", \"gridwidth\": 2, \"linecolor\": \"white\", \"showbackground\": true, \"ticks\": \"\", \"zerolinecolor\": \"white\"}, \"zaxis\": {\"backgroundcolor\": \"#E5ECF6\", \"gridcolor\": \"white\", \"gridwidth\": 2, \"linecolor\": \"white\", \"showbackground\": true, \"ticks\": \"\", \"zerolinecolor\": \"white\"}}, \"shapedefaults\": {\"line\": {\"color\": \"#2a3f5f\"}}, \"ternary\": {\"aaxis\": {\"gridcolor\": \"white\", \"linecolor\": \"white\", \"ticks\": \"\"}, \"baxis\": {\"gridcolor\": \"white\", \"linecolor\": \"white\", \"ticks\": \"\"}, \"bgcolor\": \"#E5ECF6\", \"caxis\": {\"gridcolor\": \"white\", \"linecolor\": \"white\", \"ticks\": \"\"}}, \"title\": {\"x\": 0.05}, \"xaxis\": {\"automargin\": true, \"gridcolor\": \"white\", \"linecolor\": \"white\", \"ticks\": \"\", \"title\": {\"standoff\": 15}, \"zerolinecolor\": \"white\", \"zerolinewidth\": 2}, \"yaxis\": {\"automargin\": true, \"gridcolor\": \"white\", \"linecolor\": \"white\", \"ticks\": \"\", \"title\": {\"standoff\": 15}, \"zerolinecolor\": \"white\", \"zerolinewidth\": 2}}}, \"title\": {\"text\": \"Heatmap for TSMOM VolScale from 2001 - 2019\"}, \"width\": 600, \"xaxis\": {\"dtick\": 1, \"gridcolor\": \"rgb(0, 0, 0)\", \"side\": \"top\", \"ticks\": \"\"}, \"yaxis\": {\"dtick\": 3, \"tick0\": 2, \"ticks\": \"\", \"ticksuffix\": \"  \", \"title\": {\"text\": \"Years\"}}},\n",
       "                        {\"responsive\": true}\n",
       "                    ).then(function(){\n",
       "                            \n",
       "var gd = document.getElementById('624f6df2-2e72-4e27-b569-0bdecf3fd794');\n",
       "var x = new MutationObserver(function (mutations, observer) {{\n",
       "        var display = window.getComputedStyle(gd).display;\n",
       "        if (!display || display === 'none') {{\n",
       "            console.log([gd, 'removed!']);\n",
       "            Plotly.purge(gd);\n",
       "            observer.disconnect();\n",
       "        }}\n",
       "}});\n",
       "\n",
       "// Listen for the removal of the full notebook cells\n",
       "var notebookContainer = gd.closest('#notebook-container');\n",
       "if (notebookContainer) {{\n",
       "    x.observe(notebookContainer, {childList: true});\n",
       "}}\n",
       "\n",
       "// Listen for the clearing of the current output cell\n",
       "var outputEl = gd.closest('.output');\n",
       "if (outputEl) {{\n",
       "    x.observe(outputEl, {childList: true});\n",
       "}}\n",
       "\n",
       "                        })\n",
       "                };\n",
       "                });\n",
       "            </script>\n",
       "        </div>"
      ]
     },
     "metadata": {},
     "output_type": "display_data"
    }
   ],
   "source": [
    "\n",
    "tsmom.get_monthly_heatmap(strat_unlevered,\n",
    "                          online = False,\n",
    "                          cmap= 'RdYlGn', \n",
    "                          filename = 'IndMomHeatmap.html', \n",
    "                          plt_type= 'iplot',\n",
    "                          vmin = -30, \n",
    "                          vmax = 220,\n",
    "                          height = 500,\n",
    "#                           width = 550,\n",
    "                          colors= ['black', 'gray', 'white']\n",
    "                         )\n",
    "tsmom.get_monthly_heatmap(strat_levered, \n",
    "                          cmap = 'RdYlGn',\n",
    "                          online = False,\n",
    "                          filename = 'IndMomVolScaleHeatmap.html', \n",
    "                          plt_type= 'iplot', \n",
    "                          vmin = -50, \n",
    "                          vmax = 100, \n",
    "                          height = 500,\n",
    "#                           width = 550,\n",
    "                          colors= ['black', 'gray', 'white']\n",
    "                          )\n",
    "# tsmom.get_monthly_heatmap(nifty_m_rets, \n",
    "#                           cmap = 'RdYlGn',\n",
    "#                           online = False,\n",
    "#                           filename = 'NSE500Heatmap.html', \n",
    "# #                           width = 550,\n",
    "#                           plt_type= 'iplot')"
   ]
  },
  {
   "cell_type": "code",
   "execution_count": 160,
   "metadata": {},
   "outputs": [
    {
     "ename": "ValueError",
     "evalue": "Invalid property specified for object of type plotly.graph_objs.Scatter: 'axis'\n\n    Valid properties:\n        cliponaxis\n            Determines whether or not markers and text nodes are\n            clipped about the subplot axes. To show markers and\n            text nodes above axis lines and tick labels, make sure\n            to set `xaxis.layer` and `yaxis.layer` to *below\n            traces*.\n        connectgaps\n            Determines whether or not gaps (i.e. {nan} or missing\n            values) in the provided data arrays are connected.\n        customdata\n            Assigns extra data each datum. This may be useful when\n            listening to hover, click and selection events. Note\n            that, \"scatter\" traces also appends customdata items in\n            the markers DOM elements\n        customdatasrc\n            Sets the source reference on Chart Studio Cloud for\n            customdata .\n        dx\n            Sets the x coordinate step. See `x0` for more info.\n        dy\n            Sets the y coordinate step. See `y0` for more info.\n        error_x\n            :class:`plotly.graph_objects.scatter.ErrorX` instance\n            or dict with compatible properties\n        error_y\n            :class:`plotly.graph_objects.scatter.ErrorY` instance\n            or dict with compatible properties\n        fill\n            Sets the area to fill with a solid color. Defaults to\n            \"none\" unless this trace is stacked, then it gets\n            \"tonexty\" (\"tonextx\") if `orientation` is \"v\" (\"h\") Use\n            with `fillcolor` if not \"none\". \"tozerox\" and \"tozeroy\"\n            fill to x=0 and y=0 respectively. \"tonextx\" and\n            \"tonexty\" fill between the endpoints of this trace and\n            the endpoints of the trace before it, connecting those\n            endpoints with straight lines (to make a stacked area\n            graph); if there is no trace before it, they behave\n            like \"tozerox\" and \"tozeroy\". \"toself\" connects the\n            endpoints of the trace (or each segment of the trace if\n            it has gaps) into a closed shape. \"tonext\" fills the\n            space between two traces if one completely encloses the\n            other (eg consecutive contour lines), and behaves like\n            \"toself\" if there is no trace before it. \"tonext\"\n            should not be used if one trace does not enclose the\n            other. Traces in a `stackgroup` will only fill to (or\n            be filled to) other traces in the same group. With\n            multiple `stackgroup`s or some traces stacked and some\n            not, if fill-linked traces are not already consecutive,\n            the later ones will be pushed down in the drawing\n            order.\n        fillcolor\n            Sets the fill color. Defaults to a half-transparent\n            variant of the line color, marker color, or marker line\n            color, whichever is available.\n        groupnorm\n            Only relevant when `stackgroup` is used, and only the\n            first `groupnorm` found in the `stackgroup` will be\n            used - including if `visible` is \"legendonly\" but not\n            if it is `false`. Sets the normalization for the sum of\n            this `stackgroup`. With \"fraction\", the value of each\n            trace at each location is divided by the sum of all\n            trace values at that location. \"percent\" is the same\n            but multiplied by 100 to show percentages. If there are\n            multiple subplots, or multiple `stackgroup`s on one\n            subplot, each will be normalized within its own set.\n        hoverinfo\n            Determines which trace information appear on hover. If\n            `none` or `skip` are set, no information is displayed\n            upon hovering. But, if `none` is set, click and hover\n            events are still fired.\n        hoverinfosrc\n            Sets the source reference on Chart Studio Cloud for\n            hoverinfo .\n        hoverlabel\n            :class:`plotly.graph_objects.scatter.Hoverlabel`\n            instance or dict with compatible properties\n        hoveron\n            Do the hover effects highlight individual points\n            (markers or line points) or do they highlight filled\n            regions? If the fill is \"toself\" or \"tonext\" and there\n            are no markers or text, then the default is \"fills\",\n            otherwise it is \"points\".\n        hovertemplate\n            Template string used for rendering the information that\n            appear on hover box. Note that this will override\n            `hoverinfo`. Variables are inserted using %{variable},\n            for example \"y: %{y}\". Numbers are formatted using\n            d3-format's syntax %{variable:d3-format}, for example\n            \"Price: %{y:$.2f}\". https://github.com/d3/d3-3.x-api-\n            reference/blob/master/Formatting.md#d3_format for\n            details on the formatting syntax. Dates are formatted\n            using d3-time-format's syntax %{variable|d3-time-\n            format}, for example \"Day: %{2019-01-01|%A}\".\n            https://github.com/d3/d3-3.x-api-\n            reference/blob/master/Time-Formatting.md#format for\n            details on the date formatting syntax. The variables\n            available in `hovertemplate` are the ones emitted as\n            event data described at this link\n            https://plotly.com/javascript/plotlyjs-events/#event-\n            data. Additionally, every attributes that can be\n            specified per-point (the ones that are `arrayOk: true`)\n            are available.  Anything contained in tag `<extra>` is\n            displayed in the secondary box, for example\n            \"<extra>{fullData.name}</extra>\". To hide the secondary\n            box completely, use an empty tag `<extra></extra>`.\n        hovertemplatesrc\n            Sets the source reference on Chart Studio Cloud for\n            hovertemplate .\n        hovertext\n            Sets hover text elements associated with each (x,y)\n            pair. If a single string, the same string appears over\n            all the data points. If an array of string, the items\n            are mapped in order to the this trace's (x,y)\n            coordinates. To be seen, trace `hoverinfo` must contain\n            a \"text\" flag.\n        hovertextsrc\n            Sets the source reference on Chart Studio Cloud for\n            hovertext .\n        ids\n            Assigns id labels to each datum. These ids for object\n            constancy of data points during animation. Should be an\n            array of strings, not numbers or any other type.\n        idssrc\n            Sets the source reference on Chart Studio Cloud for\n            ids .\n        legendgroup\n            Sets the legend group for this trace. Traces part of\n            the same legend group hide/show at the same time when\n            toggling legend items.\n        line\n            :class:`plotly.graph_objects.scatter.Line` instance or\n            dict with compatible properties\n        marker\n            :class:`plotly.graph_objects.scatter.Marker` instance\n            or dict with compatible properties\n        meta\n            Assigns extra meta information associated with this\n            trace that can be used in various text attributes.\n            Attributes such as trace `name`, graph, axis and\n            colorbar `title.text`, annotation `text`\n            `rangeselector`, `updatemenues` and `sliders` `label`\n            text all support `meta`. To access the trace `meta`\n            values in an attribute in the same trace, simply use\n            `%{meta[i]}` where `i` is the index or key of the\n            `meta` item in question. To access trace `meta` in\n            layout attributes, use `%{data[n[.meta[i]}` where `i`\n            is the index or key of the `meta` and `n` is the trace\n            index.\n        metasrc\n            Sets the source reference on Chart Studio Cloud for\n            meta .\n        mode\n            Determines the drawing mode for this scatter trace. If\n            the provided `mode` includes \"text\" then the `text`\n            elements appear at the coordinates. Otherwise, the\n            `text` elements appear on hover. If there are less than\n            20 points and the trace is not stacked then the default\n            is \"lines+markers\". Otherwise, \"lines\".\n        name\n            Sets the trace name. The trace name appear as the\n            legend item and on hover.\n        opacity\n            Sets the opacity of the trace.\n        orientation\n            Only relevant when `stackgroup` is used, and only the\n            first `orientation` found in the `stackgroup` will be\n            used - including if `visible` is \"legendonly\" but not\n            if it is `false`. Sets the stacking direction. With \"v\"\n            (\"h\"), the y (x) values of subsequent traces are added.\n            Also affects the default value of `fill`.\n        r\n            r coordinates in scatter traces are deprecated!Please\n            switch to the \"scatterpolar\" trace type.Sets the radial\n            coordinatesfor legacy polar chart only.\n        rsrc\n            Sets the source reference on Chart Studio Cloud for  r\n            .\n        selected\n            :class:`plotly.graph_objects.scatter.Selected` instance\n            or dict with compatible properties\n        selectedpoints\n            Array containing integer indices of selected points.\n            Has an effect only for traces that support selections.\n            Note that an empty array means an empty selection where\n            the `unselected` are turned on for all points, whereas,\n            any other non-array values means no selection all where\n            the `selected` and `unselected` styles have no effect.\n        showlegend\n            Determines whether or not an item corresponding to this\n            trace is shown in the legend.\n        stackgaps\n            Only relevant when `stackgroup` is used, and only the\n            first `stackgaps` found in the `stackgroup` will be\n            used - including if `visible` is \"legendonly\" but not\n            if it is `false`. Determines how we handle locations at\n            which other traces in this group have data but this one\n            does not. With *infer zero* we insert a zero at these\n            locations. With \"interpolate\" we linearly interpolate\n            between existing values, and extrapolate a constant\n            beyond the existing values.\n        stackgroup\n            Set several scatter traces (on the same subplot) to the\n            same stackgroup in order to add their y values (or\n            their x values if `orientation` is \"h\"). If blank or\n            omitted this trace will not be stacked. Stacking also\n            turns `fill` on by default, using \"tonexty\" (\"tonextx\")\n            if `orientation` is \"h\" (\"v\") and sets the default\n            `mode` to \"lines\" irrespective of point count. You can\n            only stack on a numeric (linear or log) axis. Traces in\n            a `stackgroup` will only fill to (or be filled to)\n            other traces in the same group. With multiple\n            `stackgroup`s or some traces stacked and some not, if\n            fill-linked traces are not already consecutive, the\n            later ones will be pushed down in the drawing order.\n        stream\n            :class:`plotly.graph_objects.scatter.Stream` instance\n            or dict with compatible properties\n        t\n            t coordinates in scatter traces are deprecated!Please\n            switch to the \"scatterpolar\" trace type.Sets the\n            angular coordinatesfor legacy polar chart only.\n        text\n            Sets text elements associated with each (x,y) pair. If\n            a single string, the same string appears over all the\n            data points. If an array of string, the items are\n            mapped in order to the this trace's (x,y) coordinates.\n            If trace `hoverinfo` contains a \"text\" flag and\n            \"hovertext\" is not set, these elements will be seen in\n            the hover labels.\n        textfont\n            Sets the text font.\n        textposition\n            Sets the positions of the `text` elements with respects\n            to the (x,y) coordinates.\n        textpositionsrc\n            Sets the source reference on Chart Studio Cloud for\n            textposition .\n        textsrc\n            Sets the source reference on Chart Studio Cloud for\n            text .\n        texttemplate\n            Template string used for rendering the information text\n            that appear on points. Note that this will override\n            `textinfo`. Variables are inserted using %{variable},\n            for example \"y: %{y}\". Numbers are formatted using\n            d3-format's syntax %{variable:d3-format}, for example\n            \"Price: %{y:$.2f}\". https://github.com/d3/d3-3.x-api-\n            reference/blob/master/Formatting.md#d3_format for\n            details on the formatting syntax. Dates are formatted\n            using d3-time-format's syntax %{variable|d3-time-\n            format}, for example \"Day: %{2019-01-01|%A}\".\n            https://github.com/d3/d3-3.x-api-\n            reference/blob/master/Time-Formatting.md#format for\n            details on the date formatting syntax. Every attributes\n            that can be specified per-point (the ones that are\n            `arrayOk: true`) are available.\n        texttemplatesrc\n            Sets the source reference on Chart Studio Cloud for\n            texttemplate .\n        tsrc\n            Sets the source reference on Chart Studio Cloud for  t\n            .\n        uid\n            Assign an id to this trace, Use this to provide object\n            constancy between traces during animations and\n            transitions.\n        uirevision\n            Controls persistence of some user-driven changes to the\n            trace: `constraintrange` in `parcoords` traces, as well\n            as some `editable: true` modifications such as `name`\n            and `colorbar.title`. Defaults to `layout.uirevision`.\n            Note that other user-driven trace attribute changes are\n            controlled by `layout` attributes: `trace.visible` is\n            controlled by `layout.legend.uirevision`,\n            `selectedpoints` is controlled by\n            `layout.selectionrevision`, and `colorbar.(x|y)`\n            (accessible with `config: {editable: true}`) is\n            controlled by `layout.editrevision`. Trace changes are\n            tracked by `uid`, which only falls back on trace index\n            if no `uid` is provided. So if your app can add/remove\n            traces before the end of the `data` array, such that\n            the same trace has a different index, you can still\n            preserve user-driven changes if you give each trace a\n            `uid` that stays with it as it moves.\n        unselected\n            :class:`plotly.graph_objects.scatter.Unselected`\n            instance or dict with compatible properties\n        visible\n            Determines whether or not this trace is visible. If\n            \"legendonly\", the trace is not drawn, but can appear as\n            a legend item (provided that the legend itself is\n            visible).\n        x\n            Sets the x coordinates.\n        x0\n            Alternate to `x`. Builds a linear space of x\n            coordinates. Use with `dx` where `x0` is the starting\n            coordinate and `dx` the step.\n        xaxis\n            Sets a reference between this trace's x coordinates and\n            a 2D cartesian x axis. If \"x\" (the default value), the\n            x coordinates refer to `layout.xaxis`. If \"x2\", the x\n            coordinates refer to `layout.xaxis2`, and so on.\n        xcalendar\n            Sets the calendar system to use with `x` date data.\n        xsrc\n            Sets the source reference on Chart Studio Cloud for  x\n            .\n        y\n            Sets the y coordinates.\n        y0\n            Alternate to `y`. Builds a linear space of y\n            coordinates. Use with `dy` where `y0` is the starting\n            coordinate and `dy` the step.\n        yaxis\n            Sets a reference between this trace's y coordinates and\n            a 2D cartesian y axis. If \"y\" (the default value), the\n            y coordinates refer to `layout.yaxis`. If \"y2\", the y\n            coordinates refer to `layout.yaxis2`, and so on.\n        ycalendar\n            Sets the calendar system to use with `y` date data.\n        ysrc\n            Sets the source reference on Chart Studio Cloud for  y\n            .\n        ",
     "output_type": "error",
     "traceback": [
      "\u001b[0;31m---------------------------------------------------------------------------\u001b[0m",
      "\u001b[0;31mValueError\u001b[0m                                Traceback (most recent call last)",
      "\u001b[0;32m<ipython-input-160-adef8eac5454>\u001b[0m in \u001b[0;36m<module>\u001b[0;34m\u001b[0m\n\u001b[1;32m     17\u001b[0m                    line = dict(dash = 'dot',\n\u001b[1;32m     18\u001b[0m                                \u001b[0mcolor\u001b[0m \u001b[0;34m=\u001b[0m \u001b[0;34m'#aaa9a9'\u001b[0m\u001b[0;34m,\u001b[0m\u001b[0;34m\u001b[0m\u001b[0;34m\u001b[0m\u001b[0m\n\u001b[0;32m---> 19\u001b[0;31m                                \u001b[0mwidth\u001b[0m \u001b[0;34m=\u001b[0m \u001b[0;36m1.5\u001b[0m\u001b[0;34m,\u001b[0m\u001b[0;34m\u001b[0m\u001b[0;34m\u001b[0m\u001b[0m\n\u001b[0m\u001b[1;32m     20\u001b[0m                                )\n\u001b[1;32m     21\u001b[0m                  )\n",
      "\u001b[0;32m//anaconda3/lib/python3.7/site-packages/plotly/graph_objs/_scatter.py\u001b[0m in \u001b[0;36m__init__\u001b[0;34m(self, arg, cliponaxis, connectgaps, customdata, customdatasrc, dx, dy, error_x, error_y, fill, fillcolor, groupnorm, hoverinfo, hoverinfosrc, hoverlabel, hoveron, hovertemplate, hovertemplatesrc, hovertext, hovertextsrc, ids, idssrc, legendgroup, line, marker, meta, metasrc, mode, name, opacity, orientation, r, rsrc, selected, selectedpoints, showlegend, stackgaps, stackgroup, stream, t, text, textfont, textposition, textpositionsrc, textsrc, texttemplate, texttemplatesrc, tsrc, uid, uirevision, unselected, visible, x, x0, xaxis, xcalendar, xsrc, y, y0, yaxis, ycalendar, ysrc, **kwargs)\u001b[0m\n\u001b[1;32m   2962\u001b[0m         \u001b[0;31m# Process unknown kwargs\u001b[0m\u001b[0;34m\u001b[0m\u001b[0;34m\u001b[0m\u001b[0;34m\u001b[0m\u001b[0m\n\u001b[1;32m   2963\u001b[0m         \u001b[0;31m# ----------------------\u001b[0m\u001b[0;34m\u001b[0m\u001b[0;34m\u001b[0m\u001b[0;34m\u001b[0m\u001b[0m\n\u001b[0;32m-> 2964\u001b[0;31m         \u001b[0mself\u001b[0m\u001b[0;34m.\u001b[0m\u001b[0m_process_kwargs\u001b[0m\u001b[0;34m(\u001b[0m\u001b[0;34m**\u001b[0m\u001b[0mdict\u001b[0m\u001b[0;34m(\u001b[0m\u001b[0marg\u001b[0m\u001b[0;34m,\u001b[0m \u001b[0;34m**\u001b[0m\u001b[0mkwargs\u001b[0m\u001b[0;34m)\u001b[0m\u001b[0;34m)\u001b[0m\u001b[0;34m\u001b[0m\u001b[0;34m\u001b[0m\u001b[0m\n\u001b[0m\u001b[1;32m   2965\u001b[0m \u001b[0;34m\u001b[0m\u001b[0m\n\u001b[1;32m   2966\u001b[0m         \u001b[0;31m# Reset skip_invalid\u001b[0m\u001b[0;34m\u001b[0m\u001b[0;34m\u001b[0m\u001b[0;34m\u001b[0m\u001b[0m\n",
      "\u001b[0;32m//anaconda3/lib/python3.7/site-packages/plotly/basedatatypes.py\u001b[0m in \u001b[0;36m_process_kwargs\u001b[0;34m(self, **kwargs)\u001b[0m\n\u001b[1;32m   3507\u001b[0m \u001b[0;34m\u001b[0m\u001b[0m\n\u001b[1;32m   3508\u001b[0m         \u001b[0;32mif\u001b[0m \u001b[0minvalid_kwargs\u001b[0m \u001b[0;32mand\u001b[0m \u001b[0;32mnot\u001b[0m \u001b[0mself\u001b[0m\u001b[0;34m.\u001b[0m\u001b[0m_skip_invalid\u001b[0m\u001b[0;34m:\u001b[0m\u001b[0;34m\u001b[0m\u001b[0;34m\u001b[0m\u001b[0m\n\u001b[0;32m-> 3509\u001b[0;31m             \u001b[0mself\u001b[0m\u001b[0;34m.\u001b[0m\u001b[0m_raise_on_invalid_property_error\u001b[0m\u001b[0;34m(\u001b[0m\u001b[0;34m*\u001b[0m\u001b[0minvalid_kwargs\u001b[0m\u001b[0;34m.\u001b[0m\u001b[0mkeys\u001b[0m\u001b[0;34m(\u001b[0m\u001b[0;34m)\u001b[0m\u001b[0;34m)\u001b[0m\u001b[0;34m\u001b[0m\u001b[0;34m\u001b[0m\u001b[0m\n\u001b[0m\u001b[1;32m   3510\u001b[0m \u001b[0;34m\u001b[0m\u001b[0m\n\u001b[1;32m   3511\u001b[0m     \u001b[0;34m@\u001b[0m\u001b[0mproperty\u001b[0m\u001b[0;34m\u001b[0m\u001b[0;34m\u001b[0m\u001b[0m\n",
      "\u001b[0;32m//anaconda3/lib/python3.7/site-packages/plotly/basedatatypes.py\u001b[0m in \u001b[0;36m_raise_on_invalid_property_error\u001b[0;34m(self, *args)\u001b[0m\n\u001b[1;32m   4183\u001b[0m                     \u001b[0mfull_obj_name\u001b[0m\u001b[0;34m=\u001b[0m\u001b[0mfull_obj_name\u001b[0m\u001b[0;34m,\u001b[0m\u001b[0;34m\u001b[0m\u001b[0;34m\u001b[0m\u001b[0m\n\u001b[1;32m   4184\u001b[0m                     \u001b[0minvalid_str\u001b[0m\u001b[0;34m=\u001b[0m\u001b[0minvalid_str\u001b[0m\u001b[0;34m,\u001b[0m\u001b[0;34m\u001b[0m\u001b[0;34m\u001b[0m\u001b[0m\n\u001b[0;32m-> 4185\u001b[0;31m                     \u001b[0mprop_descriptions\u001b[0m\u001b[0;34m=\u001b[0m\u001b[0mself\u001b[0m\u001b[0;34m.\u001b[0m\u001b[0m_prop_descriptions\u001b[0m\u001b[0;34m,\u001b[0m\u001b[0;34m\u001b[0m\u001b[0;34m\u001b[0m\u001b[0m\n\u001b[0m\u001b[1;32m   4186\u001b[0m                 )\n\u001b[1;32m   4187\u001b[0m             )\n",
      "\u001b[0;31mValueError\u001b[0m: Invalid property specified for object of type plotly.graph_objs.Scatter: 'axis'\n\n    Valid properties:\n        cliponaxis\n            Determines whether or not markers and text nodes are\n            clipped about the subplot axes. To show markers and\n            text nodes above axis lines and tick labels, make sure\n            to set `xaxis.layer` and `yaxis.layer` to *below\n            traces*.\n        connectgaps\n            Determines whether or not gaps (i.e. {nan} or missing\n            values) in the provided data arrays are connected.\n        customdata\n            Assigns extra data each datum. This may be useful when\n            listening to hover, click and selection events. Note\n            that, \"scatter\" traces also appends customdata items in\n            the markers DOM elements\n        customdatasrc\n            Sets the source reference on Chart Studio Cloud for\n            customdata .\n        dx\n            Sets the x coordinate step. See `x0` for more info.\n        dy\n            Sets the y coordinate step. See `y0` for more info.\n        error_x\n            :class:`plotly.graph_objects.scatter.ErrorX` instance\n            or dict with compatible properties\n        error_y\n            :class:`plotly.graph_objects.scatter.ErrorY` instance\n            or dict with compatible properties\n        fill\n            Sets the area to fill with a solid color. Defaults to\n            \"none\" unless this trace is stacked, then it gets\n            \"tonexty\" (\"tonextx\") if `orientation` is \"v\" (\"h\") Use\n            with `fillcolor` if not \"none\". \"tozerox\" and \"tozeroy\"\n            fill to x=0 and y=0 respectively. \"tonextx\" and\n            \"tonexty\" fill between the endpoints of this trace and\n            the endpoints of the trace before it, connecting those\n            endpoints with straight lines (to make a stacked area\n            graph); if there is no trace before it, they behave\n            like \"tozerox\" and \"tozeroy\". \"toself\" connects the\n            endpoints of the trace (or each segment of the trace if\n            it has gaps) into a closed shape. \"tonext\" fills the\n            space between two traces if one completely encloses the\n            other (eg consecutive contour lines), and behaves like\n            \"toself\" if there is no trace before it. \"tonext\"\n            should not be used if one trace does not enclose the\n            other. Traces in a `stackgroup` will only fill to (or\n            be filled to) other traces in the same group. With\n            multiple `stackgroup`s or some traces stacked and some\n            not, if fill-linked traces are not already consecutive,\n            the later ones will be pushed down in the drawing\n            order.\n        fillcolor\n            Sets the fill color. Defaults to a half-transparent\n            variant of the line color, marker color, or marker line\n            color, whichever is available.\n        groupnorm\n            Only relevant when `stackgroup` is used, and only the\n            first `groupnorm` found in the `stackgroup` will be\n            used - including if `visible` is \"legendonly\" but not\n            if it is `false`. Sets the normalization for the sum of\n            this `stackgroup`. With \"fraction\", the value of each\n            trace at each location is divided by the sum of all\n            trace values at that location. \"percent\" is the same\n            but multiplied by 100 to show percentages. If there are\n            multiple subplots, or multiple `stackgroup`s on one\n            subplot, each will be normalized within its own set.\n        hoverinfo\n            Determines which trace information appear on hover. If\n            `none` or `skip` are set, no information is displayed\n            upon hovering. But, if `none` is set, click and hover\n            events are still fired.\n        hoverinfosrc\n            Sets the source reference on Chart Studio Cloud for\n            hoverinfo .\n        hoverlabel\n            :class:`plotly.graph_objects.scatter.Hoverlabel`\n            instance or dict with compatible properties\n        hoveron\n            Do the hover effects highlight individual points\n            (markers or line points) or do they highlight filled\n            regions? If the fill is \"toself\" or \"tonext\" and there\n            are no markers or text, then the default is \"fills\",\n            otherwise it is \"points\".\n        hovertemplate\n            Template string used for rendering the information that\n            appear on hover box. Note that this will override\n            `hoverinfo`. Variables are inserted using %{variable},\n            for example \"y: %{y}\". Numbers are formatted using\n            d3-format's syntax %{variable:d3-format}, for example\n            \"Price: %{y:$.2f}\". https://github.com/d3/d3-3.x-api-\n            reference/blob/master/Formatting.md#d3_format for\n            details on the formatting syntax. Dates are formatted\n            using d3-time-format's syntax %{variable|d3-time-\n            format}, for example \"Day: %{2019-01-01|%A}\".\n            https://github.com/d3/d3-3.x-api-\n            reference/blob/master/Time-Formatting.md#format for\n            details on the date formatting syntax. The variables\n            available in `hovertemplate` are the ones emitted as\n            event data described at this link\n            https://plotly.com/javascript/plotlyjs-events/#event-\n            data. Additionally, every attributes that can be\n            specified per-point (the ones that are `arrayOk: true`)\n            are available.  Anything contained in tag `<extra>` is\n            displayed in the secondary box, for example\n            \"<extra>{fullData.name}</extra>\". To hide the secondary\n            box completely, use an empty tag `<extra></extra>`.\n        hovertemplatesrc\n            Sets the source reference on Chart Studio Cloud for\n            hovertemplate .\n        hovertext\n            Sets hover text elements associated with each (x,y)\n            pair. If a single string, the same string appears over\n            all the data points. If an array of string, the items\n            are mapped in order to the this trace's (x,y)\n            coordinates. To be seen, trace `hoverinfo` must contain\n            a \"text\" flag.\n        hovertextsrc\n            Sets the source reference on Chart Studio Cloud for\n            hovertext .\n        ids\n            Assigns id labels to each datum. These ids for object\n            constancy of data points during animation. Should be an\n            array of strings, not numbers or any other type.\n        idssrc\n            Sets the source reference on Chart Studio Cloud for\n            ids .\n        legendgroup\n            Sets the legend group for this trace. Traces part of\n            the same legend group hide/show at the same time when\n            toggling legend items.\n        line\n            :class:`plotly.graph_objects.scatter.Line` instance or\n            dict with compatible properties\n        marker\n            :class:`plotly.graph_objects.scatter.Marker` instance\n            or dict with compatible properties\n        meta\n            Assigns extra meta information associated with this\n            trace that can be used in various text attributes.\n            Attributes such as trace `name`, graph, axis and\n            colorbar `title.text`, annotation `text`\n            `rangeselector`, `updatemenues` and `sliders` `label`\n            text all support `meta`. To access the trace `meta`\n            values in an attribute in the same trace, simply use\n            `%{meta[i]}` where `i` is the index or key of the\n            `meta` item in question. To access trace `meta` in\n            layout attributes, use `%{data[n[.meta[i]}` where `i`\n            is the index or key of the `meta` and `n` is the trace\n            index.\n        metasrc\n            Sets the source reference on Chart Studio Cloud for\n            meta .\n        mode\n            Determines the drawing mode for this scatter trace. If\n            the provided `mode` includes \"text\" then the `text`\n            elements appear at the coordinates. Otherwise, the\n            `text` elements appear on hover. If there are less than\n            20 points and the trace is not stacked then the default\n            is \"lines+markers\". Otherwise, \"lines\".\n        name\n            Sets the trace name. The trace name appear as the\n            legend item and on hover.\n        opacity\n            Sets the opacity of the trace.\n        orientation\n            Only relevant when `stackgroup` is used, and only the\n            first `orientation` found in the `stackgroup` will be\n            used - including if `visible` is \"legendonly\" but not\n            if it is `false`. Sets the stacking direction. With \"v\"\n            (\"h\"), the y (x) values of subsequent traces are added.\n            Also affects the default value of `fill`.\n        r\n            r coordinates in scatter traces are deprecated!Please\n            switch to the \"scatterpolar\" trace type.Sets the radial\n            coordinatesfor legacy polar chart only.\n        rsrc\n            Sets the source reference on Chart Studio Cloud for  r\n            .\n        selected\n            :class:`plotly.graph_objects.scatter.Selected` instance\n            or dict with compatible properties\n        selectedpoints\n            Array containing integer indices of selected points.\n            Has an effect only for traces that support selections.\n            Note that an empty array means an empty selection where\n            the `unselected` are turned on for all points, whereas,\n            any other non-array values means no selection all where\n            the `selected` and `unselected` styles have no effect.\n        showlegend\n            Determines whether or not an item corresponding to this\n            trace is shown in the legend.\n        stackgaps\n            Only relevant when `stackgroup` is used, and only the\n            first `stackgaps` found in the `stackgroup` will be\n            used - including if `visible` is \"legendonly\" but not\n            if it is `false`. Determines how we handle locations at\n            which other traces in this group have data but this one\n            does not. With *infer zero* we insert a zero at these\n            locations. With \"interpolate\" we linearly interpolate\n            between existing values, and extrapolate a constant\n            beyond the existing values.\n        stackgroup\n            Set several scatter traces (on the same subplot) to the\n            same stackgroup in order to add their y values (or\n            their x values if `orientation` is \"h\"). If blank or\n            omitted this trace will not be stacked. Stacking also\n            turns `fill` on by default, using \"tonexty\" (\"tonextx\")\n            if `orientation` is \"h\" (\"v\") and sets the default\n            `mode` to \"lines\" irrespective of point count. You can\n            only stack on a numeric (linear or log) axis. Traces in\n            a `stackgroup` will only fill to (or be filled to)\n            other traces in the same group. With multiple\n            `stackgroup`s or some traces stacked and some not, if\n            fill-linked traces are not already consecutive, the\n            later ones will be pushed down in the drawing order.\n        stream\n            :class:`plotly.graph_objects.scatter.Stream` instance\n            or dict with compatible properties\n        t\n            t coordinates in scatter traces are deprecated!Please\n            switch to the \"scatterpolar\" trace type.Sets the\n            angular coordinatesfor legacy polar chart only.\n        text\n            Sets text elements associated with each (x,y) pair. If\n            a single string, the same string appears over all the\n            data points. If an array of string, the items are\n            mapped in order to the this trace's (x,y) coordinates.\n            If trace `hoverinfo` contains a \"text\" flag and\n            \"hovertext\" is not set, these elements will be seen in\n            the hover labels.\n        textfont\n            Sets the text font.\n        textposition\n            Sets the positions of the `text` elements with respects\n            to the (x,y) coordinates.\n        textpositionsrc\n            Sets the source reference on Chart Studio Cloud for\n            textposition .\n        textsrc\n            Sets the source reference on Chart Studio Cloud for\n            text .\n        texttemplate\n            Template string used for rendering the information text\n            that appear on points. Note that this will override\n            `textinfo`. Variables are inserted using %{variable},\n            for example \"y: %{y}\". Numbers are formatted using\n            d3-format's syntax %{variable:d3-format}, for example\n            \"Price: %{y:$.2f}\". https://github.com/d3/d3-3.x-api-\n            reference/blob/master/Formatting.md#d3_format for\n            details on the formatting syntax. Dates are formatted\n            using d3-time-format's syntax %{variable|d3-time-\n            format}, for example \"Day: %{2019-01-01|%A}\".\n            https://github.com/d3/d3-3.x-api-\n            reference/blob/master/Time-Formatting.md#format for\n            details on the date formatting syntax. Every attributes\n            that can be specified per-point (the ones that are\n            `arrayOk: true`) are available.\n        texttemplatesrc\n            Sets the source reference on Chart Studio Cloud for\n            texttemplate .\n        tsrc\n            Sets the source reference on Chart Studio Cloud for  t\n            .\n        uid\n            Assign an id to this trace, Use this to provide object\n            constancy between traces during animations and\n            transitions.\n        uirevision\n            Controls persistence of some user-driven changes to the\n            trace: `constraintrange` in `parcoords` traces, as well\n            as some `editable: true` modifications such as `name`\n            and `colorbar.title`. Defaults to `layout.uirevision`.\n            Note that other user-driven trace attribute changes are\n            controlled by `layout` attributes: `trace.visible` is\n            controlled by `layout.legend.uirevision`,\n            `selectedpoints` is controlled by\n            `layout.selectionrevision`, and `colorbar.(x|y)`\n            (accessible with `config: {editable: true}`) is\n            controlled by `layout.editrevision`. Trace changes are\n            tracked by `uid`, which only falls back on trace index\n            if no `uid` is provided. So if your app can add/remove\n            traces before the end of the `data` array, such that\n            the same trace has a different index, you can still\n            preserve user-driven changes if you give each trace a\n            `uid` that stays with it as it moves.\n        unselected\n            :class:`plotly.graph_objects.scatter.Unselected`\n            instance or dict with compatible properties\n        visible\n            Determines whether or not this trace is visible. If\n            \"legendonly\", the trace is not drawn, but can appear as\n            a legend item (provided that the legend itself is\n            visible).\n        x\n            Sets the x coordinates.\n        x0\n            Alternate to `x`. Builds a linear space of x\n            coordinates. Use with `dx` where `x0` is the starting\n            coordinate and `dx` the step.\n        xaxis\n            Sets a reference between this trace's x coordinates and\n            a 2D cartesian x axis. If \"x\" (the default value), the\n            x coordinates refer to `layout.xaxis`. If \"x2\", the x\n            coordinates refer to `layout.xaxis2`, and so on.\n        xcalendar\n            Sets the calendar system to use with `x` date data.\n        xsrc\n            Sets the source reference on Chart Studio Cloud for  x\n            .\n        y\n            Sets the y coordinates.\n        y0\n            Alternate to `y`. Builds a linear space of y\n            coordinates. Use with `dy` where `y0` is the starting\n            coordinate and `dy` the step.\n        yaxis\n            Sets a reference between this trace's y coordinates and\n            a 2D cartesian y axis. If \"y\" (the default value), the\n            y coordinates refer to `layout.yaxis`. If \"y2\", the y\n            coordinates refer to `layout.yaxis2`, and so on.\n        ycalendar\n            Sets the calendar system to use with `y` date data.\n        ysrc\n            Sets the source reference on Chart Studio Cloud for  y\n            .\n        "
     ]
    }
   ],
   "source": [
    "ts_idx = levered.index\n",
    "init_cap = 100000\n",
    "trace_10 = Scatter(x = ts_idx,\n",
    "                   y = unlevered.Cumulative * init_cap,\n",
    "                   visible = True, \n",
    "                   name = 'Unlevered TSMOM',\n",
    "                   yaxis = 'y2',\n",
    "                   line = dict(dash = 'solid',\n",
    "                               color = 'black', \n",
    "                               width = 3)\n",
    "                 )\n",
    "trace_20 = Scatter(x = ts_idx,\n",
    "                   y = unlevered.Leverage,\n",
    "                   visible = True,\n",
    "                   name = 'Leverage',\n",
    "                   axis = 'y',\n",
    "                   line = dict(dash = 'dot',\n",
    "                               color = '#aaa9a9', \n",
    "                               width = 1.5, \n",
    "                               )\n",
    "                 )\n",
    "                  \n",
    "trace_30 =  Scatter(x = ts_idx,\n",
    "                    y = nifty_m_cum * init_cap,\n",
    "                    visible = True,\n",
    "                    name = 'Nifty500',\n",
    "                    yaxis = 'y2',\n",
    "                    line = dict(dash = 'solid', \n",
    "                                color = 'blue', \n",
    "                                width = 3)    \n",
    "                   )\n",
    "\n",
    "trace_11 = Scatter(x = ts_idx,\n",
    "                   y = (levered.Cumulative * init_cap),\n",
    "                   visible = False,\n",
    "                   name = 'Levered TSMOM',\n",
    "                   yaxis = 'y2',\n",
    "                   line = dict(dash = 'solid',\n",
    "                               color = 'black', \n",
    "                               width = 3)\n",
    "                 )\n",
    "trace_12 = Scatter(x = ts_idx,\n",
    "                   y = (levered.Leverage),\n",
    "                   visible = False,\n",
    "                   name = 'Leverage',\n",
    "                   axis = 'y',\n",
    "                   line = dict(dash = 'dot',\n",
    "                               color = '#aaa9a9', \n",
    "                               width = 1.5),\n",
    "                 )\n",
    "trace_13 = Scatter(x = ts_idx,\n",
    "                   y = (nifty_m_cum) * init_cap,\n",
    "                   visible = False,\n",
    "                   name = 'Nifty 500',\n",
    "                   yaxis = 'y2',\n",
    "                   line = dict(dash = 'solid',\n",
    "                               color = 'blue', \n",
    "                               width = 3,\n",
    "                              )\n",
    "                  )\n",
    "\n",
    "trace100 = Scatter(x = ts_idx, \n",
    "                   y = EW * init_cap, \n",
    "                   visible = True, \n",
    "                   name = 'EW Long Only', \n",
    "                   yaxis = 'y2', \n",
    "                   line = dict(dash = 'dashdot', \n",
    "                               color = '#51c5e9', \n",
    "                               width = 3), \n",
    "                  )\n",
    "data_ttl = [trace_10, trace_20, trace_30, trace_11, trace_12, trace_13, trace100]\n",
    "updatemenus = list([dict(#type=\"buttons\", \n",
    "                         active= 0, \n",
    "                         \n",
    "                         buttons=list([dict(label = 'Unlevered',  \n",
    "                                            method = 'update', \n",
    "                                            args = [{'visible': [True, True, True, False, False, False, True]},]),\n",
    "                       \n",
    "                                       dict(label = 'Levered', \n",
    "                                            method = 'update', \n",
    "                                            args = [{'visible': [False, False, False, True, True, True, True]},]), \n",
    "                                       \n",
    "                                      ]),  \n",
    "                         x = 0.15,\n",
    "                         y = 1\n",
    "                        ),\n",
    "                   ], \n",
    "                   \n",
    "                  )\n",
    "\n",
    "lay = Layout(title = dict(text = 'TSMOM scaled for volatility',\n",
    "                          align = 'center',\n",
    "                         ),\n",
    "             legend = dict(x = 0.75, y = 1.22),\n",
    "\n",
    "             xaxis = dict(title = 'Dates', \n",
    "                          showgrid = True, \n",
    "                          showticklabels = True,\n",
    "                          linecolor = 'black',\n",
    "                          tickformat = '%b %Y',\n",
    "                          hoverformat = '%b %Y'\n",
    "                         ),\n",
    "              yaxis = dict(title = 'Leverage', \n",
    "                          showgrid = False,\n",
    "                          showticklabels = True,\n",
    "                          linecolor = 'black',\n",
    "                          range = [0, 6],   \n",
    "                          ),\n",
    "              yaxis2 = dict(title = 'Cumulative Returns', \n",
    "                            showgrid = False,\n",
    "                            showticklabels = True,\n",
    "                            linecolor = 'black',\n",
    "#                           range = [4.7, 9],\n",
    "                            nticks = 5,\n",
    "                            type = 'log',\n",
    "                            side = 'right',\n",
    "                            overlaying = 'y'\n",
    "                          ),\n",
    "             hovermode= 'x unified',\n",
    "             \n",
    "             paper_bgcolor = 'white',\n",
    "             plot_bgcolor = 'white',\n",
    "             autosize = False,\n",
    "             height = 600,\n",
    "             width = 950,\n",
    "             showlegend = True,\n",
    "             updatemenus = updatemenus,\n",
    "\n",
    "             shapes = [\n",
    "                 {\n",
    "                     'type' : 'line',\n",
    "                     'xref' : 'paper',\n",
    "                     'x0' : 0,\n",
    "                     'y0' : init_cap,\n",
    "                     'x1' : 1,\n",
    "                     'y1' : init_cap,\n",
    "                     'line' : {\n",
    "                         \n",
    "                         'color': 'black',\n",
    "                         'width': 1,\n",
    "                         'dash': 'dash'\n",
    "                             },\n",
    "                 },\n",
    "                     {\n",
    "                      'x0':'2000-03-15', \n",
    "                      'x1':'2000-09-15', \n",
    "                      'yref': 'paper',\n",
    "                      'y0':0,\n",
    "                      'y1':1,\n",
    "                      'fillcolor':'rgba(30,30,30,0.3)',  \n",
    "                      'opacity':.2, \n",
    "                      'line' : {'width': 0\n",
    "                               },\n",
    "                      },\n",
    "                     {\n",
    "                      \n",
    "                      'x0':'2007-08-01', \n",
    "                      'x1':'2009-06-01', \n",
    "                      'yref': 'paper',\n",
    "                      'y0':0,\n",
    "                      'y1':1,\n",
    "                      'fillcolor':'rgba(30,30,30,0.3)',  \n",
    "                      'opacity':.2, \n",
    "                      'line' : {'width': 0\n",
    "                               },\n",
    "                      },\n",
    "             ]\n",
    "            )\n",
    "annot = []\n",
    "\n",
    "annot.extend([dict(xref = 'paper',\n",
    "                  yref = 'paper',\n",
    "                  x= 0.5, \n",
    "                  y= 0.98,\n",
    "                  xanchor ='right', \n",
    "                  yanchor='auto',\n",
    "                  text= 'Global Financial Crisis',\n",
    "                  font=dict(family='<b>Arial<b>',\n",
    "                            size= 12, \n",
    "                            color= 'black',\n",
    "                           ),\n",
    "                  showarrow=False), \n",
    "#             dict(xref = 'paper',\n",
    "#                   yref = 'paper',\n",
    "#                   x= 0.215, \n",
    "#                   y= 0.98,\n",
    "#                   xanchor ='right', \n",
    "#                   yanchor='auto',\n",
    "#                   text= 'Dotcom',\n",
    "#                   font=dict(family='<b>Arial<b>',\n",
    "#                             size= 12, \n",
    "#                             color= 'black',\n",
    "#                            ),\n",
    "#                   showarrow=False)\n",
    "             ]\n",
    "            )\n",
    "\n",
    "lay['annotations'] = annot\n",
    "fig_ttl = Figure(data = data_ttl, layout = lay)\n",
    "iplot(fig_ttl, \n",
    "      show_link = False, \n",
    "#       filename = '/Users/Ravi/Desktop/Git/india-famafrench/docs/_static/IndiaMom.html'\n",
    "     )"
   ]
  },
  {
   "cell_type": "code",
   "execution_count": 41,
   "metadata": {
    "scrolled": false
   },
   "outputs": [
    {
     "name": "stdout",
     "output_type": "stream",
     "text": [
      "This is the format of your plot grid:\n",
      "[ (1,1) x1,y1 ]  [ (1,2) x2,y2 ]\n",
      "\n"
     ]
    },
    {
     "data": {
      "text/plain": [
       "'file:///Users/Ravi/Desktop/Git/india-famafrench/docs/_static/IndAnnRet.html'"
      ]
     },
     "execution_count": 41,
     "metadata": {},
     "output_type": "execute_result"
    },
    {
     "name": "stdout",
     "output_type": "stream",
     "text": [
      "This is the format of your plot grid:\n",
      "[ (1,1) x1,y1 ]  [ (1,2) x2,y2 ]\n",
      "\n"
     ]
    },
    {
     "data": {
      "text/plain": [
       "'file:///Users/Ravi/Desktop/Git/india-famafrench/docs/_static/IndVolAnnRet.html'"
      ]
     },
     "execution_count": 41,
     "metadata": {},
     "output_type": "execute_result"
    },
    {
     "name": "stdout",
     "output_type": "stream",
     "text": [
      "This is the format of your plot grid:\n",
      "[ (1,1) x1,y1 ]  [ (1,2) x2,y2 ]\n",
      "\n"
     ]
    },
    {
     "data": {
      "text/plain": [
       "'file:///Users/Ravi/Desktop/BSE/Nifty50AnnRet.html'"
      ]
     },
     "execution_count": 41,
     "metadata": {},
     "output_type": "execute_result"
    }
   ],
   "source": [
    "plot(tsmom.get_ann_ret_plot(strat_unlevered, \n",
    "                                height = 500, \n",
    "                                width = 500, \n",
    "                                x2range = [-10,100]), \n",
    "         show_link = False, \n",
    "         filename= '/Users/Ravi/Desktop/Git/india-famafrench/docs/_static/IndAnnRet.html')\n",
    "plot(tsmom.get_ann_ret_plot(strat_levered, \n",
    "                                height = 500, \n",
    "                                width = 500, \n",
    "                                x2range = [-10,100]), \n",
    "         show_link= False, \n",
    "         filename= '/Users/Ravi/Desktop/Git/india-famafrench/docs/_static/IndVolAnnRet.html')\n",
    "plot(tsmom.get_ann_ret_plot(nifty_m_rets, \n",
    "                                height = 500, \n",
    "                                width = 500, \n",
    "                                x2range = [-65, 100]), \n",
    "         show_link = False, \n",
    "         filename= 'Nifty50AnnRet.html')\n"
   ]
  },
  {
   "cell_type": "code",
   "execution_count": 21,
   "metadata": {},
   "outputs": [
    {
     "name": "stdout",
     "output_type": "stream",
     "text": [
      "The strategy TSMOM beats the market 77.27% of the times on annual basis with the average\n",
      "difference on returns of 41.37%\n"
     ]
    }
   ],
   "source": [
    "ann_ret_comparison = pd.concat([tsmom.get_ann_ret(nifty_m_rets), \n",
    "                                tsmom.get_ann_ret(strat_unlevered)], \n",
    "                               axis = 1)\n",
    "# ann_ret_comparison = pd.concat([nifty_m_rets, strat_unlevered], axis = 1)\n",
    "ann_ret_comparison['Strategy Beating Market'] = np.where(ann_ret_comparison.iloc[:, 0] > ann_ret_comparison.iloc[:, 1], -1, 1)\n",
    "years_not = ann_ret_comparison.loc[ann_ret_comparison.iloc[:, 2] == -1]\n",
    "diff = ann_ret_comparison.iloc[:, 1] - ann_ret_comparison.iloc[:, 0]\n",
    "beat_pct = diff[diff > 0].mean() \n",
    "loss_pct = diff[diff < 0].mean()\n",
    "pct_wins = 1 - (len(years_not)/len(ann_ret_comparison))\n",
    "print('The strategy {} beats the market {:,.2%} of the times on annual basis\\\n",
    " with the average\\ndifference on returns of {:,.2%}'.format(ann_ret_comparison.iloc[:, 1].name, \n",
    "                                                            pct_wins, \n",
    "                                                            beat_pct))"
   ]
  },
  {
   "cell_type": "code",
   "execution_count": 22,
   "metadata": {},
   "outputs": [
    {
     "data": {
      "text/html": [
       "<style>\n",
       "@font-face {\n",
       " font-family: \"Oxygen Mono\";\n",
       " font-weight: normal;\n",
       " font-style: normal;\n",
       " src: local('\"Oxygen Mono\"'), url('fonts/oxygen.otf') format('opentype');\n",
       "}\n",
       "@font-face {\n",
       " font-family: \"Meslo\";\n",
       " font-weight: normal;\n",
       " font-style: normal;\n",
       " src: local('\"Meslo\"'), url('fonts/meslo.ttf') format('truetype');\n",
       "}\n",
       "@font-face {\n",
       " font-family: \"Meslo\";\n",
       " font-weight: normal;\n",
       " font-style: italic;\n",
       " src: local('\"Meslo\"'), url('fonts/meslo-italic.ttf') format('truetype');\n",
       "}\n",
       "@font-face {\n",
       " font-family: \"Meslo\";\n",
       " font-weight: normal;\n",
       " font-style: normal;\n",
       " src: local('\"Meslo\"'), url('fonts/meslo.ttf') format('truetype');\n",
       "}\n",
       "@font-face {\n",
       " font-family: \"Meslo\";\n",
       " font-weight: normal;\n",
       " font-style: italic;\n",
       " src: local('\"Meslo\"'), url('fonts/meslo-italic.ttf') format('truetype');\n",
       "}\n",
       "div#notebook {\n",
       " font-family: \"Meslo\", monospace;\n",
       " font-size: 12pt;\n",
       " line-height: 170%;\n",
       " color: #303030;\n",
       " -webkit-font-smoothing: antialiased !important;\n",
       "}\n",
       "body,\n",
       "div.body {\n",
       " font-family: \"Meslo\", monospace;\n",
       " font-size: 12pt;\n",
       " color: #303030;\n",
       " background-color: #ffffff;\n",
       " background: #ffffff;\n",
       " -webkit-font-smoothing: antialiased !important;\n",
       "}\n",
       "body.notebook_app {\n",
       " padding: 0;\n",
       " background-color: #ffffff;\n",
       " background: #ffffff;\n",
       " padding-right: 0px !important;\n",
       " overflow-y: hidden;\n",
       "}\n",
       "a {\n",
       " font-family: \"Meslo\", monospace;\n",
       " color: #303030;\n",
       " -webkit-font-smoothing: antialiased !important;\n",
       "}\n",
       "a:hover,\n",
       "a:focus {\n",
       " color: #2f2f2f;\n",
       " -webkit-font-smoothing: antialiased !important;\n",
       "}\n",
       ".list_header,\n",
       "div#notebook_list_header.row.list_header {\n",
       " font-size: 14pt;\n",
       " color: #2f2f2f;\n",
       " background-color: transparent;\n",
       " height: 35px;\n",
       "}\n",
       "i.fa.fa-folder {\n",
       " display: inline-block;\n",
       " font: normal normal normal 14px \"FontAwesome\";\n",
       " font-family: \"FontAwesome\" !important;\n",
       " text-rendering: auto;\n",
       " -webkit-font-smoothing: antialiased;\n",
       " font-size: 18px;\n",
       " -moz-osx-font-smoothing: grayscale;\n",
       "}\n",
       "#running .panel-group .panel .panel-heading {\n",
       " font-size: 14pt;\n",
       " color: #303030;\n",
       " padding: 8px 8px;\n",
       " background: #e4e4e4;\n",
       " background-color: #e4e4e4;\n",
       "}\n",
       "#running .panel-group .panel .panel-heading a {\n",
       " font-size: 14pt;\n",
       " color: #303030;\n",
       "}\n",
       "#running .panel-group .panel .panel-heading a:focus,\n",
       "#running .panel-group .panel .panel-heading a:hover {\n",
       " font-size: 14pt;\n",
       " color: #303030;\n",
       "}\n",
       "#running .panel-group .panel .panel-body .list_container .list_item {\n",
       " background: #f4f4f4;\n",
       " background-color: #f4f4f4;\n",
       " padding: 2px;\n",
       " border-bottom: 2px solid #dedede;\n",
       "}\n",
       "#running .panel-group .panel .panel-body .list_container .list_item:hover {\n",
       " background: #f4f4f4;\n",
       " background-color: #f4f4f4;\n",
       "}\n",
       "#running .panel-group .panel .panel-body {\n",
       " padding: 2px;\n",
       "}\n",
       "button#refresh_running_list {\n",
       " border: none !important;\n",
       "}\n",
       "button#refresh_cluster_list {\n",
       " border: none !important;\n",
       "}\n",
       "div.running_list_info.toolbar_info {\n",
       " font-size: 15px;\n",
       " padding: 4px 0 4px 0;\n",
       " margin-top: 5px;\n",
       " margin-bottom: 8px;\n",
       " height: 24px;\n",
       " line-height: 24px;\n",
       " text-shadow: none;\n",
       "}\n",
       ".list_placeholder {\n",
       " font-weight: normal;\n",
       "}\n",
       "#tree-selector {\n",
       " padding: 0px;\n",
       " border-color: transparent;\n",
       "}\n",
       "#project_name > ul > li > a > i.fa.fa-home {\n",
       " color: #ff7823;\n",
       " font-size: 17pt;\n",
       " display: inline-block;\n",
       " position: static;\n",
       " padding: 0px 0px;\n",
       " font-weight: normal;\n",
       " text-align: center;\n",
       " vertical-align: text-top;\n",
       "}\n",
       ".fa-folder:before {\n",
       " color: #126dce;\n",
       "}\n",
       ".fa-arrow-up:before {\n",
       " font-size: 14px;\n",
       "}\n",
       ".fa-arrow-down:before {\n",
       " font-size: 14px;\n",
       "}\n",
       "span#last-modified.btn.btn-xs.btn-default.sort-action:hover .fa,\n",
       "span#sort-name.btn.btn-xs.btn-default.sort-action:hover .fa {\n",
       " color: #ef5c00;\n",
       "}\n",
       ".folder_icon:before {\n",
       " display: inline-block;\n",
       " font: normal normal normal 14px/1 FontAwesome;\n",
       " font-size: inherit;\n",
       " text-rendering: auto;\n",
       " -webkit-font-smoothing: antialiased;\n",
       " -moz-osx-font-smoothing: grayscale;\n",
       " content: \"\\f07b\";\n",
       " color: #126dce;\n",
       "}\n",
       ".notebook_icon:before {\n",
       " display: inline-block;\n",
       " font: normal normal normal 14px/1 FontAwesome;\n",
       " font-size: inherit;\n",
       " text-rendering: auto;\n",
       " -webkit-font-smoothing: antialiased;\n",
       " -moz-osx-font-smoothing: grayscale;\n",
       " content: \"\\f02d\";\n",
       " position: relative;\n",
       " color: #009e07 !important;\n",
       " top: 0px;\n",
       "}\n",
       ".file_icon:before {\n",
       " display: inline-block;\n",
       " font: normal normal normal 14px/1 FontAwesome;\n",
       " font-size: inherit;\n",
       " text-rendering: auto;\n",
       " -webkit-font-smoothing: antialiased;\n",
       " -moz-osx-font-smoothing: grayscale;\n",
       " content: \"\\f15b\";\n",
       " position: relative;\n",
       " top: 0px;\n",
       " color: #6a737d !important;\n",
       "}\n",
       "#project_name a {\n",
       " display: inline-flex;\n",
       " padding-left: 7px;\n",
       " margin-left: -2px;\n",
       " text-align: -webkit-auto;\n",
       " vertical-align: baseline;\n",
       " font-size: 18px;\n",
       "}\n",
       "div#notebook_toolbar div.dynamic-instructions {\n",
       " font-family: \"Meslo\", monospace;\n",
       " font-size: 17px;\n",
       " color: #828892;\n",
       "}\n",
       "span#login_widget > .button,\n",
       "#logout {\n",
       " font-family: \"Proxima Nova\", sans-serif;\n",
       " color: #303030;\n",
       " background: transparent;\n",
       " background-color: transparent;\n",
       " border: 2px solid #e5e5e5;\n",
       " font-weight: normal;\n",
       " box-shadow: none;\n",
       " text-shadow: none;\n",
       " border-radius: 3px;\n",
       " margin-right: 10px;\n",
       " padding: 2px 7px;\n",
       "}\n",
       "span#login_widget > .button:hover,\n",
       "#logout:hover {\n",
       " color: #ef5c00;\n",
       " background-color: transparent;\n",
       " background: transparent;\n",
       " border: 2px solid #ef5c00;\n",
       " background-image: none;\n",
       " box-shadow: none !important;\n",
       " border-radius: 3px;\n",
       "}\n",
       "span#login_widget > .button:focus,\n",
       "#logout:focus,\n",
       "span#login_widget > .button.focus,\n",
       "#logout.focus,\n",
       "span#login_widget > .button:active,\n",
       "#logout:active,\n",
       "span#login_widget > .button.active,\n",
       "#logout.active,\n",
       ".open > .dropdown-togglespan#login_widget > .button,\n",
       ".open > .dropdown-toggle#logout {\n",
       " color: #1c1c1c;\n",
       " background-color: #303030;\n",
       " background: #303030;\n",
       " border-color: #303030;\n",
       " background-image: none;\n",
       " box-shadow: none !important;\n",
       " border-radius: 2px;\n",
       "}\n",
       "body > #header #header-container {\n",
       " padding-bottom: 0px;\n",
       " padding-top: 4px;\n",
       " box-sizing: border-box;\n",
       " -moz-box-sizing: border-box;\n",
       " -webkit-box-sizing: border-box;\n",
       "}\n",
       "body > #header {\n",
       " background: #ffffff;\n",
       " background-color: #ffffff;\n",
       " position: relative;\n",
       " z-index: 100;\n",
       "}\n",
       ".list_container {\n",
       " font-size: 12pt;\n",
       " color: #303030;\n",
       " border: none;\n",
       " text-shadow: none !important;\n",
       "}\n",
       ".list_container > div {\n",
       " border-bottom: 1px solid rgba(180,180,180,.14);\n",
       " font-size: 12pt;\n",
       "}\n",
       ".list_header > div,\n",
       ".list_item > div {\n",
       " padding-top: 6px;\n",
       " padding-bottom: 2px;\n",
       " padding-left: 0px;\n",
       "}\n",
       ".list_header > div .item_link,\n",
       ".list_item > div .item_link {\n",
       " margin-left: -1px;\n",
       " vertical-align: middle;\n",
       " line-height: 22px;\n",
       " font-size: 12pt;\n",
       "}\n",
       ".item_icon {\n",
       " color: #126dce;\n",
       " font-size: 13pt;\n",
       " vertical-align: middle;\n",
       "}\n",
       ".list_item input:not([type=\"checkbox\"]) {\n",
       " padding-right: 0px;\n",
       " height: 1.75em;\n",
       " width: 25%;\n",
       " margin: 0px 0 0;\n",
       " margin-top: 0px;\n",
       "}\n",
       ".list_header > div .item_link,\n",
       ".list_item > div .item_link {\n",
       " margin-left: -1px;\n",
       " vertical-align: middle;\n",
       " line-height: 1.5em;\n",
       " font-size: 12pt;\n",
       " display: inline-table;\n",
       " position: static;\n",
       "}\n",
       "#button-select-all {\n",
       " height: 34px;\n",
       " min-width: 55px;\n",
       " z-index: 0;\n",
       " border: none !important;\n",
       " padding-top: 0px;\n",
       " padding-bottom: 0px;\n",
       " margin-bottom: 0px;\n",
       " margin-top: 0px;\n",
       " left: -3px;\n",
       " border-radius: 0px !important;\n",
       "}\n",
       "#button-select-all:focus,\n",
       "#button-select-all:active:focus,\n",
       "#button-select-all.active:focus,\n",
       "#button-select-all.focus,\n",
       "#button-select-all:active.focus,\n",
       "#button-select-all.active.focus {\n",
       " background-color: #e5e5e5 !important;\n",
       " background: #e5e5e5 !important;\n",
       "}\n",
       "button#tree-selector-btn {\n",
       " height: 34px;\n",
       " font-size: 11.0pt;\n",
       " border: none;\n",
       " left: 0px;\n",
       " border-radius: 0px !important;\n",
       "}\n",
       "input#select-all.pull-left.tree-selector {\n",
       " margin-left: 7px;\n",
       " margin-right: 2px;\n",
       " margin-top: 2px;\n",
       " top: 4px;\n",
       "}\n",
       "input[type=\"radio\"],\n",
       "input[type=\"checkbox\"] {\n",
       " margin-top: 1px;\n",
       " line-height: normal;\n",
       "}\n",
       ".delete-button {\n",
       " border: none !important;\n",
       "}\n",
       "i.fa.fa-trash {\n",
       " font-size: 13.5pt;\n",
       "}\n",
       ".list_container a {\n",
       " font-size: 16px;\n",
       " color: #303030;\n",
       " border: none;\n",
       " text-shadow: none !important;\n",
       " font-weight: normal;\n",
       " font-style: normal;\n",
       "}\n",
       "div.list_container a:hover {\n",
       " color: #2f2f2f;\n",
       "}\n",
       ".list_header > div input,\n",
       ".list_item > div input {\n",
       " margin-right: 7px;\n",
       " margin-left: 12px;\n",
       " vertical-align: baseline;\n",
       " line-height: 22px;\n",
       " position: relative;\n",
       " top: -1px;\n",
       "}\n",
       "div.list_item:hover {\n",
       " background-color: #fafafa;\n",
       "}\n",
       ".breadcrumb > li {\n",
       " font-size: 11.0pt;\n",
       " color: #303030;\n",
       " border: none;\n",
       " text-shadow: none !important;\n",
       "}\n",
       ".breadcrumb > li + li:before {\n",
       " content: \"/\\00a0\";\n",
       " padding: 0px;\n",
       " color: #303030;\n",
       " font-size: 18px;\n",
       "}\n",
       "#project_name > .breadcrumb {\n",
       " padding: 0px;\n",
       " margin-bottom: 0px;\n",
       " background-color: transparent;\n",
       " font-weight: normal;\n",
       " margin-top: -2px;\n",
       "}\n",
       "ul#tabs a {\n",
       " font-family: \"Meslo\", monospace;\n",
       " font-size: 13.5pt;\n",
       " font-weight: normal;\n",
       " font-style: normal;\n",
       " text-shadow: none !important;\n",
       "}\n",
       ".nav-tabs {\n",
       " font-family: \"Meslo\", monospace;\n",
       " font-size: 13.5pt;\n",
       " font-weight: normal;\n",
       " font-style: normal;\n",
       " background-color: transparent;\n",
       " border-color: transparent;\n",
       " text-shadow: none !important;\n",
       " border: 2px solid transparent;\n",
       "}\n",
       ".nav-tabs > li > a:active,\n",
       ".nav-tabs > li > a:focus,\n",
       ".nav-tabs > li > a:hover,\n",
       ".nav-tabs > li.active > a,\n",
       ".nav-tabs > li.active > a:focus,\n",
       ".nav-tabs > li.active > a:hover,\n",
       ".nav-tabs > li.active > a,\n",
       ".nav-tabs > li.active > a:hover,\n",
       ".nav-tabs > li.active > a:focus {\n",
       " color: #ef5c00;\n",
       " background-color: transparent;\n",
       " border-color: transparent;\n",
       " border-bottom: 2px solid transparent;\n",
       "}\n",
       ".nav > li.disabled > a,\n",
       ".nav > li.disabled > a:hover {\n",
       " color: #828892;\n",
       "}\n",
       ".nav-tabs > li > a:before {\n",
       " content: \"\";\n",
       " position: absolute;\n",
       " width: 100%;\n",
       " height: 2px;\n",
       " bottom: -2px;\n",
       " left: 0;\n",
       " background-color: #ef5c00;\n",
       " visibility: hidden;\n",
       " -webkit-transform: perspective(0)scaleX(0);\n",
       " transform: perspective(0)scaleX(0);\n",
       " -webkit-transition: ease 220ms;\n",
       " transition: ease 220ms;\n",
       " -webkit-font-smoothing: antialiased !important;\n",
       "}\n",
       ".nav-tabs > li > a:hover:before {\n",
       " visibility: visible;\n",
       " -webkit-transform: perspective(1)scaleX(1);\n",
       " transform: perspective(1)scaleX(1);\n",
       "}\n",
       ".nav-tabs > li.active > a:before {\n",
       " content: \"\";\n",
       " position: absolute;\n",
       " width: 100%;\n",
       " height: 2px;\n",
       " bottom: -2px;\n",
       " left: 0;\n",
       " background-color: #ef5c00;\n",
       " visibility: visible;\n",
       " -webkit-transform: perspective(1)scaleX(1);\n",
       " transform: perspective(1)scaleX(1);\n",
       " -webkit-font-smoothing: subpixel-antialiased !important;\n",
       "}\n",
       "div#notebook {\n",
       " font-family: \"Meslo\", monospace;\n",
       " font-size: 12pt;\n",
       " padding-top: 4px;\n",
       "}\n",
       ".notebook_app {\n",
       " background-color: #ffffff;\n",
       "}\n",
       "#notebook-container {\n",
       " padding: 13px 2px;\n",
       " background-color: #ffffff;\n",
       " min-height: 0px;\n",
       " box-shadow: none;\n",
       " width: 980px;\n",
       " margin-right: auto;\n",
       " margin-left: auto;\n",
       "}\n",
       "div#ipython-main-app.container {\n",
       " width: 980px;\n",
       " margin-right: auto;\n",
       " margin-left: auto;\n",
       " margin-right: auto;\n",
       " margin-left: auto;\n",
       "}\n",
       ".container {\n",
       " width: 980px;\n",
       " margin-right: auto;\n",
       " margin-left: auto;\n",
       "}\n",
       "div#menubar-container {\n",
       " width: 100%;\n",
       " width: 980px;\n",
       "}\n",
       "div#header-container {\n",
       " width: 980px;\n",
       "}\n",
       ".notebook_app #header,\n",
       ".edit_app #header {\n",
       " box-shadow: none !important;\n",
       " background-color: #ffffff;\n",
       " border-bottom: 2px solid rgba(180,180,180,.14);\n",
       "}\n",
       "#header,\n",
       ".edit_app #header {\n",
       " font-family: \"Meslo\", monospace;\n",
       " font-size: 12pt;\n",
       " box-shadow: none;\n",
       " background-color: #ffffff;\n",
       "}\n",
       "#header .header-bar,\n",
       ".edit_app #header .header-bar {\n",
       " background: #ffffff;\n",
       " background-color: #ffffff;\n",
       "}\n",
       "body > #header .header-bar {\n",
       " width: 100%;\n",
       " background: #ffffff;\n",
       "}\n",
       "span.checkpoint_status,\n",
       "span.autosave_status {\n",
       " font-size: small;\n",
       " display: none;\n",
       "}\n",
       "#menubar,\n",
       "div#menubar {\n",
       " background-color: #ffffff;\n",
       " padding-top: 0px !important;\n",
       "}\n",
       "#menubar .navbar,\n",
       ".navbar-default {\n",
       " background-color: #ffffff;\n",
       " margin-bottom: 0px;\n",
       " margin-top: 0px;\n",
       "}\n",
       ".navbar {\n",
       " border: none;\n",
       "}\n",
       "div.navbar-text,\n",
       ".navbar-text,\n",
       ".navbar-text.indicator_area,\n",
       "p.navbar-text.indicator_area {\n",
       " margin-top: 8px !important;\n",
       " margin-bottom: 0px;\n",
       " color: #ff7823;\n",
       "}\n",
       ".navbar-default {\n",
       " font-family: \"Meslo\", monospace;\n",
       " font-size: 12pt;\n",
       " background-color: #ffffff;\n",
       " border-color: #d4d4d4;\n",
       " line-height: 1.5em;\n",
       " padding-bottom: 0px;\n",
       "}\n",
       ".navbar-default .navbar-nav > li > a {\n",
       " font-family: \"Meslo\", monospace;\n",
       " font-size: 12pt;\n",
       " color: #303030;\n",
       " display: block;\n",
       " line-height: 1.5em;\n",
       " padding-top: 14px;\n",
       " padding-bottom: 11px;\n",
       "}\n",
       ".navbar-default .navbar-nav > li > a:hover,\n",
       ".navbar-default .navbar-nav > li > a:focus {\n",
       " color: #2f2f2f;\n",
       " background-color: rgba(180,180,180,.14);\n",
       " border-color: #d4d4d4;\n",
       " line-height: 1.5em;\n",
       " transition: 80ms ease;\n",
       "}\n",
       ".navbar-default .navbar-nav > .open > a,\n",
       ".navbar-default .navbar-nav > .open > a:hover,\n",
       ".navbar-default .navbar-nav > .open > a:focus {\n",
       " color: #1c1c1c;\n",
       " background-color: #dedede;\n",
       " border-color: #dedede;\n",
       " line-height: 1.5em;\n",
       "}\n",
       ".navbar-nav > li > .dropdown-menu {\n",
       " margin-top: 0px;\n",
       "}\n",
       ".navbar-nav {\n",
       " margin: 0;\n",
       "}\n",
       "div.notification_widget.info,\n",
       ".notification_widget.info,\n",
       ".notification_widget:active:hover,\n",
       ".notification_widget.active:hover,\n",
       ".open > .dropdown-toggle.notification_widget:hover,\n",
       ".notification_widget:active:focus,\n",
       ".notification_widget.active:focus,\n",
       ".open > .dropdown-toggle.notification_widget:focus,\n",
       ".notification_widget:active.focus,\n",
       ".notification_widget.active.focus,\n",
       ".open > .dropdown-toggle.notification_widget.focus,\n",
       "div#notification_notebook.notification_widget.btn.btn-xs.navbar-btn,\n",
       "div#notification_notebook.notification_widget.btn.btn-xs.navbar-btn:hover,\n",
       "div#notification_notebook.notification_widget.btn.btn-xs.navbar-btn:focus {\n",
       " color: #303030 !important;\n",
       " background-color: transparent !important;\n",
       " border-color: transparent !important;\n",
       " padding-bottom: 0px !important;\n",
       " margin-bottom: 0px !important;\n",
       " font-size: 9pt !important;\n",
       " z-index: 0;\n",
       "}\n",
       "div#notification_notebook.notification_widget.btn.btn-xs.navbar-btn {\n",
       " font-size: 9pt !important;\n",
       " z-index: 0;\n",
       "}\n",
       ".notification_widget {\n",
       " color: #126dce;\n",
       " z-index: -500;\n",
       " font-size: 9pt;\n",
       " background: transparent;\n",
       " background-color: transparent;\n",
       " margin-right: 3px;\n",
       " border: none;\n",
       "}\n",
       ".notification_widget,\n",
       "div.notification_widget {\n",
       " margin-right: 0px;\n",
       " margin-left: 0px;\n",
       " padding-right: 0px;\n",
       " vertical-align: text-top !important;\n",
       " margin-top: 6px !important;\n",
       " background: transparent !important;\n",
       " background-color: transparent !important;\n",
       " font-size: 9pt !important;\n",
       " border: none;\n",
       "}\n",
       ".navbar-btn.btn-xs:hover {\n",
       " border: none !important;\n",
       " background: transparent !important;\n",
       " background-color: transparent !important;\n",
       " color: #303030 !important;\n",
       "}\n",
       "div.notification_widget.info,\n",
       ".notification_widget.info {\n",
       " display: none !important;\n",
       "}\n",
       ".edit_mode .modal_indicator:before {\n",
       " font-size: 18px;\n",
       " color: #ff7823;\n",
       " opacity: 1.0;\n",
       " padding-bottom: 0px;\n",
       " vertical-align: -webkit-baseline-middle;\n",
       " margin-left: 1px;\n",
       " margin-bottom: 0px;\n",
       "}\n",
       ".command_mode .modal_indicator:before {\n",
       " font-family: \"Meslo\", monospace;\n",
       " font-size: 18px;\n",
       " color: #ff7823;\n",
       " padding-bottom: 0px;\n",
       " vertical-align: -webkit-baseline-middle;\n",
       " margin-left: 1px;\n",
       " margin-bottom: 0px;\n",
       "}\n",
       ".item_icon {\n",
       " color: #126dce;\n",
       "}\n",
       ".item_buttons .kernel-name {\n",
       " font-size: 12pt;\n",
       " color: #126dce;\n",
       "}\n",
       ".running_notebook_icon:before {\n",
       " color: #009e07 !important;\n",
       " font: normal normal normal 15px/1 FontAwesome;\n",
       " font-size: 15px;\n",
       " text-rendering: auto;\n",
       " -webkit-font-smoothing: antialiased;\n",
       " -moz-osx-font-smoothing: grayscale;\n",
       " content: \"\\f10c\";\n",
       " vertical-align: middle;\n",
       " position: static;\n",
       " display: inherit;\n",
       "}\n",
       ".item_buttons .running-indicator {\n",
       " padding-top: 4px;\n",
       " color: #009e07;\n",
       " font-family: \"Meslo\", monospace;\n",
       " text-rendering: auto;\n",
       " -webkit-font-smoothing: antialiased;\n",
       "}\n",
       "#notification_trusted {\n",
       " font-family: \"Meslo\", monospace;\n",
       " font-size: 17px !important;\n",
       " color: #126dce;\n",
       " border: none;\n",
       " background: transparent;\n",
       " background-color: transparent;\n",
       " margin-bottom: 0px !important;\n",
       " margin-top: 11px !important;\n",
       " vertical-align: middle !important;\n",
       "}\n",
       "#modal_indicator {\n",
       " float: right !important;\n",
       " color: #4c8be2;\n",
       " background: #ffffff;\n",
       " background-color: #ffffff;\n",
       " margin-top: 8px !important;\n",
       " margin-left: 0px;\n",
       "}\n",
       "#kernel_indicator {\n",
       " float: right !important;\n",
       " color: #ff7823;\n",
       " background: #ffffff;\n",
       " background-color: #ffffff;\n",
       " border-left: 2px solid #ff7823;\n",
       " padding-top: 0px;\n",
       " padding-bottom: 4px;\n",
       " margin-top: 8px !important;\n",
       " margin-left: -2px;\n",
       "}\n",
       "#kernel_indicator .kernel_indicator_name {\n",
       " font-size: 17px;\n",
       " color: #ff7823;\n",
       " background: #ffffff;\n",
       " background-color: #ffffff;\n",
       " padding-left: 5px;\n",
       " padding-right: 5px;\n",
       " margin-top: 4px;\n",
       " vertical-align: -webkit-baseline-middle;\n",
       " padding-bottom: 0px;\n",
       "}\n",
       ".kernel_idle_icon:before {\n",
       " display: inline-block;\n",
       " font: normal normal normal 22px/1 FontAwesome;\n",
       " font-size: 22px;\n",
       " text-rendering: auto;\n",
       " -webkit-font-smoothing: antialiased;\n",
       " cursor: pointer;\n",
       " margin-left: 0px !important;\n",
       " opacity: 0.7;\n",
       " vertical-align: middle;\n",
       " margin-top: 1px;\n",
       " content: \"\\f1db\";\n",
       "}\n",
       ".kernel_busy_icon:before {\n",
       " display: inline-block;\n",
       " font: normal normal normal 22px/1 FontAwesome;\n",
       " font-size: 22px;\n",
       " -webkit-animation: pulsate 2s infinite ease-out;\n",
       " animation: pulsate 2s infinite ease-out;\n",
       " text-rendering: auto;\n",
       " -webkit-font-smoothing: antialiased;\n",
       " cursor: pointer;\n",
       " margin-left: 0px !important;\n",
       " vertical-align: middle;\n",
       " margin-top: 1px;\n",
       " content: \"\\f111\";\n",
       "}\n",
       "@-webkit-keyframes pulsate {\n",
       " 0% {\n",
       "  -webkit-transform: scale(1.0,1.0);\n",
       "  opacity: 0.8;\n",
       " }\n",
       " 8% {\n",
       "  -webkit-transform: scale(1.0,1.0);\n",
       "  opacity: 0.8;\n",
       " }\n",
       " 50% {\n",
       "  -webkit-transform: scale(0.75,0.75);\n",
       "  opacity: 0.3;\n",
       " }\n",
       " 92% {\n",
       "  -webkit-transform: scale(1.0,1.0);\n",
       "  opacity: 0.8;\n",
       " }\n",
       " 100% {\n",
       "  -webkit-transform: scale(1.0,1.0);\n",
       "  opacity: 0.8;\n",
       " }\n",
       "}\n",
       "i#kernel_indicator_icon {\n",
       " vertical-align: sub;\n",
       "}\n",
       "div.notification_widget.info,\n",
       ".notification_widget.info,\n",
       ".notification_widget:active:hover,\n",
       ".notification_widget.active:hover,\n",
       ".open > .dropdown-toggle.notification_widget:hover,\n",
       ".notification_widget:active:focus,\n",
       ".notification_widget.active:focus,\n",
       ".open > .dropdown-toggle.notification_widget:focus,\n",
       ".notification_widget:active.focus,\n",
       ".notification_widget.active.focus,\n",
       ".open > .dropdown-toggle.notification_widget.focus,\n",
       "div#notification_notebook.notification_widget.btn.btn-xs.navbar-btn,\n",
       "div#notification_notebook.notification_widget.btn.btn-xs.navbar-btn:hover,\n",
       "div#notification_notebook.notification_widget.btn.btn-xs.navbar-btn:focus {\n",
       " color: #303030;\n",
       " background-color: #ffffff;\n",
       " border-color: #ffffff;\n",
       "}\n",
       "#notification_area,\n",
       "div.notification_area {\n",
       " float: right !important;\n",
       " position: static;\n",
       "}\n",
       ".notification_widget,\n",
       "div.notification_widget {\n",
       " margin-right: 0px;\n",
       " margin-left: 0px;\n",
       " padding-right: 0px;\n",
       " vertical-align: text-top !important;\n",
       " margin-top: 6px !important;\n",
       " z-index: 1000;\n",
       "}\n",
       "#kernel_logo_widget,\n",
       "#kernel_logo_widget .current_kernel_logo {\n",
       " display: none;\n",
       "}\n",
       "div#ipython_notebook {\n",
       " display: none;\n",
       "}\n",
       "i.fa.fa-icon {\n",
       " -webkit-font-smoothing: antialiased;\n",
       " -moz-osx-font-smoothing: grayscale;\n",
       " text-rendering: auto;\n",
       "}\n",
       ".fa {\n",
       " display: inline-block;\n",
       " font: normal normal normal 10pt/1 \"FontAwesome\", \"Meslo\", monospace;\n",
       " text-rendering: auto;\n",
       " -webkit-font-smoothing: antialiased;\n",
       " -moz-osx-font-smoothing: grayscale;\n",
       "}\n",
       ".dropdown-menu {\n",
       " font-family: \"Meslo\", monospace;\n",
       " font-size: 12pt;\n",
       " box-shadow: none;\n",
       " padding: 0px;\n",
       " text-align: left;\n",
       " border: none;\n",
       " background-color: #dedede;\n",
       " background: #dedede;\n",
       " line-height: 1;\n",
       "}\n",
       ".dropdown-menu:hover {\n",
       " font-family: \"Meslo\", monospace;\n",
       " font-size: 12pt;\n",
       " box-shadow: none;\n",
       " padding: 0px;\n",
       " text-align: left;\n",
       " border: none;\n",
       " background-color: #dedede;\n",
       " box-shadow: none;\n",
       " line-height: 1;\n",
       "}\n",
       ".dropdown-menu > li > a {\n",
       " font-family: \"Meslo\", monospace;\n",
       " font-size: 11.0pt;\n",
       " display: block;\n",
       " padding: 10px 20px 9px 10px;\n",
       " color: #303030;\n",
       " background-color: #dedede;\n",
       " background: #dedede;\n",
       "}\n",
       ".dropdown-menu > li > a:hover,\n",
       ".dropdown-menu > li > a:focus {\n",
       " color: #2f2f2f;\n",
       " background-color: #d4d4d4;\n",
       " background: #d4d4d4;\n",
       " border-color: #d4d4d4;\n",
       " transition: 200ms ease;\n",
       "}\n",
       ".dropdown-menu .divider {\n",
       " height: 1px;\n",
       " margin: 0px 0px;\n",
       " overflow: hidden;\n",
       " background-color: rgba(180,180,180,.30);\n",
       "}\n",
       ".dropdown-submenu > .dropdown-menu {\n",
       " display: none;\n",
       " top: 2px !important;\n",
       " left: 100%;\n",
       " margin-top: -2px;\n",
       " margin-left: 0px;\n",
       " padding-top: 0px;\n",
       " transition: 200ms ease;\n",
       "}\n",
       ".dropdown-menu > .disabled > a,\n",
       ".dropdown-menu > .disabled > a:hover,\n",
       ".dropdown-menu > .disabled > a:focus {\n",
       " font-family: \"Meslo\", monospace;\n",
       " font-size: 11.0pt;\n",
       " font-weight: normal;\n",
       " color: #828892;\n",
       " padding: none;\n",
       " display: block;\n",
       " clear: both;\n",
       " white-space: nowrap;\n",
       "}\n",
       ".dropdown-submenu > a:after {\n",
       " color: #303030;\n",
       " margin-right: -16px;\n",
       " margin-top: 0px;\n",
       " display: inline-block;\n",
       "}\n",
       ".dropdown-submenu:hover > a:after,\n",
       ".dropdown-submenu:active > a:after,\n",
       ".dropdown-submenu:focus > a:after,\n",
       ".dropdown-submenu:visited > a:after {\n",
       " color: #ff7823;\n",
       " margin-right: -16px;\n",
       " display: inline-block !important;\n",
       "}\n",
       "div.kse-dropdown > .dropdown-menu,\n",
       ".kse-dropdown > .dropdown-menu {\n",
       " min-width: 0;\n",
       " top: 94%;\n",
       "}\n",
       ".btn,\n",
       ".btn-default {\n",
       " font-family: \"Meslo\", monospace;\n",
       " color: #303030;\n",
       " background: #e5e5e5;\n",
       " background-color: #e5e5e5;\n",
       " border: 2px solid #e5e5e5;\n",
       " font-weight: normal;\n",
       " box-shadow: none;\n",
       " text-shadow: none;\n",
       " border-radius: 3px;\n",
       " font-size: initial;\n",
       "}\n",
       ".btn:hover,\n",
       ".btn:active:hover,\n",
       ".btn.active:hover,\n",
       ".btn-default:hover,\n",
       ".open > .dropdown-toggle.btn-default:hover,\n",
       ".open > .dropdown-toggle.btn:hover {\n",
       " color: #ef5c00;\n",
       " border: 2px solid #e0e0e0;\n",
       " background-color: #e0e0e0;\n",
       " background: #e0e0e0;\n",
       " background-image: none;\n",
       " box-shadow: none !important;\n",
       " border-radius: 3px;\n",
       "}\n",
       ".btn:active,\n",
       ".btn.active,\n",
       ".btn:active:focus,\n",
       ".btn.active:focus,\n",
       ".btn:active.focus,\n",
       ".btn.active.focus,\n",
       ".btn-default:focus,\n",
       ".btn-default.focus,\n",
       ".btn-default:active,\n",
       ".btn-default.active,\n",
       ".btn-default:active:hover,\n",
       ".btn-default.active:hover,\n",
       ".btn-default:active:focus,\n",
       ".btn-default.active:focus,\n",
       ".btn-default:active.focus,\n",
       ".btn-default.active.focus,\n",
       ".open > .dropdown-toggle.btn:focus,\n",
       ".open > .dropdown-toggle.btn.focus,\n",
       ".open > .dropdown-toggle.btn-default:hover,\n",
       ".open > .dropdown-toggle.btn-default:focus,\n",
       ".open > .dropdown-toggle.btn-default.hover,\n",
       ".open > .dropdown-toggle.btn-default.focus {\n",
       " color: #ef5c00;\n",
       " border: 2px solid #e0e0e0;\n",
       " background-color: #e0e0e0 !important;\n",
       " background: #e0e0e0 !important;\n",
       " background-image: none;\n",
       " box-shadow: none !important;\n",
       " border-radius: 3px;\n",
       "}\n",
       ".btn-default:active:hover,\n",
       ".btn-default.active:hover,\n",
       ".btn-default:active:focus,\n",
       ".btn-default.active:focus,\n",
       ".btn-default:active.focus,\n",
       ".btn-default.active.focus {\n",
       " color: #ef5c00 !important;\n",
       " background-color: #e5e5e5;\n",
       " border-color: #ffccac !important;\n",
       " transition: 2000ms ease;\n",
       "}\n",
       ".btn:focus,\n",
       ".btn.focus,\n",
       ".btn:active:focus,\n",
       ".btn.active:focus,\n",
       ".btn:active,\n",
       ".btn.active,\n",
       ".btn:active.focus,\n",
       ".btn.active.focus {\n",
       " color: #ef5c00 !important;\n",
       " outline: none !important;\n",
       " outline-width: 0px !important;\n",
       " background: #ffccac !important;\n",
       " background-color: #ffccac !important;\n",
       " border-color: #ffccac !important;\n",
       " transition: 200ms ease !important;\n",
       "}\n",
       ".item_buttons > .btn,\n",
       ".item_buttons > .btn-group,\n",
       ".item_buttons > .input-group {\n",
       " font-size: 12pt;\n",
       " background: transparent;\n",
       " background-color: transparent;\n",
       " border: 0px solid #e4e4e4;\n",
       " border-bottom: 2px solid transparent;\n",
       " margin-left: 5px;\n",
       " padding-top: 4px !important;\n",
       "}\n",
       ".item_buttons > .btn:hover,\n",
       ".item_buttons > .btn-group:hover,\n",
       ".item_buttons > .input-group:hover,\n",
       ".item_buttons > .btn.active,\n",
       ".item_buttons > .btn-group.active,\n",
       ".item_buttons > .input-group.active,\n",
       ".item_buttons > .btn.focus {\n",
       " margin-left: 5px;\n",
       " background: #dfdfdf;\n",
       " padding-top: 4px !important;\n",
       " background-color: transparent;\n",
       " border: 0px solid transparent;\n",
       " border-bottom: 2px solid #ff7823;\n",
       " border-radius: 0px;\n",
       " transition: none;\n",
       "}\n",
       ".item_buttons {\n",
       " line-height: 1.5em !important;\n",
       "}\n",
       ".item_buttons .btn {\n",
       " min-width: 11ex;\n",
       "}\n",
       ".btn-group > .btn:first-child {\n",
       " margin-left: 3px;\n",
       "}\n",
       ".btn-group > .btn-mini,\n",
       ".btn-sm,\n",
       ".btn-group-sm > .btn,\n",
       ".btn-xs,\n",
       ".btn-group-xs > .btn,\n",
       ".alternate_upload .btn-upload,\n",
       ".btn-group,\n",
       ".btn-group-vertical {\n",
       " font-size: inherit;\n",
       " font-weight: normal;\n",
       " height: inherit;\n",
       " line-height: inherit;\n",
       "}\n",
       ".btn-xs,\n",
       ".btn-group-xs > .btn {\n",
       " font-size: initial !important;\n",
       " background-image: none;\n",
       " font-weight: normal;\n",
       " text-shadow: none;\n",
       " display: inline-table;\n",
       " padding: 2px 5px;\n",
       " line-height: 1.45;\n",
       "}\n",
       ".btn-group > .btn:first-child {\n",
       " margin-left: 3px;\n",
       "}\n",
       "div#new-buttons > button,\n",
       "#new-buttons > button,\n",
       "div#refresh_notebook_list,\n",
       "#refresh_notebook_list {\n",
       " background: transparent;\n",
       " background-color: transparent;\n",
       " border: none;\n",
       "}\n",
       "div#new-buttons > button:hover,\n",
       "#new-buttons > button:hover,\n",
       "div#refresh_notebook_list,\n",
       "#refresh_notebook_list,\n",
       "div.alternate_upload .btn-upload,\n",
       ".alternate_upload .btn-upload,\n",
       "div.dynamic-buttons > button,\n",
       ".dynamic-buttons > button,\n",
       ".dynamic-buttons > button:focus,\n",
       ".dynamic-buttons > button:active:focus,\n",
       ".dynamic-buttons > button.active:focus,\n",
       ".dynamic-buttons > button.focus,\n",
       ".dynamic-buttons > button:active.focus,\n",
       ".dynamic-buttons > button.active.focus,\n",
       "#new-buttons > button:focus,\n",
       "#new-buttons > button:active:focus,\n",
       "#new-buttons > button.active:focus,\n",
       "#new-buttons > button.focus,\n",
       "#new-buttons > button:active.focus,\n",
       "#new-buttons > button.active.focus,\n",
       ".alternate_upload .btn-upload:focus,\n",
       ".alternate_upload .btn-upload:active:focus,\n",
       ".alternate_upload .btn-upload.active:focus,\n",
       ".alternate_upload .btn-upload.focus,\n",
       ".alternate_upload .btn-upload:active.focus,\n",
       ".alternate_upload .btn-upload.active.focus {\n",
       " background: transparent !important;\n",
       " background-color: transparent !important;\n",
       " border: none !important;\n",
       "}\n",
       ".alternate_upload input.fileinput {\n",
       " text-align: center;\n",
       " vertical-align: bottom;\n",
       " margin-left: -.5ex;\n",
       " display: inline-table;\n",
       " border: solid 0px #e5e5e5;\n",
       " margin-bottom: -1ex;\n",
       "}\n",
       ".alternate_upload .btn-upload {\n",
       " display: inline-table;\n",
       " background: transparent;\n",
       " border: none;\n",
       "}\n",
       ".btn-group .btn + .btn,\n",
       ".btn-group .btn + .btn-group,\n",
       ".btn-group .btn-group + .btn,\n",
       ".btn-group .btn-group + .btn-group {\n",
       " margin-left: -2px;\n",
       "}\n",
       ".btn-group > .btn:first-child:not(:last-child):not(.dropdown-toggle) {\n",
       " border-bottom-right-radius: 0;\n",
       " border-top-right-radius: 0;\n",
       " z-index: 2;\n",
       "}\n",
       ".dropdown-header {\n",
       " font-family: \"Meslo\", monospace !important;\n",
       " font-size: 12pt !important;\n",
       " color: #ff7823 !important;\n",
       " border-bottom: none !important;\n",
       " padding: 0px !important;\n",
       " margin: 6px 6px 0px !important;\n",
       "}\n",
       "span#last-modified.btn.btn-xs.btn-default.sort-action,\n",
       "span#sort-name.btn.btn-xs.btn-default.sort-action {\n",
       " font-family: \"Meslo\", monospace;\n",
       " font-size: 16px;\n",
       " background-color: transparent;\n",
       " background: transparent;\n",
       " border: none;\n",
       " color: #303030;\n",
       " padding-bottom: 0px;\n",
       " margin-bottom: 0px;\n",
       " vertical-align: sub;\n",
       "}\n",
       "span#last-modified.btn.btn-xs.btn-default.sort-action {\n",
       " margin-left: 19px;\n",
       "}\n",
       "button.close {\n",
       " border: 0px none;\n",
       " font-family: sans-serif;\n",
       " font-size: 20pt;\n",
       " font-weight: normal;\n",
       "}\n",
       ".dynamic-buttons {\n",
       " padding-top: 0px;\n",
       " display: inline-block;\n",
       "}\n",
       ".close {\n",
       " color: #de143d;\n",
       " opacity: .5;\n",
       " text-shadow: none;\n",
       " font-weight: normal;\n",
       "}\n",
       ".close:hover {\n",
       " color: #de143d;\n",
       " opacity: 1;\n",
       " font-weight: normal;\n",
       "}\n",
       "div.nbext-enable-btns .btn[disabled],\n",
       "div.nbext-enable-btns .btn[disabled]:hover,\n",
       ".btn-default.disabled,\n",
       ".btn-default[disabled],\n",
       ".btn-default.disabled:hover,\n",
       ".btn-default[disabled]:hover,\n",
       "fieldset[disabled] .btn-default:hover,\n",
       ".btn-default.disabled:focus,\n",
       ".btn-default[disabled]:focus,\n",
       "fieldset[disabled] .btn-default:focus,\n",
       ".btn-default.disabled.focus,\n",
       ".btn-default[disabled].focus,\n",
       "fieldset[disabled] .btn-default.focus {\n",
       " color: #4a4a4a;\n",
       " background: #e2e2e2;\n",
       " background-color: #e2e2e2;\n",
       " border-color: #e2e2e2;\n",
       " transition: 200ms ease;\n",
       "}\n",
       ".input-group-addon {\n",
       " padding: 2px 5px;\n",
       " font-size: 12pt;\n",
       " font-weight: normal;\n",
       " height: auto;\n",
       " color: #303030;\n",
       " text-align: center;\n",
       " background-color: transparent;\n",
       " border: 2px solid transparent !important;\n",
       " text-transform: capitalize;\n",
       "}\n",
       "a.btn.btn-default.input-group-addon:hover {\n",
       " background: transparent !important;\n",
       " background-color: transparent !important;\n",
       "}\n",
       ".btn-group > .btn + .dropdown-toggle {\n",
       " padding-left: 8px;\n",
       " padding-right: 8px;\n",
       " height: 100%;\n",
       "}\n",
       ".btn-group > .btn + .dropdown-toggle:hover {\n",
       " background: #e0e0e0 !important;\n",
       "}\n",
       ".input-group-btn {\n",
       " position: relative;\n",
       " font-size: inherit;\n",
       " white-space: nowrap;\n",
       " background: #e4e4e4;\n",
       " background-color: #e4e4e4;\n",
       " border: none;\n",
       "}\n",
       ".input-group-btn:hover {\n",
       " background: #dfdfdf;\n",
       " background-color: #dfdfdf;\n",
       " border: none;\n",
       "}\n",
       ".input-group-btn:first-child > .btn,\n",
       ".input-group-btn:first-child > .btn-group {\n",
       " background: #e4e4e4;\n",
       " background-color: #e4e4e4;\n",
       " border: none;\n",
       " margin-left: 2px;\n",
       " margin-right: -1px;\n",
       " font-size: inherit;\n",
       "}\n",
       ".input-group-btn:first-child > .btn:hover,\n",
       ".input-group-btn:first-child > .btn-group:hover {\n",
       " background: #e0e0e0;\n",
       " background-color: #e0e0e0;\n",
       " border: none;\n",
       " font-size: inherit;\n",
       " transition: 200ms ease;\n",
       "}\n",
       "div.modal .btn-group > .btn:first-child {\n",
       " background: #e4e4e4;\n",
       " background-color: #e4e4e4;\n",
       " border: 1px solid #e1e1e1;\n",
       " margin-top: 0px !important;\n",
       " margin-left: 0px;\n",
       " margin-bottom: 2px;\n",
       "}\n",
       "div.modal .btn-group > .btn:first-child:hover {\n",
       " background: #dfdfdf;\n",
       " background-color: #dfdfdf;\n",
       " border: 1px solid #dfdfdf;\n",
       " transition: 200ms ease;\n",
       "}\n",
       "div.modal > button,\n",
       "div.modal-footer > button {\n",
       " background: #e4e4e4;\n",
       " background-color: #e4e4e4;\n",
       " border-color: #e4e4e4;\n",
       "}\n",
       "div.modal > button:hover,\n",
       "div.modal-footer > button:hover {\n",
       " background: #dfdfdf;\n",
       " background-color: #dfdfdf;\n",
       " border-color: #dfdfdf;\n",
       " transition: 200ms ease;\n",
       "}\n",
       ".modal-content {\n",
       " font-family: \"Meslo\", monospace;\n",
       " font-size: 11.0pt;\n",
       " position: relative;\n",
       " background: #e4e4e4;\n",
       " background-color: #e4e4e4;\n",
       " border: none;\n",
       " border-radius: 1px;\n",
       " background-clip: padding-box;\n",
       " outline: none;\n",
       "}\n",
       ".modal-header {\n",
       " font-family: \"Meslo\", monospace;\n",
       " font-size: 12pt;\n",
       " color: #303030;\n",
       " background: #e4e4e4;\n",
       " background-color: #e4e4e4;\n",
       " border-color: #dedede;\n",
       " padding: 12px;\n",
       " min-height: 16.4286px;\n",
       "}\n",
       ".modal-content h4 {\n",
       " font-family: \"Meslo\", monospace;\n",
       " font-size: 16pt;\n",
       " color: #303030;\n",
       " padding: 5px;\n",
       "}\n",
       ".modal-body {\n",
       " background-color: #ffffff;\n",
       " position: relative;\n",
       " padding: 15px;\n",
       "}\n",
       ".modal-footer {\n",
       " padding: 8px;\n",
       " text-align: right;\n",
       " background-color: #ffffff;\n",
       " border-top: none;\n",
       "}\n",
       ".alert-info {\n",
       " background-color: #fdfdfd;\n",
       " border-color: #dedede;\n",
       " color: #303030;\n",
       "}\n",
       ".modal-header .close {\n",
       " margin-top: -5px;\n",
       " font-size: 25pt;\n",
       "}\n",
       ".modal-backdrop,\n",
       ".modal-backdrop.in {\n",
       " opacity: 0.85;\n",
       " background-color: notebook-bg;\n",
       "}\n",
       "div.panel,\n",
       "div.panel-default,\n",
       ".panel,\n",
       ".panel-default {\n",
       " font-family: \"Meslo\", monospace;\n",
       " font-size: 12pt;\n",
       " background-color: #f4f4f4;\n",
       " color: #303030;\n",
       " margin-bottom: 14px;\n",
       " border: 0;\n",
       " box-shadow: none;\n",
       "}\n",
       "div.panel > .panel-heading,\n",
       "div.panel-default > .panel-heading {\n",
       " font-size: 14pt;\n",
       " color: #303030;\n",
       " background: #e4e4e4;\n",
       " background-color: #e4e4e4;\n",
       " border: 0;\n",
       "}\n",
       ".modal .modal-dialog {\n",
       " min-width: 950px;\n",
       " margin: 50px auto;\n",
       "}\n",
       "div.container-fluid {\n",
       " margin-right: auto;\n",
       " margin-left: auto;\n",
       " padding-left: 0px;\n",
       " padding-right: 5px;\n",
       "}\n",
       "div.form-control,\n",
       ".form-control {\n",
       " font-family: \"Meslo\", monospace;\n",
       " font-size: initial;\n",
       " color: #303030;\n",
       " background-color: #ffffff;\n",
       " border: 1px solid #d0d0d0 !important;\n",
       " margin-left: 2px;\n",
       " box-shadow: none;\n",
       " transition: border-color 0.15s ease-in-out 0s, box-shadow 0.15s ease-in-out 0s;\n",
       "}\n",
       ".form-control-static {\n",
       " min-height: inherit;\n",
       " height: inherit;\n",
       "}\n",
       ".form-group.list-group-item {\n",
       " color: #303030;\n",
       " background-color: #f4f4f4;\n",
       " border-color: #dedede;\n",
       " margin-bottom: 0px;\n",
       "}\n",
       ".form-group .input-group {\n",
       " float: left;\n",
       "}\n",
       "input,\n",
       "button,\n",
       "select,\n",
       "textarea {\n",
       " background-color: #ffffff;\n",
       " font-weight: normal;\n",
       " border: 1px solid #dedede;\n",
       "}\n",
       "select.form-control.select-xs {\n",
       " height: 33px;\n",
       " font-size: 12pt;\n",
       "}\n",
       ".toolbar select,\n",
       ".toolbar label {\n",
       " width: auto;\n",
       " vertical-align: middle;\n",
       " margin-right: 0px;\n",
       " margin-bottom: 0px;\n",
       " display: inline;\n",
       " font-size: 92%;\n",
       " margin-left: 10px;\n",
       " padding: 0px;\n",
       " background: #e5e5e5 !important;\n",
       " background-color: #e5e5e5 !important;\n",
       " border: 2px solid #e5e5e5 !important;\n",
       "}\n",
       ".form-control:focus {\n",
       " border-color: #ff7823;\n",
       " outline: 2px solid rgba(240,147,43,.50);\n",
       " -webkit-box-shadow: none;\n",
       "}\n",
       "::-webkit-input-placeholder {\n",
       " color: #828892;\n",
       "}\n",
       "::-moz-placeholder {\n",
       " color: #828892;\n",
       "}\n",
       ":-ms-input-placeholder {\n",
       " color: #828892;\n",
       "}\n",
       ":-moz-placeholder {\n",
       " color: #828892;\n",
       "}\n",
       "[dir=\"ltr\"] #find-and-replace .input-group-btn + .form-control {\n",
       " border: 2px solid #dedede !important;\n",
       "}\n",
       "[dir=\"ltr\"] #find-and-replace .input-group-btn + .form-control:focus {\n",
       " border-color: #ff7823;\n",
       " outline: 2px solid rgba(240,147,43,.50);\n",
       " -webkit-box-shadow: none;\n",
       " box-shadow: none;\n",
       "}\n",
       "div.output.output_scroll {\n",
       " box-shadow: none;\n",
       "}\n",
       "::-webkit-scrollbar {\n",
       " width: 11px;\n",
       " max-height: 9px;\n",
       " background-color: #ebebeb;\n",
       " border-radius: 3px;\n",
       " border: none;\n",
       "}\n",
       "::-webkit-scrollbar-track {\n",
       " background: #ebebeb;\n",
       " border: none;\n",
       " width: 11px;\n",
       " max-height: 9px;\n",
       "}\n",
       "::-webkit-scrollbar-thumb {\n",
       " border-radius: 2px;\n",
       " border: none;\n",
       " background: #909090;\n",
       " background-clip: content-box;\n",
       " width: 11px;\n",
       "}\n",
       "HTML,\n",
       "body,\n",
       "div,\n",
       "dl,\n",
       "dt,\n",
       "dd,\n",
       "ul,\n",
       "ol,\n",
       "li,\n",
       "h1,\n",
       "h2,\n",
       "h3,\n",
       "h4,\n",
       "h5,\n",
       "h6,\n",
       "pre,\n",
       "code,\n",
       "form,\n",
       "fieldset,\n",
       "legend,\n",
       "input,\n",
       "button,\n",
       "textarea,\n",
       "p,\n",
       "blockquote,\n",
       "th,\n",
       "td,\n",
       "span,\n",
       "a {\n",
       " text-rendering: auto;\n",
       " -webkit-font-smoothing: antialiased;\n",
       "}\n",
       "div.input_area {\n",
       " background-color: #ededed;\n",
       " background: #ededed;\n",
       " padding-right: 1.2em;\n",
       " border: 0px;\n",
       " border-radius: 0px;\n",
       " border-top-right-radius: 3px;\n",
       " border-bottom-right-radius: 3px;\n",
       "}\n",
       "div.cell {\n",
       " padding: 0px;\n",
       " background: #ffffff;\n",
       " background-color: #ffffff;\n",
       " border: medium solid #ffffff;\n",
       " border-radius: 0px;\n",
       " top: 0;\n",
       "}\n",
       "div.cell.selected {\n",
       " background: #ffffff;\n",
       " background-color: #ffffff;\n",
       " border: medium solid #ffffff;\n",
       " padding: 0px;\n",
       " border-radius: 3px;\n",
       "}\n",
       ".edit_mode div.cell.selected {\n",
       " padding: 0px;\n",
       " background: #ffffff;\n",
       " background-color: #ffffff;\n",
       " border: medium solid #ffffff;\n",
       " border-radius: 3px;\n",
       "}\n",
       "div.cell.edit_mode {\n",
       " padding: 0px;\n",
       " background: #ffffff;\n",
       " background-color: #ffffff;\n",
       "}\n",
       "div.CodeMirror-sizer {\n",
       " margin-left: 0px;\n",
       " margin-bottom: -21px;\n",
       " border-right-width: 16px;\n",
       " min-height: 37px;\n",
       " padding-right: 0px;\n",
       " padding-bottom: 0px;\n",
       " margin-top: 0px;\n",
       "}\n",
       "div.cell.selected:before,\n",
       ".edit_mode div.cell.selected:before,\n",
       "div.cell.selected:before,\n",
       "div.cell.selected.jupyter-soft-selected:before {\n",
       " background: #ededed;\n",
       " border: none;\n",
       " border-radius: 3px;\n",
       " position: absolute;\n",
       " display: block;\n",
       " top: 0px;\n",
       " left: 0px;\n",
       " width: 0px;\n",
       " height: 100%;\n",
       "}\n",
       "div.cell.code_cell .input {\n",
       " border-left: 5px solid #ededed !important;\n",
       " border-radius: 3px;\n",
       " border-bottom-left-radius: 3px;\n",
       " border-top-left-radius: 3px;\n",
       "}\n",
       "div.cell.code_cell.selected .input {\n",
       " border-left: 5px solid #ff7823 !important;\n",
       " border-radius: 3px;\n",
       "}\n",
       ".edit_mode div.cell.code_cell.selected .input {\n",
       " border-left: 5px solid #ffd5bb !important;\n",
       " border-radius: 3px;\n",
       "}\n",
       ".edit_mode div.cell.selected:before {\n",
       " height: 100%;\n",
       " border-left: 5px solid #ffd5bb !important;\n",
       " border-radius: 3px;\n",
       "}\n",
       "div.cell.jupyter-soft-selected,\n",
       "div.cell.selected.jupyter-soft-selected {\n",
       " border-left-color: #ffd5bb !important;\n",
       " border-left-width: 0px !important;\n",
       " padding-left: 7px !important;\n",
       " border-right-color: #ffd5bb !important;\n",
       " border-right-width: 0px !important;\n",
       " background: #ffd5bb !important;\n",
       " border-radius: 6px !important;\n",
       "}\n",
       "div.cell.selected.jupyter-soft-selected .input {\n",
       " border-left: 5px solid #ededed !important;\n",
       "}\n",
       "div.cell.selected.jupyter-soft-selected {\n",
       " border-left-color: #ff7823;\n",
       " border-color: #ffffff;\n",
       " padding-left: 7px;\n",
       " border-radius: 6px;\n",
       "}\n",
       "div.cell.code_cell.selected .input {\n",
       " border-left: none;\n",
       " border-radius: 3px;\n",
       "}\n",
       "div.cell.selected.jupyter-soft-selected .prompt,\n",
       "div.cell.text_cell.selected.jupyter-soft-selected .prompt {\n",
       " top: 0;\n",
       " border-left: #ededed !important;\n",
       " border-radius: 2px;\n",
       "}\n",
       "div.cell.text_cell.selected.jupyter-soft-selected .input_prompt {\n",
       " border-left: none !important;\n",
       "}\n",
       "div.cell.text_cell.jupyter-soft-selected,\n",
       "div.cell.text_cell.selected.jupyter-soft-selected {\n",
       " border-left-color: #f2f2f2 !important;\n",
       " border-left-width: 0px !important;\n",
       " padding-left: 7px !important;\n",
       " border-right-color: #f2f2f2 !important;\n",
       " border-right-width: 0px !important;\n",
       " background: #f2f2f2 !important;\n",
       " border-radius: 6px !important;\n",
       "}\n",
       "div.prompt,\n",
       ".prompt {\n",
       " font-family: \"Oxygen Mono\", monospace, monospace;\n",
       " font-size: 9pt !important;\n",
       " font-weight: normal;\n",
       " color: #828892;\n",
       " line-height: 170%;\n",
       " padding: 0px;\n",
       " padding-top: 4px;\n",
       " padding-left: 0px;\n",
       " padding-right: 1px;\n",
       " text-align: right !important;\n",
       " min-width: 12.5ex !important;\n",
       " width: 12.5ex !important;\n",
       "}\n",
       "div.prompt.input_prompt {\n",
       " font-size: 9pt !important;\n",
       " background-color: #ededed;\n",
       " border-top: 0px;\n",
       " border-top-right-radius: 0px;\n",
       " border-bottom-left-radius: 0px;\n",
       " border-bottom-right-radius: 0px;\n",
       " padding-right: 3px;\n",
       " min-width: 12.5ex;\n",
       " width: 12.5ex !important;\n",
       "}\n",
       "div.cell.code_cell .input_prompt {\n",
       " border-right: 2px solid rgba(240,147,43,.50);\n",
       "}\n",
       "div.cell.selected .prompt {\n",
       " top: 0;\n",
       "}\n",
       ".edit_mode div.cell.selected .prompt {\n",
       " top: 0;\n",
       "}\n",
       ".edit_mode div.cell.selected .prompt {\n",
       " top: 0;\n",
       "}\n",
       "div.output_wrapper {\n",
       " background-color: #ffffff;\n",
       " border: 0px;\n",
       " left: 0px;\n",
       " margin-bottom: 0em;\n",
       " margin-top: 0em;\n",
       " border-top-right-radius: 0px;\n",
       " border-top-left-radius: 0px;\n",
       "}\n",
       "div.output_subarea.output_text.output_stream.output_stdout,\n",
       "div.output_subarea.output_text {\n",
       " font-family: \"Oxygen Mono\", monospace, monospace;\n",
       " font-size: 9pt !important;\n",
       " line-height: 150% !important;\n",
       " background-color: #ffffff;\n",
       " color: #303030;\n",
       " border-top-right-radius: 0px;\n",
       " border-top-left-radius: 0px;\n",
       "}\n",
       "div.output_area pre {\n",
       " font-family: \"Oxygen Mono\", monospace, monospace;\n",
       " font-size: 9pt !important;\n",
       " line-height: 151% !important;\n",
       " color: #303030;\n",
       " border-top-right-radius: 0px;\n",
       " border-top-left-radius: 0px;\n",
       "}\n",
       "div.output_area {\n",
       " display: -webkit-box;\n",
       "}\n",
       "div.output_html {\n",
       " font-family: \"Oxygen Mono\", monospace, monospace;\n",
       " font-size: 9pt;\n",
       " color: #353535;\n",
       " background-color: #ffffff;\n",
       " background: #ffffff;\n",
       "}\n",
       "div.output_subarea {\n",
       " overflow-x: auto;\n",
       " padding: 0.8em !important;\n",
       " -webkit-box-flex: 1;\n",
       " -moz-box-flex: 1;\n",
       " box-flex: 1;\n",
       " flex: 1;\n",
       "}\n",
       "div.btn.btn-default.output_collapsed {\n",
       " background: #d7d7d7;\n",
       " background-color: #d7d7d7;\n",
       " border-color: #d7d7d7;\n",
       "}\n",
       "div.btn.btn-default.output_collapsed:hover {\n",
       " background: #d2d2d2;\n",
       " background-color: #d2d2d2;\n",
       " border-color: #d2d2d2;\n",
       "}\n",
       "div.prompt.output_prompt {\n",
       " font-family: \"Oxygen Mono\", monospace, monospace;\n",
       " font-size: 9.5pt !important;\n",
       " font-weight: bold !important;\n",
       " background-color: #ffffff;\n",
       " color: transparent;\n",
       " border-bottom-left-radius: 4px;\n",
       " border-top-right-radius: 0px;\n",
       " border-top-left-radius: 0px;\n",
       " border-bottom-right-radius: 0px;\n",
       " min-width: 12.5ex !important;\n",
       " width: 12.5ex !important;\n",
       " border-right: 2px solid transparent;\n",
       "}\n",
       "div.out_prompt_overlay.prompt {\n",
       " font-family: \"Oxygen Mono\", monospace, monospace;\n",
       " font-size: 9.5pt !important;\n",
       " font-weight: bold !important;\n",
       " background-color: #ffffff;\n",
       " border-bottom-left-radius: 2px;\n",
       " border-top-right-radius: 0px;\n",
       " border-top-left-radius: 0px;\n",
       " border-bottom-right-radius: 0px;\n",
       " min-width: 12.5ex !important;\n",
       " width: 12.5ex !important;\n",
       " border-right: 2px solid transparent;\n",
       " color: transparent;\n",
       "}\n",
       "div.out_prompt_overlay.prompt:hover {\n",
       " background-color: #f7f7f7;\n",
       " box-shadow: none !important;\n",
       " border: none;\n",
       " border-bottom-left-radius: 2px;\n",
       " -webkit-border-: 2px;\n",
       " -moz-border-radius: 2px;\n",
       " border-top-right-radius: 0px;\n",
       " border-top-left-radius: 0px;\n",
       " min-width: 12.5ex !important;\n",
       " width: 12.5ex !important;\n",
       " border-right: 2px solid #f7f7f7 !important;\n",
       "}\n",
       "div.cell.code_cell .output_prompt {\n",
       " border-right: 2px solid transparent;\n",
       " color: transparent;\n",
       "}\n",
       "div.cell.selected .output_prompt,\n",
       "div.cell.selected .out_prompt_overlay.prompt {\n",
       " border-left: 5px solid #f2f2f2;\n",
       " border-right: 2px solid #ffffff;\n",
       " border-radius: 0px !important;\n",
       "}\n",
       ".edit_mode div.cell.selected .output_prompt,\n",
       ".edit_mode div.cell.selected .out_prompt_overlay.prompt {\n",
       " border-left: 5px solid #f2f2f2;\n",
       " border-right: 2px solid #ffffff;\n",
       " border-radius: 0px !important;\n",
       "}\n",
       "div.text_cell,\n",
       "div.text_cell_render pre,\n",
       "div.text_cell_render {\n",
       " font-family: \"Meslo\", monospace;\n",
       " font-size: 11pt;\n",
       " line-height: 130% !important;\n",
       " color: #353535;\n",
       " background: #ffffff;\n",
       " background-color: #ffffff;\n",
       " border-radius: 0px;\n",
       "}\n",
       "div .text_cell_render {\n",
       " padding: 0.4em 0.4em 0.4em 0.4em;\n",
       "}\n",
       "div.cell.text_cell .CodeMirror-lines {\n",
       " padding-top: .7em !important;\n",
       " padding-bottom: .4em !important;\n",
       " padding-left: .5em !important;\n",
       " padding-right: .5em !important;\n",
       " margin-top: .4em;\n",
       " margin-bottom: .3em;\n",
       "}\n",
       "div.cell.text_cell.unrendered div.input_area,\n",
       "div.cell.text_cell.rendered div.input_area {\n",
       " background-color: #ffffff;\n",
       " background: #ffffff;\n",
       " border: 0px;\n",
       " border-radius: 2px;\n",
       "}\n",
       "div.cell.text_cell .CodeMirror,\n",
       "div.cell.text_cell .CodeMirror pre {\n",
       " line-height: 170% !important;\n",
       "}\n",
       "div.cell.text_cell.rendered.selected {\n",
       " font-family: \"Meslo\", monospace;\n",
       " line-height: 170% !important;\n",
       " background: #ffffff;\n",
       " background-color: #ffffff;\n",
       " border-radius: 0px;\n",
       "}\n",
       "div.cell.text_cell.unrendered.selected {\n",
       " font-family: \"Meslo\", monospace;\n",
       " line-height: 170% !important;\n",
       " background: #ffffff;\n",
       " background-color: #ffffff;\n",
       " border-radius: 0px;\n",
       "}\n",
       "div.cell.text_cell.selected {\n",
       " font-family: \"Meslo\", monospace;\n",
       " line-height: 170% !important;\n",
       " background: #ffffff;\n",
       " background-color: #ffffff;\n",
       " border-radius: 0px;\n",
       "}\n",
       ".edit_mode div.cell.text_cell.selected {\n",
       " font-family: \"Meslo\", monospace;\n",
       " line-height: 170% !important;\n",
       " background: #ffffff;\n",
       " background-color: #ffffff;\n",
       " border-radius: 0px;\n",
       "}\n",
       "div.text_cell.unrendered,\n",
       "div.text_cell.unrendered.selected,\n",
       "div.edit_mode div.text_cell.unrendered {\n",
       " font-family: \"Meslo\", monospace;\n",
       " line-height: 170% !important;\n",
       " background: #ffffff;\n",
       " background-color: #ffffff;\n",
       " border-radius: 0px;\n",
       "}\n",
       "div.cell.text_cell .prompt {\n",
       " border-right: 0;\n",
       "}\n",
       "div.cell.text_cell.rendered .prompt {\n",
       " font-family: \"Oxygen Mono\", monospace, monospace;\n",
       " font-size: 9.5pt;\n",
       " font-weight: normal;\n",
       " color: #828892 !important;\n",
       " text-align: right !important;\n",
       " min-width: 12.5ex !important;\n",
       " width: 12.5ex !important;\n",
       " background-color: #ffffff;\n",
       " border-right: 2px solid transparent;\n",
       " border-left: 5px solid #ffffff;\n",
       "}\n",
       "div.cell.text_cell.unrendered .prompt {\n",
       " font-family: \"Oxygen Mono\", monospace, monospace;\n",
       " font-size: 9.5pt;\n",
       " font-weight: normal;\n",
       " color: #828892 !important;\n",
       " text-align: right !important;\n",
       " min-width: 12.5ex !important;\n",
       " width: 12.5ex !important;\n",
       " border-right: 2px solid transparent;\n",
       " border-left: 5px solid #ffffff;\n",
       "}\n",
       "div.cell.text_cell.rendered .prompt {\n",
       " border-right: 2px solid transparent;\n",
       "}\n",
       "div.cell.text_cell.rendered.selected .prompt {\n",
       " top: 0;\n",
       " border-left: 5px solid #f2f2f2;\n",
       " border-right: 2px solid transparent;\n",
       "}\n",
       "div.text_cell.unrendered.selected .prompt {\n",
       " top: 0;\n",
       " background: #ffffff;\n",
       " border-left: 5px solid #f2f2f2;\n",
       " border-right: 2px solid transparent;\n",
       "}\n",
       "div.rendered_html code {\n",
       " font-family: \"Oxygen Mono\", monospace, monospace;\n",
       " font-size: 10pt;\n",
       " padding-top: 3px;\n",
       " padding-left: 2px;\n",
       " color: #303030;\n",
       " background: #efefef;\n",
       " background-color: #efefef;\n",
       "}\n",
       "pre,\n",
       "code,\n",
       "kbd,\n",
       "samp {\n",
       " white-space: pre-wrap;\n",
       "}\n",
       ".well code,\n",
       "code {\n",
       " font-family: \"Oxygen Mono\", monospace, monospace;\n",
       " font-size: 10pt !important;\n",
       " line-height: 170% !important;\n",
       " color: #353535;\n",
       " background: #efefef;\n",
       " background-color: #efefef;\n",
       " border-color: #efefef;\n",
       "}\n",
       "kbd {\n",
       " padding: 1px;\n",
       " font-size: 10pt;\n",
       " font-weight: 800;\n",
       " color: #303030;\n",
       " background-color: transparent !important;\n",
       " border: 0;\n",
       " box-shadow: none;\n",
       "}\n",
       "pre {\n",
       " display: block;\n",
       " padding: 8.5px;\n",
       " margin: 0 0 9px;\n",
       " font-size: 11.0pt;\n",
       " line-height: 1.42857143;\n",
       " color: #303030;\n",
       " background-color: #efefef;\n",
       " border: 1px solid #e7e7e7;\n",
       " border-radius: 2px;\n",
       "}\n",
       "div.rendered_html {\n",
       " color: #353535;\n",
       "}\n",
       ".rendered_html * + ul {\n",
       " margin-top: .4em;\n",
       " margin-bottom: .3em;\n",
       "}\n",
       ".rendered_html * + p {\n",
       " margin-top: .5em;\n",
       " margin-bottom: .5em;\n",
       "}\n",
       "div.rendered_html pre {\n",
       " font-family: \"Oxygen Mono\", monospace, monospace;\n",
       " font-size: 10pt !important;\n",
       " line-height: 170% !important;\n",
       " color: #353535;\n",
       " background: #efefef;\n",
       " background-color: #efefef;\n",
       " max-width: 80%;\n",
       " border-radius: 0px;\n",
       " border-left: 3px solid #efefef;\n",
       " max-width: 80%;\n",
       " border-radius: 0px;\n",
       " padding-left: 5px;\n",
       " margin-left: 6px;\n",
       "}\n",
       "div.text_cell_render pre,\n",
       "div.text_cell_render code {\n",
       " font-family: \"Oxygen Mono\", monospace, monospace;\n",
       " font-size: 10pt !important;\n",
       " line-height: 170% !important;\n",
       " color: #353535;\n",
       " background: #ffffff;\n",
       " background-color: #ffffff;\n",
       " max-width: 80%;\n",
       " border-radius: 0px;\n",
       " border-left: none;\n",
       "}\n",
       "div.text_cell_render pre {\n",
       " border-left: 3px solid rgba(240,147,43,.50) !important;\n",
       " max-width: 80%;\n",
       " border-radius: 0px;\n",
       " padding-left: 5px;\n",
       " margin-left: 6px;\n",
       "}\n",
       "div.text_cell_render h1,\n",
       "div.rendered_html h1,\n",
       "div.text_cell_render h2,\n",
       "div.rendered_html h2,\n",
       "div.text_cell_render h3,\n",
       "div.rendered_html h3,\n",
       "div.text_cell_render h4,\n",
       "div.rendered_html h4,\n",
       "div.text_cell_render h5,\n",
       "div.rendered_html h5 {\n",
       " font-family: \"Meslo\", monospace;\n",
       " margin: 0.4em .2em .3em .2em !important;\n",
       "}\n",
       ".rendered_html h1:first-child,\n",
       ".rendered_html h2:first-child,\n",
       ".rendered_html h3:first-child,\n",
       ".rendered_html h4:first-child,\n",
       ".rendered_html h5:first-child,\n",
       ".rendered_html h6:first-child {\n",
       " margin-top: 0.2em !important;\n",
       " margin-bottom: 0.2em !important;\n",
       "}\n",
       ".rendered_html h1,\n",
       ".text_cell_render h1 {\n",
       " color: #126dce;\n",
       " font-size: 200%;\n",
       " text-align: center;\n",
       " font-style: normal;\n",
       " font-weight: normal;\n",
       "}\n",
       ".rendered_html h2,\n",
       ".text_cell_render h2 {\n",
       " text-align: left;\n",
       " font-size: 170%;\n",
       " color: #3f3d46;\n",
       " font-style: normal;\n",
       " font-weight: normal;\n",
       "}\n",
       ".rendered_html h3,\n",
       ".text_cell_render h3 {\n",
       " font-size: 140%;\n",
       " color: #3f3d46;\n",
       " font-style: normal;\n",
       " font-weight: normal;\n",
       "}\n",
       ".rendered_html h4,\n",
       ".text_cell_render h4 {\n",
       " font-size: 110%;\n",
       " color: #3f3d46;\n",
       " font-style: normal;\n",
       " font-weight: normal;\n",
       "}\n",
       ".rendered_html h5,\n",
       ".text_cell_render h5 {\n",
       " font-size: 100%;\n",
       " color: #2f2f2f;\n",
       " font-style: normal;\n",
       " font-weight: normal;\n",
       "}\n",
       "hr {\n",
       " margin-top: 8px;\n",
       " margin-bottom: 10px;\n",
       " border: 0;\n",
       " border-top: 1px solid #126dce;\n",
       "}\n",
       ".rendered_html hr {\n",
       " color: #126dce;\n",
       " background-color: #126dce;\n",
       " margin-right: 2em;\n",
       "}\n",
       "#complete > select > option:hover {\n",
       " background: #d4d4d4;\n",
       " background-color: #d4d4d4;\n",
       "}\n",
       "div#_vivaldi-spatnav-focus-indicator._vivaldi-spatnav-focus-indicator {\n",
       " position: absolute;\n",
       " z-index: 9999999999;\n",
       " top: 0px;\n",
       " left: 0px;\n",
       " box-shadow: none;\n",
       " pointer-events: none;\n",
       " border-radius: 2px;\n",
       "}\n",
       ".rendered_html tr,\n",
       ".rendered_html th,\n",
       ".rendered_html td {\n",
       " text-align: left;\n",
       " vertical-align: middle;\n",
       " padding: 0.42em 0.47em;\n",
       " line-height: normal;\n",
       " white-space: normal;\n",
       " max-width: none;\n",
       " border: none;\n",
       "}\n",
       ".rendered_html td {\n",
       " font-family: \"Meslo\", monospace !important;\n",
       " font-size: 8pt;\n",
       "}\n",
       ".rendered_html table {\n",
       " font-family: \"Meslo\", monospace !important;\n",
       " margin-left: 8px;\n",
       " margin-right: auto;\n",
       " border: none;\n",
       " border-collapse: collapse;\n",
       " border-spacing: 0;\n",
       " color: #353535;\n",
       " table-layout: fixed;\n",
       "}\n",
       ".rendered_html thead {\n",
       " font-family: \"Meslo\", monospace !important;\n",
       " font-size: 9.0pt !important;\n",
       " background: #ebebeb;\n",
       " color: #353535;\n",
       " border-bottom: 1px solid #ebebeb;\n",
       " vertical-align: bottom;\n",
       "}\n",
       ".rendered_html tbody tr:nth-child(odd) {\n",
       " background: #fafafa;\n",
       "}\n",
       ".rendered_html tbody tr {\n",
       " background: #f2f2f2;\n",
       "}\n",
       ".rendered_html tbody tr:hover:nth-child(odd) {\n",
       " background: #f7f7f7;\n",
       "}\n",
       ".rendered_html tbody tr:hover {\n",
       " background: #f0f0f0;\n",
       "}\n",
       ".rendered_html * + table {\n",
       " margin-top: .05em;\n",
       "}\n",
       "div.widget-area {\n",
       " background-color: #ffffff;\n",
       " background: #ffffff;\n",
       " color: #303030;\n",
       "}\n",
       "div.widget-area a {\n",
       " font-family: \"Meslo\", monospace;\n",
       " font-size: 11.0pt;\n",
       " font-weight: normal;\n",
       " font-style: normal;\n",
       " color: #303030;\n",
       " text-shadow: none !important;\n",
       "}\n",
       "div.widget-area a:hover,\n",
       "div.widget-area a:focus {\n",
       " font-family: \"Meslo\", monospace;\n",
       " font-size: 11.0pt;\n",
       " font-weight: normal;\n",
       " font-style: normal;\n",
       " color: #2f2f2f;\n",
       " background: rgba(180,180,180,.14);\n",
       " background-color: rgba(180,180,180,.14);\n",
       " border-color: transparent;\n",
       " background-image: none;\n",
       " text-shadow: none !important;\n",
       "}\n",
       "div.widget_item.btn-group > button.btn.btn-default.widget-combo-btn,\n",
       "div.widget_item.btn-group > button.btn.btn-default.widget-combo-btn:hover {\n",
       " background: #e1e1e1;\n",
       " background-color: #e1e1e1;\n",
       " border: 2px solid #e1e1e1 !important;\n",
       " font-size: inherit;\n",
       " z-index: 0;\n",
       "}\n",
       "div.jupyter-widgets.widget-hprogress.widget-hbox {\n",
       " display: inline-table !important;\n",
       " width: 38% !important;\n",
       " margin-left: 10px;\n",
       "}\n",
       "div.jupyter-widgets.widget-hprogress.widget-hbox .widget-label,\n",
       "div.widget-hbox .widget-label,\n",
       ".widget-hbox .widget-label,\n",
       ".widget-inline-hbox .widget-label,\n",
       "div.widget-label {\n",
       " text-align: -webkit-auto !important;\n",
       " margin-left: 15px !important;\n",
       " max-width: 240px !important;\n",
       " min-width: 100px !important;\n",
       " vertical-align: text-top !important;\n",
       " color: #303030 !important;\n",
       " font-size: 14px !important;\n",
       "}\n",
       ".widget-hprogress .progress {\n",
       " flex-grow: 1;\n",
       " height: 20px;\n",
       " margin-top: auto;\n",
       " margin-left: 12px;\n",
       " margin-bottom: auto;\n",
       " width: 300px;\n",
       "}\n",
       ".progress {\n",
       " overflow: hidden;\n",
       " height: 22px;\n",
       " margin-bottom: 10px;\n",
       " padding-left: 10px;\n",
       " background-color: #d6d6d6 !important;\n",
       " border-radius: 2px;\n",
       " -webkit-box-shadow: none;\n",
       " box-shadow: none;\n",
       " z-index: 10;\n",
       "}\n",
       ".progress-bar-danger {\n",
       " background-color: #e5344a !important;\n",
       "}\n",
       ".progress-bar-info {\n",
       " background-color: #2980b9 !important;\n",
       "}\n",
       ".progress-bar-warning {\n",
       " background-color: #f39c12 !important;\n",
       "}\n",
       ".progress-bar-success {\n",
       " background-color: #5cb85c !important;\n",
       "}\n",
       ".widget-select select {\n",
       " margin-left: 12px;\n",
       "}\n",
       ".rendered_html :link {\n",
       " font-family: \"Meslo\", monospace;\n",
       " font-size: 100%;\n",
       " color: #ff7823;\n",
       " text-decoration: underline;\n",
       "}\n",
       ".rendered_html :visited,\n",
       ".rendered_html :visited:active,\n",
       ".rendered_html :visited:focus {\n",
       " color: #fa853d;\n",
       "}\n",
       ".rendered_html :visited:hover,\n",
       ".rendered_html :link:hover {\n",
       " font-family: \"Meslo\", monospace;\n",
       " font-size: 100%;\n",
       " color: #f96000;\n",
       "}\n",
       "div.cell.text_cell a.anchor-link:link {\n",
       " font-size: inherit;\n",
       " text-decoration: none;\n",
       " padding: 0px 20px;\n",
       " visibility: none;\n",
       " color: rgba(0,0,0,.32);\n",
       "}\n",
       "div.cell.text_cell a.anchor-link:link:hover {\n",
       " font-size: inherit;\n",
       " color: #828892;\n",
       "}\n",
       ".navbar-text {\n",
       " margin-top: 4px;\n",
       " margin-bottom: 0px;\n",
       "}\n",
       "#clusters > a {\n",
       " color: #ef5c00;\n",
       " text-decoration: underline;\n",
       " cursor: auto;\n",
       "}\n",
       "#clusters > a:hover {\n",
       " color: #126dce;\n",
       " text-decoration: underline;\n",
       " cursor: auto;\n",
       "}\n",
       "#nbextensions-configurator-container > div.row.container-fluid.nbext-selector > h3 {\n",
       " font-size: 17px;\n",
       " margin-top: 5px;\n",
       " margin-bottom: 8px;\n",
       " height: 24px;\n",
       " padding: 4px 0 4px 0;\n",
       "}\n",
       "div#nbextensions-configurator-container.container,\n",
       "#nbextensions-configurator-container.container {\n",
       " width: 100%;\n",
       " margin-right: auto;\n",
       " margin-left: auto;\n",
       "}\n",
       "div.nbext-selector > nav > .nav > li > a {\n",
       " font-family: \"Meslo\", monospace;\n",
       " font-size: 10.5pt;\n",
       " padding: 2px 5px;\n",
       "}\n",
       "div.nbext-selector > nav > .nav > li > a:hover {\n",
       " background: transparent;\n",
       "}\n",
       "div.nbext-selector > nav > .nav > li:hover {\n",
       " background-color: rgba(180,180,180,.14) !important;\n",
       " background: rgba(180,180,180,.14) !important;\n",
       "}\n",
       "div.nbext-selector > nav > .nav > li.active:hover {\n",
       " background: transparent !important;\n",
       " background-color: transparent !important;\n",
       "}\n",
       ".nav-pills > li.active > a,\n",
       ".nav-pills > li.active > a:active,\n",
       ".nav-pills > li.active > a:hover,\n",
       ".nav-pills > li.active > a:focus {\n",
       " color: #1c1c1c;\n",
       " background-color: rgba(180,180,180,.14) !important;\n",
       " background: rgba(180,180,180,.14) !important;\n",
       " -webkit-backface-visibility: hidden;\n",
       " -webkit-font-smoothing: subpixel-antialiased !important;\n",
       "}\n",
       "div.nbext-readme > .nbext-readme-contents > .rendered_html {\n",
       " font-family: \"Meslo\", monospace;\n",
       " font-size: 11.5pt;\n",
       " line-height: 145%;\n",
       " padding: 1em 1em;\n",
       " color: #353535;\n",
       " background-color: #ffffff;\n",
       " -webkit-box-shadow: none;\n",
       " -moz-box-shadow: none;\n",
       " box-shadow: none;\n",
       "}\n",
       ".nbext-icon,\n",
       ".nbext-desc,\n",
       ".nbext-compat-div,\n",
       ".nbext-enable-btns,\n",
       ".nbext-params {\n",
       " margin-bottom: 8px;\n",
       " font-size: 11.5pt;\n",
       "}\n",
       "div.nbext-readme > .nbext-readme-contents {\n",
       " padding: 0;\n",
       " overflow-y: hidden;\n",
       "}\n",
       "div.nbext-readme > .nbext-readme-contents:not(:empty) {\n",
       " margin-top: 0.5em;\n",
       " margin-bottom: 2em;\n",
       " border: none;\n",
       " border-top-color: #828892;\n",
       "}\n",
       ".nbext-showhide-incompat {\n",
       " padding-bottom: 0.5em;\n",
       " color: #4a4a4a;\n",
       " font-size: 10.5pt;\n",
       "}\n",
       ".nbext-filter-menu.dropdown-menu > li > a:hover,\n",
       ".nbext-filter-menu.dropdown-menu > li > a:focus,\n",
       ".nbext-filter-menu.dropdown-menu > li > a.ui-state-focus {\n",
       " color: #2f2f2f !important;\n",
       " background-color: #d4d4d4 !important;\n",
       " background: #d4d4d4 !important;\n",
       " border-color: #d4d4d4 !important;\n",
       "}\n",
       ".nbext-filter-input-wrap > .nbext-filter-input-subwrap,\n",
       ".nbext-filter-input-wrap > .nbext-filter-input-subwrap > input {\n",
       " border: none;\n",
       " outline: none;\n",
       " background-color: transparent;\n",
       " padding: 0;\n",
       " vertical-align: middle;\n",
       " margin-top: -2px;\n",
       "}\n",
       "span.rendered_html code {\n",
       " background-color: transparent;\n",
       " color: #303030;\n",
       "}\n",
       "#nbextensions-configurator-container > div.row.container-fluid.nbext-selector {\n",
       " padding-left: 0px;\n",
       " padding-right: 0px;\n",
       "}\n",
       ".nbext-filter-menu {\n",
       " max-height: 55vh !important;\n",
       " overflow-y: auto;\n",
       " outline: none;\n",
       " border: none;\n",
       "}\n",
       ".nbext-filter-menu:hover {\n",
       " border: none;\n",
       "}\n",
       ".alert-warning {\n",
       " background-color: #f4f4f4;\n",
       " border-color: #f4f4f4;\n",
       " color: #303030;\n",
       "}\n",
       ".notification_widget.danger {\n",
       " color: #ffffff;\n",
       " background-color: #e5344a;\n",
       " border-color: #e5344a;\n",
       " padding-right: 5px;\n",
       "}\n",
       "#nbextensions-configurator-container > div.nbext-buttons.tree-buttons.no-padding.pull-right > span > button {\n",
       " border: none !important;\n",
       "}\n",
       "button#refresh_running_list {\n",
       " border: none !important;\n",
       "}\n",
       "mark,\n",
       ".mark {\n",
       " background-color: #ffffff;\n",
       " color: #353535;\n",
       " padding: .15em;\n",
       "}\n",
       "a.text-warning,\n",
       "a.text-warning:hover {\n",
       " color: #828892;\n",
       "}\n",
       "a.text-warning.bg-warning {\n",
       " background-color: #ffffff;\n",
       "}\n",
       "span.bg-success.text-success {\n",
       " background-color: transparent;\n",
       " color: #009e07;\n",
       "}\n",
       "span.bg-danger.text-danger {\n",
       " background-color: #ffffff;\n",
       " color: #de143d;\n",
       "}\n",
       ".has-success .input-group-addon {\n",
       " color: #009e07;\n",
       " border-color: transparent;\n",
       " background: inherit;\n",
       " background-color: rgba(83,180,115,.10);\n",
       "}\n",
       ".has-success .form-control {\n",
       " border-color: #009e07;\n",
       " -webkit-box-shadow: inset 0 1px 1px rgba(0,0,0,0.025);\n",
       " box-shadow: inset 0 1px 1px rgba(0,0,0,0.025);\n",
       "}\n",
       ".has-error .input-group-addon {\n",
       " color: #de143d;\n",
       " border-color: transparent;\n",
       " background: inherit;\n",
       " background-color: rgba(192,57,67,.10);\n",
       "}\n",
       ".has-error .form-control {\n",
       " border-color: #de143d;\n",
       " -webkit-box-shadow: inset 0 1px 1px rgba(0,0,0,0.025);\n",
       " box-shadow: inset 0 1px 1px rgba(0,0,0,0.025);\n",
       "}\n",
       ".kse-input-group-pretty > kbd {\n",
       " font-family: \"Oxygen Mono\", monospace, monospace;\n",
       " color: #303030;\n",
       " font-weight: normal;\n",
       " background: transparent;\n",
       "}\n",
       ".kse-input-group-pretty > kbd {\n",
       " font-family: \"Oxygen Mono\", monospace, monospace;\n",
       " color: #303030;\n",
       " font-weight: normal;\n",
       " background: transparent;\n",
       "}\n",
       "div.nbext-enable-btns .btn[disabled],\n",
       "div.nbext-enable-btns .btn[disabled]:hover,\n",
       ".btn-default.disabled,\n",
       ".btn-default[disabled] {\n",
       " background: #e2e2e2;\n",
       " background-color: #e2e2e2;\n",
       " color: #282828;\n",
       "}\n",
       "label#Keyword-Filter {\n",
       " display: none;\n",
       "}\n",
       ".input-group .nbext-list-btn-add,\n",
       ".input-group-btn:last-child > .btn-group > .btn {\n",
       " background: #e4e4e4;\n",
       " background-color: #e4e4e4;\n",
       " border-color: #e4e4e4;\n",
       " border: 2px solid #e4e4e4;\n",
       "}\n",
       ".input-group .nbext-list-btn-add:hover,\n",
       ".input-group-btn:last-child > .btn-group > .btn:hover {\n",
       " background: #dfdfdf;\n",
       " background-color: #dfdfdf;\n",
       " border-color: #dfdfdf;\n",
       " border: 2px solid #dfdfdf;\n",
       "}\n",
       "#notebook-container > div.cell.code_cell.rendered.selected > div.widget-area > div.widget-subarea > div > div.widget_item.btn-group > button.btn.btn-default.dropdown-toggle.widget-combo-carrot-btn {\n",
       " background: #e4e4e4;\n",
       " background-color: #e4e4e4;\n",
       " border-color: #e4e4e4;\n",
       "}\n",
       "#notebook-container > div.cell.code_cell.rendered.selected > div.widget-area > div.widget-subarea > div > div.widget_item.btn-group > button.btn.btn-default.dropdown-toggle.widget-combo-carrot-btn:hover {\n",
       " background: #dfdfdf;\n",
       " background-color: #dfdfdf;\n",
       " border-color: #dfdfdf;\n",
       "}\n",
       ".ui-widget-content {\n",
       " background: #e5e5e5;\n",
       " background-color: #e5e5e5;\n",
       " border: 2px solid #e5e5e5;\n",
       " color: #303030;\n",
       "}\n",
       "div.collapsible_headings_toggle {\n",
       " color: rgba(180,180,180,.30) !important;\n",
       "}\n",
       "div.collapsible_headings_toggle:hover {\n",
       " color: #ff7823 !important;\n",
       "}\n",
       ".collapsible_headings_toggle .h1,\n",
       ".collapsible_headings_toggle .h2,\n",
       ".collapsible_headings_toggle .h3,\n",
       ".collapsible_headings_toggle .h4,\n",
       ".collapsible_headings_toggle .h5,\n",
       ".collapsible_headings_toggle .h6 {\n",
       " margin: 0.3em .4em 0em 0em !important;\n",
       " line-height: 1.2 !important;\n",
       "}\n",
       "div.collapsible_headings_toggle .fa-caret-down:before,\n",
       "div.collapsible_headings_toggle .fa-caret-right:before {\n",
       " font-size: xx-large;\n",
       " transition: transform 1000ms;\n",
       " transform: none !important;\n",
       "}\n",
       ".collapsible_headings_collapsed.collapsible_headings_ellipsis .rendered_html h1:after,\n",
       ".collapsible_headings_collapsed.collapsible_headings_ellipsis .rendered_html h2:after,\n",
       ".collapsible_headings_collapsed.collapsible_headings_ellipsis .rendered_html h3:after,\n",
       ".collapsible_headings_collapsed.collapsible_headings_ellipsis .rendered_html h4:after,\n",
       ".collapsible_headings_collapsed.collapsible_headings_ellipsis .rendered_html h5:after,\n",
       ".collapsible_headings_collapsed.collapsible_headings_ellipsis .rendered_html h6:after {\n",
       " position: absolute;\n",
       " right: 0;\n",
       " bottom: 20% !important;\n",
       " content: \"[\\002026]\";\n",
       " color: rgba(180,180,180,.30) !important;\n",
       " padding: 0.5em 0em 0em 0em !important;\n",
       "}\n",
       ".collapsible_headings_ellipsis .rendered_html h1,\n",
       ".collapsible_headings_ellipsis .rendered_html h2,\n",
       ".collapsible_headings_ellipsis .rendered_html h3,\n",
       ".collapsible_headings_ellipsis .rendered_html h4,\n",
       ".collapsible_headings_ellipsis .rendered_html h5,\n",
       ".collapsible_headings_ellipsis .rendered_html h6,\n",
       ".collapsible_headings_toggle .fa {\n",
       " transition: transform 1000ms !important;\n",
       " -webkit-transform: inherit !important;\n",
       " -moz-transform: inherit !important;\n",
       " -ms-transform: inherit !important;\n",
       " -o-transform: inherit !important;\n",
       " transform: inherit !important;\n",
       " padding-right: 0px !important;\n",
       "}\n",
       "input.raw_input {\n",
       " font-family: \"Oxygen Mono\", monospace, monospace;\n",
       " font-size: 10pt !important;\n",
       " color: #303030;\n",
       " background-color: #efefef;\n",
       " border-color: #ececec;\n",
       " background: #ececec;\n",
       " width: auto;\n",
       " vertical-align: baseline;\n",
       " padding: 0em 0.25em;\n",
       " margin: 0em 0.25em;\n",
       " -webkit-box-shadow: none;\n",
       " box-shadow: none;\n",
       "}\n",
       "audio,\n",
       "video {\n",
       " display: inline;\n",
       " vertical-align: middle;\n",
       " align-content: center;\n",
       " margin-left: 20%;\n",
       "}\n",
       ".cmd-palette .modal-body {\n",
       " padding: 0px;\n",
       " margin: 0px;\n",
       "}\n",
       ".cmd-palette form {\n",
       " background: #e5e5e5;\n",
       " background-color: #e5e5e5;\n",
       "}\n",
       ".typeahead-field input:last-child,\n",
       ".typeahead-hint {\n",
       " background: #e5e5e5;\n",
       " background-color: #e5e5e5;\n",
       " z-index: 1;\n",
       "}\n",
       ".typeahead-field input {\n",
       " font-family: \"Meslo\", monospace;\n",
       " color: #303030;\n",
       " border: none;\n",
       " font-size: 28pt;\n",
       " display: inline-block;\n",
       " line-height: inherit;\n",
       " padding: 3px 10px;\n",
       " height: 70px;\n",
       "}\n",
       ".typeahead-select {\n",
       " background-color: #e5e5e5;\n",
       "}\n",
       "body > div.modal.cmd-palette.typeahead-field {\n",
       " display: table;\n",
       " border-collapse: separate;\n",
       " background-color: #f4f4f4;\n",
       "}\n",
       ".typeahead-container button {\n",
       " font-family: \"Meslo\", monospace;\n",
       " font-size: 28pt;\n",
       " background-color: #e4e4e4;\n",
       " border: none;\n",
       " display: inline-block;\n",
       " line-height: inherit;\n",
       " padding: 3px 10px;\n",
       " height: 70px;\n",
       "}\n",
       ".typeahead-search-icon {\n",
       " min-width: 40px;\n",
       " min-height: 55px;\n",
       " display: block;\n",
       " vertical-align: middle;\n",
       " text-align: center;\n",
       "}\n",
       ".typeahead-container button:focus,\n",
       ".typeahead-container button:hover {\n",
       " color: #2f2f2f;\n",
       " background-color: #dfdfdf;\n",
       " border-color: #e0e0e0;\n",
       "}\n",
       ".typeahead-list > li.typeahead-group.active > a,\n",
       ".typeahead-list > li.typeahead-group > a,\n",
       ".typeahead-list > li.typeahead-group > a:focus,\n",
       ".typeahead-list > li.typeahead-group > a:hover {\n",
       " display: none;\n",
       "}\n",
       ".typeahead-dropdown > li > a,\n",
       ".typeahead-list > li > a {\n",
       " color: #303030;\n",
       " text-decoration: none;\n",
       "}\n",
       ".typeahead-dropdown,\n",
       ".typeahead-list {\n",
       " font-family: \"Meslo\", monospace;\n",
       " font-size: 12pt;\n",
       " color: #303030;\n",
       " background-color: #ffffff;\n",
       " border: none;\n",
       " background-clip: padding-box;\n",
       " margin-top: 0px;\n",
       " padding: 3px 2px 3px 0px;\n",
       " line-height: 1.7;\n",
       "}\n",
       ".typeahead-dropdown > li.active > a,\n",
       ".typeahead-dropdown > li > a:focus,\n",
       ".typeahead-dropdown > li > a:hover,\n",
       ".typeahead-list > li.active > a,\n",
       ".typeahead-list > li > a:focus,\n",
       ".typeahead-list > li > a:hover {\n",
       " color: #2f2f2f;\n",
       " background-color: #f4f4f4;\n",
       " border-color: #f4f4f4;\n",
       "}\n",
       ".command-shortcut:before {\n",
       " content: \"(command)\";\n",
       " padding-right: 3px;\n",
       " color: #828892;\n",
       "}\n",
       ".edit-shortcut:before {\n",
       " content: \"(edit)\";\n",
       " padding-right: 3px;\n",
       " color: #828892;\n",
       "}\n",
       "ul.typeahead-list i {\n",
       " margin-left: 1px;\n",
       " width: 18px;\n",
       " margin-right: 10px;\n",
       "}\n",
       "ul.typeahead-list {\n",
       " max-height: 50vh;\n",
       " overflow: auto;\n",
       "}\n",
       ".typeahead-list > li {\n",
       " position: relative;\n",
       " border: none;\n",
       "}\n",
       "div.input.typeahead-hint,\n",
       "input.typeahead-hint,\n",
       "body > div.modal.cmd-palette.in > div > div > div > form > div > div.typeahead-field > span.typeahead-query > input.typeahead-hint {\n",
       " color: #828892 !important;\n",
       " background-color: transparent;\n",
       " padding: 3px 10px;\n",
       "}\n",
       ".typeahead-dropdown > li > a,\n",
       ".typeahead-list > li > a {\n",
       " display: block;\n",
       " padding: 5px;\n",
       " clear: both;\n",
       " font-weight: 400;\n",
       " line-height: 1.7;\n",
       " border: 1px solid #ffffff;\n",
       " border-bottom-color: rgba(180,180,180,.30);\n",
       "}\n",
       "body > div.modal.cmd-palette.in > div {\n",
       " min-width: 750px;\n",
       " margin: 150px auto;\n",
       "}\n",
       ".typeahead-container strong {\n",
       " font-weight: bolder;\n",
       " color: #ff7823;\n",
       "}\n",
       "#find-and-replace #replace-preview .match,\n",
       "#find-and-replace #replace-preview .insert {\n",
       " color: #ffffff;\n",
       " background-color: #ff7823;\n",
       " border-color: #ff7823;\n",
       " border-style: solid;\n",
       " border-width: 1px;\n",
       " border-radius: 0px;\n",
       "}\n",
       "#find-and-replace #replace-preview .replace .match {\n",
       " background-color: #de143d;\n",
       " border-color: #de143d;\n",
       " border-radius: 0px;\n",
       "}\n",
       "#find-and-replace #replace-preview .replace .insert {\n",
       " background-color: #009e07;\n",
       " border-color: #009e07;\n",
       " border-radius: 0px;\n",
       "}\n",
       ".jupyter-dashboard-menu-item.selected::before {\n",
       " font-family: 'FontAwesome' !important;\n",
       " content: '\\f00c' !important;\n",
       " position: absolute !important;\n",
       " color: #ff7823 !important;\n",
       " left: 0px !important;\n",
       " top: 13px !important;\n",
       " font-size: 12px !important;\n",
       "}\n",
       ".shortcut_key,\n",
       "span.shortcut_key {\n",
       " display: inline-block;\n",
       " width: 16ex;\n",
       " text-align: right;\n",
       " font-family: monospace;\n",
       "}\n",
       ".jupyter-keybindings {\n",
       " padding: 1px;\n",
       " line-height: 24px;\n",
       " border-bottom: 1px solid rgba(180,180,180,.14);\n",
       "}\n",
       ".jupyter-keybindings i {\n",
       " background: #efefef;\n",
       " font-size: small;\n",
       " padding: 5px;\n",
       " margin-left: 7px;\n",
       "}\n",
       "div#short-key-bindings-intro.well,\n",
       ".well {\n",
       " background-color: #e4e4e4;\n",
       " border: 1px solid #e4e4e4;\n",
       " color: #303030;\n",
       " border-radius: 2px;\n",
       " -webkit-box-shadow: none;\n",
       " box-shadow: none;\n",
       "}\n",
       "#texteditor-backdrop {\n",
       " background: #ffffff;\n",
       " background-color: #ffffff;\n",
       "}\n",
       "#texteditor-backdrop #texteditor-container .CodeMirror-gutter,\n",
       "#texteditor-backdrop #texteditor-container .CodeMirror-gutters {\n",
       " background: #e0e1e3;\n",
       " background-color: #e0e1e3;\n",
       " color: #828892;\n",
       "}\n",
       ".edit_app #menubar .navbar {\n",
       " margin-bottom: 0px;\n",
       "}\n",
       "#texteditor-backdrop #texteditor-container {\n",
       " padding: 0px;\n",
       " background-color: #ededed;\n",
       " box-shadow: none;\n",
       "}\n",
       ".terminal-app {\n",
       " background: #ffffff;\n",
       "}\n",
       ".terminal-app .terminal {\n",
       " font-family: \"Oxygen Mono\", monospace, monospace;\n",
       " font-size: 10pt;\n",
       " line-height: 170%;\n",
       " color: #303030;\n",
       " background: #ededed;\n",
       " padding: 0.4em;\n",
       " border-radius: 2px;\n",
       " -webkit-box-shadow: none;\n",
       " box-shadow: none;\n",
       "}\n",
       ".terminal .xterm-viewport {\n",
       " background-color: #ededed;\n",
       " color: #303030;\n",
       " overflow-y: auto;\n",
       "}\n",
       ".terminal .xterm-color-0 {\n",
       " color: #ff7823;\n",
       "}\n",
       ".terminal .xterm-color-1 {\n",
       " color: #de143d;\n",
       "}\n",
       ".terminal .xterm-color-2 {\n",
       " color: #713bc5;\n",
       "}\n",
       ".terminal .xterm-color-3 {\n",
       " color: #e22978;\n",
       "}\n",
       ".terminal .xterm-color-4 {\n",
       " color: #ff8132;\n",
       "}\n",
       ".terminal .xterm-color-5 {\n",
       " color: #009e07;\n",
       "}\n",
       ".terminal .xterm-color-6 {\n",
       " color: #e22978;\n",
       "}\n",
       ".terminal .xterm-color-7 {\n",
       " color: #e22978;\n",
       "}\n",
       ".terminal .xterm-color-8 {\n",
       " color: #ef5c00;\n",
       "}\n",
       ".terminal .xterm-color-9 {\n",
       " color: #009e07;\n",
       "}\n",
       ".terminal .xterm-color-10 {\n",
       " color: #e22978;\n",
       "}\n",
       ".terminal .xterm-color-14 {\n",
       " color: #e22978;\n",
       "}\n",
       ".terminal .xterm-bg-color-15 {\n",
       " background-color: #ededed;\n",
       "}\n",
       ".terminal:not(.xterm-cursor-style-underline):not(.xterm-cursor-style-bar) .terminal-cursor {\n",
       " background-color: #ff7823;\n",
       " color: #ededed;\n",
       "}\n",
       ".terminal:not(.focus) .terminal-cursor {\n",
       " outline: 1px solid #ff7823;\n",
       " outline-offset: -1px;\n",
       "}\n",
       ".celltoolbar {\n",
       " font-size: 100%;\n",
       " padding-top: 3px;\n",
       " border-color: transparent;\n",
       " border-bottom: thin solid #828892;\n",
       " background: transparent;\n",
       "}\n",
       ".cell-tag,\n",
       ".tags-input input,\n",
       ".tags-input button {\n",
       " color: #303030;\n",
       " background-color: #ffffff;\n",
       " background-image: none;\n",
       " border: 1px solid #303030;\n",
       " border-radius: 1px;\n",
       " box-shadow: none;\n",
       " width: inherit;\n",
       " font-size: inherit;\n",
       " height: 22px;\n",
       " line-height: 22px;\n",
       "}\n",
       "#notebook-container > div.cell.code_cell.rendered.selected > div.input > div.inner_cell > div.ctb_hideshow.ctb_show > div > div > button,\n",
       "#notebook-container > div.input > div.inner_cell > div.ctb_hideshow.ctb_show > div > div > button {\n",
       " font-size: 10pt;\n",
       " color: #303030;\n",
       " background-color: #ffffff;\n",
       " background-image: none;\n",
       " border: 1px solid #303030;\n",
       " border-radius: 1px;\n",
       " box-shadow: none;\n",
       " width: inherit;\n",
       " font-size: inherit;\n",
       " height: 22px;\n",
       " line-height: 22px;\n",
       "}\n",
       "div#pager #pager-contents {\n",
       " background: #ffffff !important;\n",
       " background-color: #ffffff !important;\n",
       "}\n",
       "div#pager pre {\n",
       " color: #303030 !important;\n",
       " background: #ededed !important;\n",
       " background-color: #ededed !important;\n",
       " padding: 0.4em;\n",
       "}\n",
       "div#pager .ui-resizable-handle {\n",
       " top: 0px;\n",
       " height: 8px;\n",
       " background: #ff7823 !important;\n",
       " border-top: 1px solid #ff7823;\n",
       " border-bottom: 1px solid #ff7823;\n",
       "}\n",
       "div.CodeMirror,\n",
       "div.CodeMirror pre {\n",
       " font-family: \"Oxygen Mono\", monospace, monospace;\n",
       " font-size: 10pt;\n",
       " line-height: 170%;\n",
       " color: #303030;\n",
       "}\n",
       "div.CodeMirror-lines {\n",
       " padding-bottom: .9em;\n",
       " padding-left: .5em;\n",
       " padding-right: 1.5em;\n",
       " padding-top: .7em;\n",
       "}\n",
       "span.ansiblack,\n",
       ".ansi-black-fg {\n",
       " color: #e22978;\n",
       "}\n",
       "span.ansiblue,\n",
       ".ansi-blue-fg,\n",
       ".ansi-blue-intense-fg {\n",
       " color: #009e07;\n",
       "}\n",
       "span.ansigray,\n",
       ".ansi-gray-fg,\n",
       ".ansi-gray-intense-fg {\n",
       " color: #ff8132;\n",
       "}\n",
       "span.ansigreen,\n",
       ".ansi-green-fg {\n",
       " color: #333333;\n",
       "}\n",
       ".ansi-green-intense-fg {\n",
       " color: #ff8132;\n",
       "}\n",
       "span.ansipurple,\n",
       ".ansi-purple-fg,\n",
       ".ansi-purple-intense-fg {\n",
       " color: #653bc5;\n",
       "}\n",
       "span.ansicyan,\n",
       ".ansi-cyan-fg,\n",
       ".ansi-cyan-intense-fg {\n",
       " color: #653bc5;\n",
       "}\n",
       "span.ansiyellow,\n",
       ".ansi-yellow-fg,\n",
       ".ansi-yellow-intense-fg {\n",
       " color: #ff8132;\n",
       "}\n",
       "span.ansired,\n",
       ".ansi-red-fg,\n",
       ".ansi-red-intense-fg {\n",
       " color: #de143d;\n",
       "}\n",
       "div.output-stderr {\n",
       " background-color: #ebb5b7;\n",
       "}\n",
       "div.output-stderr pre {\n",
       " color: #000000;\n",
       "}\n",
       "div.js-error {\n",
       " color: #de143d;\n",
       "}\n",
       ".ipython_tooltip {\n",
       " font-family: \"Oxygen Mono\", monospace, monospace;\n",
       " font-size: 10pt;\n",
       " line-height: 170%;\n",
       " border: 2px solid #dadada;\n",
       " background: #eeeeee;\n",
       " background-color: #eeeeee;\n",
       " border-radius: 2px;\n",
       " overflow-x: visible;\n",
       " overflow-y: visible;\n",
       " box-shadow: none;\n",
       " position: absolute;\n",
       " z-index: 1000;\n",
       "}\n",
       ".ipython_tooltip .tooltiptext pre {\n",
       " font-family: \"Oxygen Mono\", monospace, monospace;\n",
       " font-size: 10pt;\n",
       " line-height: 170%;\n",
       " background: #eeeeee;\n",
       " background-color: #eeeeee;\n",
       " color: #303030;\n",
       " overflow-x: visible;\n",
       " overflow-y: visible;\n",
       " max-width: 900px;\n",
       "}\n",
       "div#tooltip.ipython_tooltip {\n",
       " overflow-x: wrap;\n",
       " overflow-y: visible;\n",
       " max-width: 800px;\n",
       "}\n",
       "div.tooltiptext.bigtooltip {\n",
       " overflow-x: visible;\n",
       " overflow-y: scroll;\n",
       " height: 400px;\n",
       " max-width: 800px;\n",
       "}\n",
       ".cm-s-ipython.CodeMirror {\n",
       " font-family: \"Oxygen Mono\", monospace, monospace;\n",
       " font-size: 10pt;\n",
       " background: #ededed;\n",
       " color: #303030;\n",
       " border-radius: 2px;\n",
       " font-style: normal;\n",
       " font-weight: normal;\n",
       "}\n",
       ".cm-s-ipython div.CodeMirror-selected {\n",
       " background: #e0e1e3;\n",
       "}\n",
       ".CodeMirror-gutters {\n",
       " border: none;\n",
       " border-right: 1px solid #e0e1e3 !important;\n",
       " background-color: #e0e1e3 !important;\n",
       " background: #e0e1e3 !important;\n",
       " border-radius: 0px;\n",
       " white-space: nowrap;\n",
       "}\n",
       ".cm-s-ipython .CodeMirror-gutters {\n",
       " background: #e0e1e3;\n",
       " border: none;\n",
       " border-radius: 0px;\n",
       " width: 36px;\n",
       "}\n",
       ".cm-s-ipython .CodeMirror-linenumber {\n",
       " color: #828892;\n",
       "}\n",
       ".CodeMirror-sizer {\n",
       " margin-left: 40px;\n",
       "}\n",
       ".CodeMirror-linenumber,\n",
       "div.CodeMirror-linenumber,\n",
       ".CodeMirror-gutter.CodeMirror-linenumberdiv.CodeMirror-gutter.CodeMirror-linenumber {\n",
       " padding-right: 1px;\n",
       " margin-left: 0px;\n",
       " margin: 0px;\n",
       " width: 26px !important;\n",
       " padding: 0px;\n",
       " text-align: right;\n",
       "}\n",
       ".CodeMirror-linenumber {\n",
       " color: #828892;\n",
       "}\n",
       ".cm-s-ipython .CodeMirror-cursor {\n",
       " border-left: 2px solid #ff711a !important;\n",
       "}\n",
       ".cm-s-ipython span.cm-comment {\n",
       " color: #8d8d8d;\n",
       " font-style: italic;\n",
       "}\n",
       ".cm-s-ipython span.cm-atom {\n",
       " color: #055be0;\n",
       "}\n",
       ".cm-s-ipython span.cm-number {\n",
       " color: #ff8132;\n",
       "}\n",
       ".cm-s-ipython span.cm-property {\n",
       " color: #303030;\n",
       "}\n",
       ".cm-s-ipython span.cm-attribute {\n",
       " color: #303030;\n",
       "}\n",
       ".cm-s-ipython span.cm-keyword {\n",
       " color: #713bc5;\n",
       " font-weight: normal;\n",
       "}\n",
       ".cm-s-ipython span.cm-string {\n",
       " color: #009e07;\n",
       "}\n",
       ".cm-s-ipython span.cm-meta {\n",
       " color: #aa22ff;\n",
       "}\n",
       ".cm-s-ipython span.cm-operator {\n",
       " color: #055be0;\n",
       "}\n",
       ".cm-s-ipython span.cm-builtin {\n",
       " color: #e22978;\n",
       "}\n",
       ".cm-s-ipython span.cm-variable {\n",
       " color: #303030;\n",
       "}\n",
       ".cm-s-ipython span.cm-variable-2 {\n",
       " color: #de143d;\n",
       "}\n",
       ".cm-s-ipython span.cm-variable-3 {\n",
       " color: #aa22ff;\n",
       "}\n",
       ".cm-s-ipython span.cm-def {\n",
       " color: #e22978;\n",
       " font-weight: normal;\n",
       "}\n",
       ".cm-s-ipython span.cm-error {\n",
       " background: rgba(191,97,106,.40);\n",
       "}\n",
       ".cm-s-ipython span.cm-tag {\n",
       " color: #e22978;\n",
       "}\n",
       ".cm-s-ipython span.cm-link {\n",
       " color: #ef5c00;\n",
       "}\n",
       ".cm-s-ipython span.cm-storage {\n",
       " color: #055be0;\n",
       "}\n",
       ".cm-s-ipython span.cm-entity {\n",
       " color: #e22978;\n",
       "}\n",
       ".cm-s-ipython span.cm-quote {\n",
       " color: #009e07;\n",
       "}\n",
       "div.CodeMirror span.CodeMirror-matchingbracket {\n",
       " color: #1c1c1c;\n",
       " background-color: rgba(30,112,199,.30);\n",
       "}\n",
       "div.CodeMirror span.CodeMirror-nonmatchingbracket {\n",
       " color: #1c1c1c;\n",
       " background: rgba(191,97,106,.40) !important;\n",
       "}\n",
       ".cm-header-1 {\n",
       " font-size: 215%;\n",
       "}\n",
       ".cm-header-2 {\n",
       " font-size: 180%;\n",
       "}\n",
       ".cm-header-3 {\n",
       " font-size: 150%;\n",
       "}\n",
       ".cm-header-4 {\n",
       " font-size: 120%;\n",
       "}\n",
       ".cm-header-5 {\n",
       " font-size: 100%;\n",
       "}\n",
       ".cm-s-default .cm-hr {\n",
       " color: #055be0;\n",
       "}\n",
       "div.cell.text_cell .cm-s-default .cm-header {\n",
       " font-family: \"Meslo\", monospace;\n",
       " font-weight: normal;\n",
       " color: #126dce;\n",
       " margin-top: 0.3em !important;\n",
       " margin-bottom: 0.3em !important;\n",
       "}\n",
       "div.cell.text_cell .cm-s-default span.cm-variable-2 {\n",
       " color: #353535;\n",
       "}\n",
       "div.cell.text_cell .cm-s-default span.cm-variable-3 {\n",
       " color: #aa22ff;\n",
       "}\n",
       ".cm-s-default span.cm-comment {\n",
       " color: #8d8d8d;\n",
       "}\n",
       ".cm-s-default .cm-tag {\n",
       " color: #009fb7;\n",
       "}\n",
       ".cm-s-default .cm-builtin {\n",
       " color: #e22978;\n",
       "}\n",
       ".cm-s-default .cm-string {\n",
       " color: #009e07;\n",
       "}\n",
       ".cm-s-default .cm-keyword {\n",
       " color: #713bc5;\n",
       "}\n",
       ".cm-s-default .cm-number {\n",
       " color: #ff8132;\n",
       "}\n",
       ".cm-s-default .cm-error {\n",
       " color: #055be0;\n",
       "}\n",
       ".cm-s-default .cm-link {\n",
       " color: #ef5c00;\n",
       "}\n",
       ".cm-s-default .cm-atom {\n",
       " color: #ff8132;\n",
       "}\n",
       ".cm-s-default .cm-def {\n",
       " color: #e22978;\n",
       "}\n",
       ".CodeMirror-cursor {\n",
       " border-left: 2px solid #ff711a !important;\n",
       " border-right: none;\n",
       " width: 0;\n",
       "}\n",
       ".cm-s-default div.CodeMirror-selected {\n",
       " background: #e0e1e3;\n",
       "}\n",
       ".cm-s-default .cm-selected {\n",
       " background: #e0e1e3;\n",
       "}\n",
       ".MathJax_Display,\n",
       ".MathJax {\n",
       " border: 0 !important;\n",
       " font-size: 90% !important;\n",
       " text-align: center !important;\n",
       " margin: 0em !important;\n",
       " line-height: 2.25 !important;\n",
       "}\n",
       ".MathJax:focus,\n",
       "body :focus .MathJax {\n",
       " display: inline-block !important;\n",
       "}\n",
       ".MathJax:focus,\n",
       "body :focus .MathJax {\n",
       " display: inline-block !important;\n",
       "}\n",
       ".completions {\n",
       " position: absolute;\n",
       " z-index: 110;\n",
       " overflow: hidden;\n",
       " border: medium solid rgba(240,147,43,.50);\n",
       " box-shadow: none;\n",
       " line-height: 1;\n",
       "}\n",
       ".completions select {\n",
       " background: #ededed;\n",
       " background-color: #ededed;\n",
       " outline: none;\n",
       " border: none;\n",
       " padding: 0px;\n",
       " margin: 0px;\n",
       " margin-left: 2px;\n",
       " overflow: auto;\n",
       " font-family: \"Oxygen Mono\", monospace, monospace;\n",
       " font-size: 10pt;\n",
       " color: #303030;\n",
       " width: auto;\n",
       "}\n",
       "div#maintoolbar {\n",
       " display: none !important;\n",
       "}\n",
       "span.save_widget span.filename {\n",
       " margin-left: 8px;\n",
       " font-size: 120%;\n",
       " color: #e5e5e5;\n",
       " background-color: #ededed;\n",
       "}\n",
       "span.save_widget span.filename:hover {\n",
       " color: #828892;\n",
       " background-color: #ededed;\n",
       "}\n",
       "#menubar {\n",
       " padding-top: 4px;\n",
       " background-color: #ffffff;\n",
       "}\n",
       "\n",
       "<script>\n",
       "    MathJax.Hub.Config({\n",
       "        \"HTML-CSS\": {\n",
       "            /*preferredFont: \"TeX\",*/\n",
       "            /*availableFonts: [\"TeX\", \"STIX\"],*/\n",
       "            styles: {\n",
       "                scale: 90,\n",
       "                \".MathJax_Display\": {\n",
       "                    \"font-size\": \"90%\",\n",
       "                }\n",
       "            }\n",
       "        }\n",
       "    });\n",
       "</script>\n",
       "<style>    "
      ],
      "text/plain": [
       "<IPython.core.display.HTML object>"
      ]
     },
     "execution_count": 22,
     "metadata": {},
     "output_type": "execute_result"
    }
   ],
   "source": [
    "def css():\n",
    "    style = open('css/custom.css', 'r').read()\n",
    "    return HTML(style)\n",
    "css()"
   ]
  },
  {
   "cell_type": "code",
   "execution_count": 75,
   "metadata": {},
   "outputs": [],
   "source": [
    "long_shorts = mnth_cum.apply(lambda x: tsmom.tsmom(x, mnth_vol, mnth_cum))"
   ]
  },
  {
   "cell_type": "code",
   "execution_count": 81,
   "metadata": {},
   "outputs": [],
   "source": [
    "long_side = pd.concat([i[0] for i in long_shorts], axis = 1)\n",
    "# short_side = pd.concat([i[1] for i in long_shorts], axis = 1)\n",
    "# port = longs.mean(axis = 1) + shorts.mean(axis = 1)\n",
    "unlevered_long = long_side.mean(axis = 1)\n",
    "# unlevered_long['Cumulative'] = (1 + unlevered_long).cumprod()\n",
    "unlevered_long = pd.concat([unlevered_long, (1 + unlevered_long).cumprod()], \n",
    "                           axis = 1, \n",
    "                           keys= ['Unlevered', 'Cumulative'])"
   ]
  },
  {
   "cell_type": "code",
   "execution_count": 82,
   "metadata": {},
   "outputs": [],
   "source": [
    "lspositions = tsmom.get_long_short(mnth_cum)\n",
    "posit_n_eq = pd.concat([lspositions, unlevered_long.Cumulative * 50000], axis = 1)\n",
    "dollar_val = lspositions.apply(lambda x: np.round(posit_n_eq.Cumulative.div(x), 2))"
   ]
  },
  {
   "cell_type": "code",
   "execution_count": 83,
   "metadata": {},
   "outputs": [],
   "source": [
    "long_name = {}\n",
    "short_name = {}\n",
    "lback_ret = mnth_cum.pct_change(12).dropna(how = 'all')\n",
    "for idx, row in lback_ret.iterrows():\n",
    "    long_rows = row[row > 0]\n",
    "    short_rows = row[row < 0]\n",
    "    long_name[idx] = long_rows.index.values\n",
    "    short_name[idx]= short_rows.index.values"
   ]
  },
  {
   "cell_type": "code",
   "execution_count": 84,
   "metadata": {},
   "outputs": [],
   "source": [
    "shares_df = pd.DataFrame(columns=adj_prices.columns)\n",
    "for (idx_l, val_l), (idx_s, val_s) in zip(long_name.items(), short_name.items()):\n",
    "    l_prices = adj_m_prices.loc[idx_l, val_l]\n",
    "    s_prices = adj_m_prices.loc[idx_s, val_s]\n",
    "    nl_shares = np.round(dollar_val.loc[idx_l, 'Long Positions']/(l_prices))\n",
    "    ns_shares = (np.round(-1 * (dollar_val.loc[idx_s, 'Short Positions']/(s_prices))))\n",
    "    total_shares = pd.concat([nl_shares, ns_shares], axis = 0)\n",
    "    shares_df.loc[idx_l, :] = total_shares"
   ]
  },
  {
   "cell_type": "code",
   "execution_count": 97,
   "metadata": {},
   "outputs": [],
   "source": [
    "long_df = pd.DataFrame(dict([(k, pd.Series(v)) for (k,v) in long_name.items()]))"
   ]
  },
  {
   "cell_type": "code",
   "execution_count": 92,
   "metadata": {},
   "outputs": [
    {
     "data": {
      "text/plain": [
       "<matplotlib.axes._subplots.AxesSubplot at 0x11b606a58>"
      ]
     },
     "execution_count": 92,
     "metadata": {},
     "output_type": "execute_result"
    },
    {
     "data": {
      "image/png": "[encoded data removed]",
      "text/plain": [
       "<matplotlib.figure.Figure at 0x11b60f940>"
      ]
     },
     "metadata": {},
     "output_type": "display_data"
    }
   ],
   "source": [
    "long_shares = shares_df[shares_df > 0]\n",
    "dollar_m_positions = (long_shares.mul(adj_m_prices)).dropna(how = 'all')\n",
    "dollar_m_positions.sum(axis = 1).plot(logy = True)"
   ]
  },
  {
   "cell_type": "code",
   "execution_count": 101,
   "metadata": {},
   "outputs": [],
   "source": [
    "delta_shares = long_shares.diff()\n",
    "writer = pd.ExcelWriter('LongIndiaMomentum.xlsx', engine = 'xlsxwriter')\n",
    "long_shares.to_excel(writer, sheet_name= 'Number Shares')\n",
    "delta_shares.to_excel(writer, sheet_name= 'Delta Shares')\n",
    "pd.concat(unlevered_long.Cumulative * 50000).to_excel(writer, sheet_name = 'Cumulative Returns')\n",
    "long_df.to_excel(writer, sheet_name= 'Stocks Long')\n",
    "# short_df.to_excel(writer, sheet_name= 'Stocks Short')\n",
    "lspositions.to_excel(writer, sheet_name= 'Position count')\n",
    "writer.close()"
   ]
  },
  {
   "cell_type": "code",
   "execution_count": 108,
   "metadata": {},
   "outputs": [],
   "source": [
    "((1 + nifty_m_rets.fillna(0)).cumprod() * 50000).to_csv('NiftyCum.csv')"
   ]
  }
 ],
 "metadata": {
  "kernelspec": {
   "display_name": "Python 3",
   "language": "python",
   "name": "python3"
  },
  "language_info": {
   "codemirror_mode": {
    "name": "ipython",
    "version": 3
   },
   "file_extension": ".py",
   "mimetype": "text/x-python",
   "name": "python",
   "nbconvert_exporter": "python",
   "pygments_lexer": "ipython3",
   "version": "3.7.3"
  }
 },
 "nbformat": 4,
 "nbformat_minor": 2
}
